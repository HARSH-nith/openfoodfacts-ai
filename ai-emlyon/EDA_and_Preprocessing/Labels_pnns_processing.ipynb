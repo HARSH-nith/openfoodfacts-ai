{
 "metadata": {
  "language_info": {
   "codemirror_mode": {
    "name": "ipython",
    "version": 3
   },
   "file_extension": ".py",
   "mimetype": "text/x-python",
   "name": "python",
   "nbconvert_exporter": "python",
   "pygments_lexer": "ipython3",
   "version": "3.6.12"
  },
  "orig_nbformat": 2,
  "kernelspec": {
   "name": "python3612jvsc74a57bd035a2bf25a3b0c54e58f4c7ec5e776f2a039290b4bcd5eb68dec196f018efd572",
   "display_name": "Python 3.6.12 64-bit ('off_ai_emlyon': conda)"
  }
 },
 "nbformat": 4,
 "nbformat_minor": 2,
 "cells": [
  {
   "source": [
    "# PNNS Groups (Labels to predict)\n",
    "Last modification : 13/05/2021\n",
    "\n",
    "Short description :\n",
    "\n",
    "    - Clean pnns groups 1 and 2.\n",
    "    - Search unknown pnns 1 and 2.\n",
    "    - Find a pnns 3 and 4 when possible.\n",
    "    - Export csv as 'df_multi_pnns_v2.csv'"
   ],
   "cell_type": "markdown",
   "metadata": {}
  },
  {
   "source": [
    "## Imports"
   ],
   "cell_type": "markdown",
   "metadata": {}
  },
  {
   "source": [
    "### Libraries"
   ],
   "cell_type": "markdown",
   "metadata": {}
  },
  {
   "cell_type": "code",
   "execution_count": 2,
   "metadata": {},
   "outputs": [],
   "source": [
    "from eml.datanavig import off_columns_dict\n",
    "cols = off_columns_dict.copy()\n",
    "from eml.datanavig import *\n",
    "from eml.functions import *"
   ]
  },
  {
   "cell_type": "code",
   "execution_count": 3,
   "metadata": {},
   "outputs": [],
   "source": [
    "import pandas as pd\n",
    "import numpy as np \n",
    "import re\n",
    "import time \n",
    "import warnings\n",
    "import matplotlib.pyplot as plt\n",
    "import seaborn as sns\n",
    "\n",
    "#robotoff\n",
    "from robotoff.products import ProductDataset\n",
    "from robotoff.taxonomy import get_taxonomy\n",
    "\n",
    "from IPython.lib.deepreload import reload as dreload\n",
    "from pandas import json_normalize\n",
    "\n",
    "#Settings\n",
    "warnings.simplefilter(action='ignore', category=FutureWarning)\n",
    "warnings.filterwarnings('ignore')\n",
    "pd.options.mode.chained_assignment = None\n",
    "sns.set()\n",
    "%load_ext autoreload\n",
    "%autoreload 2\n",
    "%matplotlib inline"
   ]
  },
  {
   "source": [
    "### Full OFF database"
   ],
   "cell_type": "markdown",
   "metadata": {}
  },
  {
   "cell_type": "code",
   "execution_count": 5,
   "metadata": {},
   "outputs": [
    {
     "output_type": "stream",
     "name": "stdout",
     "text": [
      "Wall time: 1min 20s\n"
     ]
    },
    {
     "output_type": "execute_result",
     "data": {
      "text/plain": [
       "(1625068, 184)"
      ]
     },
     "metadata": {},
     "execution_count": 5
    }
   ],
   "source": [
    "%%time\n",
    "df_raw = pd.read_csv(r'C:\\Users\\Antoine\\Coding Bootcamp\\machine learning\\Open Food Facts\\data\\en.openfoodfacts.org.products.csv', sep='\\t', low_memory=False)\n",
    "df_raw.shape"
   ]
  },
  {
   "cell_type": "code",
   "execution_count": 6,
   "metadata": {},
   "outputs": [
    {
     "output_type": "execute_result",
     "data": {
      "text/plain": [
       "(808019, 184)"
      ]
     },
     "metadata": {},
     "execution_count": 6
    }
   ],
   "source": [
    "df = df_raw.dropna(subset=['categories_tags'])\n",
    "df.shape"
   ]
  },
  {
   "source": [
    "### Taxonomy json reference"
   ],
   "cell_type": "markdown",
   "metadata": {}
  },
  {
   "cell_type": "code",
   "execution_count": 7,
   "metadata": {},
   "outputs": [
    {
     "output_type": "execute_result",
     "data": {
      "text/plain": [
       "                          all_taxonomy_possibilities  \\\n",
       "0                               {'en:appetizers': 0}   \n",
       "1  {'en:artificially-sweetened-beverages': 2, 'en...   \n",
       "2  {'en:biscuits': 10, 'en:biscuits-and-cakes': 2...   \n",
       "3  {'en:bagel-breads': 7, 'en:baguette-made-with-...   \n",
       "4  {'en:breakfast-cereals': 1, 'en:breakfast-cere...   \n",
       "\n",
       "                               pnns                  taxonomy_suggestion  \n",
       "0                        appetizers                        en:appetizers  \n",
       "1  artificially sweetened beverages  en:artificially-sweetened-beverages  \n",
       "2                biscuits and cakes                en:biscuits-and-cakes  \n",
       "3                             bread                            en:breads  \n",
       "4                 breakfast cereals                 en:breakfast-cereals  "
      ],
      "text/html": "<div>\n<style scoped>\n    .dataframe tbody tr th:only-of-type {\n        vertical-align: middle;\n    }\n\n    .dataframe tbody tr th {\n        vertical-align: top;\n    }\n\n    .dataframe thead th {\n        text-align: right;\n    }\n</style>\n<table border=\"1\" class=\"dataframe\">\n  <thead>\n    <tr style=\"text-align: right;\">\n      <th></th>\n      <th>all_taxonomy_possibilities</th>\n      <th>pnns</th>\n      <th>taxonomy_suggestion</th>\n    </tr>\n  </thead>\n  <tbody>\n    <tr>\n      <th>0</th>\n      <td>{'en:appetizers': 0}</td>\n      <td>appetizers</td>\n      <td>en:appetizers</td>\n    </tr>\n    <tr>\n      <th>1</th>\n      <td>{'en:artificially-sweetened-beverages': 2, 'en...</td>\n      <td>artificially sweetened beverages</td>\n      <td>en:artificially-sweetened-beverages</td>\n    </tr>\n    <tr>\n      <th>2</th>\n      <td>{'en:biscuits': 10, 'en:biscuits-and-cakes': 2...</td>\n      <td>biscuits and cakes</td>\n      <td>en:biscuits-and-cakes</td>\n    </tr>\n    <tr>\n      <th>3</th>\n      <td>{'en:bagel-breads': 7, 'en:baguette-made-with-...</td>\n      <td>bread</td>\n      <td>en:breads</td>\n    </tr>\n    <tr>\n      <th>4</th>\n      <td>{'en:breakfast-cereals': 1, 'en:breakfast-cere...</td>\n      <td>breakfast cereals</td>\n      <td>en:breakfast-cereals</td>\n    </tr>\n  </tbody>\n</table>\n</div>"
     },
     "metadata": {},
     "execution_count": 7
    }
   ],
   "source": [
    "df_tax = pd.read_json(r'C:\\Users\\Antoine\\Coding Bootcamp\\machine learning\\Open Food Facts\\data\\taxonomy_pnns.json')\n",
    "df_tax.head()"
   ]
  },
  {
   "source": [
    "## Navigation into labels (pnns groups)"
   ],
   "cell_type": "markdown",
   "metadata": {}
  },
  {
   "source": [
    "### PNNS description\n",
    "\n",
    "Pnns are the \"high level\" categories in the taxonomy and the list of labels to predict.\n",
    "There are 2 main groups of pnns :\n",
    "\n",
    "    - Group_1 : 9 possible labels (example : beverages, composite food, sugary snacks...)\n",
    "    - Group_2 : 38 more precises labels (example : fruits nectar, biscuits and cakes, breakfast cereals...)\n",
    "There is one unique group_1 for every product, but a product can have more than one  group_2.\n",
    "In other notebooks/documents, sometimes we denote groups 1 and 2 as $G_1$ and $G_2$."
   ],
   "cell_type": "markdown",
   "metadata": {}
  },
  {
   "source": [
    "### Labels strings cleaning"
   ],
   "cell_type": "markdown",
   "metadata": {}
  },
  {
   "cell_type": "code",
   "execution_count": 8,
   "metadata": {},
   "outputs": [
    {
     "output_type": "execute_result",
     "data": {
      "text/plain": [
       "unknown                    154910\n",
       "sugary snacks              140653\n",
       "milk and dairy products     82904\n",
       "fish meat eggs              82817\n",
       "cereals and potatoes        74820\n",
       "fat and sauces              63479\n",
       "beverages                   61758\n",
       "fruits and vegetables       50780\n",
       "composite foods             50224\n",
       "salty snacks                30263\n",
       "Name: pnns_groups_1, dtype: int64"
      ]
     },
     "metadata": {},
     "execution_count": 8
    }
   ],
   "source": [
    "df['pnns_groups_2'] = df['pnns_groups_2'].str.lower()\n",
    "df['pnns_groups_1'] = df['pnns_groups_1'].str.lower()\n",
    "df['pnns_groups_1'] = df['pnns_groups_1'].str.replace('-',' ')\n",
    "df.pnns_groups_1.value_counts()"
   ]
  },
  {
   "source": [
    "### Function find_pnns"
   ],
   "cell_type": "markdown",
   "metadata": {}
  },
  {
   "cell_type": "code",
   "execution_count": 9,
   "metadata": {},
   "outputs": [],
   "source": [
    "def find_pnns(row=None, df_taxonomy=None, pnns_n=1, nb_groups=4, search_duplicates=True):\n",
    "    \"\"\"\n",
    "    Find a pnns group based on categories tags and taxonomy suggestions.\n",
    "\n",
    "    Parameters:\n",
    "    -----------\n",
    "        - row: df row to apply\n",
    "        - df_taxonomy: pd.DataFrame with pnns suggestions & matching tags\n",
    "        - pnns_n:\n",
    "        - nb_groups:\n",
    "        - search_duplicates: \n",
    "\n",
    "    Return:\n",
    "    -------\n",
    "\n",
    "    Example:\n",
    "    --------\n",
    "\n",
    "    \"\"\"\n",
    "    #---- Setup variables ----\n",
    "\n",
    "    #setup idx desired\n",
    "    pnns_index = pnns_n - 1 \n",
    "    #setup list of pnns candidates\n",
    "    pnns_candidates = [] \n",
    "    #setup output\n",
    "    output = np.nan \n",
    "\n",
    "    #---- Search Categories Tags ----\n",
    "\n",
    "    #convert row to a list of tags\n",
    "    tags_list = row['categories_tags'].split(',') \n",
    "    #search parents in taxonomy\n",
    "    tax_list = [get_taxonomy_info(tags_list[i], info_type='parents') for i in range(len(tags_list))]\n",
    "    #keep only tags\n",
    "    tax_list = [item for item in tax_list if not isinstance(item, float)] \n",
    "    #convert list of lists to list\n",
    "    tax_list = [item for sublist in tax_list for item in sublist] \n",
    "    #add original tags\n",
    "    tax_list = tax_list + tags_list \n",
    "    #clean strings\n",
    "    tax_list = [tax.strip(' ').strip('') for tax in tax_list]\n",
    "    #remove duplicates\n",
    "    tax_list = list(set(tax_list)) \n",
    "\n",
    "    #---- Search pnns candidates ----\n",
    "\n",
    "    #find candidates in main suggestions\n",
    "    for suggestion, pnns in zip(df_taxonomy.taxonomy_suggestion, df_taxonomy.pnns): \n",
    "        if suggestion in tax_list: pnns_candidates.append(pnns)\n",
    "    #find candidates in others possibilities\n",
    "    for possibilities, pnns in zip(df_taxonomy.all_taxonomy_possibilities, df_taxonomy.pnns): \n",
    "        for possibility in possibilities.keys():\n",
    "            if possibility in tax_list: pnns_candidates.append(pnns)\n",
    "\n",
    "    #---- Setup pnns output ----\n",
    "\n",
    "    #return nan if no pnns founded\n",
    "    if not len(pnns_candidates): return output\n",
    "    #return unique pnns if only one founded\n",
    "    elif len(pnns_candidates) == 1: \n",
    "        output = pnns_candidates[0]\n",
    "    #return pnns 1 or more\n",
    "    elif len(pnns_candidates) > 1: \n",
    "        output = pnns_candidates[pnns_index]\n",
    "    \n",
    "    #---- Search duplicates option ----\n",
    "\n",
    "    #If pnns already exist in another group\n",
    "    if search_duplicates:\n",
    "        existing_values = [row[f'pnns_groups_{i}'] for i in range (1, nb_groups)]\n",
    "        if output in existing_values: \n",
    "        #try to find another pnns\n",
    "            for i in range(len(pnns_candidates)):\n",
    "                output = pnns_candidates[i]\n",
    "                if output not in existing_values:\n",
    "                    break\n",
    "    #return output\n",
    "    return output"
   ]
  },
  {
   "source": [
    "### Apply function"
   ],
   "cell_type": "markdown",
   "metadata": {}
  },
  {
   "cell_type": "code",
   "execution_count": 10,
   "metadata": {},
   "outputs": [
    {
     "output_type": "stream",
     "name": "stdout",
     "text": [
      "Wall time: 6min 14s\n"
     ]
    }
   ],
   "source": [
    "%time df['pnns_groups_2'].loc[df['pnns_groups_2']== 'unknown'] = df.apply(lambda row: find_pnns(row=row, df_taxonomy=df_tax, pnns_n=1, nb_groups=2, search_duplicates=False), axis=1)"
   ]
  },
  {
   "cell_type": "code",
   "execution_count": 11,
   "metadata": {},
   "outputs": [],
   "source": [
    "df.loc[df['pnns_groups_2'] == 'pizza pies and quiches']['pnns_groups_2'] = 'pizza pie and quiches'"
   ]
  },
  {
   "cell_type": "code",
   "execution_count": 12,
   "metadata": {},
   "outputs": [
    {
     "output_type": "stream",
     "name": "stdout",
     "text": [
      "Wall time: 6min 6s\n",
      "Wall time: 6min 35s\n"
     ]
    }
   ],
   "source": [
    "%time df['pnns_groups_3'] = df.apply(lambda row: find_pnns(row=row, df_taxonomy=df_tax, pnns_n=2, nb_groups=2), axis=1)\n",
    "%time df['pnns_groups_4'] = df.apply(lambda row: find_pnns(row=row, df_taxonomy=df_tax, pnns_n=2, nb_groups=3), axis=1)"
   ]
  },
  {
   "cell_type": "code",
   "execution_count": 13,
   "metadata": {},
   "outputs": [],
   "source": [
    "def find_pnns_groups_1(df):\n",
    "    \"\"\" Given a pnns group 2, find the corresponding pnns group 1.\"\"\"\n",
    "    data = df.copy()\n",
    "    vals_to_find = list(data.pnns_groups_1.unique())\n",
    "    vals_to_find.remove('unknown')\n",
    "    for val in vals_to_find:\n",
    "        group_2_vals = list(data['pnns_groups_2'].loc[data['pnns_groups_1'] == val].unique())\n",
    "        data['pnns_groups_1'].loc[(data['pnns_groups_1'] == 'unknown') & \n",
    "        (data['pnns_groups_2'].isin(group_2_vals))] = val\n",
    "    return data"
   ]
  },
  {
   "cell_type": "code",
   "execution_count": 14,
   "metadata": {},
   "outputs": [
    {
     "output_type": "execute_result",
     "data": {
      "text/plain": [
       "['pnns_groups_1', 'pnns_groups_2', 'pnns_groups_3', 'pnns_groups_4']"
      ]
     },
     "metadata": {},
     "execution_count": 14
    }
   ],
   "source": [
    "pnns = [f'pnns_groups_{i}'for i in range (1,5)]\n",
    "pnns"
   ]
  },
  {
   "cell_type": "code",
   "execution_count": 15,
   "metadata": {},
   "outputs": [],
   "source": [
    "df.dropna(subset=pnns, inplace=True)"
   ]
  },
  {
   "cell_type": "code",
   "execution_count": 16,
   "metadata": {},
   "outputs": [],
   "source": [
    "df_pnns = find_pnns_groups_1(df)"
   ]
  },
  {
   "cell_type": "code",
   "execution_count": 17,
   "metadata": {},
   "outputs": [],
   "source": [
    "df_pnns.drop(index=690514, inplace=True) #was an error"
   ]
  },
  {
   "cell_type": "code",
   "execution_count": 18,
   "metadata": {},
   "outputs": [],
   "source": [
    "#Clean pnns groups 2\n",
    "df_pnns['pnns_groups_2'].loc[df_pnns['pnns_groups_2'] == 'plant-based milk substitutes'] = 'plant based milk substitutes'\n",
    "df_pnns['pnns_groups_2'].loc[df_pnns['pnns_groups_2'] == 'one-dish meals'] = 'one dish meals'"
   ]
  },
  {
   "cell_type": "code",
   "execution_count": 19,
   "metadata": {},
   "outputs": [
    {
     "output_type": "execute_result",
     "data": {
      "text/plain": [
       "(674517, 186)"
      ]
     },
     "metadata": {},
     "execution_count": 19
    }
   ],
   "source": [
    "df_pnns.shape"
   ]
  },
  {
   "source": [
    "### Create a list with cols to keep for training and export"
   ],
   "cell_type": "markdown",
   "metadata": {}
  },
  {
   "cell_type": "code",
   "execution_count": 24,
   "metadata": {},
   "outputs": [
    {
     "output_type": "execute_result",
     "data": {
      "text/plain": [
       "['pnns_groups_1',\n",
       " 'pnns_groups_2',\n",
       " 'pnns_groups_3',\n",
       " 'pnns_groups_4',\n",
       " 'code',\n",
       " 'url',\n",
       " 'product_name']"
      ]
     },
     "metadata": {},
     "execution_count": 24
    }
   ],
   "source": [
    "pnns.append('code')\n",
    "pnns.append('url')\n",
    "pnns.append('product_name')\n",
    "pnns"
   ]
  },
  {
   "cell_type": "code",
   "execution_count": 25,
   "metadata": {},
   "outputs": [
    {
     "output_type": "execute_result",
     "data": {
      "text/plain": [
       "(674517, 7)"
      ]
     },
     "metadata": {},
     "execution_count": 25
    }
   ],
   "source": [
    "data_export = df_pnns[pnns]\n",
    "data_export.shape"
   ]
  },
  {
   "cell_type": "code",
   "execution_count": 26,
   "metadata": {},
   "outputs": [
    {
     "output_type": "execute_result",
     "data": {
      "text/plain": [
       "                 pnns_groups_1         pnns_groups_2          pnns_groups_3  \\\n",
       "3               fat and sauces  dressings and sauces   dressings and sauces   \n",
       "14             composite foods        one dish meals                legumes   \n",
       "22               sugary snacks    biscuits and cakes  pizza pies and quiche   \n",
       "32       fruits and vegetables                fruits                 fruits   \n",
       "34              fish meat eggs                  meat                   meat   \n",
       "...                        ...                   ...                    ...   \n",
       "1625055         fish meat eggs                  meat                   meat   \n",
       "1625058          sugary snacks                sweets                 sweets   \n",
       "1625060          sugary snacks    biscuits and cakes     biscuits and cakes   \n",
       "1625061         fish meat eggs                  meat                   meat   \n",
       "1625062          sugary snacks                sweets                 fruits   \n",
       "\n",
       "                 pnns_groups_4           code  \\\n",
       "3         dressings and sauces  0000000000100   \n",
       "14                     legumes  0000000000949   \n",
       "22       pizza pies and quiche  0000000001281   \n",
       "32              dairy desserts  0000000001885   \n",
       "34                        meat  0000000002103   \n",
       "...                        ...            ...   \n",
       "1625055                   meat  9999992756068   \n",
       "1625058                 sweets  9999999004360   \n",
       "1625060     biscuits and cakes  9999999175305   \n",
       "1625061                   meat       99999995   \n",
       "1625062                 fruits  9999999900686   \n",
       "\n",
       "                                                       url  \\\n",
       "3        http://world-en.openfoodfacts.org/product/0000...   \n",
       "14       http://world-en.openfoodfacts.org/product/0000...   \n",
       "22       http://world-en.openfoodfacts.org/product/0000...   \n",
       "32       http://world-en.openfoodfacts.org/product/0000...   \n",
       "34       http://world-en.openfoodfacts.org/product/0000...   \n",
       "...                                                    ...   \n",
       "1625055  http://world-en.openfoodfacts.org/product/9999...   \n",
       "1625058  http://world-en.openfoodfacts.org/product/9999...   \n",
       "1625060  http://world-en.openfoodfacts.org/product/9999...   \n",
       "1625061  http://world-en.openfoodfacts.org/product/9999...   \n",
       "1625062  http://world-en.openfoodfacts.org/product/9999...   \n",
       "\n",
       "                             product_name  \n",
       "3             moutarde au moût de raisin   \n",
       "14              Salade de carottes râpées  \n",
       "22                     Tarte noix de coco  \n",
       "32                       Compote de poire  \n",
       "34                 Aiguillettes de poulet  \n",
       "...                                   ...  \n",
       "1625055                       Steak haché  \n",
       "1625058                    Minis beignets  \n",
       "1625060  Erdbeerkuchen 1019g tiefgefroren  \n",
       "1625061             Steak haché pur boeuf  \n",
       "1625062                    Marrons glacés  \n",
       "\n",
       "[674517 rows x 7 columns]"
      ],
      "text/html": "<div>\n<style scoped>\n    .dataframe tbody tr th:only-of-type {\n        vertical-align: middle;\n    }\n\n    .dataframe tbody tr th {\n        vertical-align: top;\n    }\n\n    .dataframe thead th {\n        text-align: right;\n    }\n</style>\n<table border=\"1\" class=\"dataframe\">\n  <thead>\n    <tr style=\"text-align: right;\">\n      <th></th>\n      <th>pnns_groups_1</th>\n      <th>pnns_groups_2</th>\n      <th>pnns_groups_3</th>\n      <th>pnns_groups_4</th>\n      <th>code</th>\n      <th>url</th>\n      <th>product_name</th>\n    </tr>\n  </thead>\n  <tbody>\n    <tr>\n      <th>3</th>\n      <td>fat and sauces</td>\n      <td>dressings and sauces</td>\n      <td>dressings and sauces</td>\n      <td>dressings and sauces</td>\n      <td>0000000000100</td>\n      <td>http://world-en.openfoodfacts.org/product/0000...</td>\n      <td>moutarde au moût de raisin</td>\n    </tr>\n    <tr>\n      <th>14</th>\n      <td>composite foods</td>\n      <td>one dish meals</td>\n      <td>legumes</td>\n      <td>legumes</td>\n      <td>0000000000949</td>\n      <td>http://world-en.openfoodfacts.org/product/0000...</td>\n      <td>Salade de carottes râpées</td>\n    </tr>\n    <tr>\n      <th>22</th>\n      <td>sugary snacks</td>\n      <td>biscuits and cakes</td>\n      <td>pizza pies and quiche</td>\n      <td>pizza pies and quiche</td>\n      <td>0000000001281</td>\n      <td>http://world-en.openfoodfacts.org/product/0000...</td>\n      <td>Tarte noix de coco</td>\n    </tr>\n    <tr>\n      <th>32</th>\n      <td>fruits and vegetables</td>\n      <td>fruits</td>\n      <td>fruits</td>\n      <td>dairy desserts</td>\n      <td>0000000001885</td>\n      <td>http://world-en.openfoodfacts.org/product/0000...</td>\n      <td>Compote de poire</td>\n    </tr>\n    <tr>\n      <th>34</th>\n      <td>fish meat eggs</td>\n      <td>meat</td>\n      <td>meat</td>\n      <td>meat</td>\n      <td>0000000002103</td>\n      <td>http://world-en.openfoodfacts.org/product/0000...</td>\n      <td>Aiguillettes de poulet</td>\n    </tr>\n    <tr>\n      <th>...</th>\n      <td>...</td>\n      <td>...</td>\n      <td>...</td>\n      <td>...</td>\n      <td>...</td>\n      <td>...</td>\n      <td>...</td>\n    </tr>\n    <tr>\n      <th>1625055</th>\n      <td>fish meat eggs</td>\n      <td>meat</td>\n      <td>meat</td>\n      <td>meat</td>\n      <td>9999992756068</td>\n      <td>http://world-en.openfoodfacts.org/product/9999...</td>\n      <td>Steak haché</td>\n    </tr>\n    <tr>\n      <th>1625058</th>\n      <td>sugary snacks</td>\n      <td>sweets</td>\n      <td>sweets</td>\n      <td>sweets</td>\n      <td>9999999004360</td>\n      <td>http://world-en.openfoodfacts.org/product/9999...</td>\n      <td>Minis beignets</td>\n    </tr>\n    <tr>\n      <th>1625060</th>\n      <td>sugary snacks</td>\n      <td>biscuits and cakes</td>\n      <td>biscuits and cakes</td>\n      <td>biscuits and cakes</td>\n      <td>9999999175305</td>\n      <td>http://world-en.openfoodfacts.org/product/9999...</td>\n      <td>Erdbeerkuchen 1019g tiefgefroren</td>\n    </tr>\n    <tr>\n      <th>1625061</th>\n      <td>fish meat eggs</td>\n      <td>meat</td>\n      <td>meat</td>\n      <td>meat</td>\n      <td>99999995</td>\n      <td>http://world-en.openfoodfacts.org/product/9999...</td>\n      <td>Steak haché pur boeuf</td>\n    </tr>\n    <tr>\n      <th>1625062</th>\n      <td>sugary snacks</td>\n      <td>sweets</td>\n      <td>fruits</td>\n      <td>fruits</td>\n      <td>9999999900686</td>\n      <td>http://world-en.openfoodfacts.org/product/9999...</td>\n      <td>Marrons glacés</td>\n    </tr>\n  </tbody>\n</table>\n<p>674517 rows × 7 columns</p>\n</div>"
     },
     "metadata": {},
     "execution_count": 26
    }
   ],
   "source": [
    "data_export"
   ]
  },
  {
   "cell_type": "code",
   "execution_count": 27,
   "metadata": {},
   "outputs": [
    {
     "output_type": "execute_result",
     "data": {
      "text/plain": [
       "pnns_groups_1       0\n",
       "pnns_groups_2       0\n",
       "pnns_groups_3       0\n",
       "pnns_groups_4       0\n",
       "code                0\n",
       "url                 0\n",
       "product_name     5430\n",
       "dtype: int64"
      ]
     },
     "metadata": {},
     "execution_count": 27
    }
   ],
   "source": [
    "data_export.isnull().sum()"
   ]
  },
  {
   "source": [
    "## Export data to csv"
   ],
   "cell_type": "markdown",
   "metadata": {}
  },
  {
   "source": [
    "data_export.to_csv (r'C:\\Users\\Antoine\\Coding Bootcamp\\Open Food Facts\\df_multi_pnns_v2.csv', index = False, header=True)"
   ],
   "cell_type": "code",
   "metadata": {},
   "execution_count": 29,
   "outputs": []
  },
  {
   "cell_type": "code",
   "execution_count": null,
   "metadata": {},
   "outputs": [],
   "source": []
  }
 ]
}