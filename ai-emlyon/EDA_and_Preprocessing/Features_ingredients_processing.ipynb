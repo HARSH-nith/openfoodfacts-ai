{
 "metadata": {
  "language_info": {
   "codemirror_mode": {
    "name": "ipython",
    "version": 3
   },
   "file_extension": ".py",
   "mimetype": "text/x-python",
   "name": "python",
   "nbconvert_exporter": "python",
   "pygments_lexer": "ipython3",
   "version": "3.6.12"
  },
  "orig_nbformat": 2,
  "kernelspec": {
   "name": "python3612jvsc74a57bd035a2bf25a3b0c54e58f4c7ec5e776f2a039290b4bcd5eb68dec196f018efd572",
   "display_name": "Python 3.6.12 64-bit ('off_ai_emlyon': conda)"
  }
 },
 "nbformat": 4,
 "nbformat_minor": 2,
 "cells": [
  {
   "source": [
    "# Ingredients transformation\n",
    "    - Last change : 12/05/2021\n",
    "    - Ingredients processing to get new features\n",
    "    - Exported csv as 'data_training_multi_pnns.csv'\n",
    "\n",
    "### Short Description\n",
    "\n",
    "Usage of a json file with ingredients information (text, taxonomy id, percent estimate) for 200K+ products (mainly french) in the off products database to create 1 column per N most frequent ingredients with percent estimate (or median if missing). We chose the 450 most frequent ingredients."
   ],
   "cell_type": "markdown",
   "metadata": {}
  },
  {
   "source": [
    "## Imports"
   ],
   "cell_type": "markdown",
   "metadata": {}
  },
  {
   "cell_type": "code",
   "execution_count": 1,
   "metadata": {},
   "outputs": [],
   "source": [
    "import pandas as pd\n",
    "import numpy as np\n",
    "import time"
   ]
  },
  {
   "cell_type": "code",
   "execution_count": 2,
   "metadata": {},
   "outputs": [
    {
     "output_type": "execute_result",
     "data": {
      "text/plain": [
       "(235211, 3)"
      ]
     },
     "metadata": {},
     "execution_count": 2
    }
   ],
   "source": [
    "ing = pd.read_json(r'C:\\Users\\Antoine\\Documents\\GitHub\\openfoodfacts-ai\\ai-emlyon\\robotoff_predictions\\fr_products_with_ingredients_235211.json')\n",
    "ing.shape"
   ]
  },
  {
   "cell_type": "code",
   "execution_count": 3,
   "metadata": {},
   "outputs": [
    {
     "output_type": "execute_result",
     "data": {
      "text/plain": [
       "                code                                        ingredients  \\\n",
       "0       0.000000e+00  [{'text': 'Farine de blé', 'vegan': 'yes', 've...   \n",
       "1       1.000000e+02  [{'text': 'eau graines de téguments de moutard...   \n",
       "2       1.199000e+03  [{'ingredients': [{'id': 'en:e316', 'text': 'é...   \n",
       "3       1.663000e+03  [{'percent_min': 20, 'vegan': 'no', 'text': 'L...   \n",
       "4       2.264000e+03  [{'text': 'baguette Poite vin Pain baguette', ...   \n",
       "...              ...                                                ...   \n",
       "235206  9.990334e+07  [{'percent_estimate': 50, 'rank': 1, 'percent_...   \n",
       "235207  9.991111e+12  [{'vegetarian': 'yes', 'text': 'Pomme', 'vegan...   \n",
       "235208  9.999201e+12  [{'id': 'en:sugar', 'percent_max': 100, 'perce...   \n",
       "235209  9.999864e+12  [{'text': 'BIOCOOP BORDEAUX LAC distribue par ...   \n",
       "235210  9.999900e+12  [{'percent_estimate': 54.54545454545455, 'rank...   \n",
       "\n",
       "                                         ingredients_text  \n",
       "0       Farine de blé, huile de palme, amidon de tapio...  \n",
       "1       eau graines de téguments de moutarde vinaigre ...  \n",
       "2       antioxydant : érythorbate de sodium, colorant ...  \n",
       "3       Lait entier, sucre, amidon de maïs, cacao, Aga...  \n",
       "4       baguette Poite vin Pain baguette 50,6%: farine...  \n",
       "...                                                   ...  \n",
       "235206  Jus de fruits à base de jus concentrés et puré...  \n",
       "235207  Pomme 71 %, poire 26 %, sucre 4%, antioxydant ...  \n",
       "235208  sucre,beurre de cacao,poudre de jait.entier,fa...  \n",
       "235209  BIOCOOP BORDEAUX LAC distribue par les eleveur...  \n",
       "235210  KABANOSÈRÇ Sktadn' wiep -zEkrobia, Guszcz 'o.e...  \n",
       "\n",
       "[235211 rows x 3 columns]"
      ],
      "text/html": "<div>\n<style scoped>\n    .dataframe tbody tr th:only-of-type {\n        vertical-align: middle;\n    }\n\n    .dataframe tbody tr th {\n        vertical-align: top;\n    }\n\n    .dataframe thead th {\n        text-align: right;\n    }\n</style>\n<table border=\"1\" class=\"dataframe\">\n  <thead>\n    <tr style=\"text-align: right;\">\n      <th></th>\n      <th>code</th>\n      <th>ingredients</th>\n      <th>ingredients_text</th>\n    </tr>\n  </thead>\n  <tbody>\n    <tr>\n      <th>0</th>\n      <td>0.000000e+00</td>\n      <td>[{'text': 'Farine de blé', 'vegan': 'yes', 've...</td>\n      <td>Farine de blé, huile de palme, amidon de tapio...</td>\n    </tr>\n    <tr>\n      <th>1</th>\n      <td>1.000000e+02</td>\n      <td>[{'text': 'eau graines de téguments de moutard...</td>\n      <td>eau graines de téguments de moutarde vinaigre ...</td>\n    </tr>\n    <tr>\n      <th>2</th>\n      <td>1.199000e+03</td>\n      <td>[{'ingredients': [{'id': 'en:e316', 'text': 'é...</td>\n      <td>antioxydant : érythorbate de sodium, colorant ...</td>\n    </tr>\n    <tr>\n      <th>3</th>\n      <td>1.663000e+03</td>\n      <td>[{'percent_min': 20, 'vegan': 'no', 'text': 'L...</td>\n      <td>Lait entier, sucre, amidon de maïs, cacao, Aga...</td>\n    </tr>\n    <tr>\n      <th>4</th>\n      <td>2.264000e+03</td>\n      <td>[{'text': 'baguette Poite vin Pain baguette', ...</td>\n      <td>baguette Poite vin Pain baguette 50,6%: farine...</td>\n    </tr>\n    <tr>\n      <th>...</th>\n      <td>...</td>\n      <td>...</td>\n      <td>...</td>\n    </tr>\n    <tr>\n      <th>235206</th>\n      <td>9.990334e+07</td>\n      <td>[{'percent_estimate': 50, 'rank': 1, 'percent_...</td>\n      <td>Jus de fruits à base de jus concentrés et puré...</td>\n    </tr>\n    <tr>\n      <th>235207</th>\n      <td>9.991111e+12</td>\n      <td>[{'vegetarian': 'yes', 'text': 'Pomme', 'vegan...</td>\n      <td>Pomme 71 %, poire 26 %, sucre 4%, antioxydant ...</td>\n    </tr>\n    <tr>\n      <th>235208</th>\n      <td>9.999201e+12</td>\n      <td>[{'id': 'en:sugar', 'percent_max': 100, 'perce...</td>\n      <td>sucre,beurre de cacao,poudre de jait.entier,fa...</td>\n    </tr>\n    <tr>\n      <th>235209</th>\n      <td>9.999864e+12</td>\n      <td>[{'text': 'BIOCOOP BORDEAUX LAC distribue par ...</td>\n      <td>BIOCOOP BORDEAUX LAC distribue par les eleveur...</td>\n    </tr>\n    <tr>\n      <th>235210</th>\n      <td>9.999900e+12</td>\n      <td>[{'percent_estimate': 54.54545454545455, 'rank...</td>\n      <td>KABANOSÈRÇ Sktadn' wiep -zEkrobia, Guszcz 'o.e...</td>\n    </tr>\n  </tbody>\n</table>\n<p>235211 rows × 3 columns</p>\n</div>"
     },
     "metadata": {},
     "execution_count": 3
    }
   ],
   "source": [
    "ing = ing.rename(columns={\"_id\": \"code\"})\n",
    "ing"
   ]
  },
  {
   "cell_type": "code",
   "execution_count": 4,
   "metadata": {},
   "outputs": [],
   "source": [
    "#Drop text\n",
    "ing = ing.drop(columns=['ingredients_text'])"
   ]
  },
  {
   "cell_type": "code",
   "execution_count": 5,
   "metadata": {},
   "outputs": [],
   "source": [
    "#Read df with pnns\n",
    "df = pd.read_csv(r'C:\\Users\\Antoine\\Coding Bootcamp\\Open Food Facts\\df_multi_pnns_v2.csv', low_memory=False)"
   ]
  },
  {
   "cell_type": "code",
   "execution_count": 6,
   "metadata": {},
   "outputs": [],
   "source": [
    "#Copy\n",
    "df_copy = df.copy(deep=True)"
   ]
  },
  {
   "cell_type": "code",
   "execution_count": 7,
   "metadata": {},
   "outputs": [],
   "source": [
    "#Custom columns dict\n",
    "from eml.datanavig import off_columns_dict\n",
    "cols = off_columns_dict.copy()"
   ]
  },
  {
   "cell_type": "code",
   "execution_count": 8,
   "metadata": {},
   "outputs": [],
   "source": [
    "#Changing code type\n",
    "df['code'] = df.code.astype(float)"
   ]
  },
  {
   "cell_type": "code",
   "execution_count": 9,
   "metadata": {},
   "outputs": [
    {
     "output_type": "execute_result",
     "data": {
      "text/plain": [
       "(167890, 8)"
      ]
     },
     "metadata": {},
     "execution_count": 9
    }
   ],
   "source": [
    "#Merge original data with ingredients json\n",
    "df_with_ing = pd.merge(df, ing, on=['code'], how='right')\n",
    "df_with_ing = df_with_ing.dropna(subset=['url'])\n",
    "df_with_ing.shape"
   ]
  },
  {
   "cell_type": "code",
   "execution_count": 10,
   "metadata": {},
   "outputs": [
    {
     "output_type": "execute_result",
     "data": {
      "text/plain": [
       "     pnns_groups_1         pnns_groups_2         pnns_groups_3  \\\n",
       "1   fat and sauces  dressings and sauces  dressings and sauces   \n",
       "8        beverages   sweetened beverages   sweetened beverages   \n",
       "9  composite foods        one dish meals               legumes   \n",
       "\n",
       "                      pnns_groups_4   code  \\\n",
       "1              dressings and sauces  100.0   \n",
       "8  artificially sweetened beverages    5.0   \n",
       "9                           legumes    5.0   \n",
       "\n",
       "                                                 url  \\\n",
       "1  http://world-en.openfoodfacts.org/product/0000...   \n",
       "8  http://world-en.openfoodfacts.org/product/0000...   \n",
       "9  http://world-en.openfoodfacts.org/product/05/r...   \n",
       "\n",
       "                   product_name  \\\n",
       "1   moutarde au moût de raisin    \n",
       "8              Nectar d'abricot   \n",
       "9   Ratatouille à la provençale   \n",
       "\n",
       "                                         ingredients  \n",
       "1  [{'text': 'eau graines de téguments de moutard...  \n",
       "8  [{'percent_max': 50, 'text': 'Jus', 'id': 'en:...  \n",
       "9  [{'percent_max': 50, 'text': 'Jus', 'id': 'en:...  "
      ],
      "text/html": "<div>\n<style scoped>\n    .dataframe tbody tr th:only-of-type {\n        vertical-align: middle;\n    }\n\n    .dataframe tbody tr th {\n        vertical-align: top;\n    }\n\n    .dataframe thead th {\n        text-align: right;\n    }\n</style>\n<table border=\"1\" class=\"dataframe\">\n  <thead>\n    <tr style=\"text-align: right;\">\n      <th></th>\n      <th>pnns_groups_1</th>\n      <th>pnns_groups_2</th>\n      <th>pnns_groups_3</th>\n      <th>pnns_groups_4</th>\n      <th>code</th>\n      <th>url</th>\n      <th>product_name</th>\n      <th>ingredients</th>\n    </tr>\n  </thead>\n  <tbody>\n    <tr>\n      <th>1</th>\n      <td>fat and sauces</td>\n      <td>dressings and sauces</td>\n      <td>dressings and sauces</td>\n      <td>dressings and sauces</td>\n      <td>100.0</td>\n      <td>http://world-en.openfoodfacts.org/product/0000...</td>\n      <td>moutarde au moût de raisin</td>\n      <td>[{'text': 'eau graines de téguments de moutard...</td>\n    </tr>\n    <tr>\n      <th>8</th>\n      <td>beverages</td>\n      <td>sweetened beverages</td>\n      <td>sweetened beverages</td>\n      <td>artificially sweetened beverages</td>\n      <td>5.0</td>\n      <td>http://world-en.openfoodfacts.org/product/0000...</td>\n      <td>Nectar d'abricot</td>\n      <td>[{'percent_max': 50, 'text': 'Jus', 'id': 'en:...</td>\n    </tr>\n    <tr>\n      <th>9</th>\n      <td>composite foods</td>\n      <td>one dish meals</td>\n      <td>legumes</td>\n      <td>legumes</td>\n      <td>5.0</td>\n      <td>http://world-en.openfoodfacts.org/product/05/r...</td>\n      <td>Ratatouille à la provençale</td>\n      <td>[{'percent_max': 50, 'text': 'Jus', 'id': 'en:...</td>\n    </tr>\n  </tbody>\n</table>\n</div>"
     },
     "metadata": {},
     "execution_count": 10
    }
   ],
   "source": [
    "df_with_ing.head(3)"
   ]
  },
  {
   "source": [
    "## Navigation into structured ingredients file"
   ],
   "cell_type": "markdown",
   "metadata": {}
  },
  {
   "cell_type": "code",
   "execution_count": 11,
   "metadata": {},
   "outputs": [],
   "source": [
    "#Set df_test\n",
    "ingredients = df_with_ing['ingredients']\n",
    "df_test = ingredients.sample(1000, random_state=42)"
   ]
  },
  {
   "cell_type": "code",
   "execution_count": 12,
   "metadata": {},
   "outputs": [],
   "source": [
    "#Save all ingredients names\n",
    "id_ingredients = []\n",
    "for ingre_list in df_with_ing.ingredients:\n",
    "    for ingre_dict in ingre_list:\n",
    "        id_ingredients.append(ingre_dict['text'].replace('_','').replace('-','').strip('').lower())"
   ]
  },
  {
   "cell_type": "code",
   "execution_count": 13,
   "metadata": {},
   "outputs": [
    {
     "output_type": "execute_result",
     "data": {
      "text/plain": [
       "203089"
      ]
     },
     "metadata": {},
     "execution_count": 13
    }
   ],
   "source": [
    "len(set(id_ingredients))"
   ]
  },
  {
   "cell_type": "code",
   "execution_count": 14,
   "metadata": {},
   "outputs": [
    {
     "output_type": "execute_result",
     "data": {
      "text/plain": [
       "                ingredient   count\n",
       "0                      sel  105822\n",
       "1                    sucre   84031\n",
       "2                      eau   77957\n",
       "3            farine de blé   28033\n",
       "4              émulsifiant   23861\n",
       "..                     ...     ...\n",
       "309        viande de dinde    1010\n",
       "310     chocolat en poudre    1010\n",
       "311                 coprah    1010\n",
       "312  boyau naturel de porc    1005\n",
       "313        filet de poulet    1002\n",
       "\n",
       "[314 rows x 2 columns]"
      ],
      "text/html": "<div>\n<style scoped>\n    .dataframe tbody tr th:only-of-type {\n        vertical-align: middle;\n    }\n\n    .dataframe tbody tr th {\n        vertical-align: top;\n    }\n\n    .dataframe thead th {\n        text-align: right;\n    }\n</style>\n<table border=\"1\" class=\"dataframe\">\n  <thead>\n    <tr style=\"text-align: right;\">\n      <th></th>\n      <th>ingredient</th>\n      <th>count</th>\n    </tr>\n  </thead>\n  <tbody>\n    <tr>\n      <th>0</th>\n      <td>sel</td>\n      <td>105822</td>\n    </tr>\n    <tr>\n      <th>1</th>\n      <td>sucre</td>\n      <td>84031</td>\n    </tr>\n    <tr>\n      <th>2</th>\n      <td>eau</td>\n      <td>77957</td>\n    </tr>\n    <tr>\n      <th>3</th>\n      <td>farine de blé</td>\n      <td>28033</td>\n    </tr>\n    <tr>\n      <th>4</th>\n      <td>émulsifiant</td>\n      <td>23861</td>\n    </tr>\n    <tr>\n      <th>...</th>\n      <td>...</td>\n      <td>...</td>\n    </tr>\n    <tr>\n      <th>309</th>\n      <td>viande de dinde</td>\n      <td>1010</td>\n    </tr>\n    <tr>\n      <th>310</th>\n      <td>chocolat en poudre</td>\n      <td>1010</td>\n    </tr>\n    <tr>\n      <th>311</th>\n      <td>coprah</td>\n      <td>1010</td>\n    </tr>\n    <tr>\n      <th>312</th>\n      <td>boyau naturel de porc</td>\n      <td>1005</td>\n    </tr>\n    <tr>\n      <th>313</th>\n      <td>filet de poulet</td>\n      <td>1002</td>\n    </tr>\n  </tbody>\n</table>\n<p>314 rows × 2 columns</p>\n</div>"
     },
     "metadata": {},
     "execution_count": 14
    }
   ],
   "source": [
    "#Check count by ingredient\n",
    "ing_list = pd.DataFrame(data=np.array(id_ingredients), columns=['ingredient'])\n",
    "ing_list = pd.DataFrame(ing_list['ingredient'].value_counts())\n",
    "ing_list = ing_list.reset_index()\n",
    "ing_list.columns = ['ingredient','count']\n",
    "ing_list.loc[ing_list['count'] > 1000]"
   ]
  },
  {
   "cell_type": "code",
   "execution_count": 15,
   "metadata": {},
   "outputs": [],
   "source": [
    "#400 most frequent ingredients\n",
    "ing_to_add = list(ing_list['ingredient'][:400])"
   ]
  },
  {
   "source": [
    "## Function to create ingredients columns"
   ],
   "cell_type": "markdown",
   "metadata": {}
  },
  {
   "cell_type": "code",
   "execution_count": 16,
   "metadata": {},
   "outputs": [],
   "source": [
    "def get_ingredients_columns(df, ingredients_list):\n",
    "    #Expensive in ram & cpu\n",
    "    \"\"\"\n",
    "    Create a new column for each item in ing_list\n",
    "    and fill with 1 if the row contains ingredient and 0 if not\"\"\"\n",
    "    data = df.copy(deep=True) #make a copy of df\n",
    "    for i in ingredients_list: data[i] = 0 #create 0 columns, 1 per ingredient\n",
    "    for ingre_list, index in zip(data.ingredients, data.index): #loop over df rows\n",
    "        for ingre_dict in ingre_list: #loop continue in the dicts in each row\n",
    "            val = ingre_dict['text'] #get ingredient text\n",
    "            val_clean = val.replace('_','').replace('-','').strip('').lower()\n",
    "            if val_clean in ingredients_list: #check if val is in columns added\n",
    "                try:\n",
    "                    data.loc[index,val_clean] = ingre_dict['percent_estimate'] #if yes, replace by estimate\n",
    "                except:\n",
    "                    pnns_val = data.loc[index,'pnns_groups_1']\n",
    "                    val_median = data[val_clean].loc[data['pnns_groups_1'] == pnns_val].median()\n",
    "                    data.loc[index,val_clean] = val_median\n",
    "    return data #return modified dataframe"
   ]
  },
  {
   "source": [
    "### Test function"
   ],
   "cell_type": "markdown",
   "metadata": {}
  },
  {
   "cell_type": "code",
   "execution_count": 17,
   "metadata": {},
   "outputs": [
    {
     "output_type": "execute_result",
     "data": {
      "text/plain": [
       "                                       count          mean           std  \\\n",
       "code                                 10000.0  1.036044e+39  1.036044e+41   \n",
       "levure                               10000.0  1.088693e-01  8.229927e-01   \n",
       "gluten de blé                        10000.0  6.286489e-02  1.041397e+00   \n",
       "farine de fèves                      10000.0  8.560311e-03  4.147444e-01   \n",
       "émulsifiant                          10000.0  1.295042e-01  8.989792e-01   \n",
       "antioxydant                          10000.0  1.476444e-01  1.277573e+00   \n",
       "acidifiants                          10000.0  4.591070e-02  6.503942e-01   \n",
       "dextrose                             10000.0  2.795992e-01  2.521741e+00   \n",
       "amidon transformé de pomme de terre  10000.0  2.064675e-03  6.551941e-02   \n",
       "stabilisant                          10000.0  8.220027e-02  8.330085e-01   \n",
       "sucre brun                           10000.0  9.010633e-03  6.402814e-01   \n",
       "vinaigre d'alcool                    10000.0  1.146029e-01  1.289484e+00   \n",
       "saccharose                           10000.0  4.238173e-02  1.000445e+00   \n",
       "épaississants                        10000.0  2.986173e-02  4.572365e-01   \n",
       "e471                                 10000.0  1.360915e-02  2.074260e-01   \n",
       "acide ascorbique                     10000.0  8.126623e-02  8.696946e-01   \n",
       "lactate                              10000.0  0.000000e+00  0.000000e+00   \n",
       "acétate de potassium                 10000.0  1.106548e-03  7.767904e-02   \n",
       "e451                                 10000.0  6.535074e-03  1.780581e-01   \n",
       "érythorbate de sodium                10000.0  6.018964e-03  1.266702e-01   \n",
       "acidifiant                           10000.0  2.903366e-01  1.635511e+00   \n",
       "gommes guar                          10000.0  5.890994e-05  5.890994e-03   \n",
       "xanthane                             10000.0  9.114652e-04  4.952075e-02   \n",
       "e330                                 10000.0  4.508993e-02  6.263564e-01   \n",
       "disulfite de potassium               10000.0  1.005819e-02  4.001915e-01   \n",
       "mélange de miels                     10000.0  1.000000e-02  1.000000e+00   \n",
       "noix du brésil                       10000.0  3.511111e-03  2.072140e-01   \n",
       "avelines                             10000.0  2.777778e-04  2.777778e-02   \n",
       "noix de pécan                        10000.0  2.354021e-02  1.421456e+00   \n",
       "huile d'arachide                     10000.0  5.442932e-03  3.212790e-01   \n",
       "huile de colza et de coton           10000.0  3.472222e-05  3.472222e-03   \n",
       "graines de moutardes                 10000.0  3.068182e-03  2.563698e-01   \n",
       "vinaigre de vin blanc                10000.0  2.326260e-02  5.536622e-01   \n",
       "sulfites                             10000.0  3.289210e-02  7.203370e-01   \n",
       "e300                                 10000.0  2.074742e-02  4.980033e-01   \n",
       "\n",
       "                                           min           25%           50%  \\\n",
       "code                                 24.000000  3.245414e+12  3.375644e+12   \n",
       "levure                               -0.168750  0.000000e+00  0.000000e+00   \n",
       "gluten de blé                        -0.675000  0.000000e+00  0.000000e+00   \n",
       "farine de fèves                       0.000000  0.000000e+00  0.000000e+00   \n",
       "émulsifiant                          -0.485079  0.000000e+00  0.000000e+00   \n",
       "antioxydant                          -3.230903  0.000000e+00  0.000000e+00   \n",
       "acidifiants                          -0.100000  0.000000e+00  0.000000e+00   \n",
       "dextrose                             -0.962500  0.000000e+00  0.000000e+00   \n",
       "amidon transformé de pomme de terre   0.000000  0.000000e+00  0.000000e+00   \n",
       "stabilisant                          -0.104167  0.000000e+00  0.000000e+00   \n",
       "sucre brun                            0.000000  0.000000e+00  0.000000e+00   \n",
       "vinaigre d'alcool                    -0.200000  0.000000e+00  0.000000e+00   \n",
       "saccharose                            0.000000  0.000000e+00  0.000000e+00   \n",
       "épaississants                        -0.039062  0.000000e+00  0.000000e+00   \n",
       "e471                                  0.000000  0.000000e+00  0.000000e+00   \n",
       "acide ascorbique                     -0.381396  0.000000e+00  0.000000e+00   \n",
       "lactate                               0.000000  0.000000e+00  0.000000e+00   \n",
       "acétate de potassium                  0.000000  0.000000e+00  0.000000e+00   \n",
       "e451                                  0.000000  0.000000e+00  0.000000e+00   \n",
       "érythorbate de sodium                -0.064714  0.000000e+00  0.000000e+00   \n",
       "acidifiant                           -0.093750  0.000000e+00  0.000000e+00   \n",
       "gommes guar                           0.000000  0.000000e+00  0.000000e+00   \n",
       "xanthane                              0.000000  0.000000e+00  0.000000e+00   \n",
       "e330                                 -0.046875  0.000000e+00  0.000000e+00   \n",
       "disulfite de potassium               -0.040104  0.000000e+00  0.000000e+00   \n",
       "mélange de miels                      0.000000  0.000000e+00  0.000000e+00   \n",
       "noix du brésil                        0.000000  0.000000e+00  0.000000e+00   \n",
       "avelines                              0.000000  0.000000e+00  0.000000e+00   \n",
       "noix de pécan                         0.000000  0.000000e+00  0.000000e+00   \n",
       "huile d'arachide                      0.000000  0.000000e+00  0.000000e+00   \n",
       "huile de colza et de coton            0.000000  0.000000e+00  0.000000e+00   \n",
       "graines de moutardes                  0.000000  0.000000e+00  0.000000e+00   \n",
       "vinaigre de vin blanc                 0.000000  0.000000e+00  0.000000e+00   \n",
       "sulfites                             -0.098437  0.000000e+00  0.000000e+00   \n",
       "e300                                  0.000000  0.000000e+00  0.000000e+00   \n",
       "\n",
       "                                              75%           max  \n",
       "code                                 3.760153e+12  1.036044e+43  \n",
       "levure                               0.000000e+00  1.750000e+01  \n",
       "gluten de blé                        0.000000e+00  5.000000e+01  \n",
       "farine de fèves                      0.000000e+00  2.995000e+01  \n",
       "émulsifiant                          0.000000e+00  2.500000e+01  \n",
       "antioxydant                          0.000000e+00  5.000000e+01  \n",
       "acidifiants                          0.000000e+00  2.250000e+01  \n",
       "dextrose                             0.000000e+00  9.925000e+01  \n",
       "amidon transformé de pomme de terre  0.000000e+00  3.125000e+00  \n",
       "stabilisant                          0.000000e+00  2.500000e+01  \n",
       "sucre brun                           0.000000e+00  5.000000e+01  \n",
       "vinaigre d'alcool                    0.000000e+00  5.000000e+01  \n",
       "saccharose                           0.000000e+00  5.800000e+01  \n",
       "épaississants                        0.000000e+00  2.000000e+01  \n",
       "e471                                 0.000000e+00  1.000000e+01  \n",
       "acide ascorbique                     0.000000e+00  2.500000e+01  \n",
       "lactate                              0.000000e+00  0.000000e+00  \n",
       "acétate de potassium                 0.000000e+00  5.625000e+00  \n",
       "e451                                 0.000000e+00  1.372222e+01  \n",
       "érythorbate de sodium                0.000000e+00  5.000000e+00  \n",
       "acidifiant                           0.000000e+00  5.625000e+01  \n",
       "gommes guar                          0.000000e+00  5.890994e-01  \n",
       "xanthane                             0.000000e+00  3.500000e+00  \n",
       "e330                                 0.000000e+00  2.158333e+01  \n",
       "disulfite de potassium               0.000000e+00  3.500000e+01  \n",
       "mélange de miels                     0.000000e+00  1.000000e+02  \n",
       "noix du brésil                       0.000000e+00  1.500000e+01  \n",
       "avelines                             0.000000e+00  2.777778e+00  \n",
       "noix de pécan                        0.000000e+00  1.000000e+02  \n",
       "huile d'arachide                     0.000000e+00  2.475000e+01  \n",
       "huile de colza et de coton           0.000000e+00  3.472222e-01  \n",
       "graines de moutardes                 0.000000e+00  2.500000e+01  \n",
       "vinaigre de vin blanc                0.000000e+00  2.660000e+01  \n",
       "sulfites                             0.000000e+00  3.460000e+01  \n",
       "e300                                 0.000000e+00  2.500000e+01  "
      ],
      "text/html": "<div>\n<style scoped>\n    .dataframe tbody tr th:only-of-type {\n        vertical-align: middle;\n    }\n\n    .dataframe tbody tr th {\n        vertical-align: top;\n    }\n\n    .dataframe thead th {\n        text-align: right;\n    }\n</style>\n<table border=\"1\" class=\"dataframe\">\n  <thead>\n    <tr style=\"text-align: right;\">\n      <th></th>\n      <th>count</th>\n      <th>mean</th>\n      <th>std</th>\n      <th>min</th>\n      <th>25%</th>\n      <th>50%</th>\n      <th>75%</th>\n      <th>max</th>\n    </tr>\n  </thead>\n  <tbody>\n    <tr>\n      <th>code</th>\n      <td>10000.0</td>\n      <td>1.036044e+39</td>\n      <td>1.036044e+41</td>\n      <td>24.000000</td>\n      <td>3.245414e+12</td>\n      <td>3.375644e+12</td>\n      <td>3.760153e+12</td>\n      <td>1.036044e+43</td>\n    </tr>\n    <tr>\n      <th>levure</th>\n      <td>10000.0</td>\n      <td>1.088693e-01</td>\n      <td>8.229927e-01</td>\n      <td>-0.168750</td>\n      <td>0.000000e+00</td>\n      <td>0.000000e+00</td>\n      <td>0.000000e+00</td>\n      <td>1.750000e+01</td>\n    </tr>\n    <tr>\n      <th>gluten de blé</th>\n      <td>10000.0</td>\n      <td>6.286489e-02</td>\n      <td>1.041397e+00</td>\n      <td>-0.675000</td>\n      <td>0.000000e+00</td>\n      <td>0.000000e+00</td>\n      <td>0.000000e+00</td>\n      <td>5.000000e+01</td>\n    </tr>\n    <tr>\n      <th>farine de fèves</th>\n      <td>10000.0</td>\n      <td>8.560311e-03</td>\n      <td>4.147444e-01</td>\n      <td>0.000000</td>\n      <td>0.000000e+00</td>\n      <td>0.000000e+00</td>\n      <td>0.000000e+00</td>\n      <td>2.995000e+01</td>\n    </tr>\n    <tr>\n      <th>émulsifiant</th>\n      <td>10000.0</td>\n      <td>1.295042e-01</td>\n      <td>8.989792e-01</td>\n      <td>-0.485079</td>\n      <td>0.000000e+00</td>\n      <td>0.000000e+00</td>\n      <td>0.000000e+00</td>\n      <td>2.500000e+01</td>\n    </tr>\n    <tr>\n      <th>antioxydant</th>\n      <td>10000.0</td>\n      <td>1.476444e-01</td>\n      <td>1.277573e+00</td>\n      <td>-3.230903</td>\n      <td>0.000000e+00</td>\n      <td>0.000000e+00</td>\n      <td>0.000000e+00</td>\n      <td>5.000000e+01</td>\n    </tr>\n    <tr>\n      <th>acidifiants</th>\n      <td>10000.0</td>\n      <td>4.591070e-02</td>\n      <td>6.503942e-01</td>\n      <td>-0.100000</td>\n      <td>0.000000e+00</td>\n      <td>0.000000e+00</td>\n      <td>0.000000e+00</td>\n      <td>2.250000e+01</td>\n    </tr>\n    <tr>\n      <th>dextrose</th>\n      <td>10000.0</td>\n      <td>2.795992e-01</td>\n      <td>2.521741e+00</td>\n      <td>-0.962500</td>\n      <td>0.000000e+00</td>\n      <td>0.000000e+00</td>\n      <td>0.000000e+00</td>\n      <td>9.925000e+01</td>\n    </tr>\n    <tr>\n      <th>amidon transformé de pomme de terre</th>\n      <td>10000.0</td>\n      <td>2.064675e-03</td>\n      <td>6.551941e-02</td>\n      <td>0.000000</td>\n      <td>0.000000e+00</td>\n      <td>0.000000e+00</td>\n      <td>0.000000e+00</td>\n      <td>3.125000e+00</td>\n    </tr>\n    <tr>\n      <th>stabilisant</th>\n      <td>10000.0</td>\n      <td>8.220027e-02</td>\n      <td>8.330085e-01</td>\n      <td>-0.104167</td>\n      <td>0.000000e+00</td>\n      <td>0.000000e+00</td>\n      <td>0.000000e+00</td>\n      <td>2.500000e+01</td>\n    </tr>\n    <tr>\n      <th>sucre brun</th>\n      <td>10000.0</td>\n      <td>9.010633e-03</td>\n      <td>6.402814e-01</td>\n      <td>0.000000</td>\n      <td>0.000000e+00</td>\n      <td>0.000000e+00</td>\n      <td>0.000000e+00</td>\n      <td>5.000000e+01</td>\n    </tr>\n    <tr>\n      <th>vinaigre d'alcool</th>\n      <td>10000.0</td>\n      <td>1.146029e-01</td>\n      <td>1.289484e+00</td>\n      <td>-0.200000</td>\n      <td>0.000000e+00</td>\n      <td>0.000000e+00</td>\n      <td>0.000000e+00</td>\n      <td>5.000000e+01</td>\n    </tr>\n    <tr>\n      <th>saccharose</th>\n      <td>10000.0</td>\n      <td>4.238173e-02</td>\n      <td>1.000445e+00</td>\n      <td>0.000000</td>\n      <td>0.000000e+00</td>\n      <td>0.000000e+00</td>\n      <td>0.000000e+00</td>\n      <td>5.800000e+01</td>\n    </tr>\n    <tr>\n      <th>épaississants</th>\n      <td>10000.0</td>\n      <td>2.986173e-02</td>\n      <td>4.572365e-01</td>\n      <td>-0.039062</td>\n      <td>0.000000e+00</td>\n      <td>0.000000e+00</td>\n      <td>0.000000e+00</td>\n      <td>2.000000e+01</td>\n    </tr>\n    <tr>\n      <th>e471</th>\n      <td>10000.0</td>\n      <td>1.360915e-02</td>\n      <td>2.074260e-01</td>\n      <td>0.000000</td>\n      <td>0.000000e+00</td>\n      <td>0.000000e+00</td>\n      <td>0.000000e+00</td>\n      <td>1.000000e+01</td>\n    </tr>\n    <tr>\n      <th>acide ascorbique</th>\n      <td>10000.0</td>\n      <td>8.126623e-02</td>\n      <td>8.696946e-01</td>\n      <td>-0.381396</td>\n      <td>0.000000e+00</td>\n      <td>0.000000e+00</td>\n      <td>0.000000e+00</td>\n      <td>2.500000e+01</td>\n    </tr>\n    <tr>\n      <th>lactate</th>\n      <td>10000.0</td>\n      <td>0.000000e+00</td>\n      <td>0.000000e+00</td>\n      <td>0.000000</td>\n      <td>0.000000e+00</td>\n      <td>0.000000e+00</td>\n      <td>0.000000e+00</td>\n      <td>0.000000e+00</td>\n    </tr>\n    <tr>\n      <th>acétate de potassium</th>\n      <td>10000.0</td>\n      <td>1.106548e-03</td>\n      <td>7.767904e-02</td>\n      <td>0.000000</td>\n      <td>0.000000e+00</td>\n      <td>0.000000e+00</td>\n      <td>0.000000e+00</td>\n      <td>5.625000e+00</td>\n    </tr>\n    <tr>\n      <th>e451</th>\n      <td>10000.0</td>\n      <td>6.535074e-03</td>\n      <td>1.780581e-01</td>\n      <td>0.000000</td>\n      <td>0.000000e+00</td>\n      <td>0.000000e+00</td>\n      <td>0.000000e+00</td>\n      <td>1.372222e+01</td>\n    </tr>\n    <tr>\n      <th>érythorbate de sodium</th>\n      <td>10000.0</td>\n      <td>6.018964e-03</td>\n      <td>1.266702e-01</td>\n      <td>-0.064714</td>\n      <td>0.000000e+00</td>\n      <td>0.000000e+00</td>\n      <td>0.000000e+00</td>\n      <td>5.000000e+00</td>\n    </tr>\n    <tr>\n      <th>acidifiant</th>\n      <td>10000.0</td>\n      <td>2.903366e-01</td>\n      <td>1.635511e+00</td>\n      <td>-0.093750</td>\n      <td>0.000000e+00</td>\n      <td>0.000000e+00</td>\n      <td>0.000000e+00</td>\n      <td>5.625000e+01</td>\n    </tr>\n    <tr>\n      <th>gommes guar</th>\n      <td>10000.0</td>\n      <td>5.890994e-05</td>\n      <td>5.890994e-03</td>\n      <td>0.000000</td>\n      <td>0.000000e+00</td>\n      <td>0.000000e+00</td>\n      <td>0.000000e+00</td>\n      <td>5.890994e-01</td>\n    </tr>\n    <tr>\n      <th>xanthane</th>\n      <td>10000.0</td>\n      <td>9.114652e-04</td>\n      <td>4.952075e-02</td>\n      <td>0.000000</td>\n      <td>0.000000e+00</td>\n      <td>0.000000e+00</td>\n      <td>0.000000e+00</td>\n      <td>3.500000e+00</td>\n    </tr>\n    <tr>\n      <th>e330</th>\n      <td>10000.0</td>\n      <td>4.508993e-02</td>\n      <td>6.263564e-01</td>\n      <td>-0.046875</td>\n      <td>0.000000e+00</td>\n      <td>0.000000e+00</td>\n      <td>0.000000e+00</td>\n      <td>2.158333e+01</td>\n    </tr>\n    <tr>\n      <th>disulfite de potassium</th>\n      <td>10000.0</td>\n      <td>1.005819e-02</td>\n      <td>4.001915e-01</td>\n      <td>-0.040104</td>\n      <td>0.000000e+00</td>\n      <td>0.000000e+00</td>\n      <td>0.000000e+00</td>\n      <td>3.500000e+01</td>\n    </tr>\n    <tr>\n      <th>mélange de miels</th>\n      <td>10000.0</td>\n      <td>1.000000e-02</td>\n      <td>1.000000e+00</td>\n      <td>0.000000</td>\n      <td>0.000000e+00</td>\n      <td>0.000000e+00</td>\n      <td>0.000000e+00</td>\n      <td>1.000000e+02</td>\n    </tr>\n    <tr>\n      <th>noix du brésil</th>\n      <td>10000.0</td>\n      <td>3.511111e-03</td>\n      <td>2.072140e-01</td>\n      <td>0.000000</td>\n      <td>0.000000e+00</td>\n      <td>0.000000e+00</td>\n      <td>0.000000e+00</td>\n      <td>1.500000e+01</td>\n    </tr>\n    <tr>\n      <th>avelines</th>\n      <td>10000.0</td>\n      <td>2.777778e-04</td>\n      <td>2.777778e-02</td>\n      <td>0.000000</td>\n      <td>0.000000e+00</td>\n      <td>0.000000e+00</td>\n      <td>0.000000e+00</td>\n      <td>2.777778e+00</td>\n    </tr>\n    <tr>\n      <th>noix de pécan</th>\n      <td>10000.0</td>\n      <td>2.354021e-02</td>\n      <td>1.421456e+00</td>\n      <td>0.000000</td>\n      <td>0.000000e+00</td>\n      <td>0.000000e+00</td>\n      <td>0.000000e+00</td>\n      <td>1.000000e+02</td>\n    </tr>\n    <tr>\n      <th>huile d'arachide</th>\n      <td>10000.0</td>\n      <td>5.442932e-03</td>\n      <td>3.212790e-01</td>\n      <td>0.000000</td>\n      <td>0.000000e+00</td>\n      <td>0.000000e+00</td>\n      <td>0.000000e+00</td>\n      <td>2.475000e+01</td>\n    </tr>\n    <tr>\n      <th>huile de colza et de coton</th>\n      <td>10000.0</td>\n      <td>3.472222e-05</td>\n      <td>3.472222e-03</td>\n      <td>0.000000</td>\n      <td>0.000000e+00</td>\n      <td>0.000000e+00</td>\n      <td>0.000000e+00</td>\n      <td>3.472222e-01</td>\n    </tr>\n    <tr>\n      <th>graines de moutardes</th>\n      <td>10000.0</td>\n      <td>3.068182e-03</td>\n      <td>2.563698e-01</td>\n      <td>0.000000</td>\n      <td>0.000000e+00</td>\n      <td>0.000000e+00</td>\n      <td>0.000000e+00</td>\n      <td>2.500000e+01</td>\n    </tr>\n    <tr>\n      <th>vinaigre de vin blanc</th>\n      <td>10000.0</td>\n      <td>2.326260e-02</td>\n      <td>5.536622e-01</td>\n      <td>0.000000</td>\n      <td>0.000000e+00</td>\n      <td>0.000000e+00</td>\n      <td>0.000000e+00</td>\n      <td>2.660000e+01</td>\n    </tr>\n    <tr>\n      <th>sulfites</th>\n      <td>10000.0</td>\n      <td>3.289210e-02</td>\n      <td>7.203370e-01</td>\n      <td>-0.098437</td>\n      <td>0.000000e+00</td>\n      <td>0.000000e+00</td>\n      <td>0.000000e+00</td>\n      <td>3.460000e+01</td>\n    </tr>\n    <tr>\n      <th>e300</th>\n      <td>10000.0</td>\n      <td>2.074742e-02</td>\n      <td>4.980033e-01</td>\n      <td>0.000000</td>\n      <td>0.000000e+00</td>\n      <td>0.000000e+00</td>\n      <td>0.000000e+00</td>\n      <td>2.500000e+01</td>\n    </tr>\n  </tbody>\n</table>\n</div>"
     },
     "metadata": {},
     "execution_count": 17
    }
   ],
   "source": [
    "df_test = df_with_ing.sample(10000, random_state=42)\n",
    "df_test = pd.DataFrame(df_test)\n",
    "ing_test = []\n",
    "for ingre_list in df_test.ingredients:\n",
    "    for ingre_dict in ingre_list:\n",
    "        ing_test.append(ingre_dict['text'].replace('_','').replace('-','').strip('').lower())\n",
    "to_fill = ing_test[:75]\n",
    "modif = get_ingredients_columns(df=df_test, ingredients_list= to_fill)\n",
    "modif.describe().T"
   ]
  },
  {
   "source": [
    "### Apply func to full data"
   ],
   "cell_type": "markdown",
   "metadata": {}
  },
  {
   "cell_type": "code",
   "execution_count": 18,
   "metadata": {},
   "outputs": [],
   "source": [
    "#*450 most frequent ingredients\n",
    "ing_to_add = list(ing_list['ingredient'][:450])"
   ]
  },
  {
   "cell_type": "code",
   "execution_count": 20,
   "metadata": {},
   "outputs": [
    {
     "output_type": "stream",
     "name": "stdout",
     "text": [
      "Wall time: 1h 54min 29s\n"
     ]
    },
    {
     "output_type": "execute_result",
     "data": {
      "text/plain": [
       "(167890, 458)"
      ]
     },
     "metadata": {},
     "execution_count": 20
    }
   ],
   "source": [
    "%%time\n",
    "df_filled = get_ingredients_columns(df_with_ing, ing_to_add)\n",
    "df_filled.shape"
   ]
  },
  {
   "source": [
    "## Save data to a new csv"
   ],
   "cell_type": "markdown",
   "metadata": {}
  },
  {
   "cell_type": "code",
   "execution_count": 22,
   "metadata": {},
   "outputs": [],
   "source": [
    "df_filled.to_csv(r'C:\\Users\\Antoine\\Coding Bootcamp\\Open Food Facts\\data_training_multi_pnns.csv', index = False, header=True)"
   ]
  }
 ]
}