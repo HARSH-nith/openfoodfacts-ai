{
 "metadata": {
  "language_info": {
   "codemirror_mode": {
    "name": "ipython",
    "version": 3
   },
   "file_extension": ".py",
   "mimetype": "text/x-python",
   "name": "python",
   "nbconvert_exporter": "python",
   "pygments_lexer": "ipython3",
   "version": "3.6.12"
  },
  "orig_nbformat": 2,
  "kernelspec": {
   "name": "python3612jvsc74a57bd035a2bf25a3b0c54e58f4c7ec5e776f2a039290b4bcd5eb68dec196f018efd572",
   "display_name": "Python 3.6.12 64-bit ('off_ai_emlyon': conda)"
  }
 },
 "nbformat": 4,
 "nbformat_minor": 2,
 "cells": [
  {
   "source": [
    "# Features Preprocessing - Text columns"
   ],
   "cell_type": "markdown",
   "metadata": {}
  },
  {
   "source": [
    "## Imports"
   ],
   "cell_type": "markdown",
   "metadata": {}
  },
  {
   "source": [
    "### Libraries"
   ],
   "cell_type": "markdown",
   "metadata": {}
  },
  {
   "cell_type": "code",
   "execution_count": 4,
   "metadata": {},
   "outputs": [],
   "source": [
    "import pandas as pd\n",
    "import numpy as np \n",
    "import time \n",
    "import matplotlib.pyplot as plt\n",
    "import seaborn as sns\n",
    "from IPython.lib.deepreload import reload as dreload\n",
    "pd.set_option(\"display.max_columns\", 200, \"display.max_rows\", 200)\n",
    "\n",
    "#Settings\n",
    "%load_ext autoreload\n",
    "%autoreload 2\n",
    "%matplotlib inline"
   ]
  },
  {
   "source": [
    "### Data"
   ],
   "cell_type": "markdown",
   "metadata": {}
  },
  {
   "cell_type": "code",
   "execution_count": 3,
   "metadata": {},
   "outputs": [],
   "source": [
    "df = pd.read_csv(r'C:\\Users\\Antoine\\Coding Bootcamp\\Open Food Facts\\data_training_multi_pnns.csv', low_memory=False)"
   ]
  },
  {
   "cell_type": "code",
   "execution_count": 4,
   "metadata": {},
   "outputs": [
    {
     "output_type": "execute_result",
     "data": {
      "text/plain": [
       "(167890, 458)"
      ]
     },
     "metadata": {},
     "execution_count": 4
    }
   ],
   "source": [
    "df.shape"
   ]
  },
  {
   "cell_type": "code",
   "execution_count": 5,
   "metadata": {},
   "outputs": [
    {
     "output_type": "execute_result",
     "data": {
      "text/plain": [
       "                        product_name          pnns_groups_1\n",
       "0        moutarde au moût de raisin          fat and sauces\n",
       "1                   Nectar d'abricot              beverages\n",
       "2        Ratatouille à la provençale        composite foods\n",
       "3                   Nectar d'abricot              beverages\n",
       "4        Ratatouille à la provençale        composite foods\n",
       "...                              ...                    ...\n",
       "167885              Nectar de mangue              beverages\n",
       "167886    raviolis pekinois surgelés        composite foods\n",
       "167887               Jus multifruits              beverages\n",
       "167888   Compote à Boire Pomme Poire  fruits and vegetables\n",
       "167889           Boudin à l’ancienne         fish meat eggs\n",
       "\n",
       "[167890 rows x 2 columns]"
      ],
      "text/html": "<div>\n<style scoped>\n    .dataframe tbody tr th:only-of-type {\n        vertical-align: middle;\n    }\n\n    .dataframe tbody tr th {\n        vertical-align: top;\n    }\n\n    .dataframe thead th {\n        text-align: right;\n    }\n</style>\n<table border=\"1\" class=\"dataframe\">\n  <thead>\n    <tr style=\"text-align: right;\">\n      <th></th>\n      <th>product_name</th>\n      <th>pnns_groups_1</th>\n    </tr>\n  </thead>\n  <tbody>\n    <tr>\n      <th>0</th>\n      <td>moutarde au moût de raisin</td>\n      <td>fat and sauces</td>\n    </tr>\n    <tr>\n      <th>1</th>\n      <td>Nectar d'abricot</td>\n      <td>beverages</td>\n    </tr>\n    <tr>\n      <th>2</th>\n      <td>Ratatouille à la provençale</td>\n      <td>composite foods</td>\n    </tr>\n    <tr>\n      <th>3</th>\n      <td>Nectar d'abricot</td>\n      <td>beverages</td>\n    </tr>\n    <tr>\n      <th>4</th>\n      <td>Ratatouille à la provençale</td>\n      <td>composite foods</td>\n    </tr>\n    <tr>\n      <th>...</th>\n      <td>...</td>\n      <td>...</td>\n    </tr>\n    <tr>\n      <th>167885</th>\n      <td>Nectar de mangue</td>\n      <td>beverages</td>\n    </tr>\n    <tr>\n      <th>167886</th>\n      <td>raviolis pekinois surgelés</td>\n      <td>composite foods</td>\n    </tr>\n    <tr>\n      <th>167887</th>\n      <td>Jus multifruits</td>\n      <td>beverages</td>\n    </tr>\n    <tr>\n      <th>167888</th>\n      <td>Compote à Boire Pomme Poire</td>\n      <td>fruits and vegetables</td>\n    </tr>\n    <tr>\n      <th>167889</th>\n      <td>Boudin à l’ancienne</td>\n      <td>fish meat eggs</td>\n    </tr>\n  </tbody>\n</table>\n<p>167890 rows × 2 columns</p>\n</div>"
     },
     "metadata": {},
     "execution_count": 5
    }
   ],
   "source": [
    "#Product_name column\n",
    "names = df[['product_name', 'pnns_groups_1']]\n",
    "names"
   ]
  },
  {
   "source": [
    "## Text processing"
   ],
   "cell_type": "markdown",
   "metadata": {}
  },
  {
   "source": [
    "### Words Extraction"
   ],
   "cell_type": "markdown",
   "metadata": {}
  },
  {
   "source": [
    "We first save all words present in the product_name column and clean the strings:\n",
    "\n",
    "    - by removing unrelevant words\n",
    "    - by removing unrelevant characters\n",
    "Then, we count occurences and add most frequent words to a list. The interval 480-500 words refers to the number of most frequent words needed to represent pretty all the products in the dataset.\n",
    "\n",
    "Finally, we create one empty column in the dataset for each word in the list, and fill every row with 1 if the word is present in the product_name, 0 else."
   ],
   "cell_type": "markdown",
   "metadata": {}
  },
  {
   "cell_type": "code",
   "execution_count": 6,
   "metadata": {},
   "outputs": [
    {
     "output_type": "execute_result",
     "data": {
      "text/plain": [
       "         words\n",
       "count   573489\n",
       "unique   36316\n",
       "top         de\n",
       "freq     35478"
      ],
      "text/html": "<div>\n<style scoped>\n    .dataframe tbody tr th:only-of-type {\n        vertical-align: middle;\n    }\n\n    .dataframe tbody tr th {\n        vertical-align: top;\n    }\n\n    .dataframe thead th {\n        text-align: right;\n    }\n</style>\n<table border=\"1\" class=\"dataframe\">\n  <thead>\n    <tr style=\"text-align: right;\">\n      <th></th>\n      <th>words</th>\n    </tr>\n  </thead>\n  <tbody>\n    <tr>\n      <th>count</th>\n      <td>573489</td>\n    </tr>\n    <tr>\n      <th>unique</th>\n      <td>36316</td>\n    </tr>\n    <tr>\n      <th>top</th>\n      <td>de</td>\n    </tr>\n    <tr>\n      <th>freq</th>\n      <td>35478</td>\n    </tr>\n  </tbody>\n</table>\n</div>"
     },
     "metadata": {},
     "execution_count": 6
    }
   ],
   "source": [
    "#Save words into a dataframe\n",
    "\n",
    "#Save unique description\n",
    "unique_names = list(names['product_name'].unique())\n",
    "#Create empty dataframe\n",
    "words_df = pd.DataFrame()\n",
    "#Loop into the list, split words and append to words_df\n",
    "for e in unique_names:\n",
    "    words = str(e).lower().split(sep=' ')\n",
    "    words_df = words_df.append(words)\n",
    "words_df.columns = ['words']\n",
    "words_df.describe()"
   ]
  },
  {
   "cell_type": "code",
   "execution_count": 7,
   "metadata": {},
   "outputs": [],
   "source": [
    "#Convert words dataframe as a df with 2 cols : unique words and count of occurence\n",
    "words_df = pd.DataFrame(words_df.value_counts()).reset_index()\n",
    "words_df.columns = ['word', 'count']"
   ]
  },
  {
   "cell_type": "code",
   "execution_count": 8,
   "metadata": {},
   "outputs": [
    {
     "output_type": "execute_result",
     "data": {
      "text/plain": [
       "             0     1     2      3     4       5       6       7     8   \\\n",
       "word   chocolat   bio  lait  sauce  noir  poulet  fruits  beurre   pur   \n",
       "count      7523  6224  4831   3196  2812    2778    2658    2530  2493   \n",
       "\n",
       "           9     10     11     12      13      14    15      16       17  \\\n",
       "word   nature   jus  crème  pomme  jambon  citron   riz  saveur  fromage   \n",
       "count    2320  2254   2201   2150    2101    2071  2062    1990     1976   \n",
       "\n",
       "              18     19      20       21    22       23    24    25       26  \\\n",
       "word   confiture  blanc  yaourt  légumes        vanille  pain  miel  caramel   \n",
       "count       1875   1831    1802     1729  1682     1669  1546  1531     1458   \n",
       "\n",
       "           27      28    29      30      31    32     33    34         35  \\\n",
       "word   pommes  fraise  noix  canard  saumon   sel  huile  coco  framboise   \n",
       "count    1443    1402  1390    1364    1317  1219   1213  1175       1171   \n",
       "\n",
       "           36      37      38     39     40        41    42    43      44  \\\n",
       "word   orange  petits  tomate  frais  petit  tranches    mg   thé  salade   \n",
       "count    1146    1099    1097   1077   1067      1065  1046  1036    1035   \n",
       "\n",
       "         45    46        47     48    49    50       51    52    53     54  \\\n",
       "word   fumé  foie  céréales  sirop  porc  goût  tomates  vert  thon  cacao   \n",
       "count  1030  1012       992    988   981   976      970   959   929    927   \n",
       "\n",
       "              55     56      57         58      59    60        61     62  \\\n",
       "word   chocolate  fruit  filets  noisettes  entier  café  biscuits  pizza   \n",
       "count        917    916     913        909     894   891       891    882   \n",
       "\n",
       "            63     64        65   66       67    68     69       70     71  \\\n",
       "word   d'olive  chips  moutarde    g  boisson  100%  soupe  amandes  terre   \n",
       "count      880    878       866  862      853   841    809      804    780   \n",
       "\n",
       "         72     73       74     75      76   77      78    79    80      81  \\\n",
       "word   gras  filet  dessert  purée  rouges  blé  menthe  doux  pâte  chèvre   \n",
       "count   770    760      758    734     729  726     717   717   710     707   \n",
       "\n",
       "             82     83      84     85   86      87       88       89    90  \\\n",
       "word   galettes  oeufs  olives  choco  cru  herbes  pépites  l'huile  cuit   \n",
       "count       694    691     690    662  660     659      651      649   641   \n",
       "\n",
       "             91     92    93     94    95       96       97       98      99  \n",
       "word   emmental  boeuf  soja  pêche  pois  complet  basilic  graines  muesli  \n",
       "count       634    633   630    629   626      623      617      612     607  "
      ],
      "text/html": "<div>\n<style scoped>\n    .dataframe tbody tr th:only-of-type {\n        vertical-align: middle;\n    }\n\n    .dataframe tbody tr th {\n        vertical-align: top;\n    }\n\n    .dataframe thead th {\n        text-align: right;\n    }\n</style>\n<table border=\"1\" class=\"dataframe\">\n  <thead>\n    <tr style=\"text-align: right;\">\n      <th></th>\n      <th>0</th>\n      <th>1</th>\n      <th>2</th>\n      <th>3</th>\n      <th>4</th>\n      <th>5</th>\n      <th>6</th>\n      <th>7</th>\n      <th>8</th>\n      <th>9</th>\n      <th>10</th>\n      <th>11</th>\n      <th>12</th>\n      <th>13</th>\n      <th>14</th>\n      <th>15</th>\n      <th>16</th>\n      <th>17</th>\n      <th>18</th>\n      <th>19</th>\n      <th>20</th>\n      <th>21</th>\n      <th>22</th>\n      <th>23</th>\n      <th>24</th>\n      <th>25</th>\n      <th>26</th>\n      <th>27</th>\n      <th>28</th>\n      <th>29</th>\n      <th>30</th>\n      <th>31</th>\n      <th>32</th>\n      <th>33</th>\n      <th>34</th>\n      <th>35</th>\n      <th>36</th>\n      <th>37</th>\n      <th>38</th>\n      <th>39</th>\n      <th>40</th>\n      <th>41</th>\n      <th>42</th>\n      <th>43</th>\n      <th>44</th>\n      <th>45</th>\n      <th>46</th>\n      <th>47</th>\n      <th>48</th>\n      <th>49</th>\n      <th>50</th>\n      <th>51</th>\n      <th>52</th>\n      <th>53</th>\n      <th>54</th>\n      <th>55</th>\n      <th>56</th>\n      <th>57</th>\n      <th>58</th>\n      <th>59</th>\n      <th>60</th>\n      <th>61</th>\n      <th>62</th>\n      <th>63</th>\n      <th>64</th>\n      <th>65</th>\n      <th>66</th>\n      <th>67</th>\n      <th>68</th>\n      <th>69</th>\n      <th>70</th>\n      <th>71</th>\n      <th>72</th>\n      <th>73</th>\n      <th>74</th>\n      <th>75</th>\n      <th>76</th>\n      <th>77</th>\n      <th>78</th>\n      <th>79</th>\n      <th>80</th>\n      <th>81</th>\n      <th>82</th>\n      <th>83</th>\n      <th>84</th>\n      <th>85</th>\n      <th>86</th>\n      <th>87</th>\n      <th>88</th>\n      <th>89</th>\n      <th>90</th>\n      <th>91</th>\n      <th>92</th>\n      <th>93</th>\n      <th>94</th>\n      <th>95</th>\n      <th>96</th>\n      <th>97</th>\n      <th>98</th>\n      <th>99</th>\n    </tr>\n  </thead>\n  <tbody>\n    <tr>\n      <th>word</th>\n      <td>chocolat</td>\n      <td>bio</td>\n      <td>lait</td>\n      <td>sauce</td>\n      <td>noir</td>\n      <td>poulet</td>\n      <td>fruits</td>\n      <td>beurre</td>\n      <td>pur</td>\n      <td>nature</td>\n      <td>jus</td>\n      <td>crème</td>\n      <td>pomme</td>\n      <td>jambon</td>\n      <td>citron</td>\n      <td>riz</td>\n      <td>saveur</td>\n      <td>fromage</td>\n      <td>confiture</td>\n      <td>blanc</td>\n      <td>yaourt</td>\n      <td>légumes</td>\n      <td></td>\n      <td>vanille</td>\n      <td>pain</td>\n      <td>miel</td>\n      <td>caramel</td>\n      <td>pommes</td>\n      <td>fraise</td>\n      <td>noix</td>\n      <td>canard</td>\n      <td>saumon</td>\n      <td>sel</td>\n      <td>huile</td>\n      <td>coco</td>\n      <td>framboise</td>\n      <td>orange</td>\n      <td>petits</td>\n      <td>tomate</td>\n      <td>frais</td>\n      <td>petit</td>\n      <td>tranches</td>\n      <td>mg</td>\n      <td>thé</td>\n      <td>salade</td>\n      <td>fumé</td>\n      <td>foie</td>\n      <td>céréales</td>\n      <td>sirop</td>\n      <td>porc</td>\n      <td>goût</td>\n      <td>tomates</td>\n      <td>vert</td>\n      <td>thon</td>\n      <td>cacao</td>\n      <td>chocolate</td>\n      <td>fruit</td>\n      <td>filets</td>\n      <td>noisettes</td>\n      <td>entier</td>\n      <td>café</td>\n      <td>biscuits</td>\n      <td>pizza</td>\n      <td>d'olive</td>\n      <td>chips</td>\n      <td>moutarde</td>\n      <td>g</td>\n      <td>boisson</td>\n      <td>100%</td>\n      <td>soupe</td>\n      <td>amandes</td>\n      <td>terre</td>\n      <td>gras</td>\n      <td>filet</td>\n      <td>dessert</td>\n      <td>purée</td>\n      <td>rouges</td>\n      <td>blé</td>\n      <td>menthe</td>\n      <td>doux</td>\n      <td>pâte</td>\n      <td>chèvre</td>\n      <td>galettes</td>\n      <td>oeufs</td>\n      <td>olives</td>\n      <td>choco</td>\n      <td>cru</td>\n      <td>herbes</td>\n      <td>pépites</td>\n      <td>l'huile</td>\n      <td>cuit</td>\n      <td>emmental</td>\n      <td>boeuf</td>\n      <td>soja</td>\n      <td>pêche</td>\n      <td>pois</td>\n      <td>complet</td>\n      <td>basilic</td>\n      <td>graines</td>\n      <td>muesli</td>\n    </tr>\n    <tr>\n      <th>count</th>\n      <td>7523</td>\n      <td>6224</td>\n      <td>4831</td>\n      <td>3196</td>\n      <td>2812</td>\n      <td>2778</td>\n      <td>2658</td>\n      <td>2530</td>\n      <td>2493</td>\n      <td>2320</td>\n      <td>2254</td>\n      <td>2201</td>\n      <td>2150</td>\n      <td>2101</td>\n      <td>2071</td>\n      <td>2062</td>\n      <td>1990</td>\n      <td>1976</td>\n      <td>1875</td>\n      <td>1831</td>\n      <td>1802</td>\n      <td>1729</td>\n      <td>1682</td>\n      <td>1669</td>\n      <td>1546</td>\n      <td>1531</td>\n      <td>1458</td>\n      <td>1443</td>\n      <td>1402</td>\n      <td>1390</td>\n      <td>1364</td>\n      <td>1317</td>\n      <td>1219</td>\n      <td>1213</td>\n      <td>1175</td>\n      <td>1171</td>\n      <td>1146</td>\n      <td>1099</td>\n      <td>1097</td>\n      <td>1077</td>\n      <td>1067</td>\n      <td>1065</td>\n      <td>1046</td>\n      <td>1036</td>\n      <td>1035</td>\n      <td>1030</td>\n      <td>1012</td>\n      <td>992</td>\n      <td>988</td>\n      <td>981</td>\n      <td>976</td>\n      <td>970</td>\n      <td>959</td>\n      <td>929</td>\n      <td>927</td>\n      <td>917</td>\n      <td>916</td>\n      <td>913</td>\n      <td>909</td>\n      <td>894</td>\n      <td>891</td>\n      <td>891</td>\n      <td>882</td>\n      <td>880</td>\n      <td>878</td>\n      <td>866</td>\n      <td>862</td>\n      <td>853</td>\n      <td>841</td>\n      <td>809</td>\n      <td>804</td>\n      <td>780</td>\n      <td>770</td>\n      <td>760</td>\n      <td>758</td>\n      <td>734</td>\n      <td>729</td>\n      <td>726</td>\n      <td>717</td>\n      <td>717</td>\n      <td>710</td>\n      <td>707</td>\n      <td>694</td>\n      <td>691</td>\n      <td>690</td>\n      <td>662</td>\n      <td>660</td>\n      <td>659</td>\n      <td>651</td>\n      <td>649</td>\n      <td>641</td>\n      <td>634</td>\n      <td>633</td>\n      <td>630</td>\n      <td>629</td>\n      <td>626</td>\n      <td>623</td>\n      <td>617</td>\n      <td>612</td>\n      <td>607</td>\n    </tr>\n  </tbody>\n</table>\n</div>"
     },
     "metadata": {},
     "execution_count": 8
    }
   ],
   "source": [
    "#Drop unrelevant words and clean strings\n",
    "words_to_drop = [\n",
    "    'de', 'au', 'à', 'et', 'la', 'aux', '-', ' ', '&', 'le', 'du', 'en', 'sans', 'extra', 'mini', 'les', '4', '2', 'a', 'des', 'avec', '%', '6', '3', 'x', 'pour', '8', '/', '10', '12', '1', '5', 'di', '+', '20', ':', 'mon'\n",
    "    ]\n",
    "words_df['word'] = words_df['word'].apply(lambda x: x.strip('/').strip(\"'\").strip('').strip(')'))\n",
    "words_df = words_df[~words_df['word'].isin(words_to_drop)].reset_index(drop=True)\n",
    "words_df[:100].T"
   ]
  },
  {
   "cell_type": "code",
   "execution_count": 9,
   "metadata": {},
   "outputs": [
    {
     "output_type": "execute_result",
     "data": {
      "text/plain": [
       "488"
      ]
     },
     "metadata": {},
     "execution_count": 9
    }
   ],
   "source": [
    "#Save some of most frequent words in product_name column\n",
    "words_to_add = list(words_df['word'][:522])\n",
    "words_to_add.extend(['ml','kg','mg','cl'])\n",
    "words_to_add.remove('g')\n",
    "#Index 119 was empty ('')\n",
    "del words_to_add[119]\n",
    "#Sort words alphabetically\n",
    "words_to_add = sorted(list(set(words_to_add)))\n",
    "#Remove other unrelevant words\n",
    "rem = [\n",
    "    'yaourts', 'tomates', 'saveurs', 'saucisses', 'pâtes', 'framboises', 'chocolats', 'filets', 'fruits', 'fromages', 'galettes', 'fraises', 'barres', 'biscuits', 'amandes', 'st', '100', '100%', 'pommes', '0%', 'fourrées', '500', '7', '70%', 'al', 'and', 'cl', 'd', 'uht', 'l', 'ma', 'x2', 'with', 'mat'\n",
    "    ]\n",
    "\n",
    "#Update list\n",
    "words_to_add = [e for e in words_to_add if e not in rem]\n",
    "len(words_to_add)"
   ]
  },
  {
   "source": [
    "### Function get_text_dummies"
   ],
   "cell_type": "markdown",
   "metadata": {}
  },
  {
   "cell_type": "code",
   "execution_count": 17,
   "metadata": {},
   "outputs": [],
   "source": [
    "def get_text_dummies(dataframe, dummies_list, text_column):\n",
    "    \"\"\"\n",
    "    Create a 0 column for each words in dummies_list and fill with 1 if the word is present in text_column.\n",
    "    \n",
    "    Parameters\n",
    "    ----------\n",
    "\n",
    "        - dataframe : the dataframe to modify\n",
    "        - dummies_list : list of new columns (words that would be present in text_column)\n",
    "        - text_column : the reference column to search the words from dummies_list.\n",
    "    \n",
    "    Return\n",
    "    ------\n",
    "    \n",
    "    The modified dataframe (deep copied).\n",
    "    \"\"\"\n",
    "    #Time\n",
    "    time_start = time.clock()\n",
    "    #Deep copy of dataframe\n",
    "    data = dataframe.copy(deep=True)\n",
    "    #Create empty column\n",
    "    for w in dummies_list: data[w] = 0\n",
    "    #Loop in dataframe\n",
    "    for text, index in zip(data[text_column], data.index):\n",
    "        row_text = text.lower()\n",
    "        #Loop in dummies list\n",
    "        for word in dummies_list:\n",
    "            #Append 1 if word in text_column\n",
    "            if word in row_text:\n",
    "                data.loc[index,word] = 1\n",
    "    #time\n",
    "    time_elapsed = (time.clock() - time_start) / 60\n",
    "    print(f'get_text_dummies running time : {round(time_elapsed,2)} mn')\n",
    "    #return modified dataframe\n",
    "    return data"
   ]
  },
  {
   "source": [
    "### Apply function to a test dataframe"
   ],
   "cell_type": "markdown",
   "metadata": {}
  },
  {
   "cell_type": "code",
   "execution_count": 16,
   "metadata": {},
   "outputs": [
    {
     "output_type": "stream",
     "name": "stdout",
     "text": [
      "get_text_dummies running time : 0.18mn\n"
     ]
    },
    {
     "output_type": "execute_result",
     "data": {
      "text/plain": [
       "    0       0    0         0   \n",
       "\n",
       "        barre  base  basilic  basmati  beurre  bio  biologique  biscuit  \\\n",
       "63601       0     0        0        0       0    0           0        0   \n",
       "42037       0     0        0        0       0    0           0        0   \n",
       "144463      0     0        0        0       0    0           0        0   \n",
       "134171      0     0        0        0       0    0           0        0   \n",
       "64184       0     0        0        0       0    0           0        0   \n",
       "...       ...   ...      ...      ...     ...  ...         ...      ...   \n",
       "52513       0     0        0        0       0    0           0        0   \n",
       "141277      0     0        0        0       0    0           0        0   \n",
       "99864       0     0        0        0       0    0           0        0   \n",
       "35170       0     0        0        0       0    0           0        0   \n",
       "155222      0     0        0        0       0    0           0        0   \n",
       "\n",
       "        blanc  blanche  blancs  bleu  bloc  blé  boeuf  boire  bois  boisson  \\\n",
       "63601       0        0       0     0     0    0      0      0     0        0   \n",
       "42037       0        0       0     0     0    0      0      0     0        0   \n",
       "144463      0        0       0     0     0    0      0      0     0        0   \n",
       "134171      0        0       0     0     0    0      0      0     0        0   \n",
       "64184       0        0       0     0     0    0      0      0     0        0   \n",
       "...       ...      ...     ...   ...   ...  ...    ...    ...   ...      ...   \n",
       "52513       0        0       0     0     0    0      0      0     1        1   \n",
       "141277      0        0       0     0     0    0      0      0     0        0   \n",
       "99864       0        0       0     0     0    0      0      0     0        0   \n",
       "35170       0        0       0     0     0    0      0      0     0        0   \n",
       "155222      0        0       0     0     0    0      0      0     0        0   \n",
       "\n",
       "        bolognaise  bon  bonbons  boulettes  brassé  brebis  bretagne  breton  \\\n",
       "63601            0    0        0          0       0       0         0       0   \n",
       "42037            0    0        0          0       0       0         0       0   \n",
       "144463           0    0        0          0       0       0         0       0   \n",
       "134171           0    0        0          0       0       0         0       0   \n",
       "64184            0    0        0          0       0       0         0       0   \n",
       "...            ...  ...      ...        ...     ...     ...       ...     ...   \n",
       "52513            0    0        0          0       0       0         0       0   \n",
       "141277           0    0        0          0       0       0         0       0   \n",
       "99864            0    0        0          0       0       0         0       0   \n",
       "35170            0    0        0          0       0       0         0       0   \n",
       "155222           0    0        0          0       0       0         0       0   \n",
       "\n",
       "        brioche  brownie  burger  butter  bâtonnets  bûche  bœuf  cabillaud  \\\n",
       "63601         0        0       0       0          0      0     0          0   \n",
       "42037         0        0       0       0          0      0     0          0   \n",
       "144463        0        0       0       0          0      0     0          0   \n",
       "134171        0        0       0       0          0      0     0          0   \n",
       "64184         0        0       0       0          0      0     0          0   \n",
       "...         ...      ...     ...     ...        ...    ...   ...        ...   \n",
       "52513         0        0       0       0          0      0     0          0   \n",
       "141277        0        0       0       0          0      0     0          0   \n",
       "99864         0        0       0       0          0      0     0          0   \n",
       "35170         0        0       0       0          0      0     0          0   \n",
       "155222        0        0       0       0          0      0     0          0   \n",
       "\n",
       "        cacahuètes  cacao  café  cajou  cake  camembert  campagne  canard  \\\n",
       "63601            0      0     0      0     0          0         0       0   \n",
       "42037            0      0     0      0     0          0         0       0   \n",
       "144463           0      0     0      0     0          0         0       0   \n",
       "134171           0      0     0      0     0          0         0       0   \n",
       "64184            0      0     0      0     0          0         0       0   \n",
       "...            ...    ...   ...    ...   ...        ...       ...     ...   \n",
       "52513            0      0     0      0     0          0         0       0   \n",
       "141277           0      0     0      0     0          0         0       0   \n",
       "99864            0      0     0      0     0          0         0       0   \n",
       "35170            0      0     0      0     0          0         0       0   \n",
       "155222           0      0     0      0     0          0         0       0   \n",
       "\n",
       "        candy  canne  cannelle  caramel  carotte  carottes  cassis  cassoulet  \\\n",
       "63601       0      0         0        0        0         0       0          0   \n",
       "42037       0      0         0        0        0         0       0          0   \n",
       "144463      0      0         0        0        0         0       0          0   \n",
       "134171      0      0         0        0        0         0       0          0   \n",
       "64184       0      0         0        0        0         0       0          0   \n",
       "...       ...    ...       ...      ...      ...       ...     ...        ...   \n",
       "52513       0      0         0        0        0         0       0          0   \n",
       "141277      0      0         0        0        0         0       0          0   \n",
       "99864       0      0         0        0        0         0       0          0   \n",
       "35170       0      0         0        0        0         0       0          0   \n",
       "155222      0      0         0        0        0         0       0          0   \n",
       "\n",
       "        cerise  cerises  champignons  cheddar  cheese  chicken  chili  chips  \\\n",
       "63601        0        0            0        0       0        0      0      0   \n",
       "42037        0        0            0        0       0        0      0      0   \n",
       "144463       0        0            0        0       0        0      0      0   \n",
       "134171       0        0            0        0       0        0      0      0   \n",
       "64184        0        0            0        0       0        0      0      0   \n",
       "...        ...      ...          ...      ...     ...      ...    ...    ...   \n",
       "52513        0        0            0        0       0        0      0      0   \n",
       "141277       0        0            0        0       0        0      0      0   \n",
       "99864        0        0            0        0       0        0      0      0   \n",
       "35170        0        0            0        0       0        0      0      0   \n",
       "155222       0        0            0        0       0        0      0      0   \n",
       "\n",
       "        choco  chocolat  chocolate  chorizo  chèvre  ciboulette  citron  \\\n",
       "63601       0         0          0        0       0           0       0   \n",
       "42037       0         0          0        0       0           0       0   \n",
       "144463      0         0          0        0       0           0       0   \n",
       "134171      0         0          0        0       0           0       0   \n",
       "64184       0         0          0        0       0           0       0   \n",
       "...       ...       ...        ...      ...     ...         ...     ...   \n",
       "52513       0         0          0        0       0           0       0   \n",
       "141277      0         0          0        0       0           0       0   \n",
       "99864       0         0          0        0       0           0       0   \n",
       "35170       0         0          0        0       0           0       0   \n",
       "155222      0         0          0        0       0           0       0   \n",
       "\n",
       "        classic  classique  cocktail  coco  coconut  coeur  cola  colin  ...  \\\n",
       "63601         0          0         0     0        0      0     0      0  ...   \n",
       "42037         0          0         0     0        0      0     0      0  ...   \n",
       "144463        0          0         0     0        0      0     0      0  ...   \n",
       "134171        0          0         0     0        0      0     0      0  ...   \n",
       "64184         0          0         0     0        0      0     0      0  ...   \n",
       "...         ...        ...       ...   ...      ...    ...   ...    ...  ...   \n",
       "52513         0          0         0     0        0      0     0      0  ...   \n",
       "141277        0          0         0     0        0      0     0      0  ...   \n",
       "99864         0          0         0     0        0      0     0      0  ...   \n",
       "35170         0          0         0     0        0      0     0      0  ...   \n",
       "155222        0          0         0     0        0      0     0      0  ...   \n",
       "\n",
       "        sachets  saint  salade  salé  sandwich  sardines  sarrasin  sauce  \\\n",
       "63601         0      0       0     0         0         0         0      0   \n",
       "42037         0      0       0     0         0         0         0      1   \n",
       "144463        0      0       0     0         0         0         0      0   \n",
       "134171        0      0       0     0         0         0         0      0   \n",
       "64184         0      0       0     0         0         0         0      0   \n",
       "...         ...    ...     ...   ...       ...       ...       ...    ...   \n",
       "52513         0      0       0     0         0         0         0      0   \n",
       "141277        0      0       0     0         0         0         0      0   \n",
       "99864         0      0       0     0         0         0         0      0   \n",
       "35170         0      0       0     0         0         0         0      1   \n",
       "155222        0      0       0     0         0         0         0      0   \n",
       "\n",
       "        saucisse  saucisson  saumon  sauvage  saveur  savoie  sec  secs  sel  \\\n",
       "63601          0          0       0        0       1       0    0     0    0   \n",
       "42037          0          0       0        0       0       0    0     0    0   \n",
       "144463         0          0       0        0       0       0    0     0    0   \n",
       "134171         0          0       0        0       0       0    0     0    0   \n",
       "64184          0          0       0        0       0       0    0     0    0   \n",
       "...          ...        ...     ...      ...     ...     ...  ...   ...  ...   \n",
       "52513          0          0       0        0       1       0    0     0    0   \n",
       "141277         0          0       0        0       0       0    0     0    0   \n",
       "99864          0          0       0        0       0       0    0     0    0   \n",
       "35170          0          0       0        0       0       0    0     0    0   \n",
       "155222         0          0       0        0       0       0    0     0    0   \n",
       "\n",
       "        semoule  sirop  smoothie  snack  soda  soja  soleil  son  sorbet  \\\n",
       "63601         0      0         0      0     0     0       0    0       0   \n",
       "42037         0      0         0      0     0     0       0    0       0   \n",
       "144463        0      0         0      0     0     0       0    0       0   \n",
       "134171        0      0         0      0     0     0       0    0       0   \n",
       "64184         0      0         0      0     0     0       0    0       0   \n",
       "...         ...    ...       ...    ...   ...   ...     ...  ...     ...   \n",
       "52513         0      0         0      0     0     0       0    1       0   \n",
       "141277        0      0         0      0     0     0       0    0       0   \n",
       "99864         0      0         0      0     0     0       0    0       0   \n",
       "35170         0      0         0      0     0     0       0    0       0   \n",
       "155222        0      0         0      0     0     0       0    0       0   \n",
       "\n",
       "        soupe  source  spaghetti  spécial  spécialité  steak  steaks  style  \\\n",
       "63601       0       0          0        0           0      0       0      0   \n",
       "42037       0       0          0        0           0      0       0      0   \n",
       "144463      0       0          0        0           0      0       0      0   \n",
       "134171      0       0          0        0           0      0       0      0   \n",
       "64184       0       0          0        0           0      0       0      0   \n",
       "...       ...     ...        ...      ...         ...    ...     ...    ...   \n",
       "52513       0       0          0        0           0      0       0      0   \n",
       "141277      0       0          0        0           0      0       0      0   \n",
       "99864       0       0          0        0           0      0       0      0   \n",
       "35170       0       0          0        0           0      0       0      0   \n",
       "155222      0       0          0        0           0      0       0      0   \n",
       "\n",
       "        sucre  sucres  sucré  sud  sud-ouest  super  supérieur  supérieure  \\\n",
       "63601       0       0      0    0          0      0          0           0   \n",
       "42037       0       0      0    0          0      0          0           0   \n",
       "144463      0       0      0    0          0      0          0           0   \n",
       "134171      0       0      0    0          0      0          0           0   \n",
       "64184       0       0      0    0          0      0          0           0   \n",
       "...       ...     ...    ...  ...        ...    ...        ...         ...   \n",
       "52513       0       0      0    0          0      0          0           0   \n",
       "141277      0       0      0    0          0      0          0           0   \n",
       "99864       0       0      0    0          0      0          0           0   \n",
       "35170       0       0      0    0          0      0          0           0   \n",
       "155222      0       0      0    0          0      0          0           0   \n",
       "\n",
       "        sur  surgelé  surgelés  sweet  séchées  sésame  tablette  taboulé  \\\n",
       "63601     0        0         0      0        0       0         0        0   \n",
       "42037     0        0         0      0        0       0         0        0   \n",
       "144463    0        0         0      0        0       0         0        0   \n",
       "134171    0        0         0      0        0       0         0        0   \n",
       "64184     0        0         0      0        0       0         0        0   \n",
       "...     ...      ...       ...    ...      ...     ...       ...      ...   \n",
       "52513     0        0         0      0        0       0         0        0   \n",
       "141277    0        0         0      0        0       0         0        0   \n",
       "99864     0        0         0      0        0       0         0        0   \n",
       "35170     0        0         0      0        0       0         0        0   \n",
       "155222    0        0         0      0        0       0         0        0   \n",
       "\n",
       "        tagliatelles  tarte  tartelettes  tartiner  tea  tendre  terre  \\\n",
       "63601              0      0            0         0    0       0      0   \n",
       "42037              0      0            0         0    0       0      0   \n",
       "144463             0      0            0         0    0       0      0   \n",
       "134171             0      0            0         0    0       0      0   \n",
       "64184              0      0            0         0    0       0      0   \n",
       "...              ...    ...          ...       ...  ...     ...    ...   \n",
       "52513              0      0            0         0    0       0      0   \n",
       "141277             0      0            0         0    0       0      0   \n",
       "99864              0      0            0         0    0       0      0   \n",
       "35170              0      0            0         0    0       0      0   \n",
       "155222             0      0            0         0    0       0      0   \n",
       "\n",
       "        terrine  thaï  the  thon  thym  thé  tofu  tomate  tortilla  \\\n",
       "63601         0     0    0     0     0    0     0       0         0   \n",
       "42037         0     0    0     0     0    0     0       0         0   \n",
       "144463        0     0    0     0     0    0     0       0         0   \n",
       "134171        0     0    0     0     0    0     0       0         0   \n",
       "64184         0     0    0     0     0    0     0       0         0   \n",
       "...         ...   ...  ...   ...   ...  ...   ...     ...       ...   \n",
       "52513         0     0    0     0     0    0     0       0         0   \n",
       "141277        0     0    0     0     0    0     0       0         0   \n",
       "99864         0     0    0     0     0    0     0       0         0   \n",
       "35170         0     0    0     0     0    0     0       0         0   \n",
       "155222        0     0    0     0     0    0     0       0         0   \n",
       "\n",
       "        tournesol  tradition  tranches  tranché  tropical  truffe  truffes  \\\n",
       "63601           0          0         0        0         0       0        0   \n",
       "42037           0          0         0        0         0       0        0   \n",
       "144463          0          0         0        0         0       0        0   \n",
       "134171          0          0         0        0         0       0        0   \n",
       "64184           0          0         0        0         0       0        0   \n",
       "...           ...        ...       ...      ...       ...     ...      ...   \n",
       "52513           0          0         0        0         0       0        0   \n",
       "141277          0          0         0        0         0       0        0   \n",
       "99864           0          0         0        0         0       0        0   \n",
       "35170           0          0         0        0         0       0        0   \n",
       "155222          0          0         0        0         0       0        0   \n",
       "\n",
       "        truite  vache  vanilla  vanille  veau  velouté  vert  verte  vertes  \\\n",
       "63601        0      0        0        0     0        0     0      0       0   \n",
       "42037        0      0        0        0     0        0     0      0       0   \n",
       "144463       0      0        0        0     0        0     0      0       0   \n",
       "134171       0      0        0        0     0        0     0      0       0   \n",
       "64184        0      0        0        0     0        0     0      0       0   \n",
       "...        ...    ...      ...      ...   ...      ...   ...    ...     ...   \n",
       "52513        0      0        0        0     0        0     0      0       0   \n",
       "141277       0      0        0        0     0        0     0      0       0   \n",
       "99864        0      0        0        0     0        0     0      0       0   \n",
       "35170        0      0        0        0     0        0     0      0       0   \n",
       "155222       0      0        0        0     0        0     0      0       0   \n",
       "\n",
       "        verts  viande  vierge  vin  vinaigre  vinaigrette  volaille  végétal  \\\n",
       "63601       0       0       0    0         0            0         0        0   \n",
       "42037       0       0       0    0         0            0         0        0   \n",
       "144463      0       0       0    0         0            0         0        0   \n",
       "134171      0       0       0    0         0            0         0        0   \n",
       "64184       0       0       0    0         0            0         0        0   \n",
       "...       ...     ...     ...  ...       ...          ...       ...      ...   \n",
       "52513       0       0       0    0         0            0         0        1   \n",
       "141277      0       0       0    0         0            0         0        0   \n",
       "99864       0       0       0    0         0            0         0        0   \n",
       "35170       0       0       0    0         0            0         0        0   \n",
       "155222      0       0       0    0         0            0         0        0   \n",
       "\n",
       "        véritable  water  white  yaourt  yogourt  éclats  épeautre  épices  \\\n",
       "63601           0      0      0       0        0       0         0       0   \n",
       "42037           0      0      0       0        0       0         0       0   \n",
       "144463          0      0      0       0        0       0         0       0   \n",
       "134171          0      0      0       0        0       0         0       0   \n",
       "64184           0      0      0       0        0       0         0       0   \n",
       "...           ...    ...    ...     ...      ...     ...       ...     ...   \n",
       "52513           0      0      0       0        0       0         0       0   \n",
       "141277          0      0      0       0        0       0         0       0   \n",
       "99864           0      0      0       0        0       0         0       0   \n",
       "35170           0      0      0       0        0       0         0       0   \n",
       "155222          0      0      0       0        0       0         0       0   \n",
       "\n",
       "        épinards  œufs  \n",
       "63601          0     0  \n",
       "42037          0     0  \n",
       "144463         0     0  \n",
       "134171         0     0  \n",
       "64184          0     0  \n",
       "...          ...   ...  \n",
       "52513          0     0  \n",
       "141277         0     0  \n",
       "99864          0     0  \n",
       "35170          0     0  \n",
       "155222         0     0  \n",
       "\n",
       "[7987 rows x 490 columns]"
      ],
      "text/html": "<div>\n<style scoped>\n    .dataframe tbody tr th:only-of-type {\n        vertical-align: middle;\n    }\n\n    .dataframe tbody tr th {\n        vertical-align: top;\n    }\n\n    .dataframe thead th {\n        text-align: right;\n    }\n</style>\n<table border=\"1\" class=\"dataframe\">\n  <thead>\n    <tr style=\"text-align: right;\">\n      <th></th>\n      <th>pnns_groups_1</th>\n      <th>product_name</th>\n      <th></th>\n      <th>abricot</th>\n      <th>abricots</th>\n      <th>activia</th>\n      <th>agrumes</th>\n      <th>ail</th>\n      <th>air</th>\n      <th>ajoutés</th>\n      <th>allégée</th>\n      <th>almond</th>\n      <th>amande</th>\n      <th>ananas</th>\n      <th>aop</th>\n      <th>apple</th>\n      <th>arabica</th>\n      <th>aromatisé</th>\n      <th>artisanale</th>\n      <th>arôme</th>\n      <th>assortiment</th>\n      <th>bacon</th>\n      <th>baguette</th>\n      <th>baies</th>\n      <th>banane</th>\n      <th>bar</th>\n      <th>barbecue</th>\n      <th>barre</th>\n      <th>base</th>\n      <th>basilic</th>\n      <th>basmati</th>\n      <th>beurre</th>\n      <th>bio</th>\n      <th>biologique</th>\n      <th>biscuit</th>\n      <th>blanc</th>\n      <th>blanche</th>\n      <th>blancs</th>\n      <th>bleu</th>\n      <th>bloc</th>\n      <th>blé</th>\n      <th>boeuf</th>\n      <th>boire</th>\n      <th>bois</th>\n      <th>boisson</th>\n      <th>bolognaise</th>\n      <th>bon</th>\n      <th>bonbons</th>\n      <th>boulettes</th>\n      <th>brassé</th>\n      <th>brebis</th>\n      <th>bretagne</th>\n      <th>breton</th>\n      <th>brioche</th>\n      <th>brownie</th>\n      <th>burger</th>\n      <th>butter</th>\n      <th>bâtonnets</th>\n      <th>bûche</th>\n      <th>bœuf</th>\n      <th>cabillaud</th>\n      <th>cacahuètes</th>\n      <th>cacao</th>\n      <th>café</th>\n      <th>cajou</th>\n      <th>cake</th>\n      <th>camembert</th>\n      <th>campagne</th>\n      <th>canard</th>\n      <th>candy</th>\n      <th>canne</th>\n      <th>cannelle</th>\n      <th>caramel</th>\n      <th>carotte</th>\n      <th>carottes</th>\n      <th>cassis</th>\n      <th>cassoulet</th>\n      <th>cerise</th>\n      <th>cerises</th>\n      <th>champignons</th>\n      <th>cheddar</th>\n      <th>cheese</th>\n      <th>chicken</th>\n      <th>chili</th>\n      <th>chips</th>\n      <th>choco</th>\n      <th>chocolat</th>\n      <th>chocolate</th>\n      <th>chorizo</th>\n      <th>chèvre</th>\n      <th>ciboulette</th>\n      <th>citron</th>\n      <th>classic</th>\n      <th>classique</th>\n      <th>cocktail</th>\n      <th>coco</th>\n      <th>coconut</th>\n      <th>coeur</th>\n      <th>cola</th>\n      <th>colin</th>\n      <th>...</th>\n      <th>sachets</th>\n      <th>saint</th>\n      <th>salade</th>\n      <th>salé</th>\n      <th>sandwich</th>\n      <th>sardines</th>\n      <th>sarrasin</th>\n      <th>sauce</th>\n      <th>saucisse</th>\n      <th>saucisson</th>\n      <th>saumon</th>\n      <th>sauvage</th>\n      <th>saveur</th>\n      <th>savoie</th>\n      <th>sec</th>\n      <th>secs</th>\n      <th>sel</th>\n      <th>semoule</th>\n      <th>sirop</th>\n      <th>smoothie</th>\n      <th>snack</th>\n      <th>soda</th>\n      <th>soja</th>\n      <th>soleil</th>\n      <th>son</th>\n      <th>sorbet</th>\n      <th>soupe</th>\n      <th>source</th>\n      <th>spaghetti</th>\n      <th>spécial</th>\n      <th>spécialité</th>\n      <th>steak</th>\n      <th>steaks</th>\n      <th>style</th>\n      <th>sucre</th>\n      <th>sucres</th>\n      <th>sucré</th>\n      <th>sud</th>\n      <th>sud-ouest</th>\n      <th>super</th>\n      <th>supérieur</th>\n      <th>supérieure</th>\n      <th>sur</th>\n      <th>surgelé</th>\n      <th>surgelés</th>\n      <th>sweet</th>\n      <th>séchées</th>\n      <th>sésame</th>\n      <th>tablette</th>\n      <th>taboulé</th>\n      <th>tagliatelles</th>\n      <th>tarte</th>\n      <th>tartelettes</th>\n      <th>tartiner</th>\n      <th>tea</th>\n      <th>tendre</th>\n      <th>terre</th>\n      <th>terrine</th>\n      <th>thaï</th>\n      <th>the</th>\n      <th>thon</th>\n      <th>thym</th>\n      <th>thé</th>\n      <th>tofu</th>\n      <th>tomate</th>\n      <th>tortilla</th>\n      <th>tournesol</th>\n      <th>tradition</th>\n      <th>tranches</th>\n      <th>tranché</th>\n      <th>tropical</th>\n      <th>truffe</th>\n      <th>truffes</th>\n      <th>truite</th>\n      <th>vache</th>\n      <th>vanilla</th>\n      <th>vanille</th>\n      <th>veau</th>\n      <th>velouté</th>\n      <th>vert</th>\n      <th>verte</th>\n      <th>vertes</th>\n      <th>verts</th>\n      <th>viande</th>\n      <th>vierge</th>\n      <th>vin</th>\n      <th>vinaigre</th>\n      <th>vinaigrette</th>\n      <th>volaille</th>\n      <th>végétal</th>\n      <th>véritable</th>\n      <th>water</th>\n      <th>white</th>\n      <th>yaourt</th>\n      <th>yogourt</th>\n      <th>éclats</th>\n      <th>épeautre</th>\n      <th>épices</th>\n      <th>épinards</th>\n      <th>œufs</th>\n    </tr>\n  </thead>\n  <tbody>\n    <tr>\n      <th>63601</th>\n      <td>composite foods</td>\n      <td>cuisses de poulet découpées saveur barbecue</td>\n      <td>1</td>\n      <td>0</td>\n      <td>0</td>\n      <td>0</td>\n      <td>0</td>\n      <td>0</td>\n      <td>0</td>\n      <td>0</td>\n      <td>0</td>\n      <td>0</td>\n      <td>0</td>\n      <td>0</td>\n      <td>0</td>\n      <td>0</td>\n      <td>0</td>\n      <td>0</td>\n      <td>0</td>\n      <td>0</td>\n      <td>0</td>\n      <td>0</td>\n      <td>0</td>\n      <td>0</td>\n      <td>0</td>\n      <td>1</td>\n      <td>1</td>\n      <td>0</td>\n      <td>0</td>\n      <td>0</td>\n      <td>0</td>\n      <td>0</td>\n      <td>0</td>\n      <td>0</td>\n      <td>0</td>\n      <td>0</td>\n      <td>0</td>\n      <td>0</td>\n      <td>0</td>\n      <td>0</td>\n      <td>0</td>\n      <td>0</td>\n      <td>0</td>\n      <td>0</td>\n      <td>0</td>\n      <td>0</td>\n      <td>0</td>\n      <td>0</td>\n      <td>0</td>\n      <td>0</td>\n      <td>0</td>\n      <td>0</td>\n      <td>0</td>\n      <td>0</td>\n      <td>0</td>\n      <td>0</td>\n      <td>0</td>\n      <td>0</td>\n      <td>0</td>\n      <td>0</td>\n      <td>0</td>\n      <td>0</td>\n      <td>0</td>\n      <td>0</td>\n      <td>0</td>\n      <td>0</td>\n      <td>0</td>\n      <td>0</td>\n      <td>0</td>\n      <td>0</td>\n      <td>0</td>\n      <td>0</td>\n      <td>0</td>\n      <td>0</td>\n      <td>0</td>\n      <td>0</td>\n      <td>0</td>\n      <td>0</td>\n      <td>0</td>\n      <td>0</td>\n      <td>0</td>\n      <td>0</td>\n      <td>0</td>\n      <td>0</td>\n      <td>0</td>\n      <td>0</td>\n      <td>0</td>\n      <td>0</td>\n      <td>0</td>\n      <td>0</td>\n      <td>0</td>\n      <td>0</td>\n      <td>0</td>\n      <td>0</td>\n      <td>0</td>\n      <td>0</td>\n      <td>0</td>\n      <td>0</td>\n      <td>0</td>\n      <td>0</td>\n      <td>...</td>\n      <td>0</td>\n      <td>0</td>\n      <td>0</td>\n      <td>0</td>\n      <td>0</td>\n      <td>0</td>\n      <td>0</td>\n      <td>0</td>\n      <td>0</td>\n      <td>0</td>\n      <td>0</td>\n      <td>0</td>\n      <td>1</td>\n      <td>0</td>\n      <td>0</td>\n      <td>0</td>\n      <td>0</td>\n      <td>0</td>\n      <td>0</td>\n      <td>0</td>\n      <td>0</td>\n      <td>0</td>\n      <td>0</td>\n      <td>0</td>\n      <td>0</td>\n      <td>0</td>\n      <td>0</td>\n      <td>0</td>\n      <td>0</td>\n      <td>0</td>\n      <td>0</td>\n      <td>0</td>\n      <td>0</td>\n      <td>0</td>\n      <td>0</td>\n      <td>0</td>\n      <td>0</td>\n      <td>0</td>\n      <td>0</td>\n      <td>0</td>\n      <td>0</td>\n      <td>0</td>\n      <td>0</td>\n      <td>0</td>\n      <td>0</td>\n      <td>0</td>\n      <td>0</td>\n      <td>0</td>\n      <td>0</td>\n      <td>0</td>\n      <td>0</td>\n      <td>0</td>\n      <td>0</td>\n      <td>0</td>\n      <td>0</td>\n      <td>0</td>\n      <td>0</td>\n      <td>0</td>\n      <td>0</td>\n      <td>0</td>\n      <td>0</td>\n      <td>0</td>\n      <td>0</td>\n      <td>0</td>\n      <td>0</td>\n      <td>0</td>\n      <td>0</td>\n      <td>0</td>\n      <td>0</td>\n      <td>0</td>\n      <td>0</td>\n      <td>0</td>\n      <td>0</td>\n      <td>0</td>\n      <td>0</td>\n      <td>0</td>\n      <td>0</td>\n      <td>0</td>\n      <td>0</td>\n      <td>0</td>\n      <td>0</td>\n      <td>0</td>\n      <td>0</td>\n      <td>0</td>\n      <td>0</td>\n      <td>0</td>\n      <td>0</td>\n      <td>0</td>\n      <td>0</td>\n      <td>0</td>\n      <td>0</td>\n      <td>0</td>\n      <td>0</td>\n      <td>0</td>\n      <td>0</td>\n      <td>0</td>\n      <td>0</td>\n      <td>0</td>\n      <td>0</td>\n      <td>0</td>\n    </tr>\n    <tr>\n      <th>42037</th>\n      <td>fruits and vegetables</td>\n      <td>Ma Poêlée de Légumes Sauce Potiron</td>\n      <td>1</td>\n      <td>0</td>\n      <td>0</td>\n      <td>0</td>\n      <td>0</td>\n      <td>0</td>\n      <td>0</td>\n      <td>0</td>\n      <td>0</td>\n      <td>0</td>\n      <td>0</td>\n      <td>0</td>\n      <td>0</td>\n      <td>0</td>\n      <td>0</td>\n      <td>0</td>\n      <td>0</td>\n      <td>0</td>\n      <td>0</td>\n      <td>0</td>\n      <td>0</td>\n      <td>0</td>\n      <td>0</td>\n      <td>0</td>\n      <td>0</td>\n      <td>0</td>\n      <td>0</td>\n      <td>0</td>\n      <td>0</td>\n      <td>0</td>\n      <td>0</td>\n      <td>0</td>\n      <td>0</td>\n      <td>0</td>\n      <td>0</td>\n      <td>0</td>\n      <td>0</td>\n      <td>0</td>\n      <td>0</td>\n      <td>0</td>\n      <td>0</td>\n      <td>0</td>\n      <td>0</td>\n      <td>0</td>\n      <td>0</td>\n      <td>0</td>\n      <td>0</td>\n      <td>0</td>\n      <td>0</td>\n      <td>0</td>\n      <td>0</td>\n      <td>0</td>\n      <td>0</td>\n      <td>0</td>\n      <td>0</td>\n      <td>0</td>\n      <td>0</td>\n      <td>0</td>\n      <td>0</td>\n      <td>0</td>\n      <td>0</td>\n      <td>0</td>\n      <td>0</td>\n      <td>0</td>\n      <td>0</td>\n      <td>0</td>\n      <td>0</td>\n      <td>0</td>\n      <td>0</td>\n      <td>0</td>\n      <td>0</td>\n      <td>0</td>\n      <td>0</td>\n      <td>0</td>\n      <td>0</td>\n      <td>0</td>\n      <td>0</td>\n      <td>0</td>\n      <td>0</td>\n      <td>0</td>\n      <td>0</td>\n      <td>0</td>\n      <td>0</td>\n      <td>0</td>\n      <td>0</td>\n      <td>0</td>\n      <td>0</td>\n      <td>0</td>\n      <td>0</td>\n      <td>0</td>\n      <td>0</td>\n      <td>0</td>\n      <td>0</td>\n      <td>0</td>\n      <td>0</td>\n      <td>0</td>\n      <td>0</td>\n      <td>0</td>\n      <td>...</td>\n      <td>0</td>\n      <td>0</td>\n      <td>0</td>\n      <td>0</td>\n      <td>0</td>\n      <td>0</td>\n      <td>0</td>\n      <td>1</td>\n      <td>0</td>\n      <td>0</td>\n      <td>0</td>\n      <td>0</td>\n      <td>0</td>\n      <td>0</td>\n      <td>0</td>\n      <td>0</td>\n      <td>0</td>\n      <td>0</td>\n      <td>0</td>\n      <td>0</td>\n      <td>0</td>\n      <td>0</td>\n      <td>0</td>\n      <td>0</td>\n      <td>0</td>\n      <td>0</td>\n      <td>0</td>\n      <td>0</td>\n      <td>0</td>\n      <td>0</td>\n      <td>0</td>\n      <td>0</td>\n      <td>0</td>\n      <td>0</td>\n      <td>0</td>\n      <td>0</td>\n      <td>0</td>\n      <td>0</td>\n      <td>0</td>\n      <td>0</td>\n      <td>0</td>\n      <td>0</td>\n      <td>0</td>\n      <td>0</td>\n      <td>0</td>\n      <td>0</td>\n      <td>0</td>\n      <td>0</td>\n      <td>0</td>\n      <td>0</td>\n      <td>0</td>\n      <td>0</td>\n      <td>0</td>\n      <td>0</td>\n      <td>0</td>\n      <td>0</td>\n      <td>0</td>\n      <td>0</td>\n      <td>0</td>\n      <td>0</td>\n      <td>0</td>\n      <td>0</td>\n      <td>0</td>\n      <td>0</td>\n      <td>0</td>\n      <td>0</td>\n      <td>0</td>\n      <td>0</td>\n      <td>0</td>\n      <td>0</td>\n      <td>0</td>\n      <td>0</td>\n      <td>0</td>\n      <td>0</td>\n      <td>0</td>\n      <td>0</td>\n      <td>0</td>\n      <td>0</td>\n      <td>0</td>\n      <td>0</td>\n      <td>0</td>\n      <td>0</td>\n      <td>0</td>\n      <td>0</td>\n      <td>0</td>\n      <td>0</td>\n      <td>0</td>\n      <td>0</td>\n      <td>0</td>\n      <td>0</td>\n      <td>0</td>\n      <td>0</td>\n      <td>0</td>\n      <td>0</td>\n      <td>0</td>\n      <td>0</td>\n      <td>0</td>\n      <td>0</td>\n      <td>0</td>\n      <td>0</td>\n    </tr>\n    <tr>\n      <th>144463</th>\n      <td>sugary snacks</td>\n      <td>Fondant Marbré</td>\n      <td>1</td>\n      <td>0</td>\n      <td>0</td>\n      <td>0</td>\n      <td>0</td>\n      <td>0</td>\n      <td>0</td>\n      <td>0</td>\n      <td>0</td>\n      <td>0</td>\n      <td>0</td>\n      <td>0</td>\n      <td>0</td>\n      <td>0</td>\n      <td>0</td>\n      <td>0</td>\n      <td>0</td>\n      <td>0</td>\n      <td>0</td>\n      <td>0</td>\n      <td>0</td>\n      <td>0</td>\n      <td>0</td>\n      <td>0</td>\n      <td>0</td>\n      <td>0</td>\n      <td>0</td>\n      <td>0</td>\n      <td>0</td>\n      <td>0</td>\n      <td>0</td>\n      <td>0</td>\n      <td>0</td>\n      <td>0</td>\n      <td>0</td>\n      <td>0</td>\n      <td>0</td>\n      <td>0</td>\n      <td>0</td>\n      <td>0</td>\n      <td>0</td>\n      <td>0</td>\n      <td>0</td>\n      <td>0</td>\n      <td>0</td>\n      <td>0</td>\n      <td>0</td>\n      <td>0</td>\n      <td>0</td>\n      <td>0</td>\n      <td>0</td>\n      <td>0</td>\n      <td>0</td>\n      <td>0</td>\n      <td>0</td>\n      <td>0</td>\n      <td>0</td>\n      <td>0</td>\n      <td>0</td>\n      <td>0</td>\n      <td>0</td>\n      <td>0</td>\n      <td>0</td>\n      <td>0</td>\n      <td>0</td>\n      <td>0</td>\n      <td>0</td>\n      <td>0</td>\n      <td>0</td>\n      <td>0</td>\n      <td>0</td>\n      <td>0</td>\n      <td>0</td>\n      <td>0</td>\n      <td>0</td>\n      <td>0</td>\n      <td>0</td>\n      <td>0</td>\n      <td>0</td>\n      <td>0</td>\n      <td>0</td>\n      <td>0</td>\n      <td>0</td>\n      <td>0</td>\n      <td>0</td>\n      <td>0</td>\n      <td>0</td>\n      <td>0</td>\n      <td>0</td>\n      <td>0</td>\n      <td>0</td>\n      <td>0</td>\n      <td>0</td>\n      <td>0</td>\n      <td>0</td>\n      <td>0</td>\n      <td>0</td>\n      <td>0</td>\n      <td>...</td>\n      <td>0</td>\n      <td>0</td>\n      <td>0</td>\n      <td>0</td>\n      <td>0</td>\n      <td>0</td>\n      <td>0</td>\n      <td>0</td>\n      <td>0</td>\n      <td>0</td>\n      <td>0</td>\n      <td>0</td>\n      <td>0</td>\n      <td>0</td>\n      <td>0</td>\n      <td>0</td>\n      <td>0</td>\n      <td>0</td>\n      <td>0</td>\n      <td>0</td>\n      <td>0</td>\n      <td>0</td>\n      <td>0</td>\n      <td>0</td>\n      <td>0</td>\n      <td>0</td>\n      <td>0</td>\n      <td>0</td>\n      <td>0</td>\n      <td>0</td>\n      <td>0</td>\n      <td>0</td>\n      <td>0</td>\n      <td>0</td>\n      <td>0</td>\n      <td>0</td>\n      <td>0</td>\n      <td>0</td>\n      <td>0</td>\n      <td>0</td>\n      <td>0</td>\n      <td>0</td>\n      <td>0</td>\n      <td>0</td>\n      <td>0</td>\n      <td>0</td>\n      <td>0</td>\n      <td>0</td>\n      <td>0</td>\n      <td>0</td>\n      <td>0</td>\n      <td>0</td>\n      <td>0</td>\n      <td>0</td>\n      <td>0</td>\n      <td>0</td>\n      <td>0</td>\n      <td>0</td>\n      <td>0</td>\n      <td>0</td>\n      <td>0</td>\n      <td>0</td>\n      <td>0</td>\n      <td>0</td>\n      <td>0</td>\n      <td>0</td>\n      <td>0</td>\n      <td>0</td>\n      <td>0</td>\n      <td>0</td>\n      <td>0</td>\n      <td>0</td>\n      <td>0</td>\n      <td>0</td>\n      <td>0</td>\n      <td>0</td>\n      <td>0</td>\n      <td>0</td>\n      <td>0</td>\n      <td>0</td>\n      <td>0</td>\n      <td>0</td>\n      <td>0</td>\n      <td>0</td>\n      <td>0</td>\n      <td>0</td>\n      <td>0</td>\n      <td>0</td>\n      <td>0</td>\n      <td>0</td>\n      <td>0</td>\n      <td>0</td>\n      <td>0</td>\n      <td>0</td>\n      <td>0</td>\n      <td>0</td>\n      <td>0</td>\n      <td>0</td>\n      <td>0</td>\n      <td>0</td>\n    </tr>\n    <tr>\n      <th>134171</th>\n      <td>milk and dairy products</td>\n      <td>glace esquimau</td>\n      <td>1</td>\n      <td>0</td>\n      <td>0</td>\n      <td>0</td>\n      <td>0</td>\n      <td>0</td>\n      <td>0</td>\n      <td>0</td>\n      <td>0</td>\n      <td>0</td>\n      <td>0</td>\n      <td>0</td>\n      <td>0</td>\n      <td>0</td>\n      <td>0</td>\n      <td>0</td>\n      <td>0</td>\n      <td>0</td>\n      <td>0</td>\n      <td>0</td>\n      <td>0</td>\n      <td>0</td>\n      <td>0</td>\n      <td>0</td>\n      <td>0</td>\n      <td>0</td>\n      <td>0</td>\n      <td>0</td>\n      <td>0</td>\n      <td>0</td>\n      <td>0</td>\n      <td>0</td>\n      <td>0</td>\n      <td>0</td>\n      <td>0</td>\n      <td>0</td>\n      <td>0</td>\n      <td>0</td>\n      <td>0</td>\n      <td>0</td>\n      <td>0</td>\n      <td>0</td>\n      <td>0</td>\n      <td>0</td>\n      <td>0</td>\n      <td>0</td>\n      <td>0</td>\n      <td>0</td>\n      <td>0</td>\n      <td>0</td>\n      <td>0</td>\n      <td>0</td>\n      <td>0</td>\n      <td>0</td>\n      <td>0</td>\n      <td>0</td>\n      <td>0</td>\n      <td>0</td>\n      <td>0</td>\n      <td>0</td>\n      <td>0</td>\n      <td>0</td>\n      <td>0</td>\n      <td>0</td>\n      <td>0</td>\n      <td>0</td>\n      <td>0</td>\n      <td>0</td>\n      <td>0</td>\n      <td>0</td>\n      <td>0</td>\n      <td>0</td>\n      <td>0</td>\n      <td>0</td>\n      <td>0</td>\n      <td>0</td>\n      <td>0</td>\n      <td>0</td>\n      <td>0</td>\n      <td>0</td>\n      <td>0</td>\n      <td>0</td>\n      <td>0</td>\n      <td>0</td>\n      <td>0</td>\n      <td>0</td>\n      <td>0</td>\n      <td>0</td>\n      <td>0</td>\n      <td>0</td>\n      <td>0</td>\n      <td>0</td>\n      <td>0</td>\n      <td>0</td>\n      <td>0</td>\n      <td>0</td>\n      <td>0</td>\n      <td>0</td>\n      <td>...</td>\n      <td>0</td>\n      <td>0</td>\n      <td>0</td>\n      <td>0</td>\n      <td>0</td>\n      <td>0</td>\n      <td>0</td>\n      <td>0</td>\n      <td>0</td>\n      <td>0</td>\n      <td>0</td>\n      <td>0</td>\n      <td>0</td>\n      <td>0</td>\n      <td>0</td>\n      <td>0</td>\n      <td>0</td>\n      <td>0</td>\n      <td>0</td>\n      <td>0</td>\n      <td>0</td>\n      <td>0</td>\n      <td>0</td>\n      <td>0</td>\n      <td>0</td>\n      <td>0</td>\n      <td>0</td>\n      <td>0</td>\n      <td>0</td>\n      <td>0</td>\n      <td>0</td>\n      <td>0</td>\n      <td>0</td>\n      <td>0</td>\n      <td>0</td>\n      <td>0</td>\n      <td>0</td>\n      <td>0</td>\n      <td>0</td>\n      <td>0</td>\n      <td>0</td>\n      <td>0</td>\n      <td>0</td>\n      <td>0</td>\n      <td>0</td>\n      <td>0</td>\n      <td>0</td>\n      <td>0</td>\n      <td>0</td>\n      <td>0</td>\n      <td>0</td>\n      <td>0</td>\n      <td>0</td>\n      <td>0</td>\n      <td>0</td>\n      <td>0</td>\n      <td>0</td>\n      <td>0</td>\n      <td>0</td>\n      <td>0</td>\n      <td>0</td>\n      <td>0</td>\n      <td>0</td>\n      <td>0</td>\n      <td>0</td>\n      <td>0</td>\n      <td>0</td>\n      <td>0</td>\n      <td>0</td>\n      <td>0</td>\n      <td>0</td>\n      <td>0</td>\n      <td>0</td>\n      <td>0</td>\n      <td>0</td>\n      <td>0</td>\n      <td>0</td>\n      <td>0</td>\n      <td>0</td>\n      <td>0</td>\n      <td>0</td>\n      <td>0</td>\n      <td>0</td>\n      <td>0</td>\n      <td>0</td>\n      <td>0</td>\n      <td>0</td>\n      <td>0</td>\n      <td>0</td>\n      <td>0</td>\n      <td>0</td>\n      <td>0</td>\n      <td>0</td>\n      <td>0</td>\n      <td>0</td>\n      <td>0</td>\n      <td>0</td>\n      <td>0</td>\n      <td>0</td>\n      <td>0</td>\n    </tr>\n    <tr>\n      <th>64184</th>\n      <td>fish meat eggs</td>\n      <td>Miche au poivre</td>\n      <td>1</td>\n      <td>0</td>\n      <td>0</td>\n      <td>0</td>\n      <td>0</td>\n      <td>0</td>\n      <td>0</td>\n      <td>0</td>\n      <td>0</td>\n      <td>0</td>\n      <td>0</td>\n      <td>0</td>\n      <td>0</td>\n      <td>0</td>\n      <td>0</td>\n      <td>0</td>\n      <td>0</td>\n      <td>0</td>\n      <td>0</td>\n      <td>0</td>\n      <td>0</td>\n      <td>0</td>\n      <td>0</td>\n      <td>0</td>\n      <td>0</td>\n      <td>0</td>\n      <td>0</td>\n      <td>0</td>\n      <td>0</td>\n      <td>0</td>\n      <td>0</td>\n      <td>0</td>\n      <td>0</td>\n      <td>0</td>\n      <td>0</td>\n      <td>0</td>\n      <td>0</td>\n      <td>0</td>\n      <td>0</td>\n      <td>0</td>\n      <td>0</td>\n      <td>0</td>\n      <td>0</td>\n      <td>0</td>\n      <td>0</td>\n      <td>0</td>\n      <td>0</td>\n      <td>0</td>\n      <td>0</td>\n      <td>0</td>\n      <td>0</td>\n      <td>0</td>\n      <td>0</td>\n      <td>0</td>\n      <td>0</td>\n      <td>0</td>\n      <td>0</td>\n      <td>0</td>\n      <td>0</td>\n      <td>0</td>\n      <td>0</td>\n      <td>0</td>\n      <td>0</td>\n      <td>0</td>\n      <td>0</td>\n      <td>0</td>\n      <td>0</td>\n      <td>0</td>\n      <td>0</td>\n      <td>0</td>\n      <td>0</td>\n      <td>0</td>\n      <td>0</td>\n      <td>0</td>\n      <td>0</td>\n      <td>0</td>\n      <td>0</td>\n      <td>0</td>\n      <td>0</td>\n      <td>0</td>\n      <td>0</td>\n      <td>0</td>\n      <td>0</td>\n      <td>0</td>\n      <td>0</td>\n      <td>0</td>\n      <td>0</td>\n      <td>0</td>\n      <td>0</td>\n      <td>0</td>\n      <td>0</td>\n      <td>0</td>\n      <td>0</td>\n      <td>0</td>\n      <td>0</td>\n      <td>0</td>\n      <td>0</td>\n      <td>0</td>\n      <td>...</td>\n      <td>0</td>\n      <td>0</td>\n      <td>0</td>\n      <td>0</td>\n      <td>0</td>\n      <td>0</td>\n      <td>0</td>\n      <td>0</td>\n      <td>0</td>\n      <td>0</td>\n      <td>0</td>\n      <td>0</td>\n      <td>0</td>\n      <td>0</td>\n      <td>0</td>\n      <td>0</td>\n      <td>0</td>\n      <td>0</td>\n      <td>0</td>\n      <td>0</td>\n      <td>0</td>\n      <td>0</td>\n      <td>0</td>\n      <td>0</td>\n      <td>0</td>\n      <td>0</td>\n      <td>0</td>\n      <td>0</td>\n      <td>0</td>\n      <td>0</td>\n      <td>0</td>\n      <td>0</td>\n      <td>0</td>\n      <td>0</td>\n      <td>0</td>\n      <td>0</td>\n      <td>0</td>\n      <td>0</td>\n      <td>0</td>\n      <td>0</td>\n      <td>0</td>\n      <td>0</td>\n      <td>0</td>\n      <td>0</td>\n      <td>0</td>\n      <td>0</td>\n      <td>0</td>\n      <td>0</td>\n      <td>0</td>\n      <td>0</td>\n      <td>0</td>\n      <td>0</td>\n      <td>0</td>\n      <td>0</td>\n      <td>0</td>\n      <td>0</td>\n      <td>0</td>\n      <td>0</td>\n      <td>0</td>\n      <td>0</td>\n      <td>0</td>\n      <td>0</td>\n      <td>0</td>\n      <td>0</td>\n      <td>0</td>\n      <td>0</td>\n      <td>0</td>\n      <td>0</td>\n      <td>0</td>\n      <td>0</td>\n      <td>0</td>\n      <td>0</td>\n      <td>0</td>\n      <td>0</td>\n      <td>0</td>\n      <td>0</td>\n      <td>0</td>\n      <td>0</td>\n      <td>0</td>\n      <td>0</td>\n      <td>0</td>\n      <td>0</td>\n      <td>0</td>\n      <td>0</td>\n      <td>0</td>\n      <td>0</td>\n      <td>0</td>\n      <td>0</td>\n      <td>0</td>\n      <td>0</td>\n      <td>0</td>\n      <td>0</td>\n      <td>0</td>\n      <td>0</td>\n      <td>0</td>\n      <td>0</td>\n      <td>0</td>\n      <td>0</td>\n      <td>0</td>\n      <td>0</td>\n    </tr>\n    <tr>\n      <th>...</th>\n      <td>...</td>\n      <td>...</td>\n      <td>...</td>\n      <td>...</td>\n      <td>...</td>\n      <td>...</td>\n      <td>...</td>\n      <td>...</td>\n      <td>...</td>\n      <td>...</td>\n      <td>...</td>\n      <td>...</td>\n      <td>...</td>\n      <td>...</td>\n      <td>...</td>\n      <td>...</td>\n      <td>...</td>\n      <td>...</td>\n      <td>...</td>\n      <td>...</td>\n      <td>...</td>\n      <td>...</td>\n      <td>...</td>\n      <td>...</td>\n      <td>...</td>\n      <td>...</td>\n      <td>...</td>\n      <td>...</td>\n      <td>...</td>\n      <td>...</td>\n      <td>...</td>\n      <td>...</td>\n      <td>...</td>\n      <td>...</td>\n      <td>...</td>\n      <td>...</td>\n      <td>...</td>\n      <td>...</td>\n      <td>...</td>\n      <td>...</td>\n      <td>...</td>\n      <td>...</td>\n      <td>...</td>\n      <td>...</td>\n      <td>...</td>\n      <td>...</td>\n      <td>...</td>\n      <td>...</td>\n      <td>...</td>\n      <td>...</td>\n      <td>...</td>\n      <td>...</td>\n      <td>...</td>\n      <td>...</td>\n      <td>...</td>\n      <td>...</td>\n      <td>...</td>\n      <td>...</td>\n      <td>...</td>\n      <td>...</td>\n      <td>...</td>\n      <td>...</td>\n      <td>...</td>\n      <td>...</td>\n      <td>...</td>\n      <td>...</td>\n      <td>...</td>\n      <td>...</td>\n      <td>...</td>\n      <td>...</td>\n      <td>...</td>\n      <td>...</td>\n      <td>...</td>\n      <td>...</td>\n      <td>...</td>\n      <td>...</td>\n      <td>...</td>\n      <td>...</td>\n      <td>...</td>\n      <td>...</td>\n      <td>...</td>\n      <td>...</td>\n      <td>...</td>\n      <td>...</td>\n      <td>...</td>\n      <td>...</td>\n      <td>...</td>\n      <td>...</td>\n      <td>...</td>\n      <td>...</td>\n      <td>...</td>\n      <td>...</td>\n      <td>...</td>\n      <td>...</td>\n      <td>...</td>\n      <td>...</td>\n      <td>...</td>\n      <td>...</td>\n      <td>...</td>\n      <td>...</td>\n      <td>...</td>\n      <td>...</td>\n      <td>...</td>\n      <td>...</td>\n      <td>...</td>\n      <td>...</td>\n      <td>...</td>\n      <td>...</td>\n      <td>...</td>\n      <td>...</td>\n      <td>...</td>\n      <td>...</td>\n      <td>...</td>\n      <td>...</td>\n      <td>...</td>\n      <td>...</td>\n      <td>...</td>\n      <td>...</td>\n      <td>...</td>\n      <td>...</td>\n      <td>...</td>\n      <td>...</td>\n      <td>...</td>\n      <td>...</td>\n      <td>...</td>\n      <td>...</td>\n      <td>...</td>\n      <td>...</td>\n      <td>...</td>\n      <td>...</td>\n      <td>...</td>\n      <td>...</td>\n      <td>...</td>\n      <td>...</td>\n      <td>...</td>\n      <td>...</td>\n      <td>...</td>\n      <td>...</td>\n      <td>...</td>\n      <td>...</td>\n      <td>...</td>\n      <td>...</td>\n      <td>...</td>\n      <td>...</td>\n      <td>...</td>\n      <td>...</td>\n      <td>...</td>\n      <td>...</td>\n      <td>...</td>\n      <td>...</td>\n      <td>...</td>\n      <td>...</td>\n      <td>...</td>\n      <td>...</td>\n      <td>...</td>\n      <td>...</td>\n      <td>...</td>\n      <td>...</td>\n      <td>...</td>\n      <td>...</td>\n      <td>...</td>\n      <td>...</td>\n      <td>...</td>\n      <td>...</td>\n      <td>...</td>\n      <td>...</td>\n      <td>...</td>\n      <td>...</td>\n      <td>...</td>\n      <td>...</td>\n      <td>...</td>\n      <td>...</td>\n      <td>...</td>\n      <td>...</td>\n      <td>...</td>\n      <td>...</td>\n      <td>...</td>\n      <td>...</td>\n      <td>...</td>\n      <td>...</td>\n      <td>...</td>\n      <td>...</td>\n      <td>...</td>\n      <td>...</td>\n      <td>...</td>\n      <td>...</td>\n      <td>...</td>\n      <td>...</td>\n      <td>...</td>\n      <td>...</td>\n      <td>...</td>\n      <td>...</td>\n      <td>...</td>\n      <td>...</td>\n      <td>...</td>\n      <td>...</td>\n      <td>...</td>\n      <td>...</td>\n      <td>...</td>\n      <td>...</td>\n      <td>...</td>\n    </tr>\n    <tr>\n      <th>52513</th>\n      <td>beverages</td>\n      <td>Boisson végétale saveur noisette</td>\n      <td>1</td>\n      <td>0</td>\n      <td>0</td>\n      <td>0</td>\n      <td>0</td>\n      <td>0</td>\n      <td>0</td>\n      <td>0</td>\n      <td>0</td>\n      <td>0</td>\n      <td>0</td>\n      <td>0</td>\n      <td>0</td>\n      <td>0</td>\n      <td>0</td>\n      <td>0</td>\n      <td>0</td>\n      <td>0</td>\n      <td>0</td>\n      <td>0</td>\n      <td>0</td>\n      <td>0</td>\n      <td>0</td>\n      <td>0</td>\n      <td>0</td>\n      <td>0</td>\n      <td>0</td>\n      <td>0</td>\n      <td>0</td>\n      <td>0</td>\n      <td>0</td>\n      <td>0</td>\n      <td>0</td>\n      <td>0</td>\n      <td>0</td>\n      <td>0</td>\n      <td>0</td>\n      <td>0</td>\n      <td>0</td>\n      <td>0</td>\n      <td>0</td>\n      <td>1</td>\n      <td>1</td>\n      <td>0</td>\n      <td>0</td>\n      <td>0</td>\n      <td>0</td>\n      <td>0</td>\n      <td>0</td>\n      <td>0</td>\n      <td>0</td>\n      <td>0</td>\n      <td>0</td>\n      <td>0</td>\n      <td>0</td>\n      <td>0</td>\n      <td>0</td>\n      <td>0</td>\n      <td>0</td>\n      <td>0</td>\n      <td>0</td>\n      <td>0</td>\n      <td>0</td>\n      <td>0</td>\n      <td>0</td>\n      <td>0</td>\n      <td>0</td>\n      <td>0</td>\n      <td>0</td>\n      <td>0</td>\n      <td>0</td>\n      <td>0</td>\n      <td>0</td>\n      <td>0</td>\n      <td>0</td>\n      <td>0</td>\n      <td>0</td>\n      <td>0</td>\n      <td>0</td>\n      <td>0</td>\n      <td>0</td>\n      <td>0</td>\n      <td>0</td>\n      <td>0</td>\n      <td>0</td>\n      <td>0</td>\n      <td>0</td>\n      <td>0</td>\n      <td>0</td>\n      <td>0</td>\n      <td>0</td>\n      <td>0</td>\n      <td>0</td>\n      <td>0</td>\n      <td>0</td>\n      <td>0</td>\n      <td>0</td>\n      <td>0</td>\n      <td>...</td>\n      <td>0</td>\n      <td>0</td>\n      <td>0</td>\n      <td>0</td>\n      <td>0</td>\n      <td>0</td>\n      <td>0</td>\n      <td>0</td>\n      <td>0</td>\n      <td>0</td>\n      <td>0</td>\n      <td>0</td>\n      <td>1</td>\n      <td>0</td>\n      <td>0</td>\n      <td>0</td>\n      <td>0</td>\n      <td>0</td>\n      <td>0</td>\n      <td>0</td>\n      <td>0</td>\n      <td>0</td>\n      <td>0</td>\n      <td>0</td>\n      <td>1</td>\n      <td>0</td>\n      <td>0</td>\n      <td>0</td>\n      <td>0</td>\n      <td>0</td>\n      <td>0</td>\n      <td>0</td>\n      <td>0</td>\n      <td>0</td>\n      <td>0</td>\n      <td>0</td>\n      <td>0</td>\n      <td>0</td>\n      <td>0</td>\n      <td>0</td>\n      <td>0</td>\n      <td>0</td>\n      <td>0</td>\n      <td>0</td>\n      <td>0</td>\n      <td>0</td>\n      <td>0</td>\n      <td>0</td>\n      <td>0</td>\n      <td>0</td>\n      <td>0</td>\n      <td>0</td>\n      <td>0</td>\n      <td>0</td>\n      <td>0</td>\n      <td>0</td>\n      <td>0</td>\n      <td>0</td>\n      <td>0</td>\n      <td>0</td>\n      <td>0</td>\n      <td>0</td>\n      <td>0</td>\n      <td>0</td>\n      <td>0</td>\n      <td>0</td>\n      <td>0</td>\n      <td>0</td>\n      <td>0</td>\n      <td>0</td>\n      <td>0</td>\n      <td>0</td>\n      <td>0</td>\n      <td>0</td>\n      <td>0</td>\n      <td>0</td>\n      <td>0</td>\n      <td>0</td>\n      <td>0</td>\n      <td>0</td>\n      <td>0</td>\n      <td>0</td>\n      <td>0</td>\n      <td>0</td>\n      <td>0</td>\n      <td>0</td>\n      <td>0</td>\n      <td>0</td>\n      <td>0</td>\n      <td>1</td>\n      <td>0</td>\n      <td>0</td>\n      <td>0</td>\n      <td>0</td>\n      <td>0</td>\n      <td>0</td>\n      <td>0</td>\n      <td>0</td>\n      <td>0</td>\n      <td>0</td>\n    </tr>\n    <tr>\n      <th>141277</th>\n      <td>sugary snacks</td>\n      <td>Jules Destrooper Almond Thins 75 Grams</td>\n      <td>1</td>\n      <td>0</td>\n      <td>0</td>\n      <td>0</td>\n      <td>0</td>\n      <td>0</td>\n      <td>0</td>\n      <td>0</td>\n      <td>0</td>\n      <td>1</td>\n      <td>0</td>\n      <td>0</td>\n      <td>0</td>\n      <td>0</td>\n      <td>0</td>\n      <td>0</td>\n      <td>0</td>\n      <td>0</td>\n      <td>0</td>\n      <td>0</td>\n      <td>0</td>\n      <td>0</td>\n      <td>0</td>\n      <td>0</td>\n      <td>0</td>\n      <td>0</td>\n      <td>0</td>\n      <td>0</td>\n      <td>0</td>\n      <td>0</td>\n      <td>0</td>\n      <td>0</td>\n      <td>0</td>\n      <td>0</td>\n      <td>0</td>\n      <td>0</td>\n      <td>0</td>\n      <td>0</td>\n      <td>0</td>\n      <td>0</td>\n      <td>0</td>\n      <td>0</td>\n      <td>0</td>\n      <td>0</td>\n      <td>0</td>\n      <td>0</td>\n      <td>0</td>\n      <td>0</td>\n      <td>0</td>\n      <td>0</td>\n      <td>0</td>\n      <td>0</td>\n      <td>0</td>\n      <td>0</td>\n      <td>0</td>\n      <td>0</td>\n      <td>0</td>\n      <td>0</td>\n      <td>0</td>\n      <td>0</td>\n      <td>0</td>\n      <td>0</td>\n      <td>0</td>\n      <td>0</td>\n      <td>0</td>\n      <td>0</td>\n      <td>0</td>\n      <td>0</td>\n      <td>0</td>\n      <td>0</td>\n      <td>0</td>\n      <td>0</td>\n      <td>0</td>\n      <td>0</td>\n      <td>0</td>\n      <td>0</td>\n      <td>0</td>\n      <td>0</td>\n      <td>0</td>\n      <td>0</td>\n      <td>0</td>\n      <td>0</td>\n      <td>0</td>\n      <td>0</td>\n      <td>0</td>\n      <td>0</td>\n      <td>0</td>\n      <td>0</td>\n      <td>0</td>\n      <td>0</td>\n      <td>0</td>\n      <td>0</td>\n      <td>0</td>\n      <td>0</td>\n      <td>0</td>\n      <td>0</td>\n      <td>0</td>\n      <td>0</td>\n      <td>...</td>\n      <td>0</td>\n      <td>0</td>\n      <td>0</td>\n      <td>0</td>\n      <td>0</td>\n      <td>0</td>\n      <td>0</td>\n      <td>0</td>\n      <td>0</td>\n      <td>0</td>\n      <td>0</td>\n      <td>0</td>\n      <td>0</td>\n      <td>0</td>\n      <td>0</td>\n      <td>0</td>\n      <td>0</td>\n      <td>0</td>\n      <td>0</td>\n      <td>0</td>\n      <td>0</td>\n      <td>0</td>\n      <td>0</td>\n      <td>0</td>\n      <td>0</td>\n      <td>0</td>\n      <td>0</td>\n      <td>0</td>\n      <td>0</td>\n      <td>0</td>\n      <td>0</td>\n      <td>0</td>\n      <td>0</td>\n      <td>0</td>\n      <td>0</td>\n      <td>0</td>\n      <td>0</td>\n      <td>0</td>\n      <td>0</td>\n      <td>0</td>\n      <td>0</td>\n      <td>0</td>\n      <td>0</td>\n      <td>0</td>\n      <td>0</td>\n      <td>0</td>\n      <td>0</td>\n      <td>0</td>\n      <td>0</td>\n      <td>0</td>\n      <td>0</td>\n      <td>0</td>\n      <td>0</td>\n      <td>0</td>\n      <td>0</td>\n      <td>0</td>\n      <td>0</td>\n      <td>0</td>\n      <td>0</td>\n      <td>0</td>\n      <td>0</td>\n      <td>0</td>\n      <td>0</td>\n      <td>0</td>\n      <td>0</td>\n      <td>0</td>\n      <td>0</td>\n      <td>0</td>\n      <td>0</td>\n      <td>0</td>\n      <td>0</td>\n      <td>0</td>\n      <td>0</td>\n      <td>0</td>\n      <td>0</td>\n      <td>0</td>\n      <td>0</td>\n      <td>0</td>\n      <td>0</td>\n      <td>0</td>\n      <td>0</td>\n      <td>0</td>\n      <td>0</td>\n      <td>0</td>\n      <td>0</td>\n      <td>0</td>\n      <td>0</td>\n      <td>0</td>\n      <td>0</td>\n      <td>0</td>\n      <td>0</td>\n      <td>0</td>\n      <td>0</td>\n      <td>0</td>\n      <td>0</td>\n      <td>0</td>\n      <td>0</td>\n      <td>0</td>\n      <td>0</td>\n      <td>0</td>\n    </tr>\n    <tr>\n      <th>99864</th>\n      <td>fat and sauces</td>\n      <td>Mayonnaise à la moutarde de Dijon</td>\n      <td>1</td>\n      <td>0</td>\n      <td>0</td>\n      <td>0</td>\n      <td>0</td>\n      <td>0</td>\n      <td>0</td>\n      <td>0</td>\n      <td>0</td>\n      <td>0</td>\n      <td>0</td>\n      <td>0</td>\n      <td>0</td>\n      <td>0</td>\n      <td>0</td>\n      <td>0</td>\n      <td>0</td>\n      <td>0</td>\n      <td>0</td>\n      <td>0</td>\n      <td>0</td>\n      <td>0</td>\n      <td>0</td>\n      <td>0</td>\n      <td>0</td>\n      <td>0</td>\n      <td>0</td>\n      <td>0</td>\n      <td>0</td>\n      <td>0</td>\n      <td>0</td>\n      <td>0</td>\n      <td>0</td>\n      <td>0</td>\n      <td>0</td>\n      <td>0</td>\n      <td>0</td>\n      <td>0</td>\n      <td>0</td>\n      <td>0</td>\n      <td>0</td>\n      <td>0</td>\n      <td>0</td>\n      <td>0</td>\n      <td>0</td>\n      <td>0</td>\n      <td>0</td>\n      <td>0</td>\n      <td>0</td>\n      <td>0</td>\n      <td>0</td>\n      <td>0</td>\n      <td>0</td>\n      <td>0</td>\n      <td>0</td>\n      <td>0</td>\n      <td>0</td>\n      <td>0</td>\n      <td>0</td>\n      <td>0</td>\n      <td>0</td>\n      <td>0</td>\n      <td>0</td>\n      <td>0</td>\n      <td>0</td>\n      <td>0</td>\n      <td>0</td>\n      <td>0</td>\n      <td>0</td>\n      <td>0</td>\n      <td>0</td>\n      <td>0</td>\n      <td>0</td>\n      <td>0</td>\n      <td>0</td>\n      <td>0</td>\n      <td>0</td>\n      <td>0</td>\n      <td>0</td>\n      <td>0</td>\n      <td>0</td>\n      <td>0</td>\n      <td>0</td>\n      <td>0</td>\n      <td>0</td>\n      <td>0</td>\n      <td>0</td>\n      <td>0</td>\n      <td>0</td>\n      <td>0</td>\n      <td>0</td>\n      <td>0</td>\n      <td>0</td>\n      <td>0</td>\n      <td>0</td>\n      <td>0</td>\n      <td>0</td>\n      <td>0</td>\n      <td>...</td>\n      <td>0</td>\n      <td>0</td>\n      <td>0</td>\n      <td>0</td>\n      <td>0</td>\n      <td>0</td>\n      <td>0</td>\n      <td>0</td>\n      <td>0</td>\n      <td>0</td>\n      <td>0</td>\n      <td>0</td>\n      <td>0</td>\n      <td>0</td>\n      <td>0</td>\n      <td>0</td>\n      <td>0</td>\n      <td>0</td>\n      <td>0</td>\n      <td>0</td>\n      <td>0</td>\n      <td>0</td>\n      <td>0</td>\n      <td>0</td>\n      <td>0</td>\n      <td>0</td>\n      <td>0</td>\n      <td>0</td>\n      <td>0</td>\n      <td>0</td>\n      <td>0</td>\n      <td>0</td>\n      <td>0</td>\n      <td>0</td>\n      <td>0</td>\n      <td>0</td>\n      <td>0</td>\n      <td>0</td>\n      <td>0</td>\n      <td>0</td>\n      <td>0</td>\n      <td>0</td>\n      <td>0</td>\n      <td>0</td>\n      <td>0</td>\n      <td>0</td>\n      <td>0</td>\n      <td>0</td>\n      <td>0</td>\n      <td>0</td>\n      <td>0</td>\n      <td>0</td>\n      <td>0</td>\n      <td>0</td>\n      <td>0</td>\n      <td>0</td>\n      <td>0</td>\n      <td>0</td>\n      <td>0</td>\n      <td>0</td>\n      <td>0</td>\n      <td>0</td>\n      <td>0</td>\n      <td>0</td>\n      <td>0</td>\n      <td>0</td>\n      <td>0</td>\n      <td>0</td>\n      <td>0</td>\n      <td>0</td>\n      <td>0</td>\n      <td>0</td>\n      <td>0</td>\n      <td>0</td>\n      <td>0</td>\n      <td>0</td>\n      <td>0</td>\n      <td>0</td>\n      <td>0</td>\n      <td>0</td>\n      <td>0</td>\n      <td>0</td>\n      <td>0</td>\n      <td>0</td>\n      <td>0</td>\n      <td>0</td>\n      <td>0</td>\n      <td>0</td>\n      <td>0</td>\n      <td>0</td>\n      <td>0</td>\n      <td>0</td>\n      <td>0</td>\n      <td>0</td>\n      <td>0</td>\n      <td>0</td>\n      <td>0</td>\n      <td>0</td>\n      <td>0</td>\n      <td>0</td>\n    </tr>\n    <tr>\n      <th>35170</th>\n      <td>fat and sauces</td>\n      <td>Sauce pour nems</td>\n      <td>1</td>\n      <td>0</td>\n      <td>0</td>\n      <td>0</td>\n      <td>0</td>\n      <td>0</td>\n      <td>0</td>\n      <td>0</td>\n      <td>0</td>\n      <td>0</td>\n      <td>0</td>\n      <td>0</td>\n      <td>0</td>\n      <td>0</td>\n      <td>0</td>\n      <td>0</td>\n      <td>0</td>\n      <td>0</td>\n      <td>0</td>\n      <td>0</td>\n      <td>0</td>\n      <td>0</td>\n      <td>0</td>\n      <td>0</td>\n      <td>0</td>\n      <td>0</td>\n      <td>0</td>\n      <td>0</td>\n      <td>0</td>\n      <td>0</td>\n      <td>0</td>\n      <td>0</td>\n      <td>0</td>\n      <td>0</td>\n      <td>0</td>\n      <td>0</td>\n      <td>0</td>\n      <td>0</td>\n      <td>0</td>\n      <td>0</td>\n      <td>0</td>\n      <td>0</td>\n      <td>0</td>\n      <td>0</td>\n      <td>0</td>\n      <td>0</td>\n      <td>0</td>\n      <td>0</td>\n      <td>0</td>\n      <td>0</td>\n      <td>0</td>\n      <td>0</td>\n      <td>0</td>\n      <td>0</td>\n      <td>0</td>\n      <td>0</td>\n      <td>0</td>\n      <td>0</td>\n      <td>0</td>\n      <td>0</td>\n      <td>0</td>\n      <td>0</td>\n      <td>0</td>\n      <td>0</td>\n      <td>0</td>\n      <td>0</td>\n      <td>0</td>\n      <td>0</td>\n      <td>0</td>\n      <td>0</td>\n      <td>0</td>\n      <td>0</td>\n      <td>0</td>\n      <td>0</td>\n      <td>0</td>\n      <td>0</td>\n      <td>0</td>\n      <td>0</td>\n      <td>0</td>\n      <td>0</td>\n      <td>0</td>\n      <td>0</td>\n      <td>0</td>\n      <td>0</td>\n      <td>0</td>\n      <td>0</td>\n      <td>0</td>\n      <td>0</td>\n      <td>0</td>\n      <td>0</td>\n      <td>0</td>\n      <td>0</td>\n      <td>0</td>\n      <td>0</td>\n      <td>0</td>\n      <td>0</td>\n      <td>0</td>\n      <td>0</td>\n      <td>...</td>\n      <td>0</td>\n      <td>0</td>\n      <td>0</td>\n      <td>0</td>\n      <td>0</td>\n      <td>0</td>\n      <td>0</td>\n      <td>1</td>\n      <td>0</td>\n      <td>0</td>\n      <td>0</td>\n      <td>0</td>\n      <td>0</td>\n      <td>0</td>\n      <td>0</td>\n      <td>0</td>\n      <td>0</td>\n      <td>0</td>\n      <td>0</td>\n      <td>0</td>\n      <td>0</td>\n      <td>0</td>\n      <td>0</td>\n      <td>0</td>\n      <td>0</td>\n      <td>0</td>\n      <td>0</td>\n      <td>0</td>\n      <td>0</td>\n      <td>0</td>\n      <td>0</td>\n      <td>0</td>\n      <td>0</td>\n      <td>0</td>\n      <td>0</td>\n      <td>0</td>\n      <td>0</td>\n      <td>0</td>\n      <td>0</td>\n      <td>0</td>\n      <td>0</td>\n      <td>0</td>\n      <td>0</td>\n      <td>0</td>\n      <td>0</td>\n      <td>0</td>\n      <td>0</td>\n      <td>0</td>\n      <td>0</td>\n      <td>0</td>\n      <td>0</td>\n      <td>0</td>\n      <td>0</td>\n      <td>0</td>\n      <td>0</td>\n      <td>0</td>\n      <td>0</td>\n      <td>0</td>\n      <td>0</td>\n      <td>0</td>\n      <td>0</td>\n      <td>0</td>\n      <td>0</td>\n      <td>0</td>\n      <td>0</td>\n      <td>0</td>\n      <td>0</td>\n      <td>0</td>\n      <td>0</td>\n      <td>0</td>\n      <td>0</td>\n      <td>0</td>\n      <td>0</td>\n      <td>0</td>\n      <td>0</td>\n      <td>0</td>\n      <td>0</td>\n      <td>0</td>\n      <td>0</td>\n      <td>0</td>\n      <td>0</td>\n      <td>0</td>\n      <td>0</td>\n      <td>0</td>\n      <td>0</td>\n      <td>0</td>\n      <td>0</td>\n      <td>0</td>\n      <td>0</td>\n      <td>0</td>\n      <td>0</td>\n      <td>0</td>\n      <td>0</td>\n      <td>0</td>\n      <td>0</td>\n      <td>0</td>\n      <td>0</td>\n      <td>0</td>\n      <td>0</td>\n      <td>0</td>\n    </tr>\n    <tr>\n      <th>155222</th>\n      <td>beverages</td>\n      <td>Cafe</td>\n      <td>1</td>\n      <td>0</td>\n      <td>0</td>\n      <td>0</td>\n      <td>0</td>\n      <td>0</td>\n      <td>0</td>\n      <td>0</td>\n      <td>0</td>\n      <td>0</td>\n      <td>0</td>\n      <td>0</td>\n      <td>0</td>\n      <td>0</td>\n      <td>0</td>\n      <td>0</td>\n      <td>0</td>\n      <td>0</td>\n      <td>0</td>\n      <td>0</td>\n      <td>0</td>\n      <td>0</td>\n      <td>0</td>\n      <td>0</td>\n      <td>0</td>\n      <td>0</td>\n      <td>0</td>\n      <td>0</td>\n      <td>0</td>\n      <td>0</td>\n      <td>0</td>\n      <td>0</td>\n      <td>0</td>\n      <td>0</td>\n      <td>0</td>\n      <td>0</td>\n      <td>0</td>\n      <td>0</td>\n      <td>0</td>\n      <td>0</td>\n      <td>0</td>\n      <td>0</td>\n      <td>0</td>\n      <td>0</td>\n      <td>0</td>\n      <td>0</td>\n      <td>0</td>\n      <td>0</td>\n      <td>0</td>\n      <td>0</td>\n      <td>0</td>\n      <td>0</td>\n      <td>0</td>\n      <td>0</td>\n      <td>0</td>\n      <td>0</td>\n      <td>0</td>\n      <td>0</td>\n      <td>0</td>\n      <td>0</td>\n      <td>0</td>\n      <td>0</td>\n      <td>0</td>\n      <td>0</td>\n      <td>0</td>\n      <td>0</td>\n      <td>0</td>\n      <td>0</td>\n      <td>0</td>\n      <td>0</td>\n      <td>0</td>\n      <td>0</td>\n      <td>0</td>\n      <td>0</td>\n      <td>0</td>\n      <td>0</td>\n      <td>0</td>\n      <td>0</td>\n      <td>0</td>\n      <td>0</td>\n      <td>0</td>\n      <td>0</td>\n      <td>0</td>\n      <td>0</td>\n      <td>0</td>\n      <td>0</td>\n      <td>0</td>\n      <td>0</td>\n      <td>0</td>\n      <td>0</td>\n      <td>0</td>\n      <td>0</td>\n      <td>0</td>\n      <td>0</td>\n      <td>0</td>\n      <td>0</td>\n      <td>0</td>\n      <td>0</td>\n      <td>...</td>\n      <td>0</td>\n      <td>0</td>\n      <td>0</td>\n      <td>0</td>\n      <td>0</td>\n      <td>0</td>\n      <td>0</td>\n      <td>0</td>\n      <td>0</td>\n      <td>0</td>\n      <td>0</td>\n      <td>0</td>\n      <td>0</td>\n      <td>0</td>\n      <td>0</td>\n      <td>0</td>\n      <td>0</td>\n      <td>0</td>\n      <td>0</td>\n      <td>0</td>\n      <td>0</td>\n      <td>0</td>\n      <td>0</td>\n      <td>0</td>\n      <td>0</td>\n      <td>0</td>\n      <td>0</td>\n      <td>0</td>\n      <td>0</td>\n      <td>0</td>\n      <td>0</td>\n      <td>0</td>\n      <td>0</td>\n      <td>0</td>\n      <td>0</td>\n      <td>0</td>\n      <td>0</td>\n      <td>0</td>\n      <td>0</td>\n      <td>0</td>\n      <td>0</td>\n      <td>0</td>\n      <td>0</td>\n      <td>0</td>\n      <td>0</td>\n      <td>0</td>\n      <td>0</td>\n      <td>0</td>\n      <td>0</td>\n      <td>0</td>\n      <td>0</td>\n      <td>0</td>\n      <td>0</td>\n      <td>0</td>\n      <td>0</td>\n      <td>0</td>\n      <td>0</td>\n      <td>0</td>\n      <td>0</td>\n      <td>0</td>\n      <td>0</td>\n      <td>0</td>\n      <td>0</td>\n      <td>0</td>\n      <td>0</td>\n      <td>0</td>\n      <td>0</td>\n      <td>0</td>\n      <td>0</td>\n      <td>0</td>\n      <td>0</td>\n      <td>0</td>\n      <td>0</td>\n      <td>0</td>\n      <td>0</td>\n      <td>0</td>\n      <td>0</td>\n      <td>0</td>\n      <td>0</td>\n      <td>0</td>\n      <td>0</td>\n      <td>0</td>\n      <td>0</td>\n      <td>0</td>\n      <td>0</td>\n      <td>0</td>\n      <td>0</td>\n      <td>0</td>\n      <td>0</td>\n      <td>0</td>\n      <td>0</td>\n      <td>0</td>\n      <td>0</td>\n      <td>0</td>\n      <td>0</td>\n      <td>0</td>\n      <td>0</td>\n      <td>0</td>\n      <td>0</td>\n      <td>0</td>\n    </tr>\n  </tbody>\n</table>\n<p>7987 rows × 490 columns</p>\n</div>"
     },
     "metadata": {},
     "execution_count": 16
    }
   ],
   "source": [
    "df_test = df[['pnns_groups_1', 'product_name']].sample(8000, random_state=1)\n",
    "df_test = df_test.dropna(subset=['product_name'])\n",
    "df_modified = get_text_dummies(dataframe=df_test, dummies_list=words_to_add, text_column='product_name')\n",
    "df_modified"
   ]
  },
  {
   "source": [
    "### Test if all products have at least one column non empty"
   ],
   "cell_type": "markdown",
   "metadata": {}
  },
  {
   "cell_type": "code",
   "execution_count": 19,
   "metadata": {},
   "outputs": [
    {
     "output_type": "execute_result",
     "data": {
      "text/plain": [
       "Series([], Name: assert_sum, dtype: int64)"
      ]
     },
     "metadata": {},
     "execution_count": 19
    }
   ],
   "source": [
    "testing_names = df_modified.drop(columns=['pnns_groups_1', 'product_name'])\n",
    "testing_names['assert_sum'] = testing_names.sum(axis=1)\n",
    "testing_names['assert_sum'].loc[testing_names['assert_sum'] < 0.01]"
   ]
  },
  {
   "cell_type": "code",
   "execution_count": 20,
   "metadata": {},
   "outputs": [
    {
     "output_type": "execute_result",
     "data": {
      "text/plain": [
       "<matplotlib.axes._subplots.AxesSubplot at 0x27e244dbf28>"
      ]
     },
     "metadata": {},
     "execution_count": 20
    },
    {
     "output_type": "display_data",
     "data": {
      "text/plain": "<Figure size 432x288 with 1 Axes>",
      "image/svg+xml": "<?xml version=\"1.0\" encoding=\"utf-8\" standalone=\"no\"?>\r\n<!DOCTYPE svg PUBLIC \"-//W3C//DTD SVG 1.1//EN\"\r\n  \"http://www.w3.org/Graphics/SVG/1.1/DTD/svg11.dtd\">\r\n<!-- Created with matplotlib (http://matplotlib.org/) -->\r\n<svg height=\"257.399844pt\" version=\"1.1\" viewBox=\"0 0 401.222031 257.399844\" width=\"401.222031pt\" xmlns=\"http://www.w3.org/2000/svg\" xmlns:xlink=\"http://www.w3.org/1999/xlink\">\r\n <defs>\r\n  <style type=\"text/css\">\r\n*{stroke-linecap:butt;stroke-linejoin:round;}\r\n  </style>\r\n </defs>\r\n <g id=\"figure_1\">\r\n  <g id=\"patch_1\">\r\n   <path d=\"M 0 257.399844 \r\nL 401.222031 257.399844 \r\nL 401.222031 0 \r\nL 0 0 \r\nz\r\n\" style=\"fill:none;\"/>\r\n  </g>\r\n  <g id=\"axes_1\">\r\n   <g id=\"patch_2\">\r\n    <path d=\"M 53.222031 230.64 \r\nL 388.022031 230.64 \r\nL 388.022031 13.2 \r\nL 53.222031 13.2 \r\nz\r\n\" style=\"fill:#eaeaf2;\"/>\r\n   </g>\r\n   <g id=\"matplotlib.axis_1\">\r\n    <g id=\"xtick_1\">\r\n     <g id=\"line2d_1\">\r\n      <path clip-path=\"url(#p518610aaa9)\" d=\"M 68.440213 230.64 \r\nL 68.440213 13.2 \r\n\" style=\"fill:none;stroke:#ffffff;stroke-linecap:round;\"/>\r\n     </g>\r\n     <g id=\"text_1\">\r\n      <!-- −5 -->\r\n      <defs>\r\n       <path d=\"M 52.828125 31.203125 \r\nL 5.5625 31.203125 \r\nL 5.5625 39.40625 \r\nL 52.828125 39.40625 \r\nz\r\n\" id=\"ArialMT-2212\"/>\r\n       <path d=\"M 4.15625 18.75 \r\nL 13.375 19.53125 \r\nQ 14.40625 12.796875 18.140625 9.390625 \r\nQ 21.875 6 27.15625 6 \r\nQ 33.5 6 37.890625 10.78125 \r\nQ 42.28125 15.578125 42.28125 23.484375 \r\nQ 42.28125 31 38.0625 35.34375 \r\nQ 33.84375 39.703125 27 39.703125 \r\nQ 22.75 39.703125 19.328125 37.765625 \r\nQ 15.921875 35.84375 13.96875 32.765625 \r\nL 5.71875 33.84375 \r\nL 12.640625 70.609375 \r\nL 48.25 70.609375 \r\nL 48.25 62.203125 \r\nL 19.671875 62.203125 \r\nL 15.828125 42.96875 \r\nQ 22.265625 47.46875 29.34375 47.46875 \r\nQ 38.71875 47.46875 45.15625 40.96875 \r\nQ 51.609375 34.46875 51.609375 24.265625 \r\nQ 51.609375 14.546875 45.953125 7.46875 \r\nQ 39.0625 -1.21875 27.15625 -1.21875 \r\nQ 17.390625 -1.21875 11.203125 4.25 \r\nQ 5.03125 9.71875 4.15625 18.75 \r\nz\r\n\" id=\"ArialMT-35\"/>\r\n      </defs>\r\n      <g style=\"fill:#262626;\" transform=\"translate(62.169354 248.013594)scale(0.11 -0.11)\">\r\n       <use xlink:href=\"#ArialMT-2212\"/>\r\n       <use x=\"58.398438\" xlink:href=\"#ArialMT-35\"/>\r\n      </g>\r\n     </g>\r\n    </g>\r\n    <g id=\"xtick_2\">\r\n     <g id=\"line2d_2\">\r\n      <path clip-path=\"url(#p518610aaa9)\" d=\"M 131.849304 230.64 \r\nL 131.849304 13.2 \r\n\" style=\"fill:none;stroke:#ffffff;stroke-linecap:round;\"/>\r\n     </g>\r\n     <g id=\"text_2\">\r\n      <!-- 0 -->\r\n      <defs>\r\n       <path d=\"M 4.15625 35.296875 \r\nQ 4.15625 48 6.765625 55.734375 \r\nQ 9.375 63.484375 14.515625 67.671875 \r\nQ 19.671875 71.875 27.484375 71.875 \r\nQ 33.25 71.875 37.59375 69.546875 \r\nQ 41.9375 67.234375 44.765625 62.859375 \r\nQ 47.609375 58.5 49.21875 52.21875 \r\nQ 50.828125 45.953125 50.828125 35.296875 \r\nQ 50.828125 22.703125 48.234375 14.96875 \r\nQ 45.65625 7.234375 40.5 3 \r\nQ 35.359375 -1.21875 27.484375 -1.21875 \r\nQ 17.140625 -1.21875 11.234375 6.203125 \r\nQ 4.15625 15.140625 4.15625 35.296875 \r\nz\r\nM 13.1875 35.296875 \r\nQ 13.1875 17.671875 17.3125 11.828125 \r\nQ 21.4375 6 27.484375 6 \r\nQ 33.546875 6 37.671875 11.859375 \r\nQ 41.796875 17.71875 41.796875 35.296875 \r\nQ 41.796875 52.984375 37.671875 58.78125 \r\nQ 33.546875 64.59375 27.390625 64.59375 \r\nQ 21.34375 64.59375 17.71875 59.46875 \r\nQ 13.1875 52.9375 13.1875 35.296875 \r\nz\r\n\" id=\"ArialMT-30\"/>\r\n      </defs>\r\n      <g style=\"fill:#262626;\" transform=\"translate(128.790788 248.013594)scale(0.11 -0.11)\">\r\n       <use xlink:href=\"#ArialMT-30\"/>\r\n      </g>\r\n     </g>\r\n    </g>\r\n    <g id=\"xtick_3\">\r\n     <g id=\"line2d_3\">\r\n      <path clip-path=\"url(#p518610aaa9)\" d=\"M 195.258395 230.64 \r\nL 195.258395 13.2 \r\n\" style=\"fill:none;stroke:#ffffff;stroke-linecap:round;\"/>\r\n     </g>\r\n     <g id=\"text_3\">\r\n      <!-- 5 -->\r\n      <g style=\"fill:#262626;\" transform=\"translate(192.199879 248.013594)scale(0.11 -0.11)\">\r\n       <use xlink:href=\"#ArialMT-35\"/>\r\n      </g>\r\n     </g>\r\n    </g>\r\n    <g id=\"xtick_4\">\r\n     <g id=\"line2d_4\">\r\n      <path clip-path=\"url(#p518610aaa9)\" d=\"M 258.667486 230.64 \r\nL 258.667486 13.2 \r\n\" style=\"fill:none;stroke:#ffffff;stroke-linecap:round;\"/>\r\n     </g>\r\n     <g id=\"text_4\">\r\n      <!-- 10 -->\r\n      <defs>\r\n       <path d=\"M 37.25 0 \r\nL 28.46875 0 \r\nL 28.46875 56 \r\nQ 25.296875 52.984375 20.140625 49.953125 \r\nQ 14.984375 46.921875 10.890625 45.40625 \r\nL 10.890625 53.90625 \r\nQ 18.265625 57.375 23.78125 62.296875 \r\nQ 29.296875 67.234375 31.59375 71.875 \r\nL 37.25 71.875 \r\nz\r\n\" id=\"ArialMT-31\"/>\r\n      </defs>\r\n      <g style=\"fill:#262626;\" transform=\"translate(252.550455 248.013594)scale(0.11 -0.11)\">\r\n       <use xlink:href=\"#ArialMT-31\"/>\r\n       <use x=\"55.615234\" xlink:href=\"#ArialMT-30\"/>\r\n      </g>\r\n     </g>\r\n    </g>\r\n    <g id=\"xtick_5\">\r\n     <g id=\"line2d_5\">\r\n      <path clip-path=\"url(#p518610aaa9)\" d=\"M 322.076577 230.64 \r\nL 322.076577 13.2 \r\n\" style=\"fill:none;stroke:#ffffff;stroke-linecap:round;\"/>\r\n     </g>\r\n     <g id=\"text_5\">\r\n      <!-- 15 -->\r\n      <g style=\"fill:#262626;\" transform=\"translate(315.959545 248.013594)scale(0.11 -0.11)\">\r\n       <use xlink:href=\"#ArialMT-31\"/>\r\n       <use x=\"55.615234\" xlink:href=\"#ArialMT-35\"/>\r\n      </g>\r\n     </g>\r\n    </g>\r\n    <g id=\"xtick_6\">\r\n     <g id=\"line2d_6\">\r\n      <path clip-path=\"url(#p518610aaa9)\" d=\"M 385.485668 230.64 \r\nL 385.485668 13.2 \r\n\" style=\"fill:none;stroke:#ffffff;stroke-linecap:round;\"/>\r\n     </g>\r\n     <g id=\"text_6\">\r\n      <!-- 20 -->\r\n      <defs>\r\n       <path d=\"M 50.34375 8.453125 \r\nL 50.34375 0 \r\nL 3.03125 0 \r\nQ 2.9375 3.171875 4.046875 6.109375 \r\nQ 5.859375 10.9375 9.828125 15.625 \r\nQ 13.8125 20.3125 21.34375 26.46875 \r\nQ 33.015625 36.03125 37.109375 41.625 \r\nQ 41.21875 47.21875 41.21875 52.203125 \r\nQ 41.21875 57.421875 37.46875 61 \r\nQ 33.734375 64.59375 27.734375 64.59375 \r\nQ 21.390625 64.59375 17.578125 60.78125 \r\nQ 13.765625 56.984375 13.71875 50.25 \r\nL 4.6875 51.171875 \r\nQ 5.609375 61.28125 11.65625 66.578125 \r\nQ 17.71875 71.875 27.9375 71.875 \r\nQ 38.234375 71.875 44.234375 66.15625 \r\nQ 50.25 60.453125 50.25 52 \r\nQ 50.25 47.703125 48.484375 43.546875 \r\nQ 46.734375 39.40625 42.65625 34.8125 \r\nQ 38.578125 30.21875 29.109375 22.21875 \r\nQ 21.1875 15.578125 18.9375 13.203125 \r\nQ 16.703125 10.84375 15.234375 8.453125 \r\nz\r\n\" id=\"ArialMT-32\"/>\r\n      </defs>\r\n      <g style=\"fill:#262626;\" transform=\"translate(379.368636 248.013594)scale(0.11 -0.11)\">\r\n       <use xlink:href=\"#ArialMT-32\"/>\r\n       <use x=\"55.615234\" xlink:href=\"#ArialMT-30\"/>\r\n      </g>\r\n     </g>\r\n    </g>\r\n   </g>\r\n   <g id=\"matplotlib.axis_2\">\r\n    <g id=\"ytick_1\">\r\n     <g id=\"line2d_7\">\r\n      <path clip-path=\"url(#p518610aaa9)\" d=\"M 53.222031 220.756364 \r\nL 388.022031 220.756364 \r\n\" style=\"fill:none;stroke:#ffffff;stroke-linecap:round;\"/>\r\n     </g>\r\n     <g id=\"text_7\">\r\n      <!-- 0.00 -->\r\n      <defs>\r\n       <path d=\"M 9.078125 0 \r\nL 9.078125 10.015625 \r\nL 19.09375 10.015625 \r\nL 19.09375 0 \r\nz\r\n\" id=\"ArialMT-2e\"/>\r\n      </defs>\r\n      <g style=\"fill:#262626;\" transform=\"translate(22.315 224.693161)scale(0.11 -0.11)\">\r\n       <use xlink:href=\"#ArialMT-30\"/>\r\n       <use x=\"55.615234\" xlink:href=\"#ArialMT-2e\"/>\r\n       <use x=\"83.398438\" xlink:href=\"#ArialMT-30\"/>\r\n       <use x=\"139.013672\" xlink:href=\"#ArialMT-30\"/>\r\n      </g>\r\n     </g>\r\n    </g>\r\n    <g id=\"ytick_2\">\r\n     <g id=\"line2d_8\">\r\n      <path clip-path=\"url(#p518610aaa9)\" d=\"M 53.222031 183.104847 \r\nL 388.022031 183.104847 \r\n\" style=\"fill:none;stroke:#ffffff;stroke-linecap:round;\"/>\r\n     </g>\r\n     <g id=\"text_8\">\r\n      <!-- 0.05 -->\r\n      <g style=\"fill:#262626;\" transform=\"translate(22.315 187.041644)scale(0.11 -0.11)\">\r\n       <use xlink:href=\"#ArialMT-30\"/>\r\n       <use x=\"55.615234\" xlink:href=\"#ArialMT-2e\"/>\r\n       <use x=\"83.398438\" xlink:href=\"#ArialMT-30\"/>\r\n       <use x=\"139.013672\" xlink:href=\"#ArialMT-35\"/>\r\n      </g>\r\n     </g>\r\n    </g>\r\n    <g id=\"ytick_3\">\r\n     <g id=\"line2d_9\">\r\n      <path clip-path=\"url(#p518610aaa9)\" d=\"M 53.222031 145.453331 \r\nL 388.022031 145.453331 \r\n\" style=\"fill:none;stroke:#ffffff;stroke-linecap:round;\"/>\r\n     </g>\r\n     <g id=\"text_9\">\r\n      <!-- 0.10 -->\r\n      <g style=\"fill:#262626;\" transform=\"translate(22.315 149.390128)scale(0.11 -0.11)\">\r\n       <use xlink:href=\"#ArialMT-30\"/>\r\n       <use x=\"55.615234\" xlink:href=\"#ArialMT-2e\"/>\r\n       <use x=\"83.398438\" xlink:href=\"#ArialMT-31\"/>\r\n       <use x=\"139.013672\" xlink:href=\"#ArialMT-30\"/>\r\n      </g>\r\n     </g>\r\n    </g>\r\n    <g id=\"ytick_4\">\r\n     <g id=\"line2d_10\">\r\n      <path clip-path=\"url(#p518610aaa9)\" d=\"M 53.222031 107.801814 \r\nL 388.022031 107.801814 \r\n\" style=\"fill:none;stroke:#ffffff;stroke-linecap:round;\"/>\r\n     </g>\r\n     <g id=\"text_10\">\r\n      <!-- 0.15 -->\r\n      <g style=\"fill:#262626;\" transform=\"translate(22.315 111.738611)scale(0.11 -0.11)\">\r\n       <use xlink:href=\"#ArialMT-30\"/>\r\n       <use x=\"55.615234\" xlink:href=\"#ArialMT-2e\"/>\r\n       <use x=\"83.398438\" xlink:href=\"#ArialMT-31\"/>\r\n       <use x=\"139.013672\" xlink:href=\"#ArialMT-35\"/>\r\n      </g>\r\n     </g>\r\n    </g>\r\n    <g id=\"ytick_5\">\r\n     <g id=\"line2d_11\">\r\n      <path clip-path=\"url(#p518610aaa9)\" d=\"M 53.222031 70.150298 \r\nL 388.022031 70.150298 \r\n\" style=\"fill:none;stroke:#ffffff;stroke-linecap:round;\"/>\r\n     </g>\r\n     <g id=\"text_11\">\r\n      <!-- 0.20 -->\r\n      <g style=\"fill:#262626;\" transform=\"translate(22.315 74.087095)scale(0.11 -0.11)\">\r\n       <use xlink:href=\"#ArialMT-30\"/>\r\n       <use x=\"55.615234\" xlink:href=\"#ArialMT-2e\"/>\r\n       <use x=\"83.398438\" xlink:href=\"#ArialMT-32\"/>\r\n       <use x=\"139.013672\" xlink:href=\"#ArialMT-30\"/>\r\n      </g>\r\n     </g>\r\n    </g>\r\n    <g id=\"ytick_6\">\r\n     <g id=\"line2d_12\">\r\n      <path clip-path=\"url(#p518610aaa9)\" d=\"M 53.222031 32.498782 \r\nL 388.022031 32.498782 \r\n\" style=\"fill:none;stroke:#ffffff;stroke-linecap:round;\"/>\r\n     </g>\r\n     <g id=\"text_12\">\r\n      <!-- 0.25 -->\r\n      <g style=\"fill:#262626;\" transform=\"translate(22.315 36.435578)scale(0.11 -0.11)\">\r\n       <use xlink:href=\"#ArialMT-30\"/>\r\n       <use x=\"55.615234\" xlink:href=\"#ArialMT-2e\"/>\r\n       <use x=\"83.398438\" xlink:href=\"#ArialMT-32\"/>\r\n       <use x=\"139.013672\" xlink:href=\"#ArialMT-35\"/>\r\n      </g>\r\n     </g>\r\n    </g>\r\n    <g id=\"text_13\">\r\n     <!-- Density -->\r\n     <defs>\r\n      <path d=\"M 7.71875 0 \r\nL 7.71875 71.578125 \r\nL 32.375 71.578125 \r\nQ 40.71875 71.578125 45.125 70.5625 \r\nQ 51.265625 69.140625 55.609375 65.4375 \r\nQ 61.28125 60.640625 64.078125 53.1875 \r\nQ 66.890625 45.75 66.890625 36.1875 \r\nQ 66.890625 28.03125 64.984375 21.734375 \r\nQ 63.09375 15.4375 60.109375 11.296875 \r\nQ 57.125 7.171875 53.578125 4.796875 \r\nQ 50.046875 2.4375 45.046875 1.21875 \r\nQ 40.046875 0 33.546875 0 \r\nz\r\nM 17.1875 8.453125 \r\nL 32.46875 8.453125 \r\nQ 39.546875 8.453125 43.578125 9.765625 \r\nQ 47.609375 11.078125 50 13.484375 \r\nQ 53.375 16.84375 55.25 22.53125 \r\nQ 57.125 28.21875 57.125 36.328125 \r\nQ 57.125 47.5625 53.4375 53.59375 \r\nQ 49.75 59.625 44.484375 61.671875 \r\nQ 40.671875 63.140625 32.234375 63.140625 \r\nL 17.1875 63.140625 \r\nz\r\n\" id=\"ArialMT-44\"/>\r\n      <path d=\"M 42.09375 16.703125 \r\nL 51.171875 15.578125 \r\nQ 49.03125 7.625 43.21875 3.21875 \r\nQ 37.40625 -1.171875 28.375 -1.171875 \r\nQ 17 -1.171875 10.328125 5.828125 \r\nQ 3.65625 12.84375 3.65625 25.484375 \r\nQ 3.65625 38.578125 10.390625 45.796875 \r\nQ 17.140625 53.03125 27.875 53.03125 \r\nQ 38.28125 53.03125 44.875 45.953125 \r\nQ 51.46875 38.875 51.46875 26.03125 \r\nQ 51.46875 25.25 51.421875 23.6875 \r\nL 12.75 23.6875 \r\nQ 13.234375 15.140625 17.578125 10.59375 \r\nQ 21.921875 6.0625 28.421875 6.0625 \r\nQ 33.25 6.0625 36.671875 8.59375 \r\nQ 40.09375 11.140625 42.09375 16.703125 \r\nz\r\nM 13.234375 30.90625 \r\nL 42.1875 30.90625 \r\nQ 41.609375 37.453125 38.875 40.71875 \r\nQ 34.671875 45.796875 27.984375 45.796875 \r\nQ 21.921875 45.796875 17.796875 41.75 \r\nQ 13.671875 37.703125 13.234375 30.90625 \r\nz\r\n\" id=\"ArialMT-65\"/>\r\n      <path d=\"M 6.59375 0 \r\nL 6.59375 51.859375 \r\nL 14.5 51.859375 \r\nL 14.5 44.484375 \r\nQ 20.21875 53.03125 31 53.03125 \r\nQ 35.6875 53.03125 39.625 51.34375 \r\nQ 43.5625 49.65625 45.515625 46.921875 \r\nQ 47.46875 44.1875 48.25 40.4375 \r\nQ 48.734375 37.984375 48.734375 31.890625 \r\nL 48.734375 0 \r\nL 39.9375 0 \r\nL 39.9375 31.546875 \r\nQ 39.9375 36.921875 38.90625 39.578125 \r\nQ 37.890625 42.234375 35.28125 43.8125 \r\nQ 32.671875 45.40625 29.15625 45.40625 \r\nQ 23.53125 45.40625 19.453125 41.84375 \r\nQ 15.375 38.28125 15.375 28.328125 \r\nL 15.375 0 \r\nz\r\n\" id=\"ArialMT-6e\"/>\r\n      <path d=\"M 3.078125 15.484375 \r\nL 11.765625 16.84375 \r\nQ 12.5 11.625 15.84375 8.84375 \r\nQ 19.1875 6.0625 25.203125 6.0625 \r\nQ 31.25 6.0625 34.171875 8.515625 \r\nQ 37.109375 10.984375 37.109375 14.3125 \r\nQ 37.109375 17.28125 34.515625 19 \r\nQ 32.71875 20.171875 25.53125 21.96875 \r\nQ 15.875 24.421875 12.140625 26.203125 \r\nQ 8.40625 27.984375 6.46875 31.125 \r\nQ 4.546875 34.28125 4.546875 38.09375 \r\nQ 4.546875 41.546875 6.125 44.5 \r\nQ 7.71875 47.46875 10.453125 49.421875 \r\nQ 12.5 50.921875 16.03125 51.96875 \r\nQ 19.578125 53.03125 23.640625 53.03125 \r\nQ 29.734375 53.03125 34.34375 51.265625 \r\nQ 38.96875 49.515625 41.15625 46.5 \r\nQ 43.359375 43.5 44.1875 38.484375 \r\nL 35.59375 37.3125 \r\nQ 35.015625 41.3125 32.203125 43.546875 \r\nQ 29.390625 45.796875 24.265625 45.796875 \r\nQ 18.21875 45.796875 15.625 43.796875 \r\nQ 13.03125 41.796875 13.03125 39.109375 \r\nQ 13.03125 37.40625 14.109375 36.03125 \r\nQ 15.1875 34.625 17.484375 33.6875 \r\nQ 18.796875 33.203125 25.25 31.453125 \r\nQ 34.578125 28.953125 38.25 27.359375 \r\nQ 41.9375 25.78125 44.03125 22.75 \r\nQ 46.140625 19.734375 46.140625 15.234375 \r\nQ 46.140625 10.84375 43.578125 6.953125 \r\nQ 41.015625 3.078125 36.171875 0.953125 \r\nQ 31.34375 -1.171875 25.25 -1.171875 \r\nQ 15.140625 -1.171875 9.84375 3.03125 \r\nQ 4.546875 7.234375 3.078125 15.484375 \r\nz\r\n\" id=\"ArialMT-73\"/>\r\n      <path d=\"M 6.640625 61.46875 \r\nL 6.640625 71.578125 \r\nL 15.4375 71.578125 \r\nL 15.4375 61.46875 \r\nz\r\nM 6.640625 0 \r\nL 6.640625 51.859375 \r\nL 15.4375 51.859375 \r\nL 15.4375 0 \r\nz\r\n\" id=\"ArialMT-69\"/>\r\n      <path d=\"M 25.78125 7.859375 \r\nL 27.046875 0.09375 \r\nQ 23.34375 -0.6875 20.40625 -0.6875 \r\nQ 15.625 -0.6875 12.984375 0.828125 \r\nQ 10.359375 2.34375 9.28125 4.8125 \r\nQ 8.203125 7.28125 8.203125 15.1875 \r\nL 8.203125 45.015625 \r\nL 1.765625 45.015625 \r\nL 1.765625 51.859375 \r\nL 8.203125 51.859375 \r\nL 8.203125 64.703125 \r\nL 16.9375 69.96875 \r\nL 16.9375 51.859375 \r\nL 25.78125 51.859375 \r\nL 25.78125 45.015625 \r\nL 16.9375 45.015625 \r\nL 16.9375 14.703125 \r\nQ 16.9375 10.9375 17.40625 9.859375 \r\nQ 17.875 8.796875 18.921875 8.15625 \r\nQ 19.96875 7.515625 21.921875 7.515625 \r\nQ 23.390625 7.515625 25.78125 7.859375 \r\nz\r\n\" id=\"ArialMT-74\"/>\r\n      <path d=\"M 6.203125 -19.96875 \r\nL 5.21875 -11.71875 \r\nQ 8.109375 -12.5 10.25 -12.5 \r\nQ 13.1875 -12.5 14.9375 -11.515625 \r\nQ 16.703125 -10.546875 17.828125 -8.796875 \r\nQ 18.65625 -7.46875 20.515625 -2.25 \r\nQ 20.75 -1.515625 21.296875 -0.09375 \r\nL 1.609375 51.859375 \r\nL 11.078125 51.859375 \r\nL 21.875 21.828125 \r\nQ 23.96875 16.109375 25.640625 9.8125 \r\nQ 27.15625 15.875 29.25 21.625 \r\nL 40.328125 51.859375 \r\nL 49.125 51.859375 \r\nL 29.390625 -0.875 \r\nQ 26.21875 -9.421875 24.46875 -12.640625 \r\nQ 22.125 -17 19.09375 -19.015625 \r\nQ 16.0625 -21.046875 11.859375 -21.046875 \r\nQ 9.328125 -21.046875 6.203125 -19.96875 \r\nz\r\n\" id=\"ArialMT-79\"/>\r\n     </defs>\r\n     <g style=\"fill:#262626;\" transform=\"translate(15.789375 141.92625)rotate(-90)scale(0.12 -0.12)\">\r\n      <use xlink:href=\"#ArialMT-44\"/>\r\n      <use x=\"72.216797\" xlink:href=\"#ArialMT-65\"/>\r\n      <use x=\"127.832031\" xlink:href=\"#ArialMT-6e\"/>\r\n      <use x=\"183.447266\" xlink:href=\"#ArialMT-73\"/>\r\n      <use x=\"233.447266\" xlink:href=\"#ArialMT-69\"/>\r\n      <use x=\"255.664062\" xlink:href=\"#ArialMT-74\"/>\r\n      <use x=\"283.447266\" xlink:href=\"#ArialMT-79\"/>\r\n     </g>\r\n    </g>\r\n   </g>\r\n   <g id=\"line2d_13\">\r\n    <path clip-path=\"url(#p518610aaa9)\" d=\"M 68.440213 220.756364 \r\nL 129.069206 220.660287 \r\nL 130.592547 220.398685 \r\nL 131.506552 220.019103 \r\nL 132.115889 219.594356 \r\nL 132.725225 218.96439 \r\nL 133.334562 218.052473 \r\nL 133.943899 216.764445 \r\nL 134.553235 214.989902 \r\nL 135.162572 212.60608 \r\nL 135.771908 209.485115 \r\nL 136.381245 205.505023 \r\nL 137.29525 197.71167 \r\nL 138.209255 187.601211 \r\nL 139.427928 170.855289 \r\nL 142.474611 125.830226 \r\nL 143.083948 119.508362 \r\nL 143.693284 114.984237 \r\nL 144.302621 112.46499 \r\nL 144.607289 111.979875 \r\nL 144.911958 112.001783 \r\nL 145.216626 112.50981 \r\nL 145.521294 113.471997 \r\nL 146.130631 116.578365 \r\nL 147.044636 123.27495 \r\nL 148.263309 132.768621 \r\nL 148.872646 136.2492 \r\nL 149.177314 137.396322 \r\nL 149.481982 138.058398 \r\nL 149.78665 138.179397 \r\nL 150.091319 137.713964 \r\nL 150.395987 136.628654 \r\nL 150.700655 134.902945 \r\nL 151.309992 129.517233 \r\nL 151.919329 121.67366 \r\nL 152.833333 106.109924 \r\nL 155.575348 54.287411 \r\nL 156.184685 47.015549 \r\nL 156.794021 42.744046 \r\nL 157.09869 41.834545 \r\nL 157.403358 41.761704 \r\nL 157.708026 42.516994 \r\nL 158.012695 44.073479 \r\nL 158.622031 49.393529 \r\nL 159.231368 57.167116 \r\nL 160.450041 76.823337 \r\nL 161.668714 95.53693 \r\nL 162.278051 102.20947 \r\nL 162.887388 106.122218 \r\nL 163.192056 106.895547 \r\nL 163.496724 106.835374 \r\nL 163.801392 105.930999 \r\nL 164.106061 104.190501 \r\nL 164.715397 98.326578 \r\nL 165.324734 89.671655 \r\nL 166.238739 73.010302 \r\nL 168.066749 38.341439 \r\nL 168.676085 30.073333 \r\nL 169.285422 24.827421 \r\nL 169.59009 23.499386 \r\nL 169.894759 23.083636 \r\nL 170.199427 23.591967 \r\nL 170.504095 25.015819 \r\nL 171.113432 30.476174 \r\nL 171.722768 39.011574 \r\nL 172.636773 55.968054 \r\nL 174.769451 98.113257 \r\nL 175.378788 106.615719 \r\nL 175.988125 112.298046 \r\nL 176.292793 113.979332 \r\nL 176.597461 114.867511 \r\nL 176.90213 114.969693 \r\nL 177.206798 114.31022 \r\nL 177.511466 112.929942 \r\nL 178.120803 108.246295 \r\nL 179.034808 97.644139 \r\nL 180.862817 73.86308 \r\nL 181.472154 68.284415 \r\nL 182.081491 65.01033 \r\nL 182.386159 64.365075 \r\nL 182.690827 64.417828 \r\nL 182.995496 65.175609 \r\nL 183.300164 66.628867 \r\nL 183.909501 71.503527 \r\nL 184.518837 78.658653 \r\nL 185.432842 92.347495 \r\nL 187.260852 120.913915 \r\nL 187.870188 128.04341 \r\nL 188.479525 133.023817 \r\nL 188.784193 134.606961 \r\nL 189.088862 135.55863 \r\nL 189.39353 135.876332 \r\nL 189.698198 135.571587 \r\nL 190.002867 134.669535 \r\nL 190.612203 131.237951 \r\nL 191.22154 126.023577 \r\nL 192.440213 112.711506 \r\nL 193.658886 100.261649 \r\nL 194.268223 96.018196 \r\nL 194.572891 94.617549 \r\nL 194.87756 93.75569 \r\nL 195.182228 93.460656 \r\nL 195.486896 93.747369 \r\nL 195.791564 94.61743 \r\nL 196.096233 96.059237 \r\nL 196.705569 100.54868 \r\nL 197.314906 106.88342 \r\nL 198.533579 123.045431 \r\nL 200.056921 143.483996 \r\nL 200.970926 152.494699 \r\nL 201.580262 156.354197 \r\nL 201.884931 157.575557 \r\nL 202.189599 158.320746 \r\nL 202.494267 158.599863 \r\nL 202.798935 158.432969 \r\nL 203.103604 157.849464 \r\nL 203.71294 155.591978 \r\nL 204.322277 152.215198 \r\nL 206.454955 138.623588 \r\nL 207.064292 136.213845 \r\nL 207.36896 135.494352 \r\nL 207.673628 135.137212 \r\nL 207.978297 135.160726 \r\nL 208.282965 135.574214 \r\nL 208.587633 136.377984 \r\nL 209.19697 139.113863 \r\nL 209.806306 143.202872 \r\nL 210.720311 151.244693 \r\nL 213.157658 174.793931 \r\nL 214.071663 181.032038 \r\nL 214.680999 183.816767 \r\nL 215.290336 185.457811 \r\nL 215.595004 185.868154 \r\nL 215.899673 186.026103 \r\nL 216.204341 185.953511 \r\nL 216.509009 185.676344 \r\nL 217.118346 184.628519 \r\nL 218.032351 182.327989 \r\nL 219.251024 179.34843 \r\nL 219.86036 178.444357 \r\nL 220.165029 178.218983 \r\nL 220.469697 178.164452 \r\nL 220.774365 178.289851 \r\nL 221.079034 178.599577 \r\nL 221.68837 179.766493 \r\nL 222.297707 181.610708 \r\nL 223.211712 185.379242 \r\nL 225.953727 198.141931 \r\nL 226.867731 200.934301 \r\nL 227.477068 202.087637 \r\nL 228.086405 202.665565 \r\nL 228.391073 202.751699 \r\nL 229.00041 202.567726 \r\nL 229.609746 201.999998 \r\nL 230.523751 200.719439 \r\nL 231.742424 198.966741 \r\nL 232.351761 198.368468 \r\nL 232.961098 198.089605 \r\nL 233.570434 198.188529 \r\nL 234.179771 198.685 \r\nL 234.789107 199.56046 \r\nL 235.703112 201.460691 \r\nL 237.531122 206.23834 \r\nL 238.749795 209.050603 \r\nL 239.6638 210.516876 \r\nL 240.273137 211.120058 \r\nL 240.882474 211.423964 \r\nL 241.49181 211.456659 \r\nL 242.101147 211.266834 \r\nL 243.015152 210.707409 \r\nL 244.843161 209.505991 \r\nL 245.452498 209.321637 \r\nL 246.061835 209.319931 \r\nL 246.671171 209.518416 \r\nL 247.280508 209.915044 \r\nL 248.194513 210.833174 \r\nL 249.413186 212.448991 \r\nL 251.241196 214.900686 \r\nL 252.155201 215.822704 \r\nL 253.069206 216.434997 \r\nL 253.983211 216.734315 \r\nL 254.897216 216.772298 \r\nL 256.420557 216.507891 \r\nL 257.943899 216.25308 \r\nL 259.162572 216.302511 \r\nL 260.381245 216.64435 \r\nL 261.904587 217.377564 \r\nL 264.341933 218.584007 \r\nL 265.560606 218.932544 \r\nL 266.779279 219.055309 \r\nL 268.302621 218.972045 \r\nL 271.349304 218.749477 \r\nL 272.872646 218.900326 \r\nL 275.005324 219.395763 \r\nL 278.052007 220.109289 \r\nL 280.184685 220.332976 \r\nL 283.536036 220.385598 \r\nL 288.715397 220.538632 \r\nL 292.980754 220.569748 \r\nL 299.378788 220.568398 \r\nL 308.823505 220.753242 \r\nL 365.187142 220.756364 \r\nL 372.803849 220.756364 \r\nL 372.803849 220.756364 \r\n\" style=\"fill:none;stroke:#4c72b0;stroke-linecap:round;stroke-width:1.5;\"/>\r\n   </g>\r\n   <g id=\"patch_3\">\r\n    <path d=\"M 53.222031 230.64 \r\nL 53.222031 13.2 \r\n\" style=\"fill:none;stroke:#ffffff;stroke-linecap:square;stroke-linejoin:miter;stroke-width:1.25;\"/>\r\n   </g>\r\n   <g id=\"patch_4\">\r\n    <path d=\"M 388.022031 230.64 \r\nL 388.022031 13.2 \r\n\" style=\"fill:none;stroke:#ffffff;stroke-linecap:square;stroke-linejoin:miter;stroke-width:1.25;\"/>\r\n   </g>\r\n   <g id=\"patch_5\">\r\n    <path d=\"M 53.222031 230.64 \r\nL 388.022031 230.64 \r\n\" style=\"fill:none;stroke:#ffffff;stroke-linecap:square;stroke-linejoin:miter;stroke-width:1.25;\"/>\r\n   </g>\r\n   <g id=\"patch_6\">\r\n    <path d=\"M 53.222031 13.2 \r\nL 388.022031 13.2 \r\n\" style=\"fill:none;stroke:#ffffff;stroke-linecap:square;stroke-linejoin:miter;stroke-width:1.25;\"/>\r\n   </g>\r\n  </g>\r\n </g>\r\n <defs>\r\n  <clipPath id=\"p518610aaa9\">\r\n   <rect height=\"217.44\" width=\"334.8\" x=\"53.222031\" y=\"13.2\"/>\r\n  </clipPath>\r\n </defs>\r\n</svg>\r\n",
      "image/png": "[encoded data removed]"
     },
     "metadata": {
      "needs_background": "light"
     }
    }
   ],
   "source": [
    "testing_names['assert_sum'].plot(kind='kde')"
   ]
  },
  {
   "source": [
    "## Apply function to full dataset"
   ],
   "cell_type": "markdown",
   "metadata": {}
  },
  {
   "cell_type": "code",
   "execution_count": 21,
   "metadata": {},
   "outputs": [],
   "source": [
    "#Rename ingredients columns before adding words columns to avoid confusion\n",
    "#Adding a prefix 'ing' for each column that refers to ingredients\n",
    "df.rename(columns={colname: 'ing_' + colname for colname in df.columns[8:]}, inplace=True)"
   ]
  },
  {
   "cell_type": "code",
   "execution_count": 22,
   "metadata": {},
   "outputs": [
    {
     "output_type": "stream",
     "name": "stdout",
     "text": [
      "get_text_dummies running time : 21.9 mn\n"
     ]
    }
   ],
   "source": [
    "#Drop na\n",
    "df = df.dropna(subset=['product_name'])\n",
    "#Apply function\n",
    "df_modified = get_text_dummies(dataframe=df, dummies_list=words_to_add, text_column='product_name')"
   ]
  },
  {
   "cell_type": "code",
   "execution_count": 25,
   "metadata": {},
   "outputs": [
    {
     "output_type": "execute_result",
     "data": {
      "text/plain": [
       "(167548, 458)"
      ]
     },
     "metadata": {},
     "execution_count": 25
    }
   ],
   "source": [
    "df.shape"
   ]
  },
  {
   "cell_type": "code",
   "execution_count": 26,
   "metadata": {},
   "outputs": [
    {
     "output_type": "execute_result",
     "data": {
      "text/plain": [
       "(167548, 946)"
      ]
     },
     "metadata": {},
     "execution_count": 26
    }
   ],
   "source": [
    "df_modified.shape"
   ]
  },
  {
   "source": [
    "## Export data"
   ],
   "cell_type": "markdown",
   "metadata": {}
  },
  {
   "cell_type": "code",
   "execution_count": 40,
   "metadata": {},
   "outputs": [],
   "source": [
    "df_modified.to_csv(\n",
    "    r'C:\\Users\\Antoine\\Coding Bootcamp\\Open Food Facts\\data_training_names.csv', \n",
    "    index=False, \n",
    "    header=True\n",
    "    )"
   ]
  }
 ]
}