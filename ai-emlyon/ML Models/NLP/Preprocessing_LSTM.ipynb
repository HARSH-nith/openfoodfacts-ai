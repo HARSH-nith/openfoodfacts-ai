{
 "cells": [
  {
   "cell_type": "markdown",
   "metadata": {},
   "source": [
    "# Preprocessing Text for LSTM"
   ]
  },
  {
   "cell_type": "code",
   "execution_count": 1,
   "metadata": {},
   "outputs": [],
   "source": [
    "import pandas as pd"
   ]
  },
  {
   "cell_type": "code",
   "execution_count": 54,
   "metadata": {},
   "outputs": [],
   "source": [
    "from deep_translator import DeepL"
   ]
  },
  {
   "cell_type": "code",
   "execution_count": 60,
   "metadata": {},
   "outputs": [],
   "source": [
    "from deep_translator import GoogleTranslator\n",
    "from deep_translator import MyMemoryTranslator"
   ]
  },
  {
   "cell_type": "code",
   "execution_count": 58,
   "metadata": {},
   "outputs": [
    {
     "output_type": "execute_result",
     "data": {
      "text/plain": [
       "'A text essay'"
      ]
     },
     "metadata": {},
     "execution_count": 58
    }
   ],
   "source": [
    "text= 'Un essai de texte'\n",
    "translated = DeepL(api_key=\"9668a8d0-17ef-e291-79d3-5f1416eb3141:fx\",source=\"fr\", target=\"en\", use_free_api=True).translate(text)\n",
    "translated"
   ]
  },
  {
   "cell_type": "code",
   "execution_count": null,
   "metadata": {},
   "outputs": [],
   "source": []
  },
  {
   "cell_type": "code",
   "execution_count": 62,
   "metadata": {},
   "outputs": [],
   "source": [
    "def translate_en(text):\n",
    "    try:\n",
    "        translated = DeepL(api_key=\"9668a8d0-17ef-e291-79d3-5f1416eb3141:fx\",source=\"fr\", target=\"en\", use_free_api=True).translate(text)\n",
    "    except:\n",
    "        try:\n",
    "            translated = GoogleTranslator(source='auto', target='en').translate(text=text)\n",
    "        except:\n",
    "            try:\n",
    "                translated = MyMemoryTranslator(source='auto', target='en').translate(text)\n",
    "            except:\n",
    "                translated = text\n",
    "    return translated"
   ]
  },
  {
   "cell_type": "code",
   "execution_count": 65,
   "metadata": {},
   "outputs": [
    {
     "output_type": "execute_result",
     "data": {
      "text/plain": [
       "0         moutarde au moût de raisin  eau graines de té...\n",
       "7        peanuts peanuts, wheat flour, sugar, rice flou...\n",
       "9        nectar d'abricot jus et purée d'abricots (50% ...\n",
       "12       organic salted nut mix organic hazelnuts, orga...\n",
       "13                         organic polenta organic polenta\n",
       "                               ...                        \n",
       "15879    dipping sauce soybean oil, distilled vinegar, ...\n",
       "15881    honey barbecue wing sauce high fructose corn s...\n",
       "15882    barbecue sauce high fructose corn syrup, disti...\n",
       "15883    barbecue sauce high fructose corn syrup, disti...\n",
       "15884    mild buffalo wing sauce, mild buffalo distille...\n",
       "Name: text, Length: 10000, dtype: object"
      ]
     },
     "metadata": {},
     "execution_count": 65
    }
   ],
   "source": [
    "fr_labelled['text'][:1000]"
   ]
  },
  {
   "cell_type": "code",
   "execution_count": 68,
   "metadata": {},
   "outputs": [
    {
     "output_type": "execute_result",
     "data": {
      "text/plain": [
       "                                                     text  \\\n",
       "0        moutarde au moût de raisin  eau graines de té...   \n",
       "7       peanuts peanuts, wheat flour, sugar, rice flou...   \n",
       "9       nectar d'abricot jus et purée d'abricots (50% ...   \n",
       "12      organic salted nut mix organic hazelnuts, orga...   \n",
       "13                        organic polenta organic polenta   \n",
       "...                                                   ...   \n",
       "195248  stoneground mustard aioli, stoneground soybean...   \n",
       "195249  baked pretzel twists unbleached enriched wheat...   \n",
       "195250  buttermilk pancake & waffle mix, buttermilk en...   \n",
       "195251  buttered toffee pancake & waffle mix, buttered...   \n",
       "195254  holiday train gingerbread kit, ginger cookies:...   \n",
       "\n",
       "                  pnns_groups_1         pnns_groups_2  \\\n",
       "0                fat and sauces  dressings and sauces   \n",
       "7                     beverages   sweetened beverages   \n",
       "9          cereals and potatoes                 bread   \n",
       "12              composite foods        one-dish meals   \n",
       "13      milk and dairy products        dairy desserts   \n",
       "...                         ...                   ...   \n",
       "195248                beverages   sweetened beverages   \n",
       "195249          composite foods        one-dish meals   \n",
       "195250                beverages   sweetened beverages   \n",
       "195251    fruits and vegetables                fruits   \n",
       "195254           fish meat eggs                offals   \n",
       "\n",
       "                                          text_translated  \n",
       "0        moutarde au moût de raisin  eau graines de té...  \n",
       "7       peanuts peanuts, wheat flour, sugar, rice flou...  \n",
       "9       nectar d'abricot jus et purée d'abricots (50% ...  \n",
       "12      organic salted nut mix organic hazelnuts, orga...  \n",
       "13                        organic polenta organic polenta  \n",
       "...                                                   ...  \n",
       "195248  stoneground mustard aioli, stoneground soybean...  \n",
       "195249  baked pretzel twists unbleached enriched wheat...  \n",
       "195250  buttermilk pancake & waffle mix, buttermilk en...  \n",
       "195251  buttered toffee pancake & waffle mix, buttered...  \n",
       "195254  holiday train gingerbread kit, ginger cookies:...  \n",
       "\n",
       "[138239 rows x 4 columns]"
      ],
      "text/html": "<div>\n<style scoped>\n    .dataframe tbody tr th:only-of-type {\n        vertical-align: middle;\n    }\n\n    .dataframe tbody tr th {\n        vertical-align: top;\n    }\n\n    .dataframe thead th {\n        text-align: right;\n    }\n</style>\n<table border=\"1\" class=\"dataframe\">\n  <thead>\n    <tr style=\"text-align: right;\">\n      <th></th>\n      <th>text</th>\n      <th>pnns_groups_1</th>\n      <th>pnns_groups_2</th>\n      <th>text_translated</th>\n    </tr>\n  </thead>\n  <tbody>\n    <tr>\n      <th>0</th>\n      <td>moutarde au moût de raisin  eau graines de té...</td>\n      <td>fat and sauces</td>\n      <td>dressings and sauces</td>\n      <td>moutarde au moût de raisin  eau graines de té...</td>\n    </tr>\n    <tr>\n      <th>7</th>\n      <td>peanuts peanuts, wheat flour, sugar, rice flou...</td>\n      <td>beverages</td>\n      <td>sweetened beverages</td>\n      <td>peanuts peanuts, wheat flour, sugar, rice flou...</td>\n    </tr>\n    <tr>\n      <th>9</th>\n      <td>nectar d'abricot jus et purée d'abricots (50% ...</td>\n      <td>cereals and potatoes</td>\n      <td>bread</td>\n      <td>nectar d'abricot jus et purée d'abricots (50% ...</td>\n    </tr>\n    <tr>\n      <th>12</th>\n      <td>organic salted nut mix organic hazelnuts, orga...</td>\n      <td>composite foods</td>\n      <td>one-dish meals</td>\n      <td>organic salted nut mix organic hazelnuts, orga...</td>\n    </tr>\n    <tr>\n      <th>13</th>\n      <td>organic polenta organic polenta</td>\n      <td>milk and dairy products</td>\n      <td>dairy desserts</td>\n      <td>organic polenta organic polenta</td>\n    </tr>\n    <tr>\n      <th>...</th>\n      <td>...</td>\n      <td>...</td>\n      <td>...</td>\n      <td>...</td>\n    </tr>\n    <tr>\n      <th>195248</th>\n      <td>stoneground mustard aioli, stoneground soybean...</td>\n      <td>beverages</td>\n      <td>sweetened beverages</td>\n      <td>stoneground mustard aioli, stoneground soybean...</td>\n    </tr>\n    <tr>\n      <th>195249</th>\n      <td>baked pretzel twists unbleached enriched wheat...</td>\n      <td>composite foods</td>\n      <td>one-dish meals</td>\n      <td>baked pretzel twists unbleached enriched wheat...</td>\n    </tr>\n    <tr>\n      <th>195250</th>\n      <td>buttermilk pancake &amp; waffle mix, buttermilk en...</td>\n      <td>beverages</td>\n      <td>sweetened beverages</td>\n      <td>buttermilk pancake &amp; waffle mix, buttermilk en...</td>\n    </tr>\n    <tr>\n      <th>195251</th>\n      <td>buttered toffee pancake &amp; waffle mix, buttered...</td>\n      <td>fruits and vegetables</td>\n      <td>fruits</td>\n      <td>buttered toffee pancake &amp; waffle mix, buttered...</td>\n    </tr>\n    <tr>\n      <th>195254</th>\n      <td>holiday train gingerbread kit, ginger cookies:...</td>\n      <td>fish meat eggs</td>\n      <td>offals</td>\n      <td>holiday train gingerbread kit, ginger cookies:...</td>\n    </tr>\n  </tbody>\n</table>\n<p>138239 rows × 4 columns</p>\n</div>"
     },
     "metadata": {},
     "execution_count": 68
    }
   ],
   "source": [
    "fr_labelled['text_translated'] = fr_labelled['text']\n",
    "fr_labelled"
   ]
  },
  {
   "cell_type": "code",
   "execution_count": 69,
   "metadata": {},
   "outputs": [
    {
     "output_type": "stream",
     "name": "stderr",
     "text": [
      "<ipython-input-69-455d9bd7002b>:2: SettingWithCopyWarning: \nA value is trying to be set on a copy of a slice from a DataFrame.\nTry using .loc[row_indexer,col_indexer] = value instead\n\nSee the caveats in the documentation: https://pandas.pydata.org/pandas-docs/stable/user_guide/indexing.html#returning-a-view-versus-a-copy\n  fr_sample['text_translated'] = fr_sample['text_translated'].apply(lambda x: translate_en(x))\n"
     ]
    }
   ],
   "source": [
    "fr_sample = fr_labelled[:100]\n",
    "fr_sample['text_translated'] = fr_sample['text_translated'].apply(lambda x: translate_en(x))"
   ]
  },
  {
   "cell_type": "code",
   "execution_count": 72,
   "metadata": {},
   "outputs": [],
   "source": [
    "import time"
   ]
  },
  {
   "cell_type": "code",
   "execution_count": 73,
   "metadata": {},
   "outputs": [
    {
     "output_type": "stream",
     "name": "stdout",
     "text": [
      "Wall time: 1h 41min 29s\n",
      "<timed exec>:2: SettingWithCopyWarning: \n",
      "A value is trying to be set on a copy of a slice from a DataFrame.\n",
      "Try using .loc[row_indexer,col_indexer] = value instead\n",
      "\n",
      "See the caveats in the documentation: https://pandas.pydata.org/pandas-docs/stable/user_guide/indexing.html#returning-a-view-versus-a-copy\n"
     ]
    },
    {
     "output_type": "execute_result",
     "data": {
      "text/plain": [
       "                                                     text  \\\n",
       "0        moutarde au moût de raisin  eau graines de té...   \n",
       "7       peanuts peanuts, wheat flour, sugar, rice flou...   \n",
       "9       nectar d'abricot jus et purée d'abricots (50% ...   \n",
       "12      organic salted nut mix organic hazelnuts, orga...   \n",
       "13                        organic polenta organic polenta   \n",
       "...                                                   ...   \n",
       "195248  stoneground mustard aioli, stoneground soybean...   \n",
       "195249  baked pretzel twists unbleached enriched wheat...   \n",
       "195250  buttermilk pancake & waffle mix, buttermilk en...   \n",
       "195251  buttered toffee pancake & waffle mix, buttered...   \n",
       "195254  holiday train gingerbread kit, ginger cookies:...   \n",
       "\n",
       "                  pnns_groups_1         pnns_groups_2  \\\n",
       "0                fat and sauces  dressings and sauces   \n",
       "7                     beverages   sweetened beverages   \n",
       "9          cereals and potatoes                 bread   \n",
       "12              composite foods        one-dish meals   \n",
       "13      milk and dairy products        dairy desserts   \n",
       "...                         ...                   ...   \n",
       "195248                beverages   sweetened beverages   \n",
       "195249          composite foods        one-dish meals   \n",
       "195250                beverages   sweetened beverages   \n",
       "195251    fruits and vegetables                fruits   \n",
       "195254           fish meat eggs                offals   \n",
       "\n",
       "                                          text_translated  \n",
       "0        grape must mustard water mustard seeds red wi...  \n",
       "7       peanuts peanuts, wheat flour, sugar, rice flou...  \n",
       "9       apricot nectar, juice and purée of apricots (5...  \n",
       "12      organic salted nut mix organic hazelnuts, orga...  \n",
       "13                        organic polenta organic polenta  \n",
       "...                                                   ...  \n",
       "195248  stoneground mustard aioli, stoneground soybean...  \n",
       "195249  baked pretzel twists unbleached enriched wheat...  \n",
       "195250  buttermilk pancake & waffle mix, buttermilk en...  \n",
       "195251  buttered toffee pancake & waffle mix, buttered...  \n",
       "195254  holiday train gingerbread kit, ginger cookies:...  \n",
       "\n",
       "[138239 rows x 4 columns]"
      ],
      "text/html": "<div>\n<style scoped>\n    .dataframe tbody tr th:only-of-type {\n        vertical-align: middle;\n    }\n\n    .dataframe tbody tr th {\n        vertical-align: top;\n    }\n\n    .dataframe thead th {\n        text-align: right;\n    }\n</style>\n<table border=\"1\" class=\"dataframe\">\n  <thead>\n    <tr style=\"text-align: right;\">\n      <th></th>\n      <th>text</th>\n      <th>pnns_groups_1</th>\n      <th>pnns_groups_2</th>\n      <th>text_translated</th>\n    </tr>\n  </thead>\n  <tbody>\n    <tr>\n      <th>0</th>\n      <td>moutarde au moût de raisin  eau graines de té...</td>\n      <td>fat and sauces</td>\n      <td>dressings and sauces</td>\n      <td>grape must mustard water mustard seeds red wi...</td>\n    </tr>\n    <tr>\n      <th>7</th>\n      <td>peanuts peanuts, wheat flour, sugar, rice flou...</td>\n      <td>beverages</td>\n      <td>sweetened beverages</td>\n      <td>peanuts peanuts, wheat flour, sugar, rice flou...</td>\n    </tr>\n    <tr>\n      <th>9</th>\n      <td>nectar d'abricot jus et purée d'abricots (50% ...</td>\n      <td>cereals and potatoes</td>\n      <td>bread</td>\n      <td>apricot nectar, juice and purée of apricots (5...</td>\n    </tr>\n    <tr>\n      <th>12</th>\n      <td>organic salted nut mix organic hazelnuts, orga...</td>\n      <td>composite foods</td>\n      <td>one-dish meals</td>\n      <td>organic salted nut mix organic hazelnuts, orga...</td>\n    </tr>\n    <tr>\n      <th>13</th>\n      <td>organic polenta organic polenta</td>\n      <td>milk and dairy products</td>\n      <td>dairy desserts</td>\n      <td>organic polenta organic polenta</td>\n    </tr>\n    <tr>\n      <th>...</th>\n      <td>...</td>\n      <td>...</td>\n      <td>...</td>\n      <td>...</td>\n    </tr>\n    <tr>\n      <th>195248</th>\n      <td>stoneground mustard aioli, stoneground soybean...</td>\n      <td>beverages</td>\n      <td>sweetened beverages</td>\n      <td>stoneground mustard aioli, stoneground soybean...</td>\n    </tr>\n    <tr>\n      <th>195249</th>\n      <td>baked pretzel twists unbleached enriched wheat...</td>\n      <td>composite foods</td>\n      <td>one-dish meals</td>\n      <td>baked pretzel twists unbleached enriched wheat...</td>\n    </tr>\n    <tr>\n      <th>195250</th>\n      <td>buttermilk pancake &amp; waffle mix, buttermilk en...</td>\n      <td>beverages</td>\n      <td>sweetened beverages</td>\n      <td>buttermilk pancake &amp; waffle mix, buttermilk en...</td>\n    </tr>\n    <tr>\n      <th>195251</th>\n      <td>buttered toffee pancake &amp; waffle mix, buttered...</td>\n      <td>fruits and vegetables</td>\n      <td>fruits</td>\n      <td>buttered toffee pancake &amp; waffle mix, buttered...</td>\n    </tr>\n    <tr>\n      <th>195254</th>\n      <td>holiday train gingerbread kit, ginger cookies:...</td>\n      <td>fish meat eggs</td>\n      <td>offals</td>\n      <td>holiday train gingerbread kit, ginger cookies:...</td>\n    </tr>\n  </tbody>\n</table>\n<p>138239 rows × 4 columns</p>\n</div>"
     },
     "metadata": {},
     "execution_count": 73
    }
   ],
   "source": [
    "%%time\n",
    "fr_sample = fr_labelled[100:10000]\n",
    "fr_sample['text_translated'] = fr_sample['text_translated'].apply(lambda x: translate_en(x))\n",
    "fr_labelled[100:10000] = fr_sample\n",
    "fr_labelled"
   ]
  },
  {
   "cell_type": "code",
   "execution_count": 67,
   "metadata": {},
   "outputs": [
    {
     "output_type": "execute_result",
     "data": {
      "text/plain": [
       "                                                     text  \\\n",
       "0        moutarde au moût de raisin  eau graines de té...   \n",
       "7       peanuts peanuts, wheat flour, sugar, rice flou...   \n",
       "9       nectar d'abricot jus et purée d'abricots (50% ...   \n",
       "12      organic salted nut mix organic hazelnuts, orga...   \n",
       "13                        organic polenta organic polenta   \n",
       "...                                                   ...   \n",
       "195248  stoneground mustard aioli, stoneground soybean...   \n",
       "195249  baked pretzel twists unbleached enriched wheat...   \n",
       "195250  buttermilk pancake & waffle mix, buttermilk en...   \n",
       "195251  buttered toffee pancake & waffle mix, buttered...   \n",
       "195254  holiday train gingerbread kit, ginger cookies:...   \n",
       "\n",
       "                  pnns_groups_1         pnns_groups_2  \n",
       "0                fat and sauces  dressings and sauces  \n",
       "7                     beverages   sweetened beverages  \n",
       "9          cereals and potatoes                 bread  \n",
       "12              composite foods        one-dish meals  \n",
       "13      milk and dairy products        dairy desserts  \n",
       "...                         ...                   ...  \n",
       "195248                beverages   sweetened beverages  \n",
       "195249          composite foods        one-dish meals  \n",
       "195250                beverages   sweetened beverages  \n",
       "195251    fruits and vegetables                fruits  \n",
       "195254           fish meat eggs                offals  \n",
       "\n",
       "[138239 rows x 3 columns]"
      ],
      "text/html": "<div>\n<style scoped>\n    .dataframe tbody tr th:only-of-type {\n        vertical-align: middle;\n    }\n\n    .dataframe tbody tr th {\n        vertical-align: top;\n    }\n\n    .dataframe thead th {\n        text-align: right;\n    }\n</style>\n<table border=\"1\" class=\"dataframe\">\n  <thead>\n    <tr style=\"text-align: right;\">\n      <th></th>\n      <th>text</th>\n      <th>pnns_groups_1</th>\n      <th>pnns_groups_2</th>\n    </tr>\n  </thead>\n  <tbody>\n    <tr>\n      <th>0</th>\n      <td>moutarde au moût de raisin  eau graines de té...</td>\n      <td>fat and sauces</td>\n      <td>dressings and sauces</td>\n    </tr>\n    <tr>\n      <th>7</th>\n      <td>peanuts peanuts, wheat flour, sugar, rice flou...</td>\n      <td>beverages</td>\n      <td>sweetened beverages</td>\n    </tr>\n    <tr>\n      <th>9</th>\n      <td>nectar d'abricot jus et purée d'abricots (50% ...</td>\n      <td>cereals and potatoes</td>\n      <td>bread</td>\n    </tr>\n    <tr>\n      <th>12</th>\n      <td>organic salted nut mix organic hazelnuts, orga...</td>\n      <td>composite foods</td>\n      <td>one-dish meals</td>\n    </tr>\n    <tr>\n      <th>13</th>\n      <td>organic polenta organic polenta</td>\n      <td>milk and dairy products</td>\n      <td>dairy desserts</td>\n    </tr>\n    <tr>\n      <th>...</th>\n      <td>...</td>\n      <td>...</td>\n      <td>...</td>\n    </tr>\n    <tr>\n      <th>195248</th>\n      <td>stoneground mustard aioli, stoneground soybean...</td>\n      <td>beverages</td>\n      <td>sweetened beverages</td>\n    </tr>\n    <tr>\n      <th>195249</th>\n      <td>baked pretzel twists unbleached enriched wheat...</td>\n      <td>composite foods</td>\n      <td>one-dish meals</td>\n    </tr>\n    <tr>\n      <th>195250</th>\n      <td>buttermilk pancake &amp; waffle mix, buttermilk en...</td>\n      <td>beverages</td>\n      <td>sweetened beverages</td>\n    </tr>\n    <tr>\n      <th>195251</th>\n      <td>buttered toffee pancake &amp; waffle mix, buttered...</td>\n      <td>fruits and vegetables</td>\n      <td>fruits</td>\n    </tr>\n    <tr>\n      <th>195254</th>\n      <td>holiday train gingerbread kit, ginger cookies:...</td>\n      <td>fish meat eggs</td>\n      <td>offals</td>\n    </tr>\n  </tbody>\n</table>\n<p>138239 rows × 3 columns</p>\n</div>"
     },
     "metadata": {},
     "execution_count": 67
    }
   ],
   "source": [
    "fr_labelled"
   ]
  },
  {
   "cell_type": "code",
   "execution_count": null,
   "metadata": {},
   "outputs": [],
   "source": [
    "fr_labelled"
   ]
  },
  {
   "cell_type": "code",
   "execution_count": 3,
   "metadata": {},
   "outputs": [
    {
     "output_type": "stream",
     "name": "stdout",
     "text": [
      "Wall time: 1min 13s\n"
     ]
    },
    {
     "output_type": "execute_result",
     "data": {
      "text/plain": [
       "(1625068, 184)"
      ]
     },
     "metadata": {},
     "execution_count": 3
    }
   ],
   "source": [
    "%%time\n",
    "df_raw = pd.read_csv(r'C:\\Users\\Antoine\\Coding Bootcamp\\Open Food Facts\\en.openfoodfacts.org.products.csv', sep='\\t', low_memory=False)\n",
    "df_raw.shape"
   ]
  },
  {
   "cell_type": "code",
   "execution_count": 4,
   "metadata": {},
   "outputs": [
    {
     "output_type": "execute_result",
     "data": {
      "text/plain": [
       "en:united-states                                                                                                                                                                                                                                                                                                                                                                                                                                 313911\n",
       "en:france                                                                                                                                                                                                                                                                                                                                                                                                                                        195256\n",
       "en:germany                                                                                                                                                                                                                                                                                                                                                                                                                                        25251\n",
       "en:spain                                                                                                                                                                                                                                                                                                                                                                                                                                          15021\n",
       "en:switzerland                                                                                                                                                                                                                                                                                                                                                                                                                                    11792\n",
       "                                                                                                                                                                                                                                                                                                                                                                                                                                                  ...  \n",
       "en:australia,en:france,en:italy                                                                                                                                                                                                                                                                                                                                                                                                                       1\n",
       "en:bulgaria,en:cameroon,en:lithuania,en:romania,en:russia                                                                                                                                                                                                                                                                                                                                                                                             1\n",
       "en:albania,en:algeria,en:andorra,en:argentina,en:australia,en:austria,en:belgium,en:canada,en:colombia,en:croatia,en:czech-republic,en:denmark,en:estonia,en:finland,en:france,en:germany,en:greece,en:hungary,en:iceland,en:ireland,en:italy,en:japan,en:jersey,en:liechtenstein,en:luxembourg,en:malta,en:mexico,en:peru,en:poland,en:portugal,en:slovakia,en:slovenia,en:spain,en:sweden,en:switzerland,en:united-kingdom,en:united-states         1\n",
       "en:argentina,en:bolivia,en:mexico,en:paraguay,en:peru,en:uruguay,en:venezuela                                                                                                                                                                                                                                                                                                                                                                         1\n",
       "en:france,en:germany,en:greece,en:spain,en:switzerland                                                                                                                                                                                                                                                                                                                                                                                                1\n",
       "Name: countries_tags, Length: 3072, dtype: int64"
      ]
     },
     "metadata": {},
     "execution_count": 4
    }
   ],
   "source": [
    "df = df_raw[['countries_tags','ingredients_text', 'product_name', 'pnns_groups_1', 'pnns_groups_2']].dropna()\n",
    "df.countries_tags.value_counts()"
   ]
  },
  {
   "cell_type": "code",
   "execution_count": 11,
   "metadata": {},
   "outputs": [],
   "source": [
    "df = df.reset_index(drop=True)"
   ]
  },
  {
   "cell_type": "code",
   "execution_count": 36,
   "metadata": {},
   "outputs": [
    {
     "output_type": "execute_result",
     "data": {
      "text/plain": [
       "unknown                    215302\n",
       "sugary snacks              101480\n",
       "milk and dairy products     55774\n",
       "cereals and potatoes        54883\n",
       "beverages                   49956\n",
       "fat and sauces              46253\n",
       "fish meat eggs              44678\n",
       "composite foods             37390\n",
       "fruits and vegetables       34182\n",
       "salty snacks                17435\n",
       "Name: pnns_groups_1, dtype: int64"
      ]
     },
     "metadata": {},
     "execution_count": 36
    }
   ],
   "source": [
    "df['pnns_groups_1'] = df['pnns_groups_1'].str.lower()\n",
    "df['pnns_groups_1'] = df['pnns_groups_1'].str.replace('-',' ')\n",
    "df.pnns_groups_1.value_counts()"
   ]
  },
  {
   "cell_type": "code",
   "execution_count": 37,
   "metadata": {},
   "outputs": [],
   "source": [
    "df['pnns_groups_2'] = df['pnns_groups_2'].str.lower()"
   ]
  },
  {
   "cell_type": "code",
   "execution_count": 47,
   "metadata": {},
   "outputs": [],
   "source": [
    "df['ingredients_text'] = df['ingredients_text'].str.lower()\n",
    "df['ingredients_text'] = df['ingredients_text'].str.strip('*^¨°&~#{[|')\n",
    "df['product_name'] = df['product_name'].str.lower()"
   ]
  },
  {
   "cell_type": "code",
   "execution_count": 43,
   "metadata": {},
   "outputs": [
    {
     "output_type": "execute_result",
     "data": {
      "text/plain": [
       "0         eau graines de téguments de moutarde vinaigre ...\n",
       "1         antioxydant : érythorbate de sodium, colorant ...\n",
       "2         lait entier, sucre, amidon de maïs, cacao, aga...\n",
       "3         baguette poite vin pain baguette 50,6%: farine...\n",
       "4         paln suédois 42,6%: farine de blé, eau, farine...\n",
       "                                ...                        \n",
       "657328    biocoop bordeaux lac distribue par les eleveur...\n",
       "657329    citric acid, maltodextrin, instant tea, aspart...\n",
       "657330    kabanosèrç sktadn' wiep -zekrobia, guszcz 'o.e...\n",
       "657331    carmellosesodium (and) microcrystalline cellul...\n",
       "657332    sahne (33%), erdbeeren (12%), zucker, weizenhm...\n",
       "Name: ingredients_text, Length: 657333, dtype: object"
      ]
     },
     "metadata": {},
     "execution_count": 43
    }
   ],
   "source": [
    "df['ingredients_text']"
   ]
  },
  {
   "cell_type": "code",
   "execution_count": 107,
   "metadata": {},
   "outputs": [
    {
     "output_type": "execute_result",
     "data": {
      "text/plain": [
       "                                                     text  \\\n",
       "53        organic baby lima beans organic baby lima beans   \n",
       "136        cranberries cranberries, sugar, sunflower oil.   \n",
       "168     sliced plain bagel unbleached enriched flour (...   \n",
       "172     muffin wheatflour, sugar, eggs, soybean oil, w...   \n",
       "178     apple turnover pastry: unbleached wheat flour ...   \n",
       "...                                                   ...   \n",
       "313895  cadbury chocolate hollow figure milk**, sugar,...   \n",
       "313896  monari fererzoni, balsamic vinegar of modena g...   \n",
       "313898  organic kirkland marinara sauce organic ground...   \n",
       "313900                             premium onzas cassava.   \n",
       "313906  almondmilk beverage, chocolate organic almondm...   \n",
       "\n",
       "                pnns_groups_1                 pnns_groups_2  \n",
       "53       cereals and potatoes                       legumes  \n",
       "136     fruits and vegetables                        fruits  \n",
       "168      cereals and potatoes                         bread  \n",
       "172             sugary snacks            biscuits and cakes  \n",
       "178             sugary snacks                      pastries  \n",
       "...                       ...                           ...  \n",
       "313895          sugary snacks                        sweets  \n",
       "313896         fat and sauces          dressings and sauces  \n",
       "313898         fat and sauces          dressings and sauces  \n",
       "313900   cereals and potatoes                         bread  \n",
       "313906              beverages  plant-based milk substitutes  \n",
       "\n",
       "[204298 rows x 3 columns]"
      ],
      "text/html": "<div>\n<style scoped>\n    .dataframe tbody tr th:only-of-type {\n        vertical-align: middle;\n    }\n\n    .dataframe tbody tr th {\n        vertical-align: top;\n    }\n\n    .dataframe thead th {\n        text-align: right;\n    }\n</style>\n<table border=\"1\" class=\"dataframe\">\n  <thead>\n    <tr style=\"text-align: right;\">\n      <th></th>\n      <th>text</th>\n      <th>pnns_groups_1</th>\n      <th>pnns_groups_2</th>\n    </tr>\n  </thead>\n  <tbody>\n    <tr>\n      <th>53</th>\n      <td>organic baby lima beans organic baby lima beans</td>\n      <td>cereals and potatoes</td>\n      <td>legumes</td>\n    </tr>\n    <tr>\n      <th>136</th>\n      <td>cranberries cranberries, sugar, sunflower oil.</td>\n      <td>fruits and vegetables</td>\n      <td>fruits</td>\n    </tr>\n    <tr>\n      <th>168</th>\n      <td>sliced plain bagel unbleached enriched flour (...</td>\n      <td>cereals and potatoes</td>\n      <td>bread</td>\n    </tr>\n    <tr>\n      <th>172</th>\n      <td>muffin wheatflour, sugar, eggs, soybean oil, w...</td>\n      <td>sugary snacks</td>\n      <td>biscuits and cakes</td>\n    </tr>\n    <tr>\n      <th>178</th>\n      <td>apple turnover pastry: unbleached wheat flour ...</td>\n      <td>sugary snacks</td>\n      <td>pastries</td>\n    </tr>\n    <tr>\n      <th>...</th>\n      <td>...</td>\n      <td>...</td>\n      <td>...</td>\n    </tr>\n    <tr>\n      <th>313895</th>\n      <td>cadbury chocolate hollow figure milk**, sugar,...</td>\n      <td>sugary snacks</td>\n      <td>sweets</td>\n    </tr>\n    <tr>\n      <th>313896</th>\n      <td>monari fererzoni, balsamic vinegar of modena g...</td>\n      <td>fat and sauces</td>\n      <td>dressings and sauces</td>\n    </tr>\n    <tr>\n      <th>313898</th>\n      <td>organic kirkland marinara sauce organic ground...</td>\n      <td>fat and sauces</td>\n      <td>dressings and sauces</td>\n    </tr>\n    <tr>\n      <th>313900</th>\n      <td>premium onzas cassava.</td>\n      <td>cereals and potatoes</td>\n      <td>bread</td>\n    </tr>\n    <tr>\n      <th>313906</th>\n      <td>almondmilk beverage, chocolate organic almondm...</td>\n      <td>beverages</td>\n      <td>plant-based milk substitutes</td>\n    </tr>\n  </tbody>\n</table>\n<p>204298 rows × 3 columns</p>\n</div>"
     },
     "metadata": {},
     "execution_count": 107
    }
   ],
   "source": [
    "en = df.loc[df['countries_tags'] == 'en:united-states']\n",
    "en = en.reset_index(drop=True)\n",
    "en['text'] = en['product_name'] + ' ' + en['ingredients_text']\n",
    "en_full = pd.DataFrame(en['text'])\n",
    "en_labelled = en.loc[en['pnns_groups_1'] != 'unknown'][['text','pnns_groups_1', 'pnns_groups_2']]\n",
    "en_labelled"
   ]
  },
  {
   "cell_type": "code",
   "execution_count": 51,
   "metadata": {},
   "outputs": [
    {
     "output_type": "execute_result",
     "data": {
      "text/plain": [
       "                                                     text  \\\n",
       "0        moutarde au moût de raisin  eau graines de té...   \n",
       "7       peanuts peanuts, wheat flour, sugar, rice flou...   \n",
       "9       nectar d'abricot jus et purée d'abricots (50% ...   \n",
       "12      organic salted nut mix organic hazelnuts, orga...   \n",
       "13                        organic polenta organic polenta   \n",
       "...                                                   ...   \n",
       "195248  stoneground mustard aioli, stoneground soybean...   \n",
       "195249  baked pretzel twists unbleached enriched wheat...   \n",
       "195250  buttermilk pancake & waffle mix, buttermilk en...   \n",
       "195251  buttered toffee pancake & waffle mix, buttered...   \n",
       "195254  holiday train gingerbread kit, ginger cookies:...   \n",
       "\n",
       "                  pnns_groups_1         pnns_groups_2  \n",
       "0                fat and sauces  dressings and sauces  \n",
       "7                     beverages   sweetened beverages  \n",
       "9          cereals and potatoes                 bread  \n",
       "12              composite foods        one-dish meals  \n",
       "13      milk and dairy products        dairy desserts  \n",
       "...                         ...                   ...  \n",
       "195248                beverages   sweetened beverages  \n",
       "195249          composite foods        one-dish meals  \n",
       "195250                beverages   sweetened beverages  \n",
       "195251    fruits and vegetables                fruits  \n",
       "195254           fish meat eggs                offals  \n",
       "\n",
       "[138239 rows x 3 columns]"
      ],
      "text/html": "<div>\n<style scoped>\n    .dataframe tbody tr th:only-of-type {\n        vertical-align: middle;\n    }\n\n    .dataframe tbody tr th {\n        vertical-align: top;\n    }\n\n    .dataframe thead th {\n        text-align: right;\n    }\n</style>\n<table border=\"1\" class=\"dataframe\">\n  <thead>\n    <tr style=\"text-align: right;\">\n      <th></th>\n      <th>text</th>\n      <th>pnns_groups_1</th>\n      <th>pnns_groups_2</th>\n    </tr>\n  </thead>\n  <tbody>\n    <tr>\n      <th>0</th>\n      <td>moutarde au moût de raisin  eau graines de té...</td>\n      <td>fat and sauces</td>\n      <td>dressings and sauces</td>\n    </tr>\n    <tr>\n      <th>7</th>\n      <td>peanuts peanuts, wheat flour, sugar, rice flou...</td>\n      <td>beverages</td>\n      <td>sweetened beverages</td>\n    </tr>\n    <tr>\n      <th>9</th>\n      <td>nectar d'abricot jus et purée d'abricots (50% ...</td>\n      <td>cereals and potatoes</td>\n      <td>bread</td>\n    </tr>\n    <tr>\n      <th>12</th>\n      <td>organic salted nut mix organic hazelnuts, orga...</td>\n      <td>composite foods</td>\n      <td>one-dish meals</td>\n    </tr>\n    <tr>\n      <th>13</th>\n      <td>organic polenta organic polenta</td>\n      <td>milk and dairy products</td>\n      <td>dairy desserts</td>\n    </tr>\n    <tr>\n      <th>...</th>\n      <td>...</td>\n      <td>...</td>\n      <td>...</td>\n    </tr>\n    <tr>\n      <th>195248</th>\n      <td>stoneground mustard aioli, stoneground soybean...</td>\n      <td>beverages</td>\n      <td>sweetened beverages</td>\n    </tr>\n    <tr>\n      <th>195249</th>\n      <td>baked pretzel twists unbleached enriched wheat...</td>\n      <td>composite foods</td>\n      <td>one-dish meals</td>\n    </tr>\n    <tr>\n      <th>195250</th>\n      <td>buttermilk pancake &amp; waffle mix, buttermilk en...</td>\n      <td>beverages</td>\n      <td>sweetened beverages</td>\n    </tr>\n    <tr>\n      <th>195251</th>\n      <td>buttered toffee pancake &amp; waffle mix, buttered...</td>\n      <td>fruits and vegetables</td>\n      <td>fruits</td>\n    </tr>\n    <tr>\n      <th>195254</th>\n      <td>holiday train gingerbread kit, ginger cookies:...</td>\n      <td>fish meat eggs</td>\n      <td>offals</td>\n    </tr>\n  </tbody>\n</table>\n<p>138239 rows × 3 columns</p>\n</div>"
     },
     "metadata": {},
     "execution_count": 51
    }
   ],
   "source": [
    "fr = df.loc[df['countries_tags'] == 'en:france']\n",
    "fr = fr.reset_index(drop=True)\n",
    "fr['text'] = df['product_name'] + ' ' + df['ingredients_text']\n",
    "fr_full = pd.DataFrame(fr['text'])\n",
    "fr_labelled = fr.loc[fr['pnns_groups_1'] != 'unknown'][['text','pnns_groups_1', 'pnns_groups_2']]\n",
    "fr_labelled"
   ]
  },
  {
   "cell_type": "code",
   "execution_count": 91,
   "metadata": {},
   "outputs": [
    {
     "output_type": "execute_result",
     "data": {
      "text/plain": [
       "                                                     text  \\\n",
       "0        grape must mustard water mustard seeds red wi...   \n",
       "7       peanuts peanuts, wheat flour, sugar, rice flou...   \n",
       "9       apricot nectar, juice and purée of apricots (5...   \n",
       "12      organic salted nut mix organic hazelnuts, orga...   \n",
       "13                        organic polenta organic polenta   \n",
       "...                                                   ...   \n",
       "195248  stoneground mustard aioli, stoneground soybean...   \n",
       "195249  baked pretzel twists unbleached enriched wheat...   \n",
       "195250  buttermilk pancake & waffle mix, buttermilk en...   \n",
       "195251  buttered toffee pancake & waffle mix, buttered...   \n",
       "195254  holiday train gingerbread kit, ginger cookies:...   \n",
       "\n",
       "                  pnns_groups_1         pnns_groups_2  \n",
       "0                fat and sauces  dressings and sauces  \n",
       "7                     beverages   sweetened beverages  \n",
       "9          cereals and potatoes                 bread  \n",
       "12              composite foods        one-dish meals  \n",
       "13      milk and dairy products        dairy desserts  \n",
       "...                         ...                   ...  \n",
       "195248                beverages   sweetened beverages  \n",
       "195249          composite foods        one-dish meals  \n",
       "195250                beverages   sweetened beverages  \n",
       "195251    fruits and vegetables                fruits  \n",
       "195254           fish meat eggs                offals  \n",
       "\n",
       "[138239 rows x 3 columns]"
      ],
      "text/html": "<div>\n<style scoped>\n    .dataframe tbody tr th:only-of-type {\n        vertical-align: middle;\n    }\n\n    .dataframe tbody tr th {\n        vertical-align: top;\n    }\n\n    .dataframe thead th {\n        text-align: right;\n    }\n</style>\n<table border=\"1\" class=\"dataframe\">\n  <thead>\n    <tr style=\"text-align: right;\">\n      <th></th>\n      <th>text</th>\n      <th>pnns_groups_1</th>\n      <th>pnns_groups_2</th>\n    </tr>\n  </thead>\n  <tbody>\n    <tr>\n      <th>0</th>\n      <td>grape must mustard water mustard seeds red wi...</td>\n      <td>fat and sauces</td>\n      <td>dressings and sauces</td>\n    </tr>\n    <tr>\n      <th>7</th>\n      <td>peanuts peanuts, wheat flour, sugar, rice flou...</td>\n      <td>beverages</td>\n      <td>sweetened beverages</td>\n    </tr>\n    <tr>\n      <th>9</th>\n      <td>apricot nectar, juice and purée of apricots (5...</td>\n      <td>cereals and potatoes</td>\n      <td>bread</td>\n    </tr>\n    <tr>\n      <th>12</th>\n      <td>organic salted nut mix organic hazelnuts, orga...</td>\n      <td>composite foods</td>\n      <td>one-dish meals</td>\n    </tr>\n    <tr>\n      <th>13</th>\n      <td>organic polenta organic polenta</td>\n      <td>milk and dairy products</td>\n      <td>dairy desserts</td>\n    </tr>\n    <tr>\n      <th>...</th>\n      <td>...</td>\n      <td>...</td>\n      <td>...</td>\n    </tr>\n    <tr>\n      <th>195248</th>\n      <td>stoneground mustard aioli, stoneground soybean...</td>\n      <td>beverages</td>\n      <td>sweetened beverages</td>\n    </tr>\n    <tr>\n      <th>195249</th>\n      <td>baked pretzel twists unbleached enriched wheat...</td>\n      <td>composite foods</td>\n      <td>one-dish meals</td>\n    </tr>\n    <tr>\n      <th>195250</th>\n      <td>buttermilk pancake &amp; waffle mix, buttermilk en...</td>\n      <td>beverages</td>\n      <td>sweetened beverages</td>\n    </tr>\n    <tr>\n      <th>195251</th>\n      <td>buttered toffee pancake &amp; waffle mix, buttered...</td>\n      <td>fruits and vegetables</td>\n      <td>fruits</td>\n    </tr>\n    <tr>\n      <th>195254</th>\n      <td>holiday train gingerbread kit, ginger cookies:...</td>\n      <td>fish meat eggs</td>\n      <td>offals</td>\n    </tr>\n  </tbody>\n</table>\n<p>138239 rows × 3 columns</p>\n</div>"
     },
     "metadata": {},
     "execution_count": 91
    }
   ],
   "source": [
    "fr_labelled['text'] = fr_labelled['text_translated']\n",
    "fr_labelled = fr_labelled.drop(columns=['text_translated'])\n",
    "fr_labelled"
   ]
  },
  {
   "cell_type": "code",
   "execution_count": 104,
   "metadata": {},
   "outputs": [
    {
     "output_type": "execute_result",
     "data": {
      "text/plain": [
       "                                                     text\n",
       "0       banana chips sweetened (whole) bananas, vegeta...\n",
       "1       peanuts peanuts, wheat flour, sugar, rice flou...\n",
       "2       organic salted nut mix organic hazelnuts, orga...\n",
       "3                         organic polenta organic polenta\n",
       "4       breadshop honey gone nuts granola rolled oats,...\n",
       "...                                                   ...\n",
       "313906  almondmilk beverage, chocolate organic almondm...\n",
       "313907  mint melange tea a blend of peppermint, lemon ...\n",
       "313908  noodle enriched wheat flour (wheat flour, niac...\n",
       "313909  sugar free drink mix, peach tea citric acid, m...\n",
       "313910  little remedies gas relief drops carmellosesod...\n",
       "\n",
       "[313911 rows x 1 columns]"
      ],
      "text/html": "<div>\n<style scoped>\n    .dataframe tbody tr th:only-of-type {\n        vertical-align: middle;\n    }\n\n    .dataframe tbody tr th {\n        vertical-align: top;\n    }\n\n    .dataframe thead th {\n        text-align: right;\n    }\n</style>\n<table border=\"1\" class=\"dataframe\">\n  <thead>\n    <tr style=\"text-align: right;\">\n      <th></th>\n      <th>text</th>\n    </tr>\n  </thead>\n  <tbody>\n    <tr>\n      <th>0</th>\n      <td>banana chips sweetened (whole) bananas, vegeta...</td>\n    </tr>\n    <tr>\n      <th>1</th>\n      <td>peanuts peanuts, wheat flour, sugar, rice flou...</td>\n    </tr>\n    <tr>\n      <th>2</th>\n      <td>organic salted nut mix organic hazelnuts, orga...</td>\n    </tr>\n    <tr>\n      <th>3</th>\n      <td>organic polenta organic polenta</td>\n    </tr>\n    <tr>\n      <th>4</th>\n      <td>breadshop honey gone nuts granola rolled oats,...</td>\n    </tr>\n    <tr>\n      <th>...</th>\n      <td>...</td>\n    </tr>\n    <tr>\n      <th>313906</th>\n      <td>almondmilk beverage, chocolate organic almondm...</td>\n    </tr>\n    <tr>\n      <th>313907</th>\n      <td>mint melange tea a blend of peppermint, lemon ...</td>\n    </tr>\n    <tr>\n      <th>313908</th>\n      <td>noodle enriched wheat flour (wheat flour, niac...</td>\n    </tr>\n    <tr>\n      <th>313909</th>\n      <td>sugar free drink mix, peach tea citric acid, m...</td>\n    </tr>\n    <tr>\n      <th>313910</th>\n      <td>little remedies gas relief drops carmellosesod...</td>\n    </tr>\n  </tbody>\n</table>\n<p>313911 rows × 1 columns</p>\n</div>"
     },
     "metadata": {},
     "execution_count": 104
    }
   ],
   "source": [
    "en_full"
   ]
  },
  {
   "cell_type": "code",
   "execution_count": 108,
   "metadata": {},
   "outputs": [
    {
     "output_type": "execute_result",
     "data": {
      "text/plain": [
       "                                                     text\n",
       "0       banana chips sweetened (whole) bananas, vegeta...\n",
       "1       peanuts peanuts, wheat flour, sugar, rice flou...\n",
       "2       organic salted nut mix organic hazelnuts, orga...\n",
       "3                         organic polenta organic polenta\n",
       "4       breadshop honey gone nuts granola rolled oats,...\n",
       "...                                                   ...\n",
       "452145  stoneground mustard aioli, stoneground soybean...\n",
       "452146  baked pretzel twists unbleached enriched wheat...\n",
       "452147  buttermilk pancake & waffle mix, buttermilk en...\n",
       "452148  buttered toffee pancake & waffle mix, buttered...\n",
       "452149  holiday train gingerbread kit, ginger cookies:...\n",
       "\n",
       "[452150 rows x 1 columns]"
      ],
      "text/html": "<div>\n<style scoped>\n    .dataframe tbody tr th:only-of-type {\n        vertical-align: middle;\n    }\n\n    .dataframe tbody tr th {\n        vertical-align: top;\n    }\n\n    .dataframe thead th {\n        text-align: right;\n    }\n</style>\n<table border=\"1\" class=\"dataframe\">\n  <thead>\n    <tr style=\"text-align: right;\">\n      <th></th>\n      <th>text</th>\n    </tr>\n  </thead>\n  <tbody>\n    <tr>\n      <th>0</th>\n      <td>banana chips sweetened (whole) bananas, vegeta...</td>\n    </tr>\n    <tr>\n      <th>1</th>\n      <td>peanuts peanuts, wheat flour, sugar, rice flou...</td>\n    </tr>\n    <tr>\n      <th>2</th>\n      <td>organic salted nut mix organic hazelnuts, orga...</td>\n    </tr>\n    <tr>\n      <th>3</th>\n      <td>organic polenta organic polenta</td>\n    </tr>\n    <tr>\n      <th>4</th>\n      <td>breadshop honey gone nuts granola rolled oats,...</td>\n    </tr>\n    <tr>\n      <th>...</th>\n      <td>...</td>\n    </tr>\n    <tr>\n      <th>452145</th>\n      <td>stoneground mustard aioli, stoneground soybean...</td>\n    </tr>\n    <tr>\n      <th>452146</th>\n      <td>baked pretzel twists unbleached enriched wheat...</td>\n    </tr>\n    <tr>\n      <th>452147</th>\n      <td>buttermilk pancake &amp; waffle mix, buttermilk en...</td>\n    </tr>\n    <tr>\n      <th>452148</th>\n      <td>buttered toffee pancake &amp; waffle mix, buttered...</td>\n    </tr>\n    <tr>\n      <th>452149</th>\n      <td>holiday train gingerbread kit, ginger cookies:...</td>\n    </tr>\n  </tbody>\n</table>\n<p>452150 rows × 1 columns</p>\n</div>"
     },
     "metadata": {},
     "execution_count": 108
    }
   ],
   "source": [
    "en_full = en_full.append(fr_labelled, ignore_index=True)\n",
    "en_full = pd.DataFrame(en_full['text'])\n",
    "en_full"
   ]
  },
  {
   "cell_type": "code",
   "execution_count": 109,
   "metadata": {},
   "outputs": [
    {
     "output_type": "execute_result",
     "data": {
      "text/plain": [
       "                                                     text  \\\n",
       "0         organic baby lima beans organic baby lima beans   \n",
       "1          cranberries cranberries, sugar, sunflower oil.   \n",
       "2       sliced plain bagel unbleached enriched flour (...   \n",
       "3       muffin wheatflour, sugar, eggs, soybean oil, w...   \n",
       "4       apple turnover pastry: unbleached wheat flour ...   \n",
       "...                                                   ...   \n",
       "342532  stoneground mustard aioli, stoneground soybean...   \n",
       "342533  baked pretzel twists unbleached enriched wheat...   \n",
       "342534  buttermilk pancake & waffle mix, buttermilk en...   \n",
       "342535  buttered toffee pancake & waffle mix, buttered...   \n",
       "342536  holiday train gingerbread kit, ginger cookies:...   \n",
       "\n",
       "                pnns_groups_1        pnns_groups_2  \n",
       "0        cereals and potatoes              legumes  \n",
       "1       fruits and vegetables               fruits  \n",
       "2        cereals and potatoes                bread  \n",
       "3               sugary snacks   biscuits and cakes  \n",
       "4               sugary snacks             pastries  \n",
       "...                       ...                  ...  \n",
       "342532              beverages  sweetened beverages  \n",
       "342533        composite foods       one-dish meals  \n",
       "342534              beverages  sweetened beverages  \n",
       "342535  fruits and vegetables               fruits  \n",
       "342536         fish meat eggs               offals  \n",
       "\n",
       "[342537 rows x 3 columns]"
      ],
      "text/html": "<div>\n<style scoped>\n    .dataframe tbody tr th:only-of-type {\n        vertical-align: middle;\n    }\n\n    .dataframe tbody tr th {\n        vertical-align: top;\n    }\n\n    .dataframe thead th {\n        text-align: right;\n    }\n</style>\n<table border=\"1\" class=\"dataframe\">\n  <thead>\n    <tr style=\"text-align: right;\">\n      <th></th>\n      <th>text</th>\n      <th>pnns_groups_1</th>\n      <th>pnns_groups_2</th>\n    </tr>\n  </thead>\n  <tbody>\n    <tr>\n      <th>0</th>\n      <td>organic baby lima beans organic baby lima beans</td>\n      <td>cereals and potatoes</td>\n      <td>legumes</td>\n    </tr>\n    <tr>\n      <th>1</th>\n      <td>cranberries cranberries, sugar, sunflower oil.</td>\n      <td>fruits and vegetables</td>\n      <td>fruits</td>\n    </tr>\n    <tr>\n      <th>2</th>\n      <td>sliced plain bagel unbleached enriched flour (...</td>\n      <td>cereals and potatoes</td>\n      <td>bread</td>\n    </tr>\n    <tr>\n      <th>3</th>\n      <td>muffin wheatflour, sugar, eggs, soybean oil, w...</td>\n      <td>sugary snacks</td>\n      <td>biscuits and cakes</td>\n    </tr>\n    <tr>\n      <th>4</th>\n      <td>apple turnover pastry: unbleached wheat flour ...</td>\n      <td>sugary snacks</td>\n      <td>pastries</td>\n    </tr>\n    <tr>\n      <th>...</th>\n      <td>...</td>\n      <td>...</td>\n      <td>...</td>\n    </tr>\n    <tr>\n      <th>342532</th>\n      <td>stoneground mustard aioli, stoneground soybean...</td>\n      <td>beverages</td>\n      <td>sweetened beverages</td>\n    </tr>\n    <tr>\n      <th>342533</th>\n      <td>baked pretzel twists unbleached enriched wheat...</td>\n      <td>composite foods</td>\n      <td>one-dish meals</td>\n    </tr>\n    <tr>\n      <th>342534</th>\n      <td>buttermilk pancake &amp; waffle mix, buttermilk en...</td>\n      <td>beverages</td>\n      <td>sweetened beverages</td>\n    </tr>\n    <tr>\n      <th>342535</th>\n      <td>buttered toffee pancake &amp; waffle mix, buttered...</td>\n      <td>fruits and vegetables</td>\n      <td>fruits</td>\n    </tr>\n    <tr>\n      <th>342536</th>\n      <td>holiday train gingerbread kit, ginger cookies:...</td>\n      <td>fish meat eggs</td>\n      <td>offals</td>\n    </tr>\n  </tbody>\n</table>\n<p>342537 rows × 3 columns</p>\n</div>"
     },
     "metadata": {},
     "execution_count": 109
    }
   ],
   "source": [
    "en_labelled = en_labelled.append(fr_labelled, ignore_index=True)\n",
    "en_labelled"
   ]
  },
  {
   "cell_type": "code",
   "execution_count": 85,
   "metadata": {},
   "outputs": [],
   "source": [
    "path = r'C:\\Users\\Antoine\\Coding Bootcamp\\Open Food Facts\\Notebooks\\Model Evaluation'"
   ]
  },
  {
   "cell_type": "code",
   "execution_count": 87,
   "metadata": {},
   "outputs": [],
   "source": [
    "import pickle"
   ]
  },
  {
   "cell_type": "code",
   "execution_count": 110,
   "metadata": {},
   "outputs": [],
   "source": [
    "pkl_file_G1 = open(f'{path}\\label_encoder_g1.pkl', 'rb')\n",
    "le = pickle.load(pkl_file_G1)\n",
    "pkl_file_G1.close()\n",
    "pkl_file_G2 = open(f'{path}\\label_encoder_g2.pkl', 'rb')\n",
    "le_2 = pickle.load(pkl_file_G2)\n",
    "pkl_file_G2.close()\n",
    "en_labelled['label_G1'] = le.fit_transform(en_labelled['pnns_groups_1'])\n",
    "en_labelled['label_G2'] = le_2.fit_transform(en_labelled['pnns_groups_2'])"
   ]
  },
  {
   "cell_type": "code",
   "execution_count": 111,
   "metadata": {},
   "outputs": [
    {
     "output_type": "execute_result",
     "data": {
      "text/plain": [
       "                                                     text  \\\n",
       "0         organic baby lima beans organic baby lima beans   \n",
       "1          cranberries cranberries, sugar, sunflower oil.   \n",
       "2       sliced plain bagel unbleached enriched flour (...   \n",
       "3       muffin wheatflour, sugar, eggs, soybean oil, w...   \n",
       "4       apple turnover pastry: unbleached wheat flour ...   \n",
       "...                                                   ...   \n",
       "342532  stoneground mustard aioli, stoneground soybean...   \n",
       "342533  baked pretzel twists unbleached enriched wheat...   \n",
       "342534  buttermilk pancake & waffle mix, buttermilk en...   \n",
       "342535  buttered toffee pancake & waffle mix, buttered...   \n",
       "342536  holiday train gingerbread kit, ginger cookies:...   \n",
       "\n",
       "                pnns_groups_1        pnns_groups_2  label_G1  label_G2  \n",
       "0        cereals and potatoes              legumes         1        18  \n",
       "1       fruits and vegetables               fruits         5        16  \n",
       "2        cereals and potatoes                bread         1         3  \n",
       "3               sugary snacks   biscuits and cakes         8         2  \n",
       "4               sugary snacks             pastries         8        24  \n",
       "...                       ...                  ...       ...       ...  \n",
       "342532              beverages  sweetened beverages         0        32  \n",
       "342533        composite foods       one-dish meals         2        23  \n",
       "342534              beverages  sweetened beverages         0        32  \n",
       "342535  fruits and vegetables               fruits         5        16  \n",
       "342536         fish meat eggs               offals         4        22  \n",
       "\n",
       "[342537 rows x 5 columns]"
      ],
      "text/html": "<div>\n<style scoped>\n    .dataframe tbody tr th:only-of-type {\n        vertical-align: middle;\n    }\n\n    .dataframe tbody tr th {\n        vertical-align: top;\n    }\n\n    .dataframe thead th {\n        text-align: right;\n    }\n</style>\n<table border=\"1\" class=\"dataframe\">\n  <thead>\n    <tr style=\"text-align: right;\">\n      <th></th>\n      <th>text</th>\n      <th>pnns_groups_1</th>\n      <th>pnns_groups_2</th>\n      <th>label_G1</th>\n      <th>label_G2</th>\n    </tr>\n  </thead>\n  <tbody>\n    <tr>\n      <th>0</th>\n      <td>organic baby lima beans organic baby lima beans</td>\n      <td>cereals and potatoes</td>\n      <td>legumes</td>\n      <td>1</td>\n      <td>18</td>\n    </tr>\n    <tr>\n      <th>1</th>\n      <td>cranberries cranberries, sugar, sunflower oil.</td>\n      <td>fruits and vegetables</td>\n      <td>fruits</td>\n      <td>5</td>\n      <td>16</td>\n    </tr>\n    <tr>\n      <th>2</th>\n      <td>sliced plain bagel unbleached enriched flour (...</td>\n      <td>cereals and potatoes</td>\n      <td>bread</td>\n      <td>1</td>\n      <td>3</td>\n    </tr>\n    <tr>\n      <th>3</th>\n      <td>muffin wheatflour, sugar, eggs, soybean oil, w...</td>\n      <td>sugary snacks</td>\n      <td>biscuits and cakes</td>\n      <td>8</td>\n      <td>2</td>\n    </tr>\n    <tr>\n      <th>4</th>\n      <td>apple turnover pastry: unbleached wheat flour ...</td>\n      <td>sugary snacks</td>\n      <td>pastries</td>\n      <td>8</td>\n      <td>24</td>\n    </tr>\n    <tr>\n      <th>...</th>\n      <td>...</td>\n      <td>...</td>\n      <td>...</td>\n      <td>...</td>\n      <td>...</td>\n    </tr>\n    <tr>\n      <th>342532</th>\n      <td>stoneground mustard aioli, stoneground soybean...</td>\n      <td>beverages</td>\n      <td>sweetened beverages</td>\n      <td>0</td>\n      <td>32</td>\n    </tr>\n    <tr>\n      <th>342533</th>\n      <td>baked pretzel twists unbleached enriched wheat...</td>\n      <td>composite foods</td>\n      <td>one-dish meals</td>\n      <td>2</td>\n      <td>23</td>\n    </tr>\n    <tr>\n      <th>342534</th>\n      <td>buttermilk pancake &amp; waffle mix, buttermilk en...</td>\n      <td>beverages</td>\n      <td>sweetened beverages</td>\n      <td>0</td>\n      <td>32</td>\n    </tr>\n    <tr>\n      <th>342535</th>\n      <td>buttered toffee pancake &amp; waffle mix, buttered...</td>\n      <td>fruits and vegetables</td>\n      <td>fruits</td>\n      <td>5</td>\n      <td>16</td>\n    </tr>\n    <tr>\n      <th>342536</th>\n      <td>holiday train gingerbread kit, ginger cookies:...</td>\n      <td>fish meat eggs</td>\n      <td>offals</td>\n      <td>4</td>\n      <td>22</td>\n    </tr>\n  </tbody>\n</table>\n<p>342537 rows × 5 columns</p>\n</div>"
     },
     "metadata": {},
     "execution_count": 111
    }
   ],
   "source": [
    "en_labelled"
   ]
  },
  {
   "cell_type": "code",
   "execution_count": 112,
   "metadata": {},
   "outputs": [
    {
     "output_type": "execute_result",
     "data": {
      "text/plain": [
       "((50000, 5), (292537, 5))"
      ]
     },
     "metadata": {},
     "execution_count": 112
    }
   ],
   "source": [
    "en_test_set = en_labelled.sample(50000, random_state=42)\n",
    "en_train_set = en_labelled.drop(en_test_set.index)\n",
    "en_test_set.shape, en_train_set.shape"
   ]
  },
  {
   "cell_type": "code",
   "execution_count": 113,
   "metadata": {},
   "outputs": [],
   "source": [
    "en_full.to_csv('en_full.csv')\n",
    "en_labelled.to_csv('en_labelled.csv')\n",
    "en_test_set.to_csv('en_test_set.csv', index=False)\n",
    "en_train_set.to_csv('en_train_set.csv', index=False)"
   ]
  }
 ],
 "metadata": {
  "kernelspec": {
   "name": "python37764bitbasecondab3ebe6f179834b7aacc61912471eb5bd",
   "display_name": "Python 3.8.5 64-bit ('base': conda)"
  },
  "language_info": {
   "codemirror_mode": {
    "name": "ipython",
    "version": 3
   },
   "file_extension": ".py",
   "mimetype": "text/x-python",
   "name": "python",
   "nbconvert_exporter": "python",
   "pygments_lexer": "ipython3",
   "version": "3.8.5"
  },
  "metadata": {
   "interpreter": {
    "hash": "4357402ff8a0be26157935a0c1892356373f0732995949afb3cbae248038a4af"
   }
  }
 },
 "nbformat": 4,
 "nbformat_minor": 4
}