{
 "metadata": {
  "language_info": {
   "codemirror_mode": {
    "name": "ipython",
    "version": 3
   },
   "file_extension": ".py",
   "mimetype": "text/x-python",
   "name": "python",
   "nbconvert_exporter": "python",
   "pygments_lexer": "ipython3",
   "version": "3.7.10"
  },
  "orig_nbformat": 2,
  "kernelspec": {
   "name": "python3710jvsc74a57bd09b2cb540d590a79081b820842456d76b03ebc469af0c9d4bf006b67d9ffd2015",
   "display_name": "Python 3.7.10 64-bit ('torch': conda)"
  }
 },
 "nbformat": 4,
 "nbformat_minor": 2,
 "cells": [
  {
   "source": [
    "# AWD LSTM $G_1$ & $G_2$ Classification with fast-ai"
   ],
   "cell_type": "markdown",
   "metadata": {}
  },
  {
   "source": [
    "# Settings"
   ],
   "cell_type": "markdown",
   "metadata": {}
  },
  {
   "cell_type": "code",
   "execution_count": null,
   "metadata": {},
   "outputs": [],
   "source": [
    "!pip install -Uqq fastbook\n",
    "import fastbook\n",
    "fastbook.setup_book()"
   ]
  },
  {
   "cell_type": "code",
   "execution_count": null,
   "metadata": {},
   "outputs": [],
   "source": [
    "from fastbook import *\n",
    "from IPython.display import display,HTML\n",
    "from fastai.text.all import *\n",
    "import pandas as pd"
   ]
  },
  {
   "cell_type": "code",
   "execution_count": null,
   "metadata": {},
   "outputs": [],
   "source": [
    "path = r'/content'"
   ]
  },
  {
   "source": [
    "# Fine tuning Encoder"
   ],
   "cell_type": "markdown",
   "metadata": {}
  },
  {
   "cell_type": "code",
   "execution_count": null,
   "metadata": {},
   "outputs": [],
   "source": [
    "df_finetune = pd.read_csv(f'{path}\\en_full.csv', low_memory=False)"
   ]
  },
  {
   "cell_type": "code",
   "execution_count": null,
   "metadata": {},
   "outputs": [],
   "source": [
    "dls_finetune = TextDataLoaders.from_df(path=path, df=df_finetune, text_col='text', is_lm=True)\n",
    "dls_finetune.show_batch(max_n=2)"
   ]
  },
  {
   "cell_type": "code",
   "execution_count": null,
   "metadata": {},
   "outputs": [],
   "source": [
    "awd_finetune = language_model_learner(\n",
    "    dls_finetune, AWD_LSTM, drop_mult=0.3, \n",
    "    metrics=[accuracy, Perplexity()]).to_fp16()"
   ]
  },
  {
   "cell_type": "code",
   "execution_count": null,
   "metadata": {},
   "outputs": [],
   "source": [
    "awd_finetune.fit_one_cycle(5, 2e-2)"
   ]
  },
  {
   "cell_type": "code",
   "execution_count": null,
   "metadata": {},
   "outputs": [],
   "source": [
    "awd_finetune.save_encoder('finetuned')"
   ]
  },
  {
   "source": [
    "# Classification"
   ],
   "cell_type": "markdown",
   "metadata": {}
  },
  {
   "cell_type": "code",
   "execution_count": null,
   "metadata": {},
   "outputs": [],
   "source": [
    "df_classif = pd.read_csv(f'{path}\\en_labelled.csv', low_memory=False)"
   ]
  },
  {
   "source": [
    "## AWD LSTM $G_1$"
   ],
   "cell_type": "markdown",
   "metadata": {}
  },
  {
   "cell_type": "code",
   "execution_count": null,
   "metadata": {},
   "outputs": [],
   "source": [
    "dls_G1 = TextDataLoaders.from_df(path=path, df=df_classif, text_col='text', label_col='pnns_groups_1', is_lm=False, vocab=dls_finetune.vocab)\n",
    "dls_G1.show_batch(max_n=2)"
   ]
  },
  {
   "cell_type": "code",
   "execution_count": null,
   "metadata": {},
   "outputs": [],
   "source": [
    "AWD_G1 = text_classifier_learner(\n",
    "    dls_G1, \n",
    "    AWD_LSTM(\n",
    "        hidden_p=0.2, \n",
    "        input_p=0.6, \n",
    "        embed_p=0.1, \n",
    "        weight_p=0.5, \n",
    "        bidir=False\n",
    "        ), \n",
    "    drop_mult=0.5, \n",
    "    metrics=PrecisionMulti\n",
    "    ).to_fp16()"
   ]
  },
  {
   "cell_type": "code",
   "execution_count": null,
   "metadata": {},
   "outputs": [],
   "source": [
    "AWD_G1 = AWD_G1.load_encoder('finetuned')"
   ]
  },
  {
   "cell_type": "code",
   "execution_count": null,
   "metadata": {},
   "outputs": [],
   "source": [
    "AWD_G1.fit_one_cycle(1, 2e-2)"
   ]
  },
  {
   "cell_type": "code",
   "execution_count": null,
   "metadata": {},
   "outputs": [],
   "source": [
    "AWD_G1.save('1epoch_G1')"
   ]
  },
  {
   "cell_type": "code",
   "execution_count": null,
   "metadata": {},
   "outputs": [],
   "source": [
    "AWD_G1/load('1epoch_G1')"
   ]
  },
  {
   "cell_type": "code",
   "execution_count": null,
   "metadata": {},
   "outputs": [],
   "source": [
    "AWD_G2.lr_find()"
   ]
  },
  {
   "cell_type": "code",
   "execution_count": null,
   "metadata": {},
   "outputs": [],
   "source": [
    "AWD_G1.fit_one_cycle(20, 2e-2)"
   ]
  },
  {
   "cell_type": "code",
   "execution_count": null,
   "metadata": {},
   "outputs": [],
   "source": [
    "interp_G1 = ClassificationInterpretation.from_learner(AWD_G1)"
   ]
  },
  {
   "cell_type": "code",
   "execution_count": null,
   "metadata": {},
   "outputs": [],
   "source": [
    "interp_G1.print_classification_report()"
   ]
  },
  {
   "cell_type": "code",
   "execution_count": null,
   "metadata": {},
   "outputs": [],
   "source": [
    "interp_G1.plot_confusion_matrix()"
   ]
  },
  {
   "source": [
    "## AWD LSTM $G_2$"
   ],
   "cell_type": "markdown",
   "metadata": {}
  },
  {
   "cell_type": "code",
   "execution_count": null,
   "metadata": {},
   "outputs": [],
   "source": [
    "dls_G2 = TextDataLoaders.from_df(path=path, df=df_classif, text_col='text', label_col='pnns_groups_2', is_lm=False, vocab=dls_finetune.vocab)\n",
    "dls_G2.show_batch(max_n=2)"
   ]
  },
  {
   "cell_type": "code",
   "execution_count": null,
   "metadata": {},
   "outputs": [],
   "source": [
    "AWD_G2 = text_classifier_learner(\n",
    "    dls_G2, \n",
    "    AWD_LSTM(\n",
    "        hidden_p=0.2, \n",
    "        input_p=0.6, \n",
    "        embed_p=0.1, \n",
    "        weight_p=0.5, \n",
    "        bidir=False\n",
    "        ), \n",
    "    drop_mult=0.5, \n",
    "    metrics=PrecisionMulti\n",
    "    ).to_fp16()"
   ]
  },
  {
   "cell_type": "code",
   "execution_count": null,
   "metadata": {},
   "outputs": [],
   "source": [
    "AWD_G2 = AWD_G2.load_encoder('finetuned')"
   ]
  },
  {
   "cell_type": "code",
   "execution_count": null,
   "metadata": {},
   "outputs": [],
   "source": [
    "AWD_G2.fit_one_cycle(1, 2e-2)"
   ]
  },
  {
   "cell_type": "code",
   "execution_count": null,
   "metadata": {},
   "outputs": [],
   "source": [
    "AWD_G2.save('1epoch')"
   ]
  },
  {
   "cell_type": "code",
   "execution_count": null,
   "metadata": {},
   "outputs": [],
   "source": [
    "AWD_G2.load('1epoch')"
   ]
  },
  {
   "cell_type": "code",
   "execution_count": null,
   "metadata": {},
   "outputs": [],
   "source": [
    "AWD_G2.lr_find()"
   ]
  },
  {
   "cell_type": "code",
   "execution_count": null,
   "metadata": {},
   "outputs": [],
   "source": [
    "learn.fit_one_cycle(20, 2e-2)"
   ]
  },
  {
   "cell_type": "code",
   "execution_count": null,
   "metadata": {},
   "outputs": [],
   "source": [
    "interp_G2 = ClassificationInterpretation.from_learner(AWD_G2)"
   ]
  },
  {
   "cell_type": "code",
   "execution_count": null,
   "metadata": {},
   "outputs": [],
   "source": [
    "interp_G2.print_classification_report()"
   ]
  },
  {
   "cell_type": "code",
   "execution_count": null,
   "metadata": {},
   "outputs": [],
   "source": [
    "interp_G2.plot_confusion_matrix()"
   ]
  },
  {
   "source": [
    "## Export models"
   ],
   "cell_type": "markdown",
   "metadata": {}
  },
  {
   "cell_type": "code",
   "execution_count": null,
   "metadata": {},
   "outputs": [],
   "source": [
    "AWD_G1.save('awdg1')\n",
    "AWD_G2.save('awdg2')\n",
    "AWD_G1.export('awdg1_export')\n",
    "AWD_G2.export('awdg2_export')"
   ]
  }
 ]
}