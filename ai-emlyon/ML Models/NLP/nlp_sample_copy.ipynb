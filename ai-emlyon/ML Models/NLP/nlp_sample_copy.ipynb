{
 "metadata": {
  "language_info": {
   "codemirror_mode": {
    "name": "ipython",
    "version": 3
   },
   "file_extension": ".py",
   "mimetype": "text/x-python",
   "name": "python",
   "nbconvert_exporter": "python",
   "pygments_lexer": "ipython3",
   "version": "3.7.10"
  },
  "orig_nbformat": 2,
  "kernelspec": {
   "name": "python3710jvsc74a57bd09b2cb540d590a79081b820842456d76b03ebc469af0c9d4bf006b67d9ffd2015",
   "display_name": "Python 3.7.10 64-bit ('torch': conda)"
  }
 },
 "nbformat": 4,
 "nbformat_minor": 2,
 "cells": [
  {
   "cell_type": "code",
   "execution_count": 1,
   "metadata": {},
   "outputs": [],
   "source": [
    "import pandas as pd\n",
    "import numpy as np\n",
    "import spacy\n",
    "import torchtext\n",
    "import torch\n",
    "import torch.nn as nn\n",
    "import torch.optim as optim\n",
    "from torchtext.legacy.data import Field, TabularDataset, BucketIterator\n",
    "from torchtext.legacy.data import LabelField"
   ]
  },
  {
   "cell_type": "code",
   "execution_count": 178,
   "metadata": {},
   "outputs": [],
   "source": [
    "data = pd.read_csv(r'C:\\Users\\Antoine\\Coding Bootcamp\\Open Food Facts\\data_nlp_small.csv')\n",
    "from sklearn.preprocessing import LabelEncoder\n",
    "le = LabelEncoder()\n",
    "data['label'] = le.fit_transform(data['label'])"
   ]
  },
  {
   "cell_type": "code",
   "execution_count": 179,
   "metadata": {},
   "outputs": [
    {
     "output_type": "execute_result",
     "data": {
      "text/plain": [
       "                                                 text  label\n",
       "0   Skim milk; milk; vitamin a palmitate; vitamin ...      6\n",
       "1   Boneless duck breast; water; sea salt Boneless...      4\n",
       "2   HARINA DE TRIGO (GLUTEN); LEVADURA; AZUCAR; AC...      1\n",
       "3   Sugar; enriched flour bleached (wheat flour; n...      9\n",
       "4   glucose syrup (wheat sugar; peanuts; rice cris...      9\n",
       "..                                                ...    ...\n",
       "95  Peaches; water; and sugar. Yellow cling sliced...      5\n",
       "96  Crème de coco 49.3% (crème de coco; protéines ...      6\n",
       "97  Riz basmati semi-complet Riz basmati semi-complet      1\n",
       "98  Peanuts*; tapioca syrup*; dark chocolate flavo...      9\n",
       "99  Crust: 100% organically grown wheat; good moun...      2\n",
       "\n",
       "[100 rows x 2 columns]"
      ],
      "text/html": "<div>\n<style scoped>\n    .dataframe tbody tr th:only-of-type {\n        vertical-align: middle;\n    }\n\n    .dataframe tbody tr th {\n        vertical-align: top;\n    }\n\n    .dataframe thead th {\n        text-align: right;\n    }\n</style>\n<table border=\"1\" class=\"dataframe\">\n  <thead>\n    <tr style=\"text-align: right;\">\n      <th></th>\n      <th>text</th>\n      <th>label</th>\n    </tr>\n  </thead>\n  <tbody>\n    <tr>\n      <th>0</th>\n      <td>Skim milk; milk; vitamin a palmitate; vitamin ...</td>\n      <td>6</td>\n    </tr>\n    <tr>\n      <th>1</th>\n      <td>Boneless duck breast; water; sea salt Boneless...</td>\n      <td>4</td>\n    </tr>\n    <tr>\n      <th>2</th>\n      <td>HARINA DE TRIGO (GLUTEN); LEVADURA; AZUCAR; AC...</td>\n      <td>1</td>\n    </tr>\n    <tr>\n      <th>3</th>\n      <td>Sugar; enriched flour bleached (wheat flour; n...</td>\n      <td>9</td>\n    </tr>\n    <tr>\n      <th>4</th>\n      <td>glucose syrup (wheat sugar; peanuts; rice cris...</td>\n      <td>9</td>\n    </tr>\n    <tr>\n      <th>...</th>\n      <td>...</td>\n      <td>...</td>\n    </tr>\n    <tr>\n      <th>95</th>\n      <td>Peaches; water; and sugar. Yellow cling sliced...</td>\n      <td>5</td>\n    </tr>\n    <tr>\n      <th>96</th>\n      <td>Crème de coco 49.3% (crème de coco; protéines ...</td>\n      <td>6</td>\n    </tr>\n    <tr>\n      <th>97</th>\n      <td>Riz basmati semi-complet Riz basmati semi-complet</td>\n      <td>1</td>\n    </tr>\n    <tr>\n      <th>98</th>\n      <td>Peanuts*; tapioca syrup*; dark chocolate flavo...</td>\n      <td>9</td>\n    </tr>\n    <tr>\n      <th>99</th>\n      <td>Crust: 100% organically grown wheat; good moun...</td>\n      <td>2</td>\n    </tr>\n  </tbody>\n</table>\n<p>100 rows × 2 columns</p>\n</div>"
     },
     "metadata": {},
     "execution_count": 179
    }
   ],
   "source": [
    "data.to_csv(r'C:\\Users\\Antoine\\Coding Bootcamp\\Open Food Facts\\data_nlp_sample.csv', index=False, header=True)\n",
    "df = pd.read_csv(r'C:\\Users\\Antoine\\Coding Bootcamp\\Open Food Facts\\data_nlp_sample.csv')\n",
    "df"
   ]
  },
  {
   "cell_type": "code",
   "execution_count": 180,
   "metadata": {},
   "outputs": [],
   "source": [
    "path_data = r'C:\\Users\\Antoine\\Coding Bootcamp\\Open Food Facts'"
   ]
  },
  {
   "cell_type": "code",
   "execution_count": 181,
   "metadata": {},
   "outputs": [
    {
     "output_type": "execute_result",
     "data": {
      "text/plain": [
       "array(['Beverages', 'Cereals and potatoes', 'Composite foods',\n",
       "       'Fat and sauces', 'Fish Meat Eggs', 'Fruits and vegetables',\n",
       "       'Milk and dairy products', 'Salty snacks', 'Sugary snacks',\n",
       "       'unknown'], dtype=object)"
      ]
     },
     "metadata": {},
     "execution_count": 181
    }
   ],
   "source": [
    "le.classes_"
   ]
  },
  {
   "cell_type": "code",
   "execution_count": 182,
   "metadata": {},
   "outputs": [],
   "source": [
    "spacy_en = spacy.load('en')\n",
    "def tokenizer(text): return [tok.text for tok in spacy_en.tokenizer(text)]"
   ]
  },
  {
   "cell_type": "code",
   "execution_count": 200,
   "metadata": {},
   "outputs": [],
   "source": [
    "TEXT = Field(sequential=True, lower=True, include_lengths=False, pad_token='<pad>', unk_token= '<unk>', batch_first=True, tokenize= tokenizer)\n",
    "LABELS = Field(sequential=False, use_vocab=False, batch_first=True)\n",
    "fields = [('text', TEXT), ('label', LABELS)]"
   ]
  },
  {
   "cell_type": "code",
   "execution_count": 201,
   "metadata": {},
   "outputs": [],
   "source": [
    "train, valid, test = TabularDataset.splits(path=path_data, train='data_nlp_sample.csv', validation='data_nlp_sample.csv', test='data_nlp_sample.csv',\n",
    "                                           format='csv', fields=fields, skip_header=True)"
   ]
  },
  {
   "cell_type": "code",
   "execution_count": 186,
   "metadata": {},
   "outputs": [],
   "source": [
    "device = torch.device('cuda' if torch.cuda.is_available else 'cpu')"
   ]
  },
  {
   "cell_type": "code",
   "execution_count": 202,
   "metadata": {},
   "outputs": [],
   "source": [
    "train_iter = BucketIterator(train, batch_size=32, sort_key=lambda x: len(x.text),\n",
    "                            device=device, sort=True, sort_within_batch=True, shuffle=True, repeat=False)\n",
    "valid_iter = BucketIterator(valid, batch_size=32, sort_key=lambda x: len(x.text),\n",
    "                            device=device, sort=True, sort_within_batch=True, shuffle=True, repeat=False)\n",
    "test_iter = BucketIterator(test, batch_size=64, sort_key=lambda x: len(x.text),\n",
    "                            device=device, sort=True, sort_within_batch=True, shuffle=True, repeat=False)"
   ]
  },
  {
   "cell_type": "code",
   "execution_count": 203,
   "metadata": {},
   "outputs": [],
   "source": [
    "TEXT.build_vocab(train, min_freq=2, vectors='glove.6B.300d')"
   ]
  },
  {
   "cell_type": "code",
   "execution_count": 204,
   "metadata": {},
   "outputs": [
    {
     "output_type": "execute_result",
     "data": {
      "text/plain": [
       "504"
      ]
     },
     "metadata": {},
     "execution_count": 204
    }
   ],
   "source": [
    "len(TEXT.vocab)"
   ]
  },
  {
   "cell_type": "code",
   "execution_count": 191,
   "metadata": {},
   "outputs": [
    {
     "output_type": "execute_result",
     "data": {
      "text/plain": [
       "torch.Size([504, 300])"
      ]
     },
     "metadata": {},
     "execution_count": 191
    }
   ],
   "source": [
    "TEXT.vocab.vectors.shape"
   ]
  },
  {
   "cell_type": "code",
   "execution_count": 207,
   "metadata": {},
   "outputs": [],
   "source": [
    "batch = next(iter(train_iter))"
   ]
  },
  {
   "cell_type": "code",
   "execution_count": 192,
   "metadata": {},
   "outputs": [],
   "source": [
    "class LSTMG1(nn.Module):\n",
    "    def __init__(self, embedding_dim=300, n_layers=2, p=0.5):\n",
    "        super(LSTMG1, self).__init__()\n",
    "        self.embedding = nn.Embedding.from_pretrained(TEXT.vocab.vectors, freeze=False)\n",
    "        self.lstm = nn.LSTM(\n",
    "            input_size= embedding_dim, \n",
    "            hidden_size=embedding_dim, \n",
    "            num_layers=n_layers,\n",
    "            bidirectional=True,\n",
    "            batch_first=True)\n",
    "        self.drop = nn.Dropout(p)\n",
    "        self.fc = nn.Linear(embedding_dim, 10)\n",
    "        self.h_o.weight = self.i_h.weight\n",
    "    \n",
    "    def forward(self, inputs):\n",
    "        embeds = self.embedding(inputs)\n",
    "        outputs, (h_n, c_n) = self.lstm(embeds)\n",
    "        x = h_n[0]\n",
    "        x = self.fc(x)\n",
    "        return x"
   ]
  },
  {
   "cell_type": "code",
   "execution_count": 208,
   "metadata": {},
   "outputs": [],
   "source": [
    "net = LSTMG1(embedding_dim=300).to(device)"
   ]
  },
  {
   "cell_type": "code",
   "execution_count": 209,
   "metadata": {},
   "outputs": [],
   "source": [
    "criterion = nn.CrossEntropyLoss()\n",
    "optimizer = optim.Adam(net.parameters(), lr=0.001)"
   ]
  },
  {
   "cell_type": "code",
   "execution_count": 210,
   "metadata": {},
   "outputs": [
    {
     "output_type": "execute_result",
     "data": {
      "text/plain": [
       "LSTMG1(\n",
       "  (embedding): Embedding(504, 300)\n",
       "  (lstm): LSTM(300, 300, batch_first=True)\n",
       "  (fc): Linear(in_features=300, out_features=10, bias=True)\n",
       ")"
      ]
     },
     "metadata": {},
     "execution_count": 210
    }
   ],
   "source": [
    "net"
   ]
  },
  {
   "cell_type": "code",
   "execution_count": 218,
   "metadata": {},
   "outputs": [
    {
     "output_type": "stream",
     "name": "stdout",
     "text": [
      "Wall time: 450 ms\n"
     ]
    }
   ],
   "source": [
    "%%time\n",
    "n_epochs = 50\n",
    "for epoch in range(n_epochs):\n",
    "    batch = next(iter(train_iter))\n",
    "    data = batch.text.to(device) #send x\n",
    "    labels = batch.label.to(device) #send y\n",
    "\n",
    "    outputs = net(data) #calc outputs\n",
    "    loss = criterion(outputs, labels) #calc loss\n",
    "\n",
    "    optimizer.zero_grad() #reinit gradient\n",
    "    loss.backward() #backward loss\n",
    "    optimizer.step() #update weights"
   ]
  },
  {
   "cell_type": "code",
   "execution_count": 219,
   "metadata": {},
   "outputs": [],
   "source": [
    "y_true = []\n",
    "y_preds = []\n",
    "with torch.no_grad():\n",
    "    for batch in test_iter:\n",
    "        data = batch.text.to(device)\n",
    "        labels = batch.label.to(device)\n",
    "        outputs = net(data)\n",
    "        _, predicted = torch.max(outputs.data, 1)\n",
    "        y_preds.append(predicted.cpu().numpy())\n",
    "        y_true.append(labels.cpu().numpy())\n",
    "        break\n",
    "y_true = np.concatenate(y_true)\n",
    "y_preds = np.concatenate(y_preds)"
   ]
  },
  {
   "cell_type": "code",
   "execution_count": 223,
   "metadata": {},
   "outputs": [],
   "source": [
    "lab_y_true = le.inverse_transform(y_true)\n",
    "lab_y_preds = le.inverse_transform(y_preds)"
   ]
  },
  {
   "cell_type": "code",
   "execution_count": 225,
   "metadata": {},
   "outputs": [
    {
     "output_type": "stream",
     "name": "stdout",
     "text": [
      "                         precision    recall  f1-score   support\n\n              Beverages       1.00      0.50      0.67        10\n   Cereals and potatoes       1.00      0.80      0.89         5\n        Composite foods       0.33      0.33      0.33         3\n         Fat and sauces       0.00      0.00      0.00         5\n         Fish Meat Eggs       0.80      0.50      0.62         8\n  Fruits and vegetables       0.07      0.33      0.11         3\nMilk and dairy products       0.00      0.00      0.00         3\n           Salty snacks       0.00      0.00      0.00         2\n          Sugary snacks       0.31      0.80      0.44         5\n                unknown       0.62      0.50      0.56        20\n\n               accuracy                           0.45        64\n              macro avg       0.41      0.38      0.36        64\n           weighted avg       0.57      0.45      0.48        64\n\n"
     ]
    }
   ],
   "source": [
    "from sklearn.metrics import classification_report\n",
    "print(classification_report(lab_y_true, lab_y_preds, zero_division=0))"
   ]
  },
  {
   "cell_type": "code",
   "execution_count": null,
   "metadata": {},
   "outputs": [],
   "source": []
  }
 ]
}