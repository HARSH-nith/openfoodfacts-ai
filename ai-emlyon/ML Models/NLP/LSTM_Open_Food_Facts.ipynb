{
 "cells": [
  {
   "cell_type": "markdown",
   "metadata": {},
   "source": [
    "# LSTM Open Food Facts"
   ]
  },
  {
   "cell_type": "markdown",
   "metadata": {
    "heading_collapsed": true
   },
   "source": [
    "## Imports"
   ]
  },
  {
   "cell_type": "code",
   "execution_count": 1,
   "metadata": {
    "colab": {
     "base_uri": "https://localhost:8080/"
    },
    "hidden": true,
    "id": "zbivKufczz4k",
    "outputId": "dad69b52-0881-424c-bec7-a1c806ec91d7"
   },
   "outputs": [
    {
     "name": "stdout",
     "output_type": "stream",
     "text": [
      "\u001b[K     |████████████████████████████████| 727kB 6.8MB/s \n",
      "\u001b[K     |████████████████████████████████| 1.2MB 13.2MB/s \n",
      "\u001b[K     |████████████████████████████████| 51kB 6.7MB/s \n",
      "\u001b[K     |████████████████████████████████| 204kB 34.9MB/s \n",
      "\u001b[K     |████████████████████████████████| 61kB 9.3MB/s \n",
      "\u001b[K     |████████████████████████████████| 61kB 9.7MB/s \n",
      "\u001b[?25hMounted at /content/gdrive\n"
     ]
    }
   ],
   "source": [
    "#hide\n",
    "!pip install -Uqq fastbook\n",
    "import fastbook\n",
    "fastbook.setup_book()"
   ]
  },
  {
   "cell_type": "code",
   "execution_count": 2,
   "metadata": {
    "hidden": true,
    "id": "kWEm2Xgnzz4n"
   },
   "outputs": [],
   "source": [
    "#hide\n",
    "from fastbook import *\n",
    "from IPython.display import display,HTML"
   ]
  },
  {
   "cell_type": "code",
   "execution_count": 3,
   "metadata": {
    "hidden": true,
    "id": "_pAwYSzMzz4u"
   },
   "outputs": [],
   "source": [
    "from fastai.text.all import *"
   ]
  },
  {
   "cell_type": "code",
   "execution_count": 4,
   "metadata": {
    "hidden": true,
    "id": "rDXlXyv60g8H"
   },
   "outputs": [],
   "source": [
    "path = r'/content'"
   ]
  },
  {
   "cell_type": "markdown",
   "metadata": {
    "heading_collapsed": true
   },
   "source": [
    "## Test sur 10K samples"
   ]
  },
  {
   "cell_type": "code",
   "execution_count": 7,
   "metadata": {
    "hidden": true,
    "id": "3XBdEd_GDuDW"
   },
   "outputs": [],
   "source": [
    "df = pd.read_csv('data_for_nlp.csv', low_memory=False, sep=',')\n",
    "df = df.sample(10000)"
   ]
  },
  {
   "cell_type": "code",
   "execution_count": 20,
   "metadata": {
    "colab": {
     "base_uri": "https://localhost:8080/",
     "height": 425
    },
    "hidden": true,
    "id": "Ure9YW8g0Q4K",
    "outputId": "6827ca2f-b9cf-4c81-928f-b5b17b2b5469"
   },
   "outputs": [
    {
     "data": {
      "text/html": [],
      "text/plain": [
       "<IPython.core.display.HTML object>"
      ]
     },
     "metadata": {
      "tags": []
     },
     "output_type": "display_data"
    },
    {
     "name": "stderr",
     "output_type": "stream",
     "text": [
      "/usr/local/lib/python3.7/dist-packages/numpy/core/_asarray.py:83: VisibleDeprecationWarning: Creating an ndarray from ragged nested sequences (which is a list-or-tuple of lists-or-tuples-or ndarrays with different lengths or shapes) is deprecated. If you meant to do this, you must specify 'dtype=object' when creating the ndarray\n",
      "  return array(a, dtype, copy=False, order=order)\n"
     ]
    },
    {
     "data": {
      "text/html": [
       "<table border=\"1\" class=\"dataframe\">\n",
       "  <thead>\n",
       "    <tr style=\"text-align: right;\">\n",
       "      <th></th>\n",
       "      <th>text</th>\n",
       "      <th>text_</th>\n",
       "    </tr>\n",
       "  </thead>\n",
       "  <tbody>\n",
       "    <tr>\n",
       "      <th>0</th>\n",
       "      <td>xxbos xxmaj framboises ( cat . xxup i ) . xxmaj framboises bio xxbos xxup vesi . xxup xxunk . xxup xxunk xxup ja xxup suola . xxmaj xxunk xxmaj xxunk xxbos xxmaj corn syrup ; sugar ; water ; modified corn starch ; gum arabic ; artificial flavor ; carnauba wax ; shellac ; citric acid ; malic acid ; titanium dioxide ( as color ) ; red 40 ; yellow</td>\n",
       "      <td>xxmaj framboises ( cat . xxup i ) . xxmaj framboises bio xxbos xxup vesi . xxup xxunk . xxup xxunk xxup ja xxup suola . xxmaj xxunk xxmaj xxunk xxbos xxmaj corn syrup ; sugar ; water ; modified corn starch ; gum arabic ; artificial flavor ; carnauba wax ; shellac ; citric acid ; malic acid ; titanium dioxide ( as color ) ; red 40 ; yellow 5</td>\n",
       "    </tr>\n",
       "    <tr>\n",
       "      <th>1</th>\n",
       "      <td>; xxmaj xxunk : xxmaj citronensäure ) ; xxmaj weizenkleber ; xxmaj backtriebmittel : xxmaj diphosphate ; xxmaj natriumcarbonate ; xxmaj xxunk ; xxmaj ethyl xxmaj alkohol ; xxmaj zucker ; xxmaj speisesalz ; xxmaj mehlbehandlungsmittel : xxmaj ascorbinsäure . 6 xxmaj xxunk xxbos xxmaj bread flour ( enriched flour ; bleached [ flour ; niacin ; iron ; thiamine mononitrate ; riboflavin ; folic acid ] ) ; red bean filling</td>\n",
       "      <td>xxmaj xxunk : xxmaj citronensäure ) ; xxmaj weizenkleber ; xxmaj backtriebmittel : xxmaj diphosphate ; xxmaj natriumcarbonate ; xxmaj xxunk ; xxmaj ethyl xxmaj alkohol ; xxmaj zucker ; xxmaj speisesalz ; xxmaj mehlbehandlungsmittel : xxmaj ascorbinsäure . 6 xxmaj xxunk xxbos xxmaj bread flour ( enriched flour ; bleached [ flour ; niacin ; iron ; thiamine mononitrate ; riboflavin ; folic acid ] ) ; red bean filling ;</td>\n",
       "    </tr>\n",
       "    <tr>\n",
       "      <th>2</th>\n",
       "      <td>enzymes ) ; organic dehydrated onions ; organic cultured dextrose ; organic cane juice ; organic garlic ; organic spice ; organic canola oil ; organic dehydrated carrots ; organic potato flour . xxmaj organic white cheddar cauliflower soup xxbos xxmaj carbonated water ; sugar ; orange juice concentrate ; apple juice concentrate ; citric acid ; natural flavors ; rebaudioside a ( stevia leaf extract ) . xxmaj h - e</td>\n",
       "      <td>) ; organic dehydrated onions ; organic cultured dextrose ; organic cane juice ; organic garlic ; organic spice ; organic canola oil ; organic dehydrated carrots ; organic potato flour . xxmaj organic white cheddar cauliflower soup xxbos xxmaj carbonated water ; sugar ; orange juice concentrate ; apple juice concentrate ; citric acid ; natural flavors ; rebaudioside a ( stevia leaf extract ) . xxmaj h - e -</td>\n",
       "    </tr>\n",
       "  </tbody>\n",
       "</table>"
      ],
      "text/plain": [
       "<IPython.core.display.HTML object>"
      ]
     },
     "metadata": {
      "tags": []
     },
     "output_type": "display_data"
    }
   ],
   "source": [
    "dls_lm = TextDataLoaders.from_df(path=path, df=df, text_col='text', label_col='label', is_lm=True)\n",
    "dls_lm.show_batch(max_n=3)"
   ]
  },
  {
   "cell_type": "markdown",
   "metadata": {
    "hidden": true,
    "id": "ni5pdQgCzz4-"
   },
   "source": [
    "### Language Model"
   ]
  },
  {
   "cell_type": "code",
   "execution_count": 21,
   "metadata": {
    "hidden": true,
    "id": "nw2W9eWpzz4_"
   },
   "outputs": [],
   "source": [
    "learn = language_model_learner(\n",
    "    dls_lm, AWD_LSTM, drop_mult=0.3, \n",
    "    metrics=[accuracy, Perplexity()]).to_fp16()"
   ]
  },
  {
   "cell_type": "code",
   "execution_count": 22,
   "metadata": {
    "colab": {
     "base_uri": "https://localhost:8080/",
     "height": 77
    },
    "hidden": true,
    "id": "5yS1xH6pzz4_",
    "outputId": "f412af1b-c23b-413b-a574-902220d80a82"
   },
   "outputs": [
    {
     "data": {
      "text/html": [
       "<table border=\"1\" class=\"dataframe\">\n",
       "  <thead>\n",
       "    <tr style=\"text-align: left;\">\n",
       "      <th>epoch</th>\n",
       "      <th>train_loss</th>\n",
       "      <th>valid_loss</th>\n",
       "      <th>accuracy</th>\n",
       "      <th>perplexity</th>\n",
       "      <th>time</th>\n",
       "    </tr>\n",
       "  </thead>\n",
       "  <tbody>\n",
       "    <tr>\n",
       "      <td>0</td>\n",
       "      <td>3.146273</td>\n",
       "      <td>2.787494</td>\n",
       "      <td>0.477325</td>\n",
       "      <td>16.240274</td>\n",
       "      <td>00:22</td>\n",
       "    </tr>\n",
       "  </tbody>\n",
       "</table>"
      ],
      "text/plain": [
       "<IPython.core.display.HTML object>"
      ]
     },
     "metadata": {
      "tags": []
     },
     "output_type": "display_data"
    }
   ],
   "source": [
    "learn.fit_one_cycle(1, 2e-2)"
   ]
  },
  {
   "cell_type": "markdown",
   "metadata": {
    "hidden": true,
    "id": "ogbGWaxrzz5A"
   },
   "source": [
    "### Saving and Loading Models"
   ]
  },
  {
   "cell_type": "code",
   "execution_count": 23,
   "metadata": {
    "colab": {
     "base_uri": "https://localhost:8080/"
    },
    "hidden": true,
    "id": "70PnYb-2zz5B",
    "outputId": "913fe170-0952-4e64-8bb2-ef274ced8f92"
   },
   "outputs": [
    {
     "data": {
      "text/plain": [
       "Path('/content/models/1epoch.pth')"
      ]
     },
     "execution_count": 23,
     "metadata": {
      "tags": []
     },
     "output_type": "execute_result"
    }
   ],
   "source": [
    "learn.save('1epoch')"
   ]
  },
  {
   "cell_type": "code",
   "execution_count": 24,
   "metadata": {
    "hidden": true,
    "id": "6-XDtnoMzz5B"
   },
   "outputs": [],
   "source": [
    "learn = learn.load('1epoch')"
   ]
  },
  {
   "cell_type": "code",
   "execution_count": 25,
   "metadata": {
    "colab": {
     "base_uri": "https://localhost:8080/",
     "height": 195
    },
    "hidden": true,
    "id": "uXyAihpQzz5C",
    "outputId": "3a14cd74-d048-47d9-f82e-8be41247fc1b"
   },
   "outputs": [
    {
     "data": {
      "text/html": [
       "<table border=\"1\" class=\"dataframe\">\n",
       "  <thead>\n",
       "    <tr style=\"text-align: left;\">\n",
       "      <th>epoch</th>\n",
       "      <th>train_loss</th>\n",
       "      <th>valid_loss</th>\n",
       "      <th>accuracy</th>\n",
       "      <th>perplexity</th>\n",
       "      <th>time</th>\n",
       "    </tr>\n",
       "  </thead>\n",
       "  <tbody>\n",
       "    <tr>\n",
       "      <td>0</td>\n",
       "      <td>2.542958</td>\n",
       "      <td>2.571611</td>\n",
       "      <td>0.501311</td>\n",
       "      <td>13.086896</td>\n",
       "      <td>00:24</td>\n",
       "    </tr>\n",
       "    <tr>\n",
       "      <td>1</td>\n",
       "      <td>2.325241</td>\n",
       "      <td>2.473281</td>\n",
       "      <td>0.513479</td>\n",
       "      <td>11.861296</td>\n",
       "      <td>00:24</td>\n",
       "    </tr>\n",
       "    <tr>\n",
       "      <td>2</td>\n",
       "      <td>2.096078</td>\n",
       "      <td>2.295792</td>\n",
       "      <td>0.541864</td>\n",
       "      <td>9.932301</td>\n",
       "      <td>00:24</td>\n",
       "    </tr>\n",
       "    <tr>\n",
       "      <td>3</td>\n",
       "      <td>1.834581</td>\n",
       "      <td>2.270813</td>\n",
       "      <td>0.551101</td>\n",
       "      <td>9.687268</td>\n",
       "      <td>00:24</td>\n",
       "    </tr>\n",
       "    <tr>\n",
       "      <td>4</td>\n",
       "      <td>1.666618</td>\n",
       "      <td>2.283904</td>\n",
       "      <td>0.552098</td>\n",
       "      <td>9.814924</td>\n",
       "      <td>00:23</td>\n",
       "    </tr>\n",
       "  </tbody>\n",
       "</table>"
      ],
      "text/plain": [
       "<IPython.core.display.HTML object>"
      ]
     },
     "metadata": {
      "tags": []
     },
     "output_type": "display_data"
    }
   ],
   "source": [
    "learn.unfreeze()\n",
    "learn.fit_one_cycle(5, 2e-3)"
   ]
  },
  {
   "cell_type": "code",
   "execution_count": 26,
   "metadata": {
    "hidden": true,
    "id": "dkG2d_s2zz5C"
   },
   "outputs": [],
   "source": [
    "learn.save_encoder('finetuned')"
   ]
  },
  {
   "cell_type": "markdown",
   "metadata": {
    "hidden": true,
    "id": "5rLsc3tNzz5E"
   },
   "source": [
    "### Classification"
   ]
  },
  {
   "cell_type": "code",
   "execution_count": 28,
   "metadata": {
    "colab": {
     "base_uri": "https://localhost:8080/",
     "height": 408
    },
    "hidden": true,
    "id": "qgMV3DoNLwTk",
    "outputId": "b7ff0f76-6c6a-44a4-e512-65ec0837b1e5"
   },
   "outputs": [
    {
     "data": {
      "text/html": [],
      "text/plain": [
       "<IPython.core.display.HTML object>"
      ]
     },
     "metadata": {
      "tags": []
     },
     "output_type": "display_data"
    },
    {
     "name": "stderr",
     "output_type": "stream",
     "text": [
      "/usr/local/lib/python3.7/dist-packages/numpy/core/_asarray.py:83: VisibleDeprecationWarning: Creating an ndarray from ragged nested sequences (which is a list-or-tuple of lists-or-tuples-or ndarrays with different lengths or shapes) is deprecated. If you meant to do this, you must specify 'dtype=object' when creating the ndarray\n",
      "  return array(a, dtype, copy=False, order=order)\n"
     ]
    },
    {
     "data": {
      "text/html": [
       "<table border=\"1\" class=\"dataframe\">\n",
       "  <thead>\n",
       "    <tr style=\"text-align: right;\">\n",
       "      <th></th>\n",
       "      <th>text</th>\n",
       "      <th>category</th>\n",
       "    </tr>\n",
       "  </thead>\n",
       "  <tbody>\n",
       "    <tr>\n",
       "      <th>0</th>\n",
       "      <td>xxbos u xxmaj xxunk xxunk instant xxunk ; xxunk : xxmaj xxunk t xxup xxunk ; xxunk ; 6 ; xxunk xxmaj xxunk ; cukor ; xxunk xxunk . xxmaj xxunk ( xxunk ) maltodextrin ; xxunk ( xxunk - xxunk ; xxunk - xxunk xxunk - xxunk ) ; so ; ( xxunk és xxup xxunk xxunk ( xxunk ; xxunk xxunk ( 3 % ) ; xxunk ( 2 % ) ; xxmaj cayenne - bors ( xxunk ) ; i m a ; xxunk bors xxunk xxup te xxup xxunk ; xxunk ( xxunk ) . a xxunk xxunk ; xxunk és xxunk xxunk xxup xxunk xxunk xxunk ar vistas xxunk . xxmaj xxunk : xxunk xxunk xxunk ( 25 xxup kviešu milti ; xxunk xxunk ; xxunk ; xxunk xxunk xxunk ; cukurs ; rapšu xxunk ; xxunk xxunk . xxmaj xxunk xxunk ( 15 %</td>\n",
       "      <td>cereals and potatoes</td>\n",
       "    </tr>\n",
       "    <tr>\n",
       "      <th>1</th>\n",
       "      <td>xxbos xxup ingredientes ( chile ) : xxmaj harina xxmaj integral de xxmaj avena ( 59 % ) ; xxmaj fibra xxmaj soluble de xxmaj maiz . xxmaj sémola de xxmaj trigo ( 14 % ) ; xxmaj semolina de xxmaj maiz ( 4 % ) ; xxmaj salvado de xxmaj trigo ( 2 % ) ; xxmaj inulina ; xxmaj maltitol ; xxmaj yogurt xxmaj xxunk ( 0;9 % ) ; xxmaj fosfato xxmaj tricálcico ; xxmaj sal ; xxmaj carbonato de xxmaj calcio ; xxmaj dióxido de xxmaj xxunk ; xxmaj saborizante xxmaj idéntico a xxmaj natural ; xxmaj maltodextrina ; xxmaj lecitina de xxmaj soya ; ácido xxmaj láctico ; xxmaj estevia ; xxmaj vitamina xxup c ; xxmaj niacina ; xxmaj antioxidante xxup bht ; xxunk de xxmaj zinc ; xxmaj pirofosfato xxmaj xxunk ; xxmaj sucralosa ; xxmaj saborizante xxmaj natural ; xxmaj vitamina xxup</td>\n",
       "      <td>cereals and potatoes</td>\n",
       "    </tr>\n",
       "    <tr>\n",
       "      <th>2</th>\n",
       "      <td>xxbos xxup xxunk xxmaj xxunk an xxunk xxup xxunk xxmaj xxunk l xxunk - xxunk xxunk xxup do xxmaj xxunk xxunk xxunk de xxmaj xxunk ho xxunk % ) ; / xxmaj xxunk 1 g ) ; ne d xxmaj xxunk xxunk xxmaj xxunk t xxunk xxmaj xxunk xxmaj apfel ; xxmaj orange ; xxmaj ananas ; xxunk ; xxmaj xxunk ; r xxunk xxunk - xxup e414 ; xxunk xxunk xxunk e xxmaj xxunk xxmaj xxunk für xxunk xxunk ; / xxmaj xxunk ; ( davon 7 xxunk ) - xxunk ; xxmaj xxunk g xxmaj e160a ; xxmaj xxunk : min 8 % . xxmaj das xxunk et xxmaj xxunk ; xxmaj xxunk ; xxmaj xxunk ; xxmaj xxunk xxunk xxunk mg ( 7;5 % &amp; ' ) / xxmaj folsäure 15 ug ( 7;5 % * ) ; xxunk ( 7 xxup xxunk xxmaj xxunk - .</td>\n",
       "      <td>beverages</td>\n",
       "    </tr>\n",
       "  </tbody>\n",
       "</table>"
      ],
      "text/plain": [
       "<IPython.core.display.HTML object>"
      ]
     },
     "metadata": {
      "tags": []
     },
     "output_type": "display_data"
    }
   ],
   "source": [
    "dls = TextDataLoaders.from_df(path=path, df=df, text_col='text', label_col='label', is_lm=False, vocab=dls_lm.vocab)\n",
    "dls.show_batch(max_n=3)"
   ]
  },
  {
   "cell_type": "code",
   "execution_count": 29,
   "metadata": {
    "hidden": true,
    "id": "-pZe3BC3zz5G"
   },
   "outputs": [],
   "source": [
    "learn = text_classifier_learner(dls, AWD_LSTM, drop_mult=0.5, \n",
    "                                metrics=accuracy).to_fp16()"
   ]
  },
  {
   "cell_type": "code",
   "execution_count": 30,
   "metadata": {
    "hidden": true,
    "id": "ybdz6TFtzz5G"
   },
   "outputs": [],
   "source": [
    "learn = learn.load_encoder('finetuned')"
   ]
  },
  {
   "cell_type": "markdown",
   "metadata": {
    "hidden": true,
    "id": "ZfFii3PBzz5G"
   },
   "source": [
    "### Fine-Tuning"
   ]
  },
  {
   "cell_type": "code",
   "execution_count": 31,
   "metadata": {
    "colab": {
     "base_uri": "https://localhost:8080/",
     "height": 77
    },
    "hidden": true,
    "id": "q29N1WHtzz5H",
    "outputId": "3faa7905-62e8-4015-cfe1-a96dd5384f74"
   },
   "outputs": [
    {
     "data": {
      "text/html": [
       "<table border=\"1\" class=\"dataframe\">\n",
       "  <thead>\n",
       "    <tr style=\"text-align: left;\">\n",
       "      <th>epoch</th>\n",
       "      <th>train_loss</th>\n",
       "      <th>valid_loss</th>\n",
       "      <th>accuracy</th>\n",
       "      <th>time</th>\n",
       "    </tr>\n",
       "  </thead>\n",
       "  <tbody>\n",
       "    <tr>\n",
       "      <td>0</td>\n",
       "      <td>1.110636</td>\n",
       "      <td>0.855312</td>\n",
       "      <td>0.719000</td>\n",
       "      <td>00:12</td>\n",
       "    </tr>\n",
       "  </tbody>\n",
       "</table>"
      ],
      "text/plain": [
       "<IPython.core.display.HTML object>"
      ]
     },
     "metadata": {
      "tags": []
     },
     "output_type": "display_data"
    }
   ],
   "source": [
    "learn.fit_one_cycle(1, 2e-2)"
   ]
  },
  {
   "cell_type": "code",
   "execution_count": 32,
   "metadata": {
    "colab": {
     "base_uri": "https://localhost:8080/",
     "height": 77
    },
    "hidden": true,
    "id": "-K1tqyjzzz5H",
    "outputId": "835d344c-6a7e-48fe-a1c2-825d33cdd5b5"
   },
   "outputs": [
    {
     "data": {
      "text/html": [
       "<table border=\"1\" class=\"dataframe\">\n",
       "  <thead>\n",
       "    <tr style=\"text-align: left;\">\n",
       "      <th>epoch</th>\n",
       "      <th>train_loss</th>\n",
       "      <th>valid_loss</th>\n",
       "      <th>accuracy</th>\n",
       "      <th>time</th>\n",
       "    </tr>\n",
       "  </thead>\n",
       "  <tbody>\n",
       "    <tr>\n",
       "      <td>0</td>\n",
       "      <td>0.923454</td>\n",
       "      <td>0.726325</td>\n",
       "      <td>0.763000</td>\n",
       "      <td>00:13</td>\n",
       "    </tr>\n",
       "  </tbody>\n",
       "</table>"
      ],
      "text/plain": [
       "<IPython.core.display.HTML object>"
      ]
     },
     "metadata": {
      "tags": []
     },
     "output_type": "display_data"
    }
   ],
   "source": [
    "learn.freeze_to(-2)\n",
    "learn.fit_one_cycle(1, slice(1e-2/(2.6**4),1e-2))"
   ]
  },
  {
   "cell_type": "code",
   "execution_count": 33,
   "metadata": {
    "colab": {
     "base_uri": "https://localhost:8080/",
     "height": 77
    },
    "hidden": true,
    "id": "j6pX3s7szz5I",
    "outputId": "c980e97f-d488-49c1-aca4-608c10e82d9e"
   },
   "outputs": [
    {
     "data": {
      "text/html": [
       "<table border=\"1\" class=\"dataframe\">\n",
       "  <thead>\n",
       "    <tr style=\"text-align: left;\">\n",
       "      <th>epoch</th>\n",
       "      <th>train_loss</th>\n",
       "      <th>valid_loss</th>\n",
       "      <th>accuracy</th>\n",
       "      <th>time</th>\n",
       "    </tr>\n",
       "  </thead>\n",
       "  <tbody>\n",
       "    <tr>\n",
       "      <td>0</td>\n",
       "      <td>0.759044</td>\n",
       "      <td>0.679995</td>\n",
       "      <td>0.787500</td>\n",
       "      <td>00:14</td>\n",
       "    </tr>\n",
       "  </tbody>\n",
       "</table>"
      ],
      "text/plain": [
       "<IPython.core.display.HTML object>"
      ]
     },
     "metadata": {
      "tags": []
     },
     "output_type": "display_data"
    }
   ],
   "source": [
    "learn.freeze_to(-3)\n",
    "learn.fit_one_cycle(1, slice(5e-3/(2.6**4),5e-3))"
   ]
  },
  {
   "cell_type": "code",
   "execution_count": 34,
   "metadata": {
    "colab": {
     "base_uri": "https://localhost:8080/",
     "height": 106
    },
    "hidden": true,
    "id": "4s-3caR3zz5I",
    "outputId": "48f4d0c4-4864-4bea-e059-5243db0e5364"
   },
   "outputs": [
    {
     "data": {
      "text/html": [
       "<table border=\"1\" class=\"dataframe\">\n",
       "  <thead>\n",
       "    <tr style=\"text-align: left;\">\n",
       "      <th>epoch</th>\n",
       "      <th>train_loss</th>\n",
       "      <th>valid_loss</th>\n",
       "      <th>accuracy</th>\n",
       "      <th>time</th>\n",
       "    </tr>\n",
       "  </thead>\n",
       "  <tbody>\n",
       "    <tr>\n",
       "      <td>0</td>\n",
       "      <td>0.579148</td>\n",
       "      <td>0.644136</td>\n",
       "      <td>0.806500</td>\n",
       "      <td>00:15</td>\n",
       "    </tr>\n",
       "    <tr>\n",
       "      <td>1</td>\n",
       "      <td>0.535337</td>\n",
       "      <td>0.637978</td>\n",
       "      <td>0.804500</td>\n",
       "      <td>00:15</td>\n",
       "    </tr>\n",
       "  </tbody>\n",
       "</table>"
      ],
      "text/plain": [
       "<IPython.core.display.HTML object>"
      ]
     },
     "metadata": {
      "tags": []
     },
     "output_type": "display_data"
    }
   ],
   "source": [
    "learn.unfreeze()\n",
    "learn.fit_one_cycle(2, slice(1e-3/(2.6**4),1e-3))"
   ]
  },
  {
   "cell_type": "code",
   "execution_count": 35,
   "metadata": {
    "colab": {
     "base_uri": "https://localhost:8080/",
     "height": 106
    },
    "hidden": true,
    "id": "AsSokdjAP5FT",
    "outputId": "64648e43-0e76-4b02-d338-a126030fce62"
   },
   "outputs": [
    {
     "data": {
      "text/html": [
       "<table border=\"1\" class=\"dataframe\">\n",
       "  <thead>\n",
       "    <tr style=\"text-align: left;\">\n",
       "      <th>epoch</th>\n",
       "      <th>train_loss</th>\n",
       "      <th>valid_loss</th>\n",
       "      <th>accuracy</th>\n",
       "      <th>time</th>\n",
       "    </tr>\n",
       "  </thead>\n",
       "  <tbody>\n",
       "    <tr>\n",
       "      <td>0</td>\n",
       "      <td>0.516851</td>\n",
       "      <td>0.633910</td>\n",
       "      <td>0.804000</td>\n",
       "      <td>00:15</td>\n",
       "    </tr>\n",
       "    <tr>\n",
       "      <td>1</td>\n",
       "      <td>0.466217</td>\n",
       "      <td>0.627625</td>\n",
       "      <td>0.816000</td>\n",
       "      <td>00:14</td>\n",
       "    </tr>\n",
       "  </tbody>\n",
       "</table>"
      ],
      "text/plain": [
       "<IPython.core.display.HTML object>"
      ]
     },
     "metadata": {
      "tags": []
     },
     "output_type": "display_data"
    }
   ],
   "source": [
    "learn.fit_one_cycle(2, slice(1e-3/(2.6**4),1e-3))"
   ]
  },
  {
   "cell_type": "code",
   "execution_count": 36,
   "metadata": {
    "colab": {
     "base_uri": "https://localhost:8080/",
     "height": 106
    },
    "hidden": true,
    "id": "d2zn6SrTQSiQ",
    "outputId": "5aa9f50d-b999-4bb7-cb9b-44b088e057e2"
   },
   "outputs": [
    {
     "data": {
      "text/html": [
       "<table border=\"1\" class=\"dataframe\">\n",
       "  <thead>\n",
       "    <tr style=\"text-align: left;\">\n",
       "      <th>epoch</th>\n",
       "      <th>train_loss</th>\n",
       "      <th>valid_loss</th>\n",
       "      <th>accuracy</th>\n",
       "      <th>time</th>\n",
       "    </tr>\n",
       "  </thead>\n",
       "  <tbody>\n",
       "    <tr>\n",
       "      <td>0</td>\n",
       "      <td>0.431010</td>\n",
       "      <td>0.619938</td>\n",
       "      <td>0.816500</td>\n",
       "      <td>00:15</td>\n",
       "    </tr>\n",
       "    <tr>\n",
       "      <td>1</td>\n",
       "      <td>0.407581</td>\n",
       "      <td>0.611569</td>\n",
       "      <td>0.822000</td>\n",
       "      <td>00:15</td>\n",
       "    </tr>\n",
       "  </tbody>\n",
       "</table>"
      ],
      "text/plain": [
       "<IPython.core.display.HTML object>"
      ]
     },
     "metadata": {
      "tags": []
     },
     "output_type": "display_data"
    }
   ],
   "source": [
    "learn.fit_one_cycle(2, slice(1e-3/(2.6**4),1e-3))"
   ]
  },
  {
   "cell_type": "markdown",
   "metadata": {},
   "source": [
    "## Classification sur 100K samples"
   ]
  },
  {
   "cell_type": "code",
   "execution_count": 38,
   "metadata": {
    "colab": {
     "base_uri": "https://localhost:8080/"
    },
    "id": "wW4q2fyEQ8ov",
    "outputId": "26ab728f-fc22-442e-d5f4-3391cffa5c5d"
   },
   "outputs": [
    {
     "data": {
      "text/plain": [
       "(442623, 2)"
      ]
     },
     "execution_count": 38,
     "metadata": {
      "tags": []
     },
     "output_type": "execute_result"
    }
   ],
   "source": [
    "df_full = pd.read_csv('data_for_nlp.csv', low_memory=False, sep=',')\n",
    "df_full.shape"
   ]
  },
  {
   "cell_type": "code",
   "execution_count": 39,
   "metadata": {
    "id": "nQZb5QjDRM1y"
   },
   "outputs": [],
   "source": [
    "df_full = df_full.sample(100000)"
   ]
  },
  {
   "cell_type": "code",
   "execution_count": 41,
   "metadata": {
    "colab": {
     "base_uri": "https://localhost:8080/",
     "height": 391
    },
    "id": "eiE9DhQlRFPh",
    "outputId": "53d105f7-9f08-4ede-a29e-5d1eff89d4e5"
   },
   "outputs": [
    {
     "data": {
      "text/html": [],
      "text/plain": [
       "<IPython.core.display.HTML object>"
      ]
     },
     "metadata": {
      "tags": []
     },
     "output_type": "display_data"
    },
    {
     "name": "stderr",
     "output_type": "stream",
     "text": [
      "/usr/local/lib/python3.7/dist-packages/numpy/core/_asarray.py:83: VisibleDeprecationWarning: Creating an ndarray from ragged nested sequences (which is a list-or-tuple of lists-or-tuples-or ndarrays with different lengths or shapes) is deprecated. If you meant to do this, you must specify 'dtype=object' when creating the ndarray\n",
      "  return array(a, dtype, copy=False, order=order)\n"
     ]
    },
    {
     "data": {
      "text/html": [
       "<table border=\"1\" class=\"dataframe\">\n",
       "  <thead>\n",
       "    <tr style=\"text-align: right;\">\n",
       "      <th></th>\n",
       "      <th>text</th>\n",
       "      <th>text_</th>\n",
       "    </tr>\n",
       "  </thead>\n",
       "  <tbody>\n",
       "    <tr>\n",
       "      <th>0</th>\n",
       "      <td>xxbos xxmaj epinards ; sel . épinards hachés xxbos xxmaj farine de _ blé _ - purée de tomates mi - réduite - eau - _ mozarella _ 9;6 % - jambon cuit choix fumé 8;7 % ( viande de porc - sel - dextrose - sucre - stabilisants : diphosphates ; triphosphates - antioxydants : ascorbate de sodium ; extraits de romarin - conservateur : nitrite de sodium ) - _</td>\n",
       "      <td>xxmaj epinards ; sel . épinards hachés xxbos xxmaj farine de _ blé _ - purée de tomates mi - réduite - eau - _ mozarella _ 9;6 % - jambon cuit choix fumé 8;7 % ( viande de porc - sel - dextrose - sucre - stabilisants : diphosphates ; triphosphates - antioxydants : ascorbate de sodium ; extraits de romarin - conservateur : nitrite de sodium ) - _ edam</td>\n",
       "    </tr>\n",
       "    <tr>\n",
       "      <th>1</th>\n",
       "      <td>culture ; oleoresin of paprika ; sodium ascorbate ; flavoring ; sodium nitrite ; bha ; bht ; citric acid ) ; green peppers ; onion ; red pepper ; black olives ( olives ; water ; salt ; ferrous gluconate ) . xxmaj rising crust ; supreme pizza xxbos _ lait _ pasteurisé de vache ; sel ; ferments lactiques et d'affinage ; chlorure de calcium ; coagulant xxup e235 .</td>\n",
       "      <td>; oleoresin of paprika ; sodium ascorbate ; flavoring ; sodium nitrite ; bha ; bht ; citric acid ) ; green peppers ; onion ; red pepper ; black olives ( olives ; water ; salt ; ferrous gluconate ) . xxmaj rising crust ; supreme pizza xxbos _ lait _ pasteurisé de vache ; sel ; ferments lactiques et d'affinage ; chlorure de calcium ; coagulant xxup e235 . xxmaj</td>\n",
       "    </tr>\n",
       "    <tr>\n",
       "      <th>2</th>\n",
       "      <td>xxmaj filet de poulet xxbos xxmaj provolone cheese ( pasteurized milk ; cheese culture ; salt ; enzymes ) . xxmaj deli style not smoked provolone cheese slices ; provolone xxbos xxmaj xxunk xxmaj corse ; sucre de canne roux ' xxunk % ) ; jus de citron ' ; pectine de fruit si nécessaire . xxmaj issu de l'agriculture biologique . xxmaj préparée avec 60 g de fruit pour 100 g</td>\n",
       "      <td>filet de poulet xxbos xxmaj provolone cheese ( pasteurized milk ; cheese culture ; salt ; enzymes ) . xxmaj deli style not smoked provolone cheese slices ; provolone xxbos xxmaj xxunk xxmaj corse ; sucre de canne roux ' xxunk % ) ; jus de citron ' ; pectine de fruit si nécessaire . xxmaj issu de l'agriculture biologique . xxmaj préparée avec 60 g de fruit pour 100 g .</td>\n",
       "    </tr>\n",
       "  </tbody>\n",
       "</table>"
      ],
      "text/plain": [
       "<IPython.core.display.HTML object>"
      ]
     },
     "metadata": {
      "tags": []
     },
     "output_type": "display_data"
    }
   ],
   "source": [
    "dls_lm = TextDataLoaders.from_df(path=path, df=df_full, text_col='text', label_col='label', is_lm=True)\n",
    "dls_lm.show_batch(max_n=3)"
   ]
  },
  {
   "cell_type": "code",
   "execution_count": 42,
   "metadata": {
    "id": "SP_MnIDtRWxQ"
   },
   "outputs": [],
   "source": [
    "learn = language_model_learner(\n",
    "    dls_lm, AWD_LSTM, drop_mult=0.3, \n",
    "    metrics=[accuracy, Perplexity()]).to_fp16()"
   ]
  },
  {
   "cell_type": "code",
   "execution_count": 43,
   "metadata": {
    "colab": {
     "base_uri": "https://localhost:8080/",
     "height": 77
    },
    "id": "aNI_l8BDRcR_",
    "outputId": "fcc7283b-2f02-47a7-999c-beaf38181ce0"
   },
   "outputs": [
    {
     "data": {
      "text/html": [
       "<table border=\"1\" class=\"dataframe\">\n",
       "  <thead>\n",
       "    <tr style=\"text-align: left;\">\n",
       "      <th>epoch</th>\n",
       "      <th>train_loss</th>\n",
       "      <th>valid_loss</th>\n",
       "      <th>accuracy</th>\n",
       "      <th>perplexity</th>\n",
       "      <th>time</th>\n",
       "    </tr>\n",
       "  </thead>\n",
       "  <tbody>\n",
       "    <tr>\n",
       "      <td>0</td>\n",
       "      <td>2.422909</td>\n",
       "      <td>2.283332</td>\n",
       "      <td>0.543993</td>\n",
       "      <td>9.809312</td>\n",
       "      <td>04:24</td>\n",
       "    </tr>\n",
       "  </tbody>\n",
       "</table>"
      ],
      "text/plain": [
       "<IPython.core.display.HTML object>"
      ]
     },
     "metadata": {
      "tags": []
     },
     "output_type": "display_data"
    }
   ],
   "source": [
    "learn.fit_one_cycle(1, 2e-2)"
   ]
  },
  {
   "cell_type": "code",
   "execution_count": 44,
   "metadata": {
    "colab": {
     "base_uri": "https://localhost:8080/",
     "height": 136
    },
    "id": "5Mesz230RmIT",
    "outputId": "810c5229-3a3d-4d88-c638-01e095245e28"
   },
   "outputs": [
    {
     "data": {
      "text/html": [
       "<table border=\"1\" class=\"dataframe\">\n",
       "  <thead>\n",
       "    <tr style=\"text-align: left;\">\n",
       "      <th>epoch</th>\n",
       "      <th>train_loss</th>\n",
       "      <th>valid_loss</th>\n",
       "      <th>accuracy</th>\n",
       "      <th>perplexity</th>\n",
       "      <th>time</th>\n",
       "    </tr>\n",
       "  </thead>\n",
       "  <tbody>\n",
       "    <tr>\n",
       "      <td>0</td>\n",
       "      <td>2.273290</td>\n",
       "      <td>2.246858</td>\n",
       "      <td>0.548014</td>\n",
       "      <td>9.457971</td>\n",
       "      <td>04:23</td>\n",
       "    </tr>\n",
       "    <tr>\n",
       "      <td>1</td>\n",
       "      <td>2.256840</td>\n",
       "      <td>2.205354</td>\n",
       "      <td>0.553390</td>\n",
       "      <td>9.073465</td>\n",
       "      <td>04:25</td>\n",
       "    </tr>\n",
       "    <tr>\n",
       "      <td>2</td>\n",
       "      <td>2.195039</td>\n",
       "      <td>2.197421</td>\n",
       "      <td>0.554748</td>\n",
       "      <td>9.001764</td>\n",
       "      <td>04:24</td>\n",
       "    </tr>\n",
       "  </tbody>\n",
       "</table>"
      ],
      "text/plain": [
       "<IPython.core.display.HTML object>"
      ]
     },
     "metadata": {
      "tags": []
     },
     "output_type": "display_data"
    }
   ],
   "source": [
    "learn.fit_one_cycle(3, 2e-3)"
   ]
  },
  {
   "cell_type": "code",
   "execution_count": 45,
   "metadata": {
    "id": "6SmPK3nWRqEm"
   },
   "outputs": [],
   "source": [
    "learn.save_encoder('finetuned')"
   ]
  },
  {
   "cell_type": "code",
   "execution_count": 46,
   "metadata": {
    "colab": {
     "base_uri": "https://localhost:8080/",
     "height": 391
    },
    "id": "a9Tm08oFRtvj",
    "outputId": "5f1c9d61-0c13-42c7-91e4-5f0d27ca6e2e"
   },
   "outputs": [
    {
     "data": {
      "text/html": [],
      "text/plain": [
       "<IPython.core.display.HTML object>"
      ]
     },
     "metadata": {
      "tags": []
     },
     "output_type": "display_data"
    },
    {
     "name": "stderr",
     "output_type": "stream",
     "text": [
      "/usr/local/lib/python3.7/dist-packages/numpy/core/_asarray.py:83: VisibleDeprecationWarning: Creating an ndarray from ragged nested sequences (which is a list-or-tuple of lists-or-tuples-or ndarrays with different lengths or shapes) is deprecated. If you meant to do this, you must specify 'dtype=object' when creating the ndarray\n",
      "  return array(a, dtype, copy=False, order=order)\n"
     ]
    },
    {
     "data": {
      "text/html": [
       "<table border=\"1\" class=\"dataframe\">\n",
       "  <thead>\n",
       "    <tr style=\"text-align: right;\">\n",
       "      <th></th>\n",
       "      <th>text</th>\n",
       "      <th>category</th>\n",
       "    </tr>\n",
       "  </thead>\n",
       "  <tbody>\n",
       "    <tr>\n",
       "      <th>0</th>\n",
       "      <td>xxbos xxup latte scremato reidratato ; cialda 18 % ( farina di cocco ; sciroppo di glucosio ; albume d'uovo in polvere da galline xxup latte in polvere ; emulsionanti : mono - e digliceridi degli acidi grassi ; grassi ; addensante : alginato di sodio ; gelatina alimentare ( origine xxup frumento ; zucchero ; olio di cocco ; emulsionanti : lecitine ( soia ) ; allevate all'aperto 0;1 % ) ; siero di xxup latte in polvere ; emulsionanti : addensanti : alginato di sodio ; gelatina alimentare ( origine bovina ) . bovina ) ; aromi . xxmaj può contenere tracce di xxup uova e altra xxup frutta a sciroppo di zucchero xxunk ; sale ) ; copertura al cacao magro 13 % [ oli vegetali ( olio di cocco ; olio di semi di girasole ) ; zucchero ; cacao gelatina alimentare ( origine bovina )</td>\n",
       "      <td>milk and dairy products</td>\n",
       "    </tr>\n",
       "    <tr>\n",
       "      <th>1</th>\n",
       "      <td>xxbos xxmaj mini - feuilleté apéritif garni d'une préparation au saumon 29 % : xxmaj pâte feuilletée 65 % * - xxmaj garniture 35 % * : xxmaj eau ; farine de blé ; margarine ( huiles et graisses végétales de palme et de colza ; eau ; sel ; émulsifiant : mono - et diglycérides d'acides gras ; correcteur d'acidité : acide citrique ) ; saumon fumé 5;5 % ( saumon xxmaj atlantique xxmaj salmo salar ; sel ) ; préparation déshydratée pour sauce ( lactosérum ; amidon modifié ; lait entier en poudre ; sel ; épaississant : gomme xanthane ; poivre ; muscade ) ; beurre ; chapelure ( farine de blé ; eau ; sel ; levure ) ; sel ; persil ; oeuf entier en poudre ; aneth 0;06 % ; poivre noir ; estragon . xxmaj mini - feuilleté apéritif garni d'une préparation aux</td>\n",
       "      <td>composite foods</td>\n",
       "    </tr>\n",
       "    <tr>\n",
       "      <th>2</th>\n",
       "      <td>xxbos xxup gb xxmaj delicate wafer rolls half - coated in dark chocolate ( 28 % ) . xxmaj ingredients : xxmaj wheat flour ; sugar ; vegetable fat ( palm ) ; cocoa mass ; cocoa butter ; skimmed milk powder ; whey products ( milk ) ; hen 's egg yolk powder ; emulsifier : lecithins ; salt ; whole milk powder ; raising agents : sodium carbonates ; spices ; flavourings . xxmaj may contain : soya . xxmaj made in xxmaj germany . xxmaj store in a cool ; dry place away from heat . xxmaj best before : see side of pack : xxup xxunk . xxrep 4 y . xxmaj imported and distributed by : xxmaj bahlsen xxup xxunk ; xxmaj xxunk xxmaj house ; xxmaj xxunk xxmaj park ; xxmaj xxunk xxmaj hill ; xxmaj xxunk xxmaj st xxmaj peter ; xxmaj xxunk</td>\n",
       "      <td>sugary snacks</td>\n",
       "    </tr>\n",
       "  </tbody>\n",
       "</table>"
      ],
      "text/plain": [
       "<IPython.core.display.HTML object>"
      ]
     },
     "metadata": {
      "tags": []
     },
     "output_type": "display_data"
    }
   ],
   "source": [
    "dls = TextDataLoaders.from_df(path=path, df=df_full, text_col='text', label_col='label', is_lm=False, vocab=dls_lm.vocab)\n",
    "dls.show_batch(max_n=3)"
   ]
  },
  {
   "cell_type": "code",
   "execution_count": 47,
   "metadata": {
    "id": "rhUQE14ERy1D"
   },
   "outputs": [],
   "source": [
    "learn = text_classifier_learner(dls, AWD_LSTM, drop_mult=0.5, \n",
    "                                metrics=accuracy).to_fp16()"
   ]
  },
  {
   "cell_type": "code",
   "execution_count": 48,
   "metadata": {
    "id": "Ljlj04XYR7rb"
   },
   "outputs": [],
   "source": [
    "learn = learn.load_encoder('finetuned')"
   ]
  },
  {
   "cell_type": "code",
   "execution_count": 49,
   "metadata": {
    "colab": {
     "base_uri": "https://localhost:8080/",
     "height": 77
    },
    "id": "2WTI2U3mR-9V",
    "outputId": "de2ea593-61c9-4a42-ca90-bee354f510ac"
   },
   "outputs": [
    {
     "data": {
      "text/html": [
       "<table border=\"1\" class=\"dataframe\">\n",
       "  <thead>\n",
       "    <tr style=\"text-align: left;\">\n",
       "      <th>epoch</th>\n",
       "      <th>train_loss</th>\n",
       "      <th>valid_loss</th>\n",
       "      <th>accuracy</th>\n",
       "      <th>time</th>\n",
       "    </tr>\n",
       "  </thead>\n",
       "  <tbody>\n",
       "    <tr>\n",
       "      <td>0</td>\n",
       "      <td>0.837615</td>\n",
       "      <td>0.575109</td>\n",
       "      <td>0.815600</td>\n",
       "      <td>01:59</td>\n",
       "    </tr>\n",
       "  </tbody>\n",
       "</table>"
      ],
      "text/plain": [
       "<IPython.core.display.HTML object>"
      ]
     },
     "metadata": {
      "tags": []
     },
     "output_type": "display_data"
    }
   ],
   "source": [
    "learn.fit_one_cycle(1, 2e-2)"
   ]
  },
  {
   "cell_type": "code",
   "execution_count": 50,
   "metadata": {
    "colab": {
     "base_uri": "https://localhost:8080/",
     "height": 136
    },
    "id": "UMZFt1H-R_qf",
    "outputId": "26859a0c-e2de-41fc-e8d0-2f7fd90e0176"
   },
   "outputs": [
    {
     "data": {
      "text/html": [
       "<table border=\"1\" class=\"dataframe\">\n",
       "  <thead>\n",
       "    <tr style=\"text-align: left;\">\n",
       "      <th>epoch</th>\n",
       "      <th>train_loss</th>\n",
       "      <th>valid_loss</th>\n",
       "      <th>accuracy</th>\n",
       "      <th>time</th>\n",
       "    </tr>\n",
       "  </thead>\n",
       "  <tbody>\n",
       "    <tr>\n",
       "      <td>0</td>\n",
       "      <td>0.794661</td>\n",
       "      <td>0.553018</td>\n",
       "      <td>0.819950</td>\n",
       "      <td>02:01</td>\n",
       "    </tr>\n",
       "    <tr>\n",
       "      <td>1</td>\n",
       "      <td>0.771995</td>\n",
       "      <td>0.527547</td>\n",
       "      <td>0.829250</td>\n",
       "      <td>02:02</td>\n",
       "    </tr>\n",
       "    <tr>\n",
       "      <td>2</td>\n",
       "      <td>0.751581</td>\n",
       "      <td>0.527932</td>\n",
       "      <td>0.829600</td>\n",
       "      <td>02:00</td>\n",
       "    </tr>\n",
       "  </tbody>\n",
       "</table>"
      ],
      "text/plain": [
       "<IPython.core.display.HTML object>"
      ]
     },
     "metadata": {
      "tags": []
     },
     "output_type": "display_data"
    }
   ],
   "source": [
    "learn.fit_one_cycle(3, 2e-3)"
   ]
  }
 ],
 "metadata": {
  "accelerator": "GPU",
  "colab": {
   "collapsed_sections": [],
   "name": "LSTM_Open-Food-Facts.ipynb",
   "provenance": []
  },
  "jupytext": {
   "split_at_heading": true
  },
  "kernelspec": {
   "display_name": "Python 3",
   "language": "python",
   "name": "python3"
  },
  "language_info": {
   "codemirror_mode": {
    "name": "ipython",
    "version": 3
   },
   "file_extension": ".py",
   "mimetype": "text/x-python",
   "name": "python",
   "nbconvert_exporter": "python",
   "pygments_lexer": "ipython3",
   "version": "3.8.5"
  }
 },
 "nbformat": 4,
 "nbformat_minor": 1
}
