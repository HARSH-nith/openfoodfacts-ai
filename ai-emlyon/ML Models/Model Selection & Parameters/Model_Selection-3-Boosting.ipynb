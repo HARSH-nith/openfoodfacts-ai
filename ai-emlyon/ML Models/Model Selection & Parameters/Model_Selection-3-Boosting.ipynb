{
 "metadata": {
  "language_info": {
   "codemirror_mode": {
    "name": "ipython",
    "version": 3
   },
   "file_extension": ".py",
   "mimetype": "text/x-python",
   "name": "python",
   "nbconvert_exporter": "python",
   "pygments_lexer": "ipython3",
   "version": "3.8.5"
  },
  "orig_nbformat": 2,
  "kernelspec": {
   "name": "python385jvsc74a57bd04357402ff8a0be26157935a0c1892356373f0732995949afb3cbae248038a4af",
   "display_name": "Python 3.8.5 64-bit ('base': conda)"
  }
 },
 "nbformat": 4,
 "nbformat_minor": 2,
 "cells": [
  {
   "source": [
    "# Model Selection Part 3/3 - Adaboost & XGBoost Exploration, Comparaison & Tuning\n",
    "\n",
    "### Short description\n",
    "\n",
    "\n",
    "Boosting architectures and parameters exploration. This notebook follow **name_model_search**\n",
    "\n",
    "    - Dataset : 165K products, 938 features, 2 labels to predict (G1 with 9 labels, G2 with 38 labels)\n",
    "    - Note that classes are highly imbalanced (especially for G2). \n",
    "    - We stratify the train/test split on G2 and use balanced class weights parameters when possible.\n",
    "    - Models tried : \n",
    "        - Adaboost\n",
    "        - XGBoost (with hist method and without dropout)\n",
    "    - Framework : Chain Classifiers (Predict G1, append prediction to X, predict G2)\n",
    "\n",
    "**Result & One line Conclusion:** \n",
    "\n",
    "* **XGBoost outperforms Adaboost on $G_2$ and is more robust. Further work : Fine tune parameters and define tresholds.**"
   ],
   "cell_type": "markdown",
   "metadata": {}
  },
  {
   "source": [
    "## Notebook configuration"
   ],
   "cell_type": "markdown",
   "metadata": {}
  },
  {
   "cell_type": "code",
   "execution_count": 1,
   "metadata": {},
   "outputs": [],
   "source": [
    "#Datamanip\n",
    "import pandas as pd\n",
    "import numpy as np \n",
    "#Dataviz\n",
    "import matplotlib.pyplot as plt\n",
    "import seaborn as sns\n",
    "#Standard\n",
    "import time \n",
    "from IPython.lib.deepreload import reload as dreload\n",
    "\n",
    "#Preprocess\n",
    "from sklearn.model_selection import train_test_split\n",
    "from sklearn.preprocessing import LabelEncoder, StandardScaler\n",
    "#Models\n",
    "from sklearn.ensemble import AdaBoostClassifier\n",
    "from sklearn.tree import DecisionTreeClassifier\n",
    "from sklearn.multioutput import ClassifierChain\n",
    "#Evaluation\n",
    "from sklearn import metrics\n",
    "from eml.model_eval import classifier_metrics, get_classification_report, plot_confusion_matrix\n",
    "\n",
    "#Settings\n",
    "pd.set_option(\"display.max_columns\", 200, \"display.max_rows\", 200)\n",
    "sns.set()\n",
    "%load_ext autoreload\n",
    "%autoreload 2\n",
    "%matplotlib inline"
   ]
  },
  {
   "cell_type": "code",
   "execution_count": 3,
   "metadata": {},
   "outputs": [],
   "source": [
    "#Load dataset\n",
    "df_modified = pd.read_csv(r'C:\\Users\\Antoine\\Coding Bootcamp\\Open Food Facts\\data_training_names.csv', low_memory=False)\n",
    "df_copy = df_modified.copy(deep=True)"
   ]
  },
  {
   "cell_type": "code",
   "execution_count": 4,
   "metadata": {},
   "outputs": [
    {
     "output_type": "execute_result",
     "data": {
      "text/plain": [
       "(2943, 946)"
      ]
     },
     "metadata": {},
     "execution_count": 4
    }
   ],
   "source": [
    "def duplicates_pnns(df): \n",
    "    def other_pnns(row): return row['pnns_groups_3']\n",
    "    copy_loc = df.loc[df['pnns_groups_2'] != df['pnns_groups_3']].copy(deep=True)\n",
    "    copy_loc['pnns_groups_2'] = copy_loc.apply(lambda row: other_pnns(row=row), axis=1)\n",
    "    df = df.append(copy_loc)\n",
    "    return df\n",
    "test = df_copy.sample(2000)\n",
    "test = duplicates_pnns(test)\n",
    "test.shape"
   ]
  },
  {
   "cell_type": "code",
   "execution_count": 5,
   "metadata": {},
   "outputs": [
    {
     "output_type": "stream",
     "name": "stdout",
     "text": [
      "Wall time: 5.19 s\n"
     ]
    }
   ],
   "source": [
    "%%time\n",
    "df = duplicates_pnns(df_modified)"
   ]
  },
  {
   "cell_type": "code",
   "execution_count": 95,
   "metadata": {},
   "outputs": [
    {
     "output_type": "execute_result",
     "data": {
      "text/plain": [
       "(167548, 946)"
      ]
     },
     "metadata": {},
     "execution_count": 95
    }
   ],
   "source": [
    "df_modified.shape"
   ]
  },
  {
   "cell_type": "code",
   "execution_count": 96,
   "metadata": {},
   "outputs": [
    {
     "output_type": "execute_result",
     "data": {
      "text/plain": [
       "(243166, 946)"
      ]
     },
     "metadata": {},
     "execution_count": 96
    }
   ],
   "source": [
    "df.shape"
   ]
  },
  {
   "cell_type": "code",
   "execution_count": 5,
   "metadata": {},
   "outputs": [],
   "source": [
    "features = df_modified.drop(columns=['pnns_groups_1', 'pnns_groups_2', 'pnns_groups_3', 'pnns_groups_4', 'code', 'url', 'ingredients', 'product_name'])\n",
    "target = df_modified[['pnns_groups_1', 'pnns_groups_2']]"
   ]
  },
  {
   "cell_type": "code",
   "execution_count": 9,
   "metadata": {},
   "outputs": [],
   "source": [
    "target_pnns1 = df_modified['pnns_groups_1']"
   ]
  },
  {
   "cell_type": "code",
   "execution_count": 6,
   "metadata": {},
   "outputs": [],
   "source": [
    "#Target encoding\n",
    "le = LabelEncoder()\n",
    "le.fit(target['pnns_groups_1'])\n",
    "encoded_target_1 = le.transform(target['pnns_groups_1']).reshape(-1,1)\n",
    "le_2 = LabelEncoder()\n",
    "le_2.fit(target['pnns_groups_2'])\n",
    "encoded_target_2 = le_2.transform(target['pnns_groups_2']).reshape(-1,1)\n",
    "encoded_target = np.append(encoded_target_1, encoded_target_2, axis=1)"
   ]
  },
  {
   "cell_type": "code",
   "execution_count": 11,
   "metadata": {},
   "outputs": [
    {
     "output_type": "execute_result",
     "data": {
      "text/plain": [
       "((134038, 938), (134038,))"
      ]
     },
     "metadata": {},
     "execution_count": 11
    }
   ],
   "source": [
    "#Train test split\n",
    "X_train, X_test, y_train, y_test = train_test_split(features, target_pnns1, test_size=0.2, random_state=42, stratify=target)\n",
    "X_train_sample = X_train.sample(20000, random_state=1)\n",
    "y_train_sample = y_train.sample(20000, random_state=1)\n",
    "X_train.shape, y_train.shape"
   ]
  },
  {
   "source": [
    "## Adaboost - Predict $G_1$"
   ],
   "cell_type": "markdown",
   "metadata": {}
  },
  {
   "source": [
    "### On sample data train"
   ],
   "cell_type": "markdown",
   "metadata": {}
  },
  {
   "cell_type": "code",
   "execution_count": 12,
   "metadata": {},
   "outputs": [
    {
     "output_type": "stream",
     "name": "stdout",
     "text": [
      "Train Set Class1 - AdaBoost on full Classification Metrics :\n",
      "-------------------\n",
      "Accuracy : 92.24%\n",
      "Recall : 91.52%\n",
      "Precision : 92.25%\n",
      "F1-score : 91.70%\n",
      "\n",
      "\n",
      "Test Set Class1 - AdaBoost on full Classification Metrics :\n",
      "-------------------\n",
      "Accuracy : 83.24%\n",
      "Recall : 81.26%\n",
      "Precision : 83.19%\n",
      "F1-score : 81.87%\n",
      "\n",
      "\n",
      "Wall time: 11min 27s\n"
     ]
    }
   ],
   "source": [
    "%%time\n",
    "dt = DecisionTreeClassifier(\n",
    "    criterion='gini', \n",
    "    splitter='best', \n",
    "    max_depth=None, \n",
    "    min_samples_split=2, \n",
    "    min_samples_leaf=3, \n",
    "    min_weight_fraction_leaf=0.0, \n",
    "    max_features='log2', \n",
    "    random_state=42, \n",
    "    max_leaf_nodes=None, \n",
    "    min_impurity_decrease=0.0, \n",
    "    min_impurity_split=None, \n",
    "    class_weight='balanced', \n",
    "    ccp_alpha=0.0\n",
    "    )\n",
    "\n",
    "ada = AdaBoostClassifier(\n",
    "    base_estimator=dt, \n",
    "    n_estimators=500, \n",
    "    learning_rate=0.08, \n",
    "    algorithm='SAMME.R', \n",
    "    random_state=21\n",
    "    )\n",
    "\n",
    "\n",
    "ada.fit(X_train, y_train)\n",
    "y_preds_train = ada.predict(X_train)\n",
    "y_preds_test = ada.predict(X_test)\n",
    "classifier_metrics(y_test=y_train, y_preds=y_preds_train, average='macro', model='Train Set Class1 - AdaBoost on full')\n",
    "classifier_metrics(y_test=y_test, y_preds=y_preds_test, average='macro', model='Test Set Class1 - AdaBoost on full')"
   ]
  },
  {
   "cell_type": "code",
   "execution_count": 13,
   "metadata": {},
   "outputs": [
    {
     "output_type": "execute_result",
     "data": {
      "text/plain": [
       "                         adaboost_precision  adaboost_recall  \\\n",
       "macro avg                              0.83             0.81   \n",
       "weighted avg                           0.84             0.83   \n",
       "sugary snacks                          0.88             0.92   \n",
       "milk and dairy products                0.93             0.85   \n",
       "fish meat eggs                         0.89             0.84   \n",
       "beverages                              0.87             0.86   \n",
       "cereals and potatoes                   0.82             0.73   \n",
       "composite foods                        0.70             0.81   \n",
       "fruits and vegetables                  0.62             0.79   \n",
       "fat and sauces                         0.90             0.78   \n",
       "salty snacks                           0.87             0.73   \n",
       "accuracy                               0.83             0.83   \n",
       "\n",
       "                         adaboost_f1-score  adaboost_support  \n",
       "macro avg                             0.82          33510.00  \n",
       "weighted avg                          0.83          33510.00  \n",
       "sugary snacks                         0.90           7244.00  \n",
       "milk and dairy products               0.89           4425.00  \n",
       "fish meat eggs                        0.86           4057.00  \n",
       "beverages                             0.87           3864.00  \n",
       "cereals and potatoes                  0.77           3476.00  \n",
       "composite foods                       0.75           3462.00  \n",
       "fruits and vegetables                 0.70           2822.00  \n",
       "fat and sauces                        0.83           2085.00  \n",
       "salty snacks                          0.79           2075.00  \n",
       "accuracy                              0.83              0.83  "
      ],
      "text/html": "<div>\n<style scoped>\n    .dataframe tbody tr th:only-of-type {\n        vertical-align: middle;\n    }\n\n    .dataframe tbody tr th {\n        vertical-align: top;\n    }\n\n    .dataframe thead th {\n        text-align: right;\n    }\n</style>\n<table border=\"1\" class=\"dataframe\">\n  <thead>\n    <tr style=\"text-align: right;\">\n      <th></th>\n      <th>adaboost_precision</th>\n      <th>adaboost_recall</th>\n      <th>adaboost_f1-score</th>\n      <th>adaboost_support</th>\n    </tr>\n  </thead>\n  <tbody>\n    <tr>\n      <th>macro avg</th>\n      <td>0.83</td>\n      <td>0.81</td>\n      <td>0.82</td>\n      <td>33510.00</td>\n    </tr>\n    <tr>\n      <th>weighted avg</th>\n      <td>0.84</td>\n      <td>0.83</td>\n      <td>0.83</td>\n      <td>33510.00</td>\n    </tr>\n    <tr>\n      <th>sugary snacks</th>\n      <td>0.88</td>\n      <td>0.92</td>\n      <td>0.90</td>\n      <td>7244.00</td>\n    </tr>\n    <tr>\n      <th>milk and dairy products</th>\n      <td>0.93</td>\n      <td>0.85</td>\n      <td>0.89</td>\n      <td>4425.00</td>\n    </tr>\n    <tr>\n      <th>fish meat eggs</th>\n      <td>0.89</td>\n      <td>0.84</td>\n      <td>0.86</td>\n      <td>4057.00</td>\n    </tr>\n    <tr>\n      <th>beverages</th>\n      <td>0.87</td>\n      <td>0.86</td>\n      <td>0.87</td>\n      <td>3864.00</td>\n    </tr>\n    <tr>\n      <th>cereals and potatoes</th>\n      <td>0.82</td>\n      <td>0.73</td>\n      <td>0.77</td>\n      <td>3476.00</td>\n    </tr>\n    <tr>\n      <th>composite foods</th>\n      <td>0.70</td>\n      <td>0.81</td>\n      <td>0.75</td>\n      <td>3462.00</td>\n    </tr>\n    <tr>\n      <th>fruits and vegetables</th>\n      <td>0.62</td>\n      <td>0.79</td>\n      <td>0.70</td>\n      <td>2822.00</td>\n    </tr>\n    <tr>\n      <th>fat and sauces</th>\n      <td>0.90</td>\n      <td>0.78</td>\n      <td>0.83</td>\n      <td>2085.00</td>\n    </tr>\n    <tr>\n      <th>salty snacks</th>\n      <td>0.87</td>\n      <td>0.73</td>\n      <td>0.79</td>\n      <td>2075.00</td>\n    </tr>\n    <tr>\n      <th>accuracy</th>\n      <td>0.83</td>\n      <td>0.83</td>\n      <td>0.83</td>\n      <td>0.83</td>\n    </tr>\n  </tbody>\n</table>\n</div>"
     },
     "metadata": {},
     "execution_count": 13
    }
   ],
   "source": [
    "get_classification_report(y_test=y_test, y_pred=y_preds_test, model='adaboost', sortby='support')"
   ]
  },
  {
   "cell_type": "code",
   "execution_count": 14,
   "metadata": {},
   "outputs": [
    {
     "output_type": "execute_result",
     "data": {
      "text/plain": [
       "                         adaboost_precision  adaboost_recall  \\\n",
       "milk and dairy products                0.93             0.85   \n",
       "fat and sauces                         0.90             0.78   \n",
       "fish meat eggs                         0.89             0.84   \n",
       "sugary snacks                          0.88             0.92   \n",
       "beverages                              0.87             0.86   \n",
       "salty snacks                           0.87             0.73   \n",
       "weighted avg                           0.84             0.83   \n",
       "accuracy                               0.83             0.83   \n",
       "macro avg                              0.83             0.81   \n",
       "cereals and potatoes                   0.82             0.73   \n",
       "composite foods                        0.70             0.81   \n",
       "fruits and vegetables                  0.62             0.79   \n",
       "\n",
       "                         adaboost_f1-score  adaboost_support  \n",
       "milk and dairy products               0.89           4425.00  \n",
       "fat and sauces                        0.83           2085.00  \n",
       "fish meat eggs                        0.86           4057.00  \n",
       "sugary snacks                         0.90           7244.00  \n",
       "beverages                             0.87           3864.00  \n",
       "salty snacks                          0.79           2075.00  \n",
       "weighted avg                          0.83          33510.00  \n",
       "accuracy                              0.83              0.83  \n",
       "macro avg                             0.82          33510.00  \n",
       "cereals and potatoes                  0.77           3476.00  \n",
       "composite foods                       0.75           3462.00  \n",
       "fruits and vegetables                 0.70           2822.00  "
      ],
      "text/html": "<div>\n<style scoped>\n    .dataframe tbody tr th:only-of-type {\n        vertical-align: middle;\n    }\n\n    .dataframe tbody tr th {\n        vertical-align: top;\n    }\n\n    .dataframe thead th {\n        text-align: right;\n    }\n</style>\n<table border=\"1\" class=\"dataframe\">\n  <thead>\n    <tr style=\"text-align: right;\">\n      <th></th>\n      <th>adaboost_precision</th>\n      <th>adaboost_recall</th>\n      <th>adaboost_f1-score</th>\n      <th>adaboost_support</th>\n    </tr>\n  </thead>\n  <tbody>\n    <tr>\n      <th>milk and dairy products</th>\n      <td>0.93</td>\n      <td>0.85</td>\n      <td>0.89</td>\n      <td>4425.00</td>\n    </tr>\n    <tr>\n      <th>fat and sauces</th>\n      <td>0.90</td>\n      <td>0.78</td>\n      <td>0.83</td>\n      <td>2085.00</td>\n    </tr>\n    <tr>\n      <th>fish meat eggs</th>\n      <td>0.89</td>\n      <td>0.84</td>\n      <td>0.86</td>\n      <td>4057.00</td>\n    </tr>\n    <tr>\n      <th>sugary snacks</th>\n      <td>0.88</td>\n      <td>0.92</td>\n      <td>0.90</td>\n      <td>7244.00</td>\n    </tr>\n    <tr>\n      <th>beverages</th>\n      <td>0.87</td>\n      <td>0.86</td>\n      <td>0.87</td>\n      <td>3864.00</td>\n    </tr>\n    <tr>\n      <th>salty snacks</th>\n      <td>0.87</td>\n      <td>0.73</td>\n      <td>0.79</td>\n      <td>2075.00</td>\n    </tr>\n    <tr>\n      <th>weighted avg</th>\n      <td>0.84</td>\n      <td>0.83</td>\n      <td>0.83</td>\n      <td>33510.00</td>\n    </tr>\n    <tr>\n      <th>accuracy</th>\n      <td>0.83</td>\n      <td>0.83</td>\n      <td>0.83</td>\n      <td>0.83</td>\n    </tr>\n    <tr>\n      <th>macro avg</th>\n      <td>0.83</td>\n      <td>0.81</td>\n      <td>0.82</td>\n      <td>33510.00</td>\n    </tr>\n    <tr>\n      <th>cereals and potatoes</th>\n      <td>0.82</td>\n      <td>0.73</td>\n      <td>0.77</td>\n      <td>3476.00</td>\n    </tr>\n    <tr>\n      <th>composite foods</th>\n      <td>0.70</td>\n      <td>0.81</td>\n      <td>0.75</td>\n      <td>3462.00</td>\n    </tr>\n    <tr>\n      <th>fruits and vegetables</th>\n      <td>0.62</td>\n      <td>0.79</td>\n      <td>0.70</td>\n      <td>2822.00</td>\n    </tr>\n  </tbody>\n</table>\n</div>"
     },
     "metadata": {},
     "execution_count": 14
    }
   ],
   "source": [
    "get_classification_report(y_test=y_test, y_pred=y_preds_test, model='adaboost', sortby='precision')"
   ]
  },
  {
   "cell_type": "code",
   "execution_count": 15,
   "metadata": {},
   "outputs": [
    {
     "output_type": "stream",
     "name": "stdout",
     "text": [
      "Train Set Class1 - AdaBoost on full Classification Metrics :\n",
      "-------------------\n",
      "Accuracy : 96.45%\n",
      "Recall : 96.24%\n",
      "Precision : 96.09%\n",
      "F1-score : 96.07%\n",
      "\n",
      "\n",
      "Test Set Class1 - AdaBoost on full Classification Metrics :\n",
      "-------------------\n",
      "Accuracy : 81.23%\n",
      "Recall : 79.25%\n",
      "Precision : 80.54%\n",
      "F1-score : 79.73%\n",
      "\n",
      "\n",
      "Wall time: 21min 34s\n"
     ]
    }
   ],
   "source": [
    "%%time\n",
    "dt = DecisionTreeClassifier(\n",
    "    criterion='gini', \n",
    "    splitter='best', \n",
    "    max_depth=None, \n",
    "    min_samples_split=2, \n",
    "    min_samples_leaf=3, \n",
    "    min_weight_fraction_leaf=0.0, \n",
    "    max_features=0.33, \n",
    "    random_state=42, \n",
    "    max_leaf_nodes=None, \n",
    "    min_impurity_decrease=0.0, \n",
    "    min_impurity_split=None, \n",
    "    class_weight='balanced', \n",
    "    ccp_alpha=0.0\n",
    "    )\n",
    "\n",
    "ada = AdaBoostClassifier(\n",
    "    base_estimator=dt, \n",
    "    n_estimators=50, \n",
    "    learning_rate=0.08, \n",
    "    algorithm='SAMME.R', \n",
    "    random_state=21\n",
    "    )\n",
    "\n",
    "\n",
    "ada.fit(X_train, y_train)\n",
    "y_preds_train = ada.predict(X_train)\n",
    "y_preds_test = ada.predict(X_test)\n",
    "classifier_metrics(y_test=y_train, y_preds=y_preds_train, average='macro', model='Train Set Class1 - AdaBoost on full')\n",
    "classifier_metrics(y_test=y_test, y_preds=y_preds_test, average='macro', model='Test Set Class1 - AdaBoost on full')"
   ]
  },
  {
   "cell_type": "code",
   "execution_count": 16,
   "metadata": {},
   "outputs": [
    {
     "output_type": "stream",
     "name": "stdout",
     "text": [
      "Train Set Class1 - AdaBoost on full Classification Metrics :\n",
      "-------------------\n",
      "Accuracy : 95.70%\n",
      "Recall : 95.44%\n",
      "Precision : 95.36%\n",
      "F1-score : 95.31%\n",
      "\n",
      "\n",
      "Test Set Class1 - AdaBoost on full Classification Metrics :\n",
      "-------------------\n",
      "Accuracy : 83.88%\n",
      "Recall : 81.96%\n",
      "Precision : 83.44%\n",
      "F1-score : 82.52%\n",
      "\n",
      "\n",
      "Wall time: 5min 5s\n"
     ]
    }
   ],
   "source": [
    "%%time\n",
    "dt = DecisionTreeClassifier(\n",
    "    criterion='gini', \n",
    "    splitter='best', \n",
    "    max_depth=None, \n",
    "    min_samples_split=2, \n",
    "    min_samples_leaf=3, \n",
    "    min_weight_fraction_leaf=0.0, \n",
    "    max_features='sqrt', \n",
    "    random_state=42, \n",
    "    max_leaf_nodes=None, \n",
    "    min_impurity_decrease=0.0, \n",
    "    min_impurity_split=None, \n",
    "    class_weight='balanced', \n",
    "    ccp_alpha=0.0\n",
    "    )\n",
    "\n",
    "ada = AdaBoostClassifier(\n",
    "    base_estimator=dt, \n",
    "    n_estimators=50, \n",
    "    learning_rate=0.08, \n",
    "    algorithm='SAMME.R', \n",
    "    random_state=21\n",
    "    )\n",
    "\n",
    "\n",
    "ada.fit(X_train, y_train)\n",
    "y_preds_train = ada.predict(X_train)\n",
    "y_preds_test = ada.predict(X_test)\n",
    "classifier_metrics(y_test=y_train, y_preds=y_preds_train, average='macro', model='Train Set Class1 - AdaBoost on full')\n",
    "classifier_metrics(y_test=y_test, y_preds=y_preds_test, average='macro', model='Test Set Class1 - AdaBoost on full')"
   ]
  },
  {
   "cell_type": "code",
   "execution_count": 17,
   "metadata": {},
   "outputs": [
    {
     "output_type": "stream",
     "name": "stdout",
     "text": [
      "Wall time: 2min 10s\n"
     ]
    }
   ],
   "source": [
    "%%time\n",
    "learnings_rates = [0.1, 0.4, 0.8]\n",
    "precisions = []\n",
    "dt = DecisionTreeClassifier(\n",
    "    criterion='gini', \n",
    "    splitter='best', \n",
    "    max_depth=None, \n",
    "    min_samples_split=2, \n",
    "    min_samples_leaf=3, \n",
    "    min_weight_fraction_leaf=0.0, \n",
    "    max_features='sqrt', \n",
    "    random_state=42, \n",
    "    max_leaf_nodes=None, \n",
    "    min_impurity_decrease=0.0, \n",
    "    min_impurity_split=None, \n",
    "    class_weight='balanced', \n",
    "    ccp_alpha=0.0\n",
    "    )\n",
    "for lr in learnings_rates :\n",
    "    ada = AdaBoostClassifier(\n",
    "        base_estimator=dt, \n",
    "        n_estimators=100, \n",
    "        learning_rate=lr, \n",
    "        algorithm='SAMME.R', \n",
    "        random_state=21\n",
    "        )\n",
    "    ada.fit(X_train_sample, y_train_sample)\n",
    "    y_preds_test = ada.predict(X_test)\n",
    "    prec = metrics.precision_score(y_test, y_preds_test, average ='macro', zero_division=0)\n",
    "    precisions.append(prec)"
   ]
  },
  {
   "cell_type": "code",
   "execution_count": 19,
   "metadata": {},
   "outputs": [
    {
     "output_type": "execute_result",
     "data": {
      "text/plain": [
       "<AxesSubplot:>"
      ]
     },
     "metadata": {},
     "execution_count": 19
    },
    {
     "output_type": "display_data",
     "data": {
      "text/plain": "<Figure size 432x288 with 1 Axes>",
      "image/svg+xml": "<?xml version=\"1.0\" encoding=\"utf-8\" standalone=\"no\"?>\r\n<!DOCTYPE svg PUBLIC \"-//W3C//DTD SVG 1.1//EN\"\r\n  \"http://www.w3.org/Graphics/SVG/1.1/DTD/svg11.dtd\">\r\n<!-- Created with matplotlib (https://matplotlib.org/) -->\r\n<svg height=\"252.089075pt\" version=\"1.1\" viewBox=\"0 0 380.107031 252.089075\" width=\"380.107031pt\" xmlns=\"http://www.w3.org/2000/svg\" xmlns:xlink=\"http://www.w3.org/1999/xlink\">\r\n <metadata>\r\n  <rdf:RDF xmlns:cc=\"http://creativecommons.org/ns#\" xmlns:dc=\"http://purl.org/dc/elements/1.1/\" xmlns:rdf=\"http://www.w3.org/1999/02/22-rdf-syntax-ns#\">\r\n   <cc:Work>\r\n    <dc:type rdf:resource=\"http://purl.org/dc/dcmitype/StillImage\"/>\r\n    <dc:date>2021-05-20T15:13:26.703079</dc:date>\r\n    <dc:format>image/svg+xml</dc:format>\r\n    <dc:creator>\r\n     <cc:Agent>\r\n      <dc:title>Matplotlib v3.3.2, https://matplotlib.org/</dc:title>\r\n     </cc:Agent>\r\n    </dc:creator>\r\n   </cc:Work>\r\n  </rdf:RDF>\r\n </metadata>\r\n <defs>\r\n  <style type=\"text/css\">*{stroke-linecap:butt;stroke-linejoin:round;}</style>\r\n </defs>\r\n <g id=\"figure_1\">\r\n  <g id=\"patch_1\">\r\n   <path d=\"M 0 252.089075 \r\nL 380.107031 252.089075 \r\nL 380.107031 0 \r\nL 0 0 \r\nz\r\n\" style=\"fill:#ffffff;\"/>\r\n  </g>\r\n  <g id=\"axes_1\">\r\n   <g id=\"patch_2\">\r\n    <path d=\"M 38.107031 225.329231 \r\nL 372.907031 225.329231 \r\nL 372.907031 7.889231 \r\nL 38.107031 7.889231 \r\nz\r\n\" style=\"fill:#eaeaf2;\"/>\r\n   </g>\r\n   <g id=\"matplotlib.axis_1\">\r\n    <g id=\"xtick_1\">\r\n     <g id=\"line2d_1\">\r\n      <path clip-path=\"url(#p96a1e655ee)\" d=\"M 53.325213 225.329231 \r\nL 53.325213 7.889231 \r\n\" style=\"fill:none;stroke:#ffffff;stroke-linecap:round;\"/>\r\n     </g>\r\n     <g id=\"text_1\">\r\n      <!-- 0.1 -->\r\n      <g style=\"fill:#262626;\" transform=\"translate(45.680213 242.702825)scale(0.11 -0.11)\">\r\n       <defs>\r\n        <path d=\"M 4.15625 35.296875 \r\nQ 4.15625 48 6.765625 55.734375 \r\nQ 9.375 63.484375 14.515625 67.671875 \r\nQ 19.671875 71.875 27.484375 71.875 \r\nQ 33.25 71.875 37.59375 69.546875 \r\nQ 41.9375 67.234375 44.765625 62.859375 \r\nQ 47.609375 58.5 49.21875 52.21875 \r\nQ 50.828125 45.953125 50.828125 35.296875 \r\nQ 50.828125 22.703125 48.234375 14.96875 \r\nQ 45.65625 7.234375 40.5 3 \r\nQ 35.359375 -1.21875 27.484375 -1.21875 \r\nQ 17.140625 -1.21875 11.234375 6.203125 \r\nQ 4.15625 15.140625 4.15625 35.296875 \r\nz\r\nM 13.1875 35.296875 \r\nQ 13.1875 17.671875 17.3125 11.828125 \r\nQ 21.4375 6 27.484375 6 \r\nQ 33.546875 6 37.671875 11.859375 \r\nQ 41.796875 17.71875 41.796875 35.296875 \r\nQ 41.796875 52.984375 37.671875 58.78125 \r\nQ 33.546875 64.59375 27.390625 64.59375 \r\nQ 21.34375 64.59375 17.71875 59.46875 \r\nQ 13.1875 52.9375 13.1875 35.296875 \r\nz\r\n\" id=\"ArialMT-48\"/>\r\n        <path d=\"M 9.078125 0 \r\nL 9.078125 10.015625 \r\nL 19.09375 10.015625 \r\nL 19.09375 0 \r\nz\r\n\" id=\"ArialMT-46\"/>\r\n        <path d=\"M 37.25 0 \r\nL 28.46875 0 \r\nL 28.46875 56 \r\nQ 25.296875 52.984375 20.140625 49.953125 \r\nQ 14.984375 46.921875 10.890625 45.40625 \r\nL 10.890625 53.90625 \r\nQ 18.265625 57.375 23.78125 62.296875 \r\nQ 29.296875 67.234375 31.59375 71.875 \r\nL 37.25 71.875 \r\nz\r\n\" id=\"ArialMT-49\"/>\r\n       </defs>\r\n       <use xlink:href=\"#ArialMT-48\"/>\r\n       <use x=\"55.615234\" xlink:href=\"#ArialMT-46\"/>\r\n       <use x=\"83.398438\" xlink:href=\"#ArialMT-49\"/>\r\n      </g>\r\n     </g>\r\n    </g>\r\n    <g id=\"xtick_2\">\r\n     <g id=\"line2d_2\">\r\n      <path clip-path=\"url(#p96a1e655ee)\" d=\"M 96.805733 225.329231 \r\nL 96.805733 7.889231 \r\n\" style=\"fill:none;stroke:#ffffff;stroke-linecap:round;\"/>\r\n     </g>\r\n     <g id=\"text_2\">\r\n      <!-- 0.2 -->\r\n      <g style=\"fill:#262626;\" transform=\"translate(89.160733 242.702825)scale(0.11 -0.11)\">\r\n       <defs>\r\n        <path d=\"M 50.34375 8.453125 \r\nL 50.34375 0 \r\nL 3.03125 0 \r\nQ 2.9375 3.171875 4.046875 6.109375 \r\nQ 5.859375 10.9375 9.828125 15.625 \r\nQ 13.8125 20.3125 21.34375 26.46875 \r\nQ 33.015625 36.03125 37.109375 41.625 \r\nQ 41.21875 47.21875 41.21875 52.203125 \r\nQ 41.21875 57.421875 37.46875 61 \r\nQ 33.734375 64.59375 27.734375 64.59375 \r\nQ 21.390625 64.59375 17.578125 60.78125 \r\nQ 13.765625 56.984375 13.71875 50.25 \r\nL 4.6875 51.171875 \r\nQ 5.609375 61.28125 11.65625 66.578125 \r\nQ 17.71875 71.875 27.9375 71.875 \r\nQ 38.234375 71.875 44.234375 66.15625 \r\nQ 50.25 60.453125 50.25 52 \r\nQ 50.25 47.703125 48.484375 43.546875 \r\nQ 46.734375 39.40625 42.65625 34.8125 \r\nQ 38.578125 30.21875 29.109375 22.21875 \r\nQ 21.1875 15.578125 18.9375 13.203125 \r\nQ 16.703125 10.84375 15.234375 8.453125 \r\nz\r\n\" id=\"ArialMT-50\"/>\r\n       </defs>\r\n       <use xlink:href=\"#ArialMT-48\"/>\r\n       <use x=\"55.615234\" xlink:href=\"#ArialMT-46\"/>\r\n       <use x=\"83.398438\" xlink:href=\"#ArialMT-50\"/>\r\n      </g>\r\n     </g>\r\n    </g>\r\n    <g id=\"xtick_3\">\r\n     <g id=\"line2d_3\">\r\n      <path clip-path=\"url(#p96a1e655ee)\" d=\"M 140.286252 225.329231 \r\nL 140.286252 7.889231 \r\n\" style=\"fill:none;stroke:#ffffff;stroke-linecap:round;\"/>\r\n     </g>\r\n     <g id=\"text_3\">\r\n      <!-- 0.3 -->\r\n      <g style=\"fill:#262626;\" transform=\"translate(132.641252 242.702825)scale(0.11 -0.11)\">\r\n       <defs>\r\n        <path d=\"M 4.203125 18.890625 \r\nL 12.984375 20.0625 \r\nQ 14.5 12.59375 18.140625 9.296875 \r\nQ 21.78125 6 27 6 \r\nQ 33.203125 6 37.46875 10.296875 \r\nQ 41.75 14.59375 41.75 20.953125 \r\nQ 41.75 27 37.796875 30.921875 \r\nQ 33.84375 34.859375 27.734375 34.859375 \r\nQ 25.25 34.859375 21.53125 33.890625 \r\nL 22.515625 41.609375 \r\nQ 23.390625 41.5 23.921875 41.5 \r\nQ 29.546875 41.5 34.03125 44.421875 \r\nQ 38.53125 47.359375 38.53125 53.46875 \r\nQ 38.53125 58.296875 35.25 61.46875 \r\nQ 31.984375 64.65625 26.8125 64.65625 \r\nQ 21.6875 64.65625 18.265625 61.421875 \r\nQ 14.84375 58.203125 13.875 51.765625 \r\nL 5.078125 53.328125 \r\nQ 6.6875 62.15625 12.390625 67.015625 \r\nQ 18.109375 71.875 26.609375 71.875 \r\nQ 32.46875 71.875 37.390625 69.359375 \r\nQ 42.328125 66.84375 44.9375 62.5 \r\nQ 47.5625 58.15625 47.5625 53.265625 \r\nQ 47.5625 48.640625 45.0625 44.828125 \r\nQ 42.578125 41.015625 37.703125 38.765625 \r\nQ 44.046875 37.3125 47.5625 32.6875 \r\nQ 51.078125 28.078125 51.078125 21.140625 \r\nQ 51.078125 11.765625 44.234375 5.25 \r\nQ 37.40625 -1.265625 26.953125 -1.265625 \r\nQ 17.53125 -1.265625 11.296875 4.34375 \r\nQ 5.078125 9.96875 4.203125 18.890625 \r\nz\r\n\" id=\"ArialMT-51\"/>\r\n       </defs>\r\n       <use xlink:href=\"#ArialMT-48\"/>\r\n       <use x=\"55.615234\" xlink:href=\"#ArialMT-46\"/>\r\n       <use x=\"83.398438\" xlink:href=\"#ArialMT-51\"/>\r\n      </g>\r\n     </g>\r\n    </g>\r\n    <g id=\"xtick_4\">\r\n     <g id=\"line2d_4\">\r\n      <path clip-path=\"url(#p96a1e655ee)\" d=\"M 183.766772 225.329231 \r\nL 183.766772 7.889231 \r\n\" style=\"fill:none;stroke:#ffffff;stroke-linecap:round;\"/>\r\n     </g>\r\n     <g id=\"text_4\">\r\n      <!-- 0.4 -->\r\n      <g style=\"fill:#262626;\" transform=\"translate(176.121772 242.702825)scale(0.11 -0.11)\">\r\n       <defs>\r\n        <path d=\"M 32.328125 0 \r\nL 32.328125 17.140625 \r\nL 1.265625 17.140625 \r\nL 1.265625 25.203125 \r\nL 33.9375 71.578125 \r\nL 41.109375 71.578125 \r\nL 41.109375 25.203125 \r\nL 50.78125 25.203125 \r\nL 50.78125 17.140625 \r\nL 41.109375 17.140625 \r\nL 41.109375 0 \r\nz\r\nM 32.328125 25.203125 \r\nL 32.328125 57.46875 \r\nL 9.90625 25.203125 \r\nz\r\n\" id=\"ArialMT-52\"/>\r\n       </defs>\r\n       <use xlink:href=\"#ArialMT-48\"/>\r\n       <use x=\"55.615234\" xlink:href=\"#ArialMT-46\"/>\r\n       <use x=\"83.398438\" xlink:href=\"#ArialMT-52\"/>\r\n      </g>\r\n     </g>\r\n    </g>\r\n    <g id=\"xtick_5\">\r\n     <g id=\"line2d_5\">\r\n      <path clip-path=\"url(#p96a1e655ee)\" d=\"M 227.247291 225.329231 \r\nL 227.247291 7.889231 \r\n\" style=\"fill:none;stroke:#ffffff;stroke-linecap:round;\"/>\r\n     </g>\r\n     <g id=\"text_5\">\r\n      <!-- 0.5 -->\r\n      <g style=\"fill:#262626;\" transform=\"translate(219.602291 242.702825)scale(0.11 -0.11)\">\r\n       <defs>\r\n        <path d=\"M 4.15625 18.75 \r\nL 13.375 19.53125 \r\nQ 14.40625 12.796875 18.140625 9.390625 \r\nQ 21.875 6 27.15625 6 \r\nQ 33.5 6 37.890625 10.78125 \r\nQ 42.28125 15.578125 42.28125 23.484375 \r\nQ 42.28125 31 38.0625 35.34375 \r\nQ 33.84375 39.703125 27 39.703125 \r\nQ 22.75 39.703125 19.328125 37.765625 \r\nQ 15.921875 35.84375 13.96875 32.765625 \r\nL 5.71875 33.84375 \r\nL 12.640625 70.609375 \r\nL 48.25 70.609375 \r\nL 48.25 62.203125 \r\nL 19.671875 62.203125 \r\nL 15.828125 42.96875 \r\nQ 22.265625 47.46875 29.34375 47.46875 \r\nQ 38.71875 47.46875 45.15625 40.96875 \r\nQ 51.609375 34.46875 51.609375 24.265625 \r\nQ 51.609375 14.546875 45.953125 7.46875 \r\nQ 39.0625 -1.21875 27.15625 -1.21875 \r\nQ 17.390625 -1.21875 11.203125 4.25 \r\nQ 5.03125 9.71875 4.15625 18.75 \r\nz\r\n\" id=\"ArialMT-53\"/>\r\n       </defs>\r\n       <use xlink:href=\"#ArialMT-48\"/>\r\n       <use x=\"55.615234\" xlink:href=\"#ArialMT-46\"/>\r\n       <use x=\"83.398438\" xlink:href=\"#ArialMT-53\"/>\r\n      </g>\r\n     </g>\r\n    </g>\r\n    <g id=\"xtick_6\">\r\n     <g id=\"line2d_6\">\r\n      <path clip-path=\"url(#p96a1e655ee)\" d=\"M 270.72781 225.329231 \r\nL 270.72781 7.889231 \r\n\" style=\"fill:none;stroke:#ffffff;stroke-linecap:round;\"/>\r\n     </g>\r\n     <g id=\"text_6\">\r\n      <!-- 0.6 -->\r\n      <g style=\"fill:#262626;\" transform=\"translate(263.08281 242.702825)scale(0.11 -0.11)\">\r\n       <defs>\r\n        <path d=\"M 49.75 54.046875 \r\nL 41.015625 53.375 \r\nQ 39.84375 58.546875 37.703125 60.890625 \r\nQ 34.125 64.65625 28.90625 64.65625 \r\nQ 24.703125 64.65625 21.53125 62.3125 \r\nQ 17.390625 59.28125 14.984375 53.46875 \r\nQ 12.59375 47.65625 12.5 36.921875 \r\nQ 15.671875 41.75 20.265625 44.09375 \r\nQ 24.859375 46.4375 29.890625 46.4375 \r\nQ 38.671875 46.4375 44.84375 39.96875 \r\nQ 51.03125 33.5 51.03125 23.25 \r\nQ 51.03125 16.5 48.125 10.71875 \r\nQ 45.21875 4.9375 40.140625 1.859375 \r\nQ 35.0625 -1.21875 28.609375 -1.21875 \r\nQ 17.625 -1.21875 10.6875 6.859375 \r\nQ 3.765625 14.9375 3.765625 33.5 \r\nQ 3.765625 54.25 11.421875 63.671875 \r\nQ 18.109375 71.875 29.4375 71.875 \r\nQ 37.890625 71.875 43.28125 67.140625 \r\nQ 48.6875 62.40625 49.75 54.046875 \r\nz\r\nM 13.875 23.1875 \r\nQ 13.875 18.65625 15.796875 14.5 \r\nQ 17.71875 10.359375 21.1875 8.171875 \r\nQ 24.65625 6 28.46875 6 \r\nQ 34.03125 6 38.03125 10.484375 \r\nQ 42.046875 14.984375 42.046875 22.703125 \r\nQ 42.046875 30.125 38.078125 34.390625 \r\nQ 34.125 38.671875 28.125 38.671875 \r\nQ 22.171875 38.671875 18.015625 34.390625 \r\nQ 13.875 30.125 13.875 23.1875 \r\nz\r\n\" id=\"ArialMT-54\"/>\r\n       </defs>\r\n       <use xlink:href=\"#ArialMT-48\"/>\r\n       <use x=\"55.615234\" xlink:href=\"#ArialMT-46\"/>\r\n       <use x=\"83.398438\" xlink:href=\"#ArialMT-54\"/>\r\n      </g>\r\n     </g>\r\n    </g>\r\n    <g id=\"xtick_7\">\r\n     <g id=\"line2d_7\">\r\n      <path clip-path=\"url(#p96a1e655ee)\" d=\"M 314.20833 225.329231 \r\nL 314.20833 7.889231 \r\n\" style=\"fill:none;stroke:#ffffff;stroke-linecap:round;\"/>\r\n     </g>\r\n     <g id=\"text_7\">\r\n      <!-- 0.7 -->\r\n      <g style=\"fill:#262626;\" transform=\"translate(306.56333 242.702825)scale(0.11 -0.11)\">\r\n       <defs>\r\n        <path d=\"M 4.734375 62.203125 \r\nL 4.734375 70.65625 \r\nL 51.078125 70.65625 \r\nL 51.078125 63.8125 \r\nQ 44.234375 56.546875 37.515625 44.484375 \r\nQ 30.8125 32.421875 27.15625 19.671875 \r\nQ 24.515625 10.6875 23.78125 0 \r\nL 14.75 0 \r\nQ 14.890625 8.453125 18.0625 20.40625 \r\nQ 21.234375 32.375 27.171875 43.484375 \r\nQ 33.109375 54.59375 39.796875 62.203125 \r\nz\r\n\" id=\"ArialMT-55\"/>\r\n       </defs>\r\n       <use xlink:href=\"#ArialMT-48\"/>\r\n       <use x=\"55.615234\" xlink:href=\"#ArialMT-46\"/>\r\n       <use x=\"83.398438\" xlink:href=\"#ArialMT-55\"/>\r\n      </g>\r\n     </g>\r\n    </g>\r\n    <g id=\"xtick_8\">\r\n     <g id=\"line2d_8\">\r\n      <path clip-path=\"url(#p96a1e655ee)\" d=\"M 357.688849 225.329231 \r\nL 357.688849 7.889231 \r\n\" style=\"fill:none;stroke:#ffffff;stroke-linecap:round;\"/>\r\n     </g>\r\n     <g id=\"text_8\">\r\n      <!-- 0.8 -->\r\n      <g style=\"fill:#262626;\" transform=\"translate(350.043849 242.702825)scale(0.11 -0.11)\">\r\n       <defs>\r\n        <path d=\"M 17.671875 38.8125 \r\nQ 12.203125 40.828125 9.5625 44.53125 \r\nQ 6.9375 48.25 6.9375 53.421875 \r\nQ 6.9375 61.234375 12.546875 66.546875 \r\nQ 18.171875 71.875 27.484375 71.875 \r\nQ 36.859375 71.875 42.578125 66.421875 \r\nQ 48.296875 60.984375 48.296875 53.171875 \r\nQ 48.296875 48.1875 45.671875 44.5 \r\nQ 43.0625 40.828125 37.75 38.8125 \r\nQ 44.34375 36.671875 47.78125 31.875 \r\nQ 51.21875 27.09375 51.21875 20.453125 \r\nQ 51.21875 11.28125 44.71875 5.03125 \r\nQ 38.234375 -1.21875 27.640625 -1.21875 \r\nQ 17.046875 -1.21875 10.546875 5.046875 \r\nQ 4.046875 11.328125 4.046875 20.703125 \r\nQ 4.046875 27.6875 7.59375 32.390625 \r\nQ 11.140625 37.109375 17.671875 38.8125 \r\nz\r\nM 15.921875 53.71875 \r\nQ 15.921875 48.640625 19.1875 45.40625 \r\nQ 22.46875 42.1875 27.6875 42.1875 \r\nQ 32.765625 42.1875 36.015625 45.375 \r\nQ 39.265625 48.578125 39.265625 53.21875 \r\nQ 39.265625 58.0625 35.90625 61.359375 \r\nQ 32.5625 64.65625 27.59375 64.65625 \r\nQ 22.5625 64.65625 19.234375 61.421875 \r\nQ 15.921875 58.203125 15.921875 53.71875 \r\nz\r\nM 13.09375 20.65625 \r\nQ 13.09375 16.890625 14.875 13.375 \r\nQ 16.65625 9.859375 20.171875 7.921875 \r\nQ 23.6875 6 27.734375 6 \r\nQ 34.03125 6 38.125 10.046875 \r\nQ 42.234375 14.109375 42.234375 20.359375 \r\nQ 42.234375 26.703125 38.015625 30.859375 \r\nQ 33.796875 35.015625 27.4375 35.015625 \r\nQ 21.234375 35.015625 17.15625 30.90625 \r\nQ 13.09375 26.8125 13.09375 20.65625 \r\nz\r\n\" id=\"ArialMT-56\"/>\r\n       </defs>\r\n       <use xlink:href=\"#ArialMT-48\"/>\r\n       <use x=\"55.615234\" xlink:href=\"#ArialMT-46\"/>\r\n       <use x=\"83.398438\" xlink:href=\"#ArialMT-56\"/>\r\n      </g>\r\n     </g>\r\n    </g>\r\n   </g>\r\n   <g id=\"matplotlib.axis_2\">\r\n    <g id=\"ytick_1\">\r\n     <g id=\"line2d_9\">\r\n      <path clip-path=\"url(#p96a1e655ee)\" d=\"M 38.107031 201.916923 \r\nL 372.907031 201.916923 \r\n\" style=\"fill:none;stroke:#ffffff;stroke-linecap:round;\"/>\r\n     </g>\r\n     <g id=\"text_9\">\r\n      <!-- 0.72 -->\r\n      <g style=\"fill:#262626;\" transform=\"translate(7.2 205.85372)scale(0.11 -0.11)\">\r\n       <use xlink:href=\"#ArialMT-48\"/>\r\n       <use x=\"55.615234\" xlink:href=\"#ArialMT-46\"/>\r\n       <use x=\"83.398438\" xlink:href=\"#ArialMT-55\"/>\r\n       <use x=\"139.013672\" xlink:href=\"#ArialMT-50\"/>\r\n      </g>\r\n     </g>\r\n    </g>\r\n    <g id=\"ytick_2\">\r\n     <g id=\"line2d_10\">\r\n      <path clip-path=\"url(#p96a1e655ee)\" d=\"M 38.107031 170.120235 \r\nL 372.907031 170.120235 \r\n\" style=\"fill:none;stroke:#ffffff;stroke-linecap:round;\"/>\r\n     </g>\r\n     <g id=\"text_10\">\r\n      <!-- 0.73 -->\r\n      <g style=\"fill:#262626;\" transform=\"translate(7.2 174.057032)scale(0.11 -0.11)\">\r\n       <use xlink:href=\"#ArialMT-48\"/>\r\n       <use x=\"55.615234\" xlink:href=\"#ArialMT-46\"/>\r\n       <use x=\"83.398438\" xlink:href=\"#ArialMT-55\"/>\r\n       <use x=\"139.013672\" xlink:href=\"#ArialMT-51\"/>\r\n      </g>\r\n     </g>\r\n    </g>\r\n    <g id=\"ytick_3\">\r\n     <g id=\"line2d_11\">\r\n      <path clip-path=\"url(#p96a1e655ee)\" d=\"M 38.107031 138.323547 \r\nL 372.907031 138.323547 \r\n\" style=\"fill:none;stroke:#ffffff;stroke-linecap:round;\"/>\r\n     </g>\r\n     <g id=\"text_11\">\r\n      <!-- 0.74 -->\r\n      <g style=\"fill:#262626;\" transform=\"translate(7.2 142.260344)scale(0.11 -0.11)\">\r\n       <use xlink:href=\"#ArialMT-48\"/>\r\n       <use x=\"55.615234\" xlink:href=\"#ArialMT-46\"/>\r\n       <use x=\"83.398438\" xlink:href=\"#ArialMT-55\"/>\r\n       <use x=\"139.013672\" xlink:href=\"#ArialMT-52\"/>\r\n      </g>\r\n     </g>\r\n    </g>\r\n    <g id=\"ytick_4\">\r\n     <g id=\"line2d_12\">\r\n      <path clip-path=\"url(#p96a1e655ee)\" d=\"M 38.107031 106.52686 \r\nL 372.907031 106.52686 \r\n\" style=\"fill:none;stroke:#ffffff;stroke-linecap:round;\"/>\r\n     </g>\r\n     <g id=\"text_12\">\r\n      <!-- 0.75 -->\r\n      <g style=\"fill:#262626;\" transform=\"translate(7.2 110.463657)scale(0.11 -0.11)\">\r\n       <use xlink:href=\"#ArialMT-48\"/>\r\n       <use x=\"55.615234\" xlink:href=\"#ArialMT-46\"/>\r\n       <use x=\"83.398438\" xlink:href=\"#ArialMT-55\"/>\r\n       <use x=\"139.013672\" xlink:href=\"#ArialMT-53\"/>\r\n      </g>\r\n     </g>\r\n    </g>\r\n    <g id=\"ytick_5\">\r\n     <g id=\"line2d_13\">\r\n      <path clip-path=\"url(#p96a1e655ee)\" d=\"M 38.107031 74.730172 \r\nL 372.907031 74.730172 \r\n\" style=\"fill:none;stroke:#ffffff;stroke-linecap:round;\"/>\r\n     </g>\r\n     <g id=\"text_13\">\r\n      <!-- 0.76 -->\r\n      <g style=\"fill:#262626;\" transform=\"translate(7.2 78.666969)scale(0.11 -0.11)\">\r\n       <use xlink:href=\"#ArialMT-48\"/>\r\n       <use x=\"55.615234\" xlink:href=\"#ArialMT-46\"/>\r\n       <use x=\"83.398438\" xlink:href=\"#ArialMT-55\"/>\r\n       <use x=\"139.013672\" xlink:href=\"#ArialMT-54\"/>\r\n      </g>\r\n     </g>\r\n    </g>\r\n    <g id=\"ytick_6\">\r\n     <g id=\"line2d_14\">\r\n      <path clip-path=\"url(#p96a1e655ee)\" d=\"M 38.107031 42.933485 \r\nL 372.907031 42.933485 \r\n\" style=\"fill:none;stroke:#ffffff;stroke-linecap:round;\"/>\r\n     </g>\r\n     <g id=\"text_14\">\r\n      <!-- 0.77 -->\r\n      <g style=\"fill:#262626;\" transform=\"translate(7.2 46.870281)scale(0.11 -0.11)\">\r\n       <use xlink:href=\"#ArialMT-48\"/>\r\n       <use x=\"55.615234\" xlink:href=\"#ArialMT-46\"/>\r\n       <use x=\"83.398438\" xlink:href=\"#ArialMT-55\"/>\r\n       <use x=\"139.013672\" xlink:href=\"#ArialMT-55\"/>\r\n      </g>\r\n     </g>\r\n    </g>\r\n    <g id=\"ytick_7\">\r\n     <g id=\"line2d_15\">\r\n      <path clip-path=\"url(#p96a1e655ee)\" d=\"M 38.107031 11.136797 \r\nL 372.907031 11.136797 \r\n\" style=\"fill:none;stroke:#ffffff;stroke-linecap:round;\"/>\r\n     </g>\r\n     <g id=\"text_15\">\r\n      <!-- 0.78 -->\r\n      <g style=\"fill:#262626;\" transform=\"translate(7.2 15.073594)scale(0.11 -0.11)\">\r\n       <use xlink:href=\"#ArialMT-48\"/>\r\n       <use x=\"55.615234\" xlink:href=\"#ArialMT-46\"/>\r\n       <use x=\"83.398438\" xlink:href=\"#ArialMT-55\"/>\r\n       <use x=\"139.013672\" xlink:href=\"#ArialMT-56\"/>\r\n      </g>\r\n     </g>\r\n    </g>\r\n   </g>\r\n   <g id=\"line2d_16\">\r\n    <path clip-path=\"url(#p96a1e655ee)\" d=\"M 53.325213 17.772867 \r\nL 183.766772 125.456057 \r\nL 357.688849 215.445595 \r\n\" style=\"fill:none;stroke:#4c72b0;stroke-linecap:round;stroke-width:1.5;\"/>\r\n   </g>\r\n   <g id=\"patch_3\">\r\n    <path d=\"M 38.107031 225.329231 \r\nL 38.107031 7.889231 \r\n\" style=\"fill:none;stroke:#ffffff;stroke-linecap:square;stroke-linejoin:miter;stroke-width:1.25;\"/>\r\n   </g>\r\n   <g id=\"patch_4\">\r\n    <path d=\"M 372.907031 225.329231 \r\nL 372.907031 7.889231 \r\n\" style=\"fill:none;stroke:#ffffff;stroke-linecap:square;stroke-linejoin:miter;stroke-width:1.25;\"/>\r\n   </g>\r\n   <g id=\"patch_5\">\r\n    <path d=\"M 38.107031 225.329231 \r\nL 372.907031 225.329231 \r\n\" style=\"fill:none;stroke:#ffffff;stroke-linecap:square;stroke-linejoin:miter;stroke-width:1.25;\"/>\r\n   </g>\r\n   <g id=\"patch_6\">\r\n    <path d=\"M 38.107031 7.889231 \r\nL 372.907031 7.889231 \r\n\" style=\"fill:none;stroke:#ffffff;stroke-linecap:square;stroke-linejoin:miter;stroke-width:1.25;\"/>\r\n   </g>\r\n  </g>\r\n </g>\r\n <defs>\r\n  <clipPath id=\"p96a1e655ee\">\r\n   <rect height=\"217.44\" width=\"334.8\" x=\"38.107031\" y=\"7.889231\"/>\r\n  </clipPath>\r\n </defs>\r\n</svg>\r\n",
      "image/png": "[encoded data removed]"
     },
     "metadata": {}
    }
   ],
   "source": [
    "sns.lineplot(x=learnings_rates, y=precisions)"
   ]
  },
  {
   "cell_type": "code",
   "execution_count": 20,
   "metadata": {},
   "outputs": [
    {
     "output_type": "stream",
     "name": "stdout",
     "text": [
      "Test Set Class1 - AdaBoost on full Classification Metrics :\n-------------------\nAccuracy : 80.41%\nRecall : 77.88%\nPrecision : 80.52%\nF1-score : 78.85%\n\n\n"
     ]
    }
   ],
   "source": [
    "dt = DecisionTreeClassifier(\n",
    "    criterion='gini', \n",
    "    splitter='best', \n",
    "    max_depth=None, \n",
    "    min_samples_split=2, \n",
    "    min_samples_leaf=3, \n",
    "    min_weight_fraction_leaf=0.0, \n",
    "    max_features='sqrt', \n",
    "    random_state=42, \n",
    "    max_leaf_nodes=None, \n",
    "    min_impurity_decrease=0.0, \n",
    "    min_impurity_split=None, \n",
    "    class_weight='balanced', \n",
    "    ccp_alpha=0.0\n",
    "    )\n",
    "\n",
    "ada = AdaBoostClassifier(\n",
    "    base_estimator=dt, \n",
    "    n_estimators=100, \n",
    "    learning_rate=0.01, \n",
    "    algorithm='SAMME.R', \n",
    "    random_state=21\n",
    "    )\n",
    "\n",
    "\n",
    "ada.fit(X_train_sample, y_train_sample)\n",
    "y_preds_test = ada.predict(X_test)\n",
    "classifier_metrics(y_test=y_test, y_preds=y_preds_test, average='macro', model='Test Set Class1 - AdaBoost on full')\n",
    "prec = metrics.precision_score(y_test, y_preds_test, average ='macro', zero_division=0)\n",
    "precisions.append(prec)\n",
    "learnings_rates.append(0.01)"
   ]
  },
  {
   "cell_type": "code",
   "execution_count": 21,
   "metadata": {},
   "outputs": [
    {
     "output_type": "execute_result",
     "data": {
      "text/plain": [
       "<AxesSubplot:>"
      ]
     },
     "metadata": {},
     "execution_count": 21
    },
    {
     "output_type": "display_data",
     "data": {
      "text/plain": "<Figure size 432x288 with 1 Axes>",
      "image/svg+xml": "<?xml version=\"1.0\" encoding=\"utf-8\" standalone=\"no\"?>\r\n<!DOCTYPE svg PUBLIC \"-//W3C//DTD SVG 1.1//EN\"\r\n  \"http://www.w3.org/Graphics/SVG/1.1/DTD/svg11.dtd\">\r\n<!-- Created with matplotlib (https://matplotlib.org/) -->\r\n<svg height=\"251.399844pt\" version=\"1.1\" viewBox=\"0 0 380.107031 251.399844\" width=\"380.107031pt\" xmlns=\"http://www.w3.org/2000/svg\" xmlns:xlink=\"http://www.w3.org/1999/xlink\">\r\n <metadata>\r\n  <rdf:RDF xmlns:cc=\"http://creativecommons.org/ns#\" xmlns:dc=\"http://purl.org/dc/elements/1.1/\" xmlns:rdf=\"http://www.w3.org/1999/02/22-rdf-syntax-ns#\">\r\n   <cc:Work>\r\n    <dc:type rdf:resource=\"http://purl.org/dc/dcmitype/StillImage\"/>\r\n    <dc:date>2021-05-20T15:16:19.971363</dc:date>\r\n    <dc:format>image/svg+xml</dc:format>\r\n    <dc:creator>\r\n     <cc:Agent>\r\n      <dc:title>Matplotlib v3.3.2, https://matplotlib.org/</dc:title>\r\n     </cc:Agent>\r\n    </dc:creator>\r\n   </cc:Work>\r\n  </rdf:RDF>\r\n </metadata>\r\n <defs>\r\n  <style type=\"text/css\">*{stroke-linecap:butt;stroke-linejoin:round;}</style>\r\n </defs>\r\n <g id=\"figure_1\">\r\n  <g id=\"patch_1\">\r\n   <path d=\"M 0 251.399844 \r\nL 380.107031 251.399844 \r\nL 380.107031 0 \r\nL 0 0 \r\nz\r\n\" style=\"fill:#ffffff;\"/>\r\n  </g>\r\n  <g id=\"axes_1\">\r\n   <g id=\"patch_2\">\r\n    <path d=\"M 38.107031 224.64 \r\nL 372.907031 224.64 \r\nL 372.907031 7.2 \r\nL 38.107031 7.2 \r\nz\r\n\" style=\"fill:#eaeaf2;\"/>\r\n   </g>\r\n   <g id=\"matplotlib.axis_1\">\r\n    <g id=\"xtick_1\">\r\n     <g id=\"line2d_1\">\r\n      <path clip-path=\"url(#pb7d0411f3d)\" d=\"M 49.472509 224.64 \r\nL 49.472509 7.2 \r\n\" style=\"fill:none;stroke:#ffffff;stroke-linecap:round;\"/>\r\n     </g>\r\n     <g id=\"text_1\">\r\n      <!-- 0.0 -->\r\n      <g style=\"fill:#262626;\" transform=\"translate(41.827509 242.013594)scale(0.11 -0.11)\">\r\n       <defs>\r\n        <path d=\"M 4.15625 35.296875 \r\nQ 4.15625 48 6.765625 55.734375 \r\nQ 9.375 63.484375 14.515625 67.671875 \r\nQ 19.671875 71.875 27.484375 71.875 \r\nQ 33.25 71.875 37.59375 69.546875 \r\nQ 41.9375 67.234375 44.765625 62.859375 \r\nQ 47.609375 58.5 49.21875 52.21875 \r\nQ 50.828125 45.953125 50.828125 35.296875 \r\nQ 50.828125 22.703125 48.234375 14.96875 \r\nQ 45.65625 7.234375 40.5 3 \r\nQ 35.359375 -1.21875 27.484375 -1.21875 \r\nQ 17.140625 -1.21875 11.234375 6.203125 \r\nQ 4.15625 15.140625 4.15625 35.296875 \r\nz\r\nM 13.1875 35.296875 \r\nQ 13.1875 17.671875 17.3125 11.828125 \r\nQ 21.4375 6 27.484375 6 \r\nQ 33.546875 6 37.671875 11.859375 \r\nQ 41.796875 17.71875 41.796875 35.296875 \r\nQ 41.796875 52.984375 37.671875 58.78125 \r\nQ 33.546875 64.59375 27.390625 64.59375 \r\nQ 21.34375 64.59375 17.71875 59.46875 \r\nQ 13.1875 52.9375 13.1875 35.296875 \r\nz\r\n\" id=\"ArialMT-48\"/>\r\n        <path d=\"M 9.078125 0 \r\nL 9.078125 10.015625 \r\nL 19.09375 10.015625 \r\nL 19.09375 0 \r\nz\r\n\" id=\"ArialMT-46\"/>\r\n       </defs>\r\n       <use xlink:href=\"#ArialMT-48\"/>\r\n       <use x=\"55.615234\" xlink:href=\"#ArialMT-46\"/>\r\n       <use x=\"83.398438\" xlink:href=\"#ArialMT-48\"/>\r\n      </g>\r\n     </g>\r\n    </g>\r\n    <g id=\"xtick_2\">\r\n     <g id=\"line2d_2\">\r\n      <path clip-path=\"url(#pb7d0411f3d)\" d=\"M 87.999551 224.64 \r\nL 87.999551 7.2 \r\n\" style=\"fill:none;stroke:#ffffff;stroke-linecap:round;\"/>\r\n     </g>\r\n     <g id=\"text_2\">\r\n      <!-- 0.1 -->\r\n      <g style=\"fill:#262626;\" transform=\"translate(80.354551 242.013594)scale(0.11 -0.11)\">\r\n       <defs>\r\n        <path d=\"M 37.25 0 \r\nL 28.46875 0 \r\nL 28.46875 56 \r\nQ 25.296875 52.984375 20.140625 49.953125 \r\nQ 14.984375 46.921875 10.890625 45.40625 \r\nL 10.890625 53.90625 \r\nQ 18.265625 57.375 23.78125 62.296875 \r\nQ 29.296875 67.234375 31.59375 71.875 \r\nL 37.25 71.875 \r\nz\r\n\" id=\"ArialMT-49\"/>\r\n       </defs>\r\n       <use xlink:href=\"#ArialMT-48\"/>\r\n       <use x=\"55.615234\" xlink:href=\"#ArialMT-46\"/>\r\n       <use x=\"83.398438\" xlink:href=\"#ArialMT-49\"/>\r\n      </g>\r\n     </g>\r\n    </g>\r\n    <g id=\"xtick_3\">\r\n     <g id=\"line2d_3\">\r\n      <path clip-path=\"url(#pb7d0411f3d)\" d=\"M 126.526594 224.64 \r\nL 126.526594 7.2 \r\n\" style=\"fill:none;stroke:#ffffff;stroke-linecap:round;\"/>\r\n     </g>\r\n     <g id=\"text_3\">\r\n      <!-- 0.2 -->\r\n      <g style=\"fill:#262626;\" transform=\"translate(118.881594 242.013594)scale(0.11 -0.11)\">\r\n       <defs>\r\n        <path d=\"M 50.34375 8.453125 \r\nL 50.34375 0 \r\nL 3.03125 0 \r\nQ 2.9375 3.171875 4.046875 6.109375 \r\nQ 5.859375 10.9375 9.828125 15.625 \r\nQ 13.8125 20.3125 21.34375 26.46875 \r\nQ 33.015625 36.03125 37.109375 41.625 \r\nQ 41.21875 47.21875 41.21875 52.203125 \r\nQ 41.21875 57.421875 37.46875 61 \r\nQ 33.734375 64.59375 27.734375 64.59375 \r\nQ 21.390625 64.59375 17.578125 60.78125 \r\nQ 13.765625 56.984375 13.71875 50.25 \r\nL 4.6875 51.171875 \r\nQ 5.609375 61.28125 11.65625 66.578125 \r\nQ 17.71875 71.875 27.9375 71.875 \r\nQ 38.234375 71.875 44.234375 66.15625 \r\nQ 50.25 60.453125 50.25 52 \r\nQ 50.25 47.703125 48.484375 43.546875 \r\nQ 46.734375 39.40625 42.65625 34.8125 \r\nQ 38.578125 30.21875 29.109375 22.21875 \r\nQ 21.1875 15.578125 18.9375 13.203125 \r\nQ 16.703125 10.84375 15.234375 8.453125 \r\nz\r\n\" id=\"ArialMT-50\"/>\r\n       </defs>\r\n       <use xlink:href=\"#ArialMT-48\"/>\r\n       <use x=\"55.615234\" xlink:href=\"#ArialMT-46\"/>\r\n       <use x=\"83.398438\" xlink:href=\"#ArialMT-50\"/>\r\n      </g>\r\n     </g>\r\n    </g>\r\n    <g id=\"xtick_4\">\r\n     <g id=\"line2d_4\">\r\n      <path clip-path=\"url(#pb7d0411f3d)\" d=\"M 165.053637 224.64 \r\nL 165.053637 7.2 \r\n\" style=\"fill:none;stroke:#ffffff;stroke-linecap:round;\"/>\r\n     </g>\r\n     <g id=\"text_4\">\r\n      <!-- 0.3 -->\r\n      <g style=\"fill:#262626;\" transform=\"translate(157.408637 242.013594)scale(0.11 -0.11)\">\r\n       <defs>\r\n        <path d=\"M 4.203125 18.890625 \r\nL 12.984375 20.0625 \r\nQ 14.5 12.59375 18.140625 9.296875 \r\nQ 21.78125 6 27 6 \r\nQ 33.203125 6 37.46875 10.296875 \r\nQ 41.75 14.59375 41.75 20.953125 \r\nQ 41.75 27 37.796875 30.921875 \r\nQ 33.84375 34.859375 27.734375 34.859375 \r\nQ 25.25 34.859375 21.53125 33.890625 \r\nL 22.515625 41.609375 \r\nQ 23.390625 41.5 23.921875 41.5 \r\nQ 29.546875 41.5 34.03125 44.421875 \r\nQ 38.53125 47.359375 38.53125 53.46875 \r\nQ 38.53125 58.296875 35.25 61.46875 \r\nQ 31.984375 64.65625 26.8125 64.65625 \r\nQ 21.6875 64.65625 18.265625 61.421875 \r\nQ 14.84375 58.203125 13.875 51.765625 \r\nL 5.078125 53.328125 \r\nQ 6.6875 62.15625 12.390625 67.015625 \r\nQ 18.109375 71.875 26.609375 71.875 \r\nQ 32.46875 71.875 37.390625 69.359375 \r\nQ 42.328125 66.84375 44.9375 62.5 \r\nQ 47.5625 58.15625 47.5625 53.265625 \r\nQ 47.5625 48.640625 45.0625 44.828125 \r\nQ 42.578125 41.015625 37.703125 38.765625 \r\nQ 44.046875 37.3125 47.5625 32.6875 \r\nQ 51.078125 28.078125 51.078125 21.140625 \r\nQ 51.078125 11.765625 44.234375 5.25 \r\nQ 37.40625 -1.265625 26.953125 -1.265625 \r\nQ 17.53125 -1.265625 11.296875 4.34375 \r\nQ 5.078125 9.96875 4.203125 18.890625 \r\nz\r\n\" id=\"ArialMT-51\"/>\r\n       </defs>\r\n       <use xlink:href=\"#ArialMT-48\"/>\r\n       <use x=\"55.615234\" xlink:href=\"#ArialMT-46\"/>\r\n       <use x=\"83.398438\" xlink:href=\"#ArialMT-51\"/>\r\n      </g>\r\n     </g>\r\n    </g>\r\n    <g id=\"xtick_5\">\r\n     <g id=\"line2d_5\">\r\n      <path clip-path=\"url(#pb7d0411f3d)\" d=\"M 203.580679 224.64 \r\nL 203.580679 7.2 \r\n\" style=\"fill:none;stroke:#ffffff;stroke-linecap:round;\"/>\r\n     </g>\r\n     <g id=\"text_5\">\r\n      <!-- 0.4 -->\r\n      <g style=\"fill:#262626;\" transform=\"translate(195.935679 242.013594)scale(0.11 -0.11)\">\r\n       <defs>\r\n        <path d=\"M 32.328125 0 \r\nL 32.328125 17.140625 \r\nL 1.265625 17.140625 \r\nL 1.265625 25.203125 \r\nL 33.9375 71.578125 \r\nL 41.109375 71.578125 \r\nL 41.109375 25.203125 \r\nL 50.78125 25.203125 \r\nL 50.78125 17.140625 \r\nL 41.109375 17.140625 \r\nL 41.109375 0 \r\nz\r\nM 32.328125 25.203125 \r\nL 32.328125 57.46875 \r\nL 9.90625 25.203125 \r\nz\r\n\" id=\"ArialMT-52\"/>\r\n       </defs>\r\n       <use xlink:href=\"#ArialMT-48\"/>\r\n       <use x=\"55.615234\" xlink:href=\"#ArialMT-46\"/>\r\n       <use x=\"83.398438\" xlink:href=\"#ArialMT-52\"/>\r\n      </g>\r\n     </g>\r\n    </g>\r\n    <g id=\"xtick_6\">\r\n     <g id=\"line2d_6\">\r\n      <path clip-path=\"url(#pb7d0411f3d)\" d=\"M 242.107722 224.64 \r\nL 242.107722 7.2 \r\n\" style=\"fill:none;stroke:#ffffff;stroke-linecap:round;\"/>\r\n     </g>\r\n     <g id=\"text_6\">\r\n      <!-- 0.5 -->\r\n      <g style=\"fill:#262626;\" transform=\"translate(234.462722 242.013594)scale(0.11 -0.11)\">\r\n       <defs>\r\n        <path d=\"M 4.15625 18.75 \r\nL 13.375 19.53125 \r\nQ 14.40625 12.796875 18.140625 9.390625 \r\nQ 21.875 6 27.15625 6 \r\nQ 33.5 6 37.890625 10.78125 \r\nQ 42.28125 15.578125 42.28125 23.484375 \r\nQ 42.28125 31 38.0625 35.34375 \r\nQ 33.84375 39.703125 27 39.703125 \r\nQ 22.75 39.703125 19.328125 37.765625 \r\nQ 15.921875 35.84375 13.96875 32.765625 \r\nL 5.71875 33.84375 \r\nL 12.640625 70.609375 \r\nL 48.25 70.609375 \r\nL 48.25 62.203125 \r\nL 19.671875 62.203125 \r\nL 15.828125 42.96875 \r\nQ 22.265625 47.46875 29.34375 47.46875 \r\nQ 38.71875 47.46875 45.15625 40.96875 \r\nQ 51.609375 34.46875 51.609375 24.265625 \r\nQ 51.609375 14.546875 45.953125 7.46875 \r\nQ 39.0625 -1.21875 27.15625 -1.21875 \r\nQ 17.390625 -1.21875 11.203125 4.25 \r\nQ 5.03125 9.71875 4.15625 18.75 \r\nz\r\n\" id=\"ArialMT-53\"/>\r\n       </defs>\r\n       <use xlink:href=\"#ArialMT-48\"/>\r\n       <use x=\"55.615234\" xlink:href=\"#ArialMT-46\"/>\r\n       <use x=\"83.398438\" xlink:href=\"#ArialMT-53\"/>\r\n      </g>\r\n     </g>\r\n    </g>\r\n    <g id=\"xtick_7\">\r\n     <g id=\"line2d_7\">\r\n      <path clip-path=\"url(#pb7d0411f3d)\" d=\"M 280.634764 224.64 \r\nL 280.634764 7.2 \r\n\" style=\"fill:none;stroke:#ffffff;stroke-linecap:round;\"/>\r\n     </g>\r\n     <g id=\"text_7\">\r\n      <!-- 0.6 -->\r\n      <g style=\"fill:#262626;\" transform=\"translate(272.989764 242.013594)scale(0.11 -0.11)\">\r\n       <defs>\r\n        <path d=\"M 49.75 54.046875 \r\nL 41.015625 53.375 \r\nQ 39.84375 58.546875 37.703125 60.890625 \r\nQ 34.125 64.65625 28.90625 64.65625 \r\nQ 24.703125 64.65625 21.53125 62.3125 \r\nQ 17.390625 59.28125 14.984375 53.46875 \r\nQ 12.59375 47.65625 12.5 36.921875 \r\nQ 15.671875 41.75 20.265625 44.09375 \r\nQ 24.859375 46.4375 29.890625 46.4375 \r\nQ 38.671875 46.4375 44.84375 39.96875 \r\nQ 51.03125 33.5 51.03125 23.25 \r\nQ 51.03125 16.5 48.125 10.71875 \r\nQ 45.21875 4.9375 40.140625 1.859375 \r\nQ 35.0625 -1.21875 28.609375 -1.21875 \r\nQ 17.625 -1.21875 10.6875 6.859375 \r\nQ 3.765625 14.9375 3.765625 33.5 \r\nQ 3.765625 54.25 11.421875 63.671875 \r\nQ 18.109375 71.875 29.4375 71.875 \r\nQ 37.890625 71.875 43.28125 67.140625 \r\nQ 48.6875 62.40625 49.75 54.046875 \r\nz\r\nM 13.875 23.1875 \r\nQ 13.875 18.65625 15.796875 14.5 \r\nQ 17.71875 10.359375 21.1875 8.171875 \r\nQ 24.65625 6 28.46875 6 \r\nQ 34.03125 6 38.03125 10.484375 \r\nQ 42.046875 14.984375 42.046875 22.703125 \r\nQ 42.046875 30.125 38.078125 34.390625 \r\nQ 34.125 38.671875 28.125 38.671875 \r\nQ 22.171875 38.671875 18.015625 34.390625 \r\nQ 13.875 30.125 13.875 23.1875 \r\nz\r\n\" id=\"ArialMT-54\"/>\r\n       </defs>\r\n       <use xlink:href=\"#ArialMT-48\"/>\r\n       <use x=\"55.615234\" xlink:href=\"#ArialMT-46\"/>\r\n       <use x=\"83.398438\" xlink:href=\"#ArialMT-54\"/>\r\n      </g>\r\n     </g>\r\n    </g>\r\n    <g id=\"xtick_8\">\r\n     <g id=\"line2d_8\">\r\n      <path clip-path=\"url(#pb7d0411f3d)\" d=\"M 319.161807 224.64 \r\nL 319.161807 7.2 \r\n\" style=\"fill:none;stroke:#ffffff;stroke-linecap:round;\"/>\r\n     </g>\r\n     <g id=\"text_8\">\r\n      <!-- 0.7 -->\r\n      <g style=\"fill:#262626;\" transform=\"translate(311.516807 242.013594)scale(0.11 -0.11)\">\r\n       <defs>\r\n        <path d=\"M 4.734375 62.203125 \r\nL 4.734375 70.65625 \r\nL 51.078125 70.65625 \r\nL 51.078125 63.8125 \r\nQ 44.234375 56.546875 37.515625 44.484375 \r\nQ 30.8125 32.421875 27.15625 19.671875 \r\nQ 24.515625 10.6875 23.78125 0 \r\nL 14.75 0 \r\nQ 14.890625 8.453125 18.0625 20.40625 \r\nQ 21.234375 32.375 27.171875 43.484375 \r\nQ 33.109375 54.59375 39.796875 62.203125 \r\nz\r\n\" id=\"ArialMT-55\"/>\r\n       </defs>\r\n       <use xlink:href=\"#ArialMT-48\"/>\r\n       <use x=\"55.615234\" xlink:href=\"#ArialMT-46\"/>\r\n       <use x=\"83.398438\" xlink:href=\"#ArialMT-55\"/>\r\n      </g>\r\n     </g>\r\n    </g>\r\n    <g id=\"xtick_9\">\r\n     <g id=\"line2d_9\">\r\n      <path clip-path=\"url(#pb7d0411f3d)\" d=\"M 357.688849 224.64 \r\nL 357.688849 7.2 \r\n\" style=\"fill:none;stroke:#ffffff;stroke-linecap:round;\"/>\r\n     </g>\r\n     <g id=\"text_9\">\r\n      <!-- 0.8 -->\r\n      <g style=\"fill:#262626;\" transform=\"translate(350.043849 242.013594)scale(0.11 -0.11)\">\r\n       <defs>\r\n        <path d=\"M 17.671875 38.8125 \r\nQ 12.203125 40.828125 9.5625 44.53125 \r\nQ 6.9375 48.25 6.9375 53.421875 \r\nQ 6.9375 61.234375 12.546875 66.546875 \r\nQ 18.171875 71.875 27.484375 71.875 \r\nQ 36.859375 71.875 42.578125 66.421875 \r\nQ 48.296875 60.984375 48.296875 53.171875 \r\nQ 48.296875 48.1875 45.671875 44.5 \r\nQ 43.0625 40.828125 37.75 38.8125 \r\nQ 44.34375 36.671875 47.78125 31.875 \r\nQ 51.21875 27.09375 51.21875 20.453125 \r\nQ 51.21875 11.28125 44.71875 5.03125 \r\nQ 38.234375 -1.21875 27.640625 -1.21875 \r\nQ 17.046875 -1.21875 10.546875 5.046875 \r\nQ 4.046875 11.328125 4.046875 20.703125 \r\nQ 4.046875 27.6875 7.59375 32.390625 \r\nQ 11.140625 37.109375 17.671875 38.8125 \r\nz\r\nM 15.921875 53.71875 \r\nQ 15.921875 48.640625 19.1875 45.40625 \r\nQ 22.46875 42.1875 27.6875 42.1875 \r\nQ 32.765625 42.1875 36.015625 45.375 \r\nQ 39.265625 48.578125 39.265625 53.21875 \r\nQ 39.265625 58.0625 35.90625 61.359375 \r\nQ 32.5625 64.65625 27.59375 64.65625 \r\nQ 22.5625 64.65625 19.234375 61.421875 \r\nQ 15.921875 58.203125 15.921875 53.71875 \r\nz\r\nM 13.09375 20.65625 \r\nQ 13.09375 16.890625 14.875 13.375 \r\nQ 16.65625 9.859375 20.171875 7.921875 \r\nQ 23.6875 6 27.734375 6 \r\nQ 34.03125 6 38.125 10.046875 \r\nQ 42.234375 14.109375 42.234375 20.359375 \r\nQ 42.234375 26.703125 38.015625 30.859375 \r\nQ 33.796875 35.015625 27.4375 35.015625 \r\nQ 21.234375 35.015625 17.15625 30.90625 \r\nQ 13.09375 26.8125 13.09375 20.65625 \r\nz\r\n\" id=\"ArialMT-56\"/>\r\n       </defs>\r\n       <use xlink:href=\"#ArialMT-48\"/>\r\n       <use x=\"55.615234\" xlink:href=\"#ArialMT-46\"/>\r\n       <use x=\"83.398438\" xlink:href=\"#ArialMT-56\"/>\r\n      </g>\r\n     </g>\r\n    </g>\r\n   </g>\r\n   <g id=\"matplotlib.axis_2\">\r\n    <g id=\"ytick_1\">\r\n     <g id=\"line2d_10\">\r\n      <path clip-path=\"url(#pb7d0411f3d)\" d=\"M 38.107031 205.355377 \r\nL 372.907031 205.355377 \r\n\" style=\"fill:none;stroke:#ffffff;stroke-linecap:round;\"/>\r\n     </g>\r\n     <g id=\"text_10\">\r\n      <!-- 0.72 -->\r\n      <g style=\"fill:#262626;\" transform=\"translate(7.2 209.292174)scale(0.11 -0.11)\">\r\n       <use xlink:href=\"#ArialMT-48\"/>\r\n       <use x=\"55.615234\" xlink:href=\"#ArialMT-46\"/>\r\n       <use x=\"83.398438\" xlink:href=\"#ArialMT-55\"/>\r\n       <use x=\"139.013672\" xlink:href=\"#ArialMT-50\"/>\r\n      </g>\r\n     </g>\r\n    </g>\r\n    <g id=\"ytick_2\">\r\n     <g id=\"line2d_11\">\r\n      <path clip-path=\"url(#pb7d0411f3d)\" d=\"M 38.107031 161.16475 \r\nL 372.907031 161.16475 \r\n\" style=\"fill:none;stroke:#ffffff;stroke-linecap:round;\"/>\r\n     </g>\r\n     <g id=\"text_11\">\r\n      <!-- 0.74 -->\r\n      <g style=\"fill:#262626;\" transform=\"translate(7.2 165.101547)scale(0.11 -0.11)\">\r\n       <use xlink:href=\"#ArialMT-48\"/>\r\n       <use x=\"55.615234\" xlink:href=\"#ArialMT-46\"/>\r\n       <use x=\"83.398438\" xlink:href=\"#ArialMT-55\"/>\r\n       <use x=\"139.013672\" xlink:href=\"#ArialMT-52\"/>\r\n      </g>\r\n     </g>\r\n    </g>\r\n    <g id=\"ytick_3\">\r\n     <g id=\"line2d_12\">\r\n      <path clip-path=\"url(#pb7d0411f3d)\" d=\"M 38.107031 116.974124 \r\nL 372.907031 116.974124 \r\n\" style=\"fill:none;stroke:#ffffff;stroke-linecap:round;\"/>\r\n     </g>\r\n     <g id=\"text_12\">\r\n      <!-- 0.76 -->\r\n      <g style=\"fill:#262626;\" transform=\"translate(7.2 120.910921)scale(0.11 -0.11)\">\r\n       <use xlink:href=\"#ArialMT-48\"/>\r\n       <use x=\"55.615234\" xlink:href=\"#ArialMT-46\"/>\r\n       <use x=\"83.398438\" xlink:href=\"#ArialMT-55\"/>\r\n       <use x=\"139.013672\" xlink:href=\"#ArialMT-54\"/>\r\n      </g>\r\n     </g>\r\n    </g>\r\n    <g id=\"ytick_4\">\r\n     <g id=\"line2d_13\">\r\n      <path clip-path=\"url(#pb7d0411f3d)\" d=\"M 38.107031 72.783498 \r\nL 372.907031 72.783498 \r\n\" style=\"fill:none;stroke:#ffffff;stroke-linecap:round;\"/>\r\n     </g>\r\n     <g id=\"text_13\">\r\n      <!-- 0.78 -->\r\n      <g style=\"fill:#262626;\" transform=\"translate(7.2 76.720295)scale(0.11 -0.11)\">\r\n       <use xlink:href=\"#ArialMT-48\"/>\r\n       <use x=\"55.615234\" xlink:href=\"#ArialMT-46\"/>\r\n       <use x=\"83.398438\" xlink:href=\"#ArialMT-55\"/>\r\n       <use x=\"139.013672\" xlink:href=\"#ArialMT-56\"/>\r\n      </g>\r\n     </g>\r\n    </g>\r\n    <g id=\"ytick_5\">\r\n     <g id=\"line2d_14\">\r\n      <path clip-path=\"url(#pb7d0411f3d)\" d=\"M 38.107031 28.592872 \r\nL 372.907031 28.592872 \r\n\" style=\"fill:none;stroke:#ffffff;stroke-linecap:round;\"/>\r\n     </g>\r\n     <g id=\"text_14\">\r\n      <!-- 0.80 -->\r\n      <g style=\"fill:#262626;\" transform=\"translate(7.2 32.529669)scale(0.11 -0.11)\">\r\n       <use xlink:href=\"#ArialMT-48\"/>\r\n       <use x=\"55.615234\" xlink:href=\"#ArialMT-46\"/>\r\n       <use x=\"83.398438\" xlink:href=\"#ArialMT-56\"/>\r\n       <use x=\"139.013672\" xlink:href=\"#ArialMT-48\"/>\r\n      </g>\r\n     </g>\r\n    </g>\r\n   </g>\r\n   <g id=\"line2d_15\">\r\n    <path clip-path=\"url(#pb7d0411f3d)\" d=\"M 53.325213 17.083636 \r\nL 87.999551 77.394861 \r\nL 203.580679 152.223214 \r\nL 357.688849 214.756364 \r\n\" style=\"fill:none;stroke:#4c72b0;stroke-linecap:round;stroke-width:1.5;\"/>\r\n   </g>\r\n   <g id=\"patch_3\">\r\n    <path d=\"M 38.107031 224.64 \r\nL 38.107031 7.2 \r\n\" style=\"fill:none;stroke:#ffffff;stroke-linecap:square;stroke-linejoin:miter;stroke-width:1.25;\"/>\r\n   </g>\r\n   <g id=\"patch_4\">\r\n    <path d=\"M 372.907031 224.64 \r\nL 372.907031 7.2 \r\n\" style=\"fill:none;stroke:#ffffff;stroke-linecap:square;stroke-linejoin:miter;stroke-width:1.25;\"/>\r\n   </g>\r\n   <g id=\"patch_5\">\r\n    <path d=\"M 38.107031 224.64 \r\nL 372.907031 224.64 \r\n\" style=\"fill:none;stroke:#ffffff;stroke-linecap:square;stroke-linejoin:miter;stroke-width:1.25;\"/>\r\n   </g>\r\n   <g id=\"patch_6\">\r\n    <path d=\"M 38.107031 7.2 \r\nL 372.907031 7.2 \r\n\" style=\"fill:none;stroke:#ffffff;stroke-linecap:square;stroke-linejoin:miter;stroke-width:1.25;\"/>\r\n   </g>\r\n  </g>\r\n </g>\r\n <defs>\r\n  <clipPath id=\"pb7d0411f3d\">\r\n   <rect height=\"217.44\" width=\"334.8\" x=\"38.107031\" y=\"7.2\"/>\r\n  </clipPath>\r\n </defs>\r\n</svg>\r\n",
      "image/png": "[encoded data removed]"
     },
     "metadata": {}
    }
   ],
   "source": [
    "sns.lineplot(x=learnings_rates, y=precisions)"
   ]
  },
  {
   "source": [
    "**Before tuning more the parameters of Adaboost, we will explore XGBoost to see it capabilities for this task.**"
   ],
   "cell_type": "markdown",
   "metadata": {}
  },
  {
   "source": [
    "## Explore XGBoost"
   ],
   "cell_type": "markdown",
   "metadata": {}
  },
  {
   "cell_type": "code",
   "execution_count": 42,
   "metadata": {},
   "outputs": [],
   "source": [
    "#Imports\n",
    "import xgboost as xgb\n",
    "from xgboost import XGBClassifier"
   ]
  },
  {
   "cell_type": "code",
   "execution_count": 34,
   "metadata": {},
   "outputs": [],
   "source": [
    "#Encode Label (G1)\n",
    "le = LabelEncoder()\n",
    "le.fit(target['pnns_groups_1'])\n",
    "encoded_target = le.transform(target['pnns_groups_1'])"
   ]
  },
  {
   "cell_type": "code",
   "execution_count": 38,
   "metadata": {},
   "outputs": [
    {
     "output_type": "execute_result",
     "data": {
      "text/plain": [
       "((134038, 938), (134038,))"
      ]
     },
     "metadata": {},
     "execution_count": 38
    }
   ],
   "source": [
    "#Train test split\n",
    "X_train, X_test, y_train, y_test = train_test_split(features, encoded_target, test_size=0.2, random_state=42, stratify=encoded_target)\n",
    "X_train_sample = X_train[:20000]\n",
    "y_train_sample = y_train[:20000]\n",
    "X_train.shape, y_train.shape"
   ]
  },
  {
   "source": [
    "### Predict $G_1$ with $XGBoost$ on sample data"
   ],
   "cell_type": "markdown",
   "metadata": {}
  },
  {
   "source": [
    "We follow some advices from Towards Data Science Articles for tuning parameters.\n",
    "This include : \n",
    "\n",
    "    - Tuning max_samples between 0.8 and 1.\n",
    "    - Start with small max_depth and increase it until no performance gain\n",
    "    - Start with 100 estimators and lr=0.01, then increase estimators without touching lr (or decrease lr)"
   ],
   "cell_type": "markdown",
   "metadata": {}
  },
  {
   "cell_type": "code",
   "execution_count": 53,
   "metadata": {},
   "outputs": [
    {
     "output_type": "stream",
     "name": "stdout",
     "text": [
      "Wall time: 23.4 s\n",
      "Train Set Class1 - AdaBoost on full Classification Metrics :\n",
      "-------------------\n",
      "Accuracy : 68.27%\n",
      "Recall : 61.72%\n",
      "Precision : 83.14%\n",
      "F1-score : 67.15%\n",
      "\n",
      "\n",
      "Test Set Class1 - AdaBoost on full Classification Metrics :\n",
      "-------------------\n",
      "Accuracy : 68.76%\n",
      "Recall : 65.96%\n",
      "Precision : 72.85%\n",
      "F1-score : 67.38%\n",
      "\n",
      "\n"
     ]
    }
   ],
   "source": [
    "model = XGBClassifier(\n",
    "    learning_rate = 0.01, \n",
    "    n_estimators=100, \n",
    "    max_depth=5,\n",
    "    subsample=0.8,\n",
    "    colsample_bytree=0.1,\n",
    "    gamma=1,\n",
    "    objective= 'multi:softprob',\n",
    "    eval_metric='mlogloss',\n",
    "    num_class= 9,\n",
    "    tree_method='gpu_hist', \n",
    "    use_label_encoder=False)\n",
    "%time model.fit(X_train_sample, y_train_sample)\n",
    "y_preds_train = model.predict(X_train_sample)\n",
    "y_preds_test = model.predict(X_test)\n",
    "classifier_metrics(y_test=y_train_sample, y_preds=y_preds_train, average='macro', model='Train Set Class1 - AdaBoost on full')\n",
    "classifier_metrics(y_test=y_test, y_preds=y_preds_test, average='macro', model='Test Set Class1 - AdaBoost on full')"
   ]
  },
  {
   "cell_type": "code",
   "execution_count": 54,
   "metadata": {},
   "outputs": [
    {
     "output_type": "stream",
     "name": "stdout",
     "text": [
      "Test Set Class1 - AdaBoost on full Classification Metrics :\n-------------------\nAccuracy : 66.28%\nRecall : 59.50%\nPrecision : 81.60%\nF1-score : 65.00%\n\n\n"
     ]
    }
   ],
   "source": [
    "classifier_metrics(y_test=y_test, y_preds=y_preds_test, average='macro', model='Test Set Class1 - AdaBoost on full')"
   ]
  },
  {
   "source": [
    "#### Increase learning rate & max_depth"
   ],
   "cell_type": "markdown",
   "metadata": {}
  },
  {
   "cell_type": "code",
   "execution_count": 55,
   "metadata": {},
   "outputs": [
    {
     "output_type": "stream",
     "name": "stdout",
     "text": [
      "Wall time: 40.4 s\n",
      "Train Set Class1 - AdaBoost on full Classification Metrics :\n",
      "-------------------\n",
      "Accuracy : 82.85%\n",
      "Recall : 80.36%\n",
      "Precision : 84.26%\n",
      "F1-score : 81.67%\n",
      "\n",
      "\n",
      "Test Set Class1 - AdaBoost on full Classification Metrics :\n",
      "-------------------\n",
      "Accuracy : 79.36%\n",
      "Recall : 76.54%\n",
      "Precision : 80.71%\n",
      "F1-score : 77.89%\n",
      "\n",
      "\n"
     ]
    }
   ],
   "source": [
    "model = XGBClassifier(\n",
    "    learning_rate = 0.05, \n",
    "    n_estimators=100, \n",
    "    max_depth=8,\n",
    "    subsample=0.8,\n",
    "    colsample_bytree=0.25,\n",
    "    gamma=1,\n",
    "    objective= 'multi:softprob',\n",
    "    eval_metric='mlogloss',\n",
    "    num_class= 9,\n",
    "    tree_method='gpu_hist', \n",
    "    use_label_encoder=False)\n",
    "%time model.fit(X_train_sample, y_train_sample)\n",
    "y_preds_train = model.predict(X_train_sample)\n",
    "y_preds_test = model.predict(X_test)\n",
    "classifier_metrics(y_test=y_train_sample, y_preds=y_preds_train, average='macro', model='Train Set Class1 - AdaBoost on full')\n",
    "classifier_metrics(y_test=y_test, y_preds=y_preds_test, average='macro', model='Test Set Class1 - AdaBoost on full')"
   ]
  },
  {
   "source": [
    "#### Keep learning rate value, add estimators and increase max depth"
   ],
   "cell_type": "markdown",
   "metadata": {}
  },
  {
   "cell_type": "code",
   "execution_count": 56,
   "metadata": {},
   "outputs": [
    {
     "output_type": "stream",
     "name": "stdout",
     "text": [
      "Wall time: 1min 15s\n",
      "Train Set Class1 - AdaBoost on full Classification Metrics :\n",
      "-------------------\n",
      "Accuracy : 86.70%\n",
      "Recall : 84.89%\n",
      "Precision : 87.18%\n",
      "F1-score : 85.74%\n",
      "\n",
      "\n",
      "Test Set Class1 - AdaBoost on full Classification Metrics :\n",
      "-------------------\n",
      "Accuracy : 82.00%\n",
      "Recall : 79.70%\n",
      "Precision : 82.34%\n",
      "F1-score : 80.65%\n",
      "\n",
      "\n"
     ]
    }
   ],
   "source": [
    "model = XGBClassifier(\n",
    "    learning_rate = 0.05, #same\n",
    "    n_estimators=150, #+50\n",
    "    max_depth=12, #+4\n",
    "    subsample=0.8,\n",
    "    colsample_bytree=0.25,\n",
    "    gamma=1,\n",
    "    objective= 'multi:softprob',\n",
    "    eval_metric='mlogloss',\n",
    "    num_class= 9,\n",
    "    tree_method='gpu_hist', \n",
    "    use_label_encoder=False)\n",
    "%time model.fit(X_train_sample, y_train_sample)\n",
    "y_preds_train = model.predict(X_train_sample)\n",
    "y_preds_test = model.predict(X_test)\n",
    "classifier_metrics(y_test=y_train_sample, y_preds=y_preds_train, average='macro', model='Train Set Class1 - AdaBoost on full')\n",
    "classifier_metrics(y_test=y_test, y_preds=y_preds_test, average='macro', model='Test Set Class1 - AdaBoost on full')"
   ]
  },
  {
   "source": [
    "We observe 2% increase in precision on test set."
   ],
   "cell_type": "markdown",
   "metadata": {}
  },
  {
   "source": [
    "#### Double number of estimators and decrease learning rate"
   ],
   "cell_type": "markdown",
   "metadata": {}
  },
  {
   "cell_type": "code",
   "execution_count": 58,
   "metadata": {},
   "outputs": [
    {
     "output_type": "stream",
     "name": "stdout",
     "text": [
      "Wall time: 3min 19s\n",
      "Train Set Class1 - AdaBoost on full Classification Metrics :\n",
      "-------------------\n",
      "Accuracy : 88.28%\n",
      "Recall : 86.70%\n",
      "Precision : 88.58%\n",
      "F1-score : 87.40%\n",
      "\n",
      "\n",
      "Test Set Class1 - AdaBoost on full Classification Metrics :\n",
      "-------------------\n",
      "Accuracy : 82.41%\n",
      "Recall : 80.24%\n",
      "Precision : 82.56%\n",
      "F1-score : 81.06%\n",
      "\n",
      "\n"
     ]
    }
   ],
   "source": [
    "model = XGBClassifier(\n",
    "    learning_rate = 0.025, \n",
    "    n_estimators=300, \n",
    "    max_depth=12,\n",
    "    subsample=0.87,\n",
    "    colsample_bytree=0.4,\n",
    "    gamma=1,\n",
    "    objective= 'multi:softprob',\n",
    "    eval_metric='mlogloss',\n",
    "    num_class= 9,\n",
    "    tree_method='gpu_hist', \n",
    "    use_label_encoder=False)\n",
    "%time model.fit(X_train_sample, y_train_sample)\n",
    "y_preds_train = model.predict(X_train_sample)\n",
    "y_preds_test = model.predict(X_test)\n",
    "classifier_metrics(y_test=y_train_sample, y_preds=y_preds_train, average='macro', model='Train Set Class1 - AdaBoost on full')\n",
    "classifier_metrics(y_test=y_test, y_preds=y_preds_test, average='macro', model='Test Set Class1 - AdaBoost on full')"
   ]
  },
  {
   "source": [
    "### Change regularization parameters and prevent overfitting with col_sample"
   ],
   "cell_type": "markdown",
   "metadata": {}
  },
  {
   "cell_type": "code",
   "execution_count": 65,
   "metadata": {},
   "outputs": [
    {
     "output_type": "stream",
     "name": "stdout",
     "text": [
      "Wall time: 4min 23s\n",
      "Train Set Class1 - AdaBoost on full Classification Metrics :\n",
      "-------------------\n",
      "Accuracy : 86.79%\n",
      "Recall : 85.16%\n",
      "Precision : 87.19%\n",
      "F1-score : 85.90%\n",
      "\n",
      "\n",
      "Test Set Class1 - AdaBoost on full Classification Metrics :\n",
      "-------------------\n",
      "Accuracy : 81.11%\n",
      "Recall : 79.05%\n",
      "Precision : 81.36%\n",
      "F1-score : 79.84%\n",
      "\n",
      "\n"
     ]
    }
   ],
   "source": [
    "model = XGBClassifier(\n",
    "    base_score=0.5, \n",
    "    booster='gbtree', \n",
    "    colsample_bylevel=0.5,\n",
    "    colsample_bynode=0.9, \n",
    "    colsample_bytree=0.7, \n",
    "    eval_metric='mlogloss',\n",
    "    gamma=0.5, \n",
    "    gpu_id=0, \n",
    "    importance_type='gain',\n",
    "    learning_rate=0.02, #-0.03\n",
    "    max_delta_step=0,\n",
    "    max_depth=12, #same\n",
    "    min_child_weight=1, \n",
    "    n_estimators=300, #+150\n",
    "    n_jobs=-1,\n",
    "    num_class=9, \n",
    "    num_parallel_tree=1, \n",
    "    objective='multi:softprob',\n",
    "    random_state=0, \n",
    "    reg_alpha=0.15, \n",
    "    reg_lambda=0.85, \n",
    "    scale_pos_weight=None,\n",
    "    subsample=0.85, \n",
    "    tree_method='gpu_hist', \n",
    "    use_label_encoder=False,\n",
    "    validate_parameters=1, \n",
    "    verbosity=None)\n",
    "%time model.fit(X_train_sample, y_train_sample)\n",
    "y_preds_train = model.predict(X_train_sample)\n",
    "y_preds_test = model.predict(X_test)\n",
    "classifier_metrics(y_test=y_train_sample, y_preds=y_preds_train, average='macro', model='Train Set Class1 - AdaBoost on full')\n",
    "classifier_metrics(y_test=y_test, y_preds=y_preds_test, average='macro', model='Test Set Class1 - AdaBoost on full')"
   ]
  },
  {
   "source": [
    "### Train on full dataset"
   ],
   "cell_type": "markdown",
   "metadata": {}
  },
  {
   "cell_type": "code",
   "execution_count": 66,
   "metadata": {},
   "outputs": [
    {
     "output_type": "stream",
     "name": "stdout",
     "text": [
      "Wall time: 30min 38s\n",
      "Train Set Class1 - AdaBoost on full Classification Metrics :\n",
      "-------------------\n",
      "Accuracy : 89.35%\n",
      "Recall : 88.15%\n",
      "Precision : 89.47%\n",
      "F1-score : 88.66%\n",
      "\n",
      "\n",
      "Test Set Class1 - AdaBoost on full Classification Metrics :\n",
      "-------------------\n",
      "Accuracy : 85.61%\n",
      "Recall : 83.96%\n",
      "Precision : 85.58%\n",
      "F1-score : 84.57%\n",
      "\n",
      "\n"
     ]
    }
   ],
   "source": [
    "model = XGBClassifier(\n",
    "    base_score=0.5, \n",
    "    booster='gbtree', \n",
    "    colsample_bylevel=0.7,\n",
    "    colsample_bynode=0.9, \n",
    "    colsample_bytree=0.6, \n",
    "    eval_metric='mlogloss',\n",
    "    gamma=0.5, \n",
    "    gpu_id=0, \n",
    "    importance_type='gain',\n",
    "    learning_rate=0.02, \n",
    "    max_delta_step=0,\n",
    "    max_depth=18, \n",
    "    min_child_weight=1, \n",
    "    n_estimators=400, \n",
    "    n_jobs=8,\n",
    "    num_class=9, \n",
    "    num_parallel_tree=1, \n",
    "    objective='multi:softprob',\n",
    "    random_state=0, \n",
    "    reg_alpha=0.15, \n",
    "    reg_lambda=0.85, \n",
    "    scale_pos_weight=None,\n",
    "    subsample=0.85, \n",
    "    tree_method='gpu_hist', \n",
    "    use_label_encoder=False,\n",
    "    validate_parameters=1, \n",
    "    verbosity=None)\n",
    "%time model.fit(X_train, y_train)\n",
    "y_preds_train = model.predict(X_train)\n",
    "y_preds_test = model.predict(X_test)\n",
    "classifier_metrics(y_test=y_train, y_preds=y_preds_train, average='macro', model='Train Set Class1 - AdaBoost on full')\n",
    "classifier_metrics(y_test=y_test, y_preds=y_preds_test, average='macro', model='Test Set Class1 - AdaBoost on full')"
   ]
  },
  {
   "cell_type": "code",
   "execution_count": 70,
   "metadata": {},
   "outputs": [
    {
     "output_type": "execute_result",
     "data": {
      "text/plain": [
       "                         xgboost_precision  xgboost_recall  xgboost_f1-score  \\\n",
       "milk and dairy products               0.93            0.88              0.90   \n",
       "fat and sauces                        0.92            0.85              0.89   \n",
       "sugary snacks                         0.90            0.93              0.92   \n",
       "fish meat eggs                        0.90            0.86              0.88   \n",
       "salty snacks                          0.88            0.78              0.83   \n",
       "cereals and potatoes                  0.87            0.79              0.83   \n",
       "weighted avg                          0.86            0.86              0.86   \n",
       "accuracy                              0.86            0.86              0.86   \n",
       "macro avg                             0.86            0.84              0.85   \n",
       "fruits and vegetables                 0.79            0.74              0.76   \n",
       "composite foods                       0.77            0.80              0.78   \n",
       "beverages                             0.74            0.92              0.82   \n",
       "\n",
       "                         xgboost_support  \n",
       "milk and dairy products          4425.00  \n",
       "fat and sauces                   2085.00  \n",
       "sugary snacks                    7244.00  \n",
       "fish meat eggs                   4058.00  \n",
       "salty snacks                     2075.00  \n",
       "cereals and potatoes             3476.00  \n",
       "weighted avg                    33510.00  \n",
       "accuracy                            0.86  \n",
       "macro avg                       33510.00  \n",
       "fruits and vegetables            2822.00  \n",
       "composite foods                  3462.00  \n",
       "beverages                        3863.00  "
      ],
      "text/html": "<div>\n<style scoped>\n    .dataframe tbody tr th:only-of-type {\n        vertical-align: middle;\n    }\n\n    .dataframe tbody tr th {\n        vertical-align: top;\n    }\n\n    .dataframe thead th {\n        text-align: right;\n    }\n</style>\n<table border=\"1\" class=\"dataframe\">\n  <thead>\n    <tr style=\"text-align: right;\">\n      <th></th>\n      <th>xgboost_precision</th>\n      <th>xgboost_recall</th>\n      <th>xgboost_f1-score</th>\n      <th>xgboost_support</th>\n    </tr>\n  </thead>\n  <tbody>\n    <tr>\n      <th>milk and dairy products</th>\n      <td>0.93</td>\n      <td>0.88</td>\n      <td>0.90</td>\n      <td>4425.00</td>\n    </tr>\n    <tr>\n      <th>fat and sauces</th>\n      <td>0.92</td>\n      <td>0.85</td>\n      <td>0.89</td>\n      <td>2085.00</td>\n    </tr>\n    <tr>\n      <th>sugary snacks</th>\n      <td>0.90</td>\n      <td>0.93</td>\n      <td>0.92</td>\n      <td>7244.00</td>\n    </tr>\n    <tr>\n      <th>fish meat eggs</th>\n      <td>0.90</td>\n      <td>0.86</td>\n      <td>0.88</td>\n      <td>4058.00</td>\n    </tr>\n    <tr>\n      <th>salty snacks</th>\n      <td>0.88</td>\n      <td>0.78</td>\n      <td>0.83</td>\n      <td>2075.00</td>\n    </tr>\n    <tr>\n      <th>cereals and potatoes</th>\n      <td>0.87</td>\n      <td>0.79</td>\n      <td>0.83</td>\n      <td>3476.00</td>\n    </tr>\n    <tr>\n      <th>weighted avg</th>\n      <td>0.86</td>\n      <td>0.86</td>\n      <td>0.86</td>\n      <td>33510.00</td>\n    </tr>\n    <tr>\n      <th>accuracy</th>\n      <td>0.86</td>\n      <td>0.86</td>\n      <td>0.86</td>\n      <td>0.86</td>\n    </tr>\n    <tr>\n      <th>macro avg</th>\n      <td>0.86</td>\n      <td>0.84</td>\n      <td>0.85</td>\n      <td>33510.00</td>\n    </tr>\n    <tr>\n      <th>fruits and vegetables</th>\n      <td>0.79</td>\n      <td>0.74</td>\n      <td>0.76</td>\n      <td>2822.00</td>\n    </tr>\n    <tr>\n      <th>composite foods</th>\n      <td>0.77</td>\n      <td>0.80</td>\n      <td>0.78</td>\n      <td>3462.00</td>\n    </tr>\n    <tr>\n      <th>beverages</th>\n      <td>0.74</td>\n      <td>0.92</td>\n      <td>0.82</td>\n      <td>3863.00</td>\n    </tr>\n  </tbody>\n</table>\n</div>"
     },
     "metadata": {},
     "execution_count": 70
    }
   ],
   "source": [
    "get_classification_report(y_test=le.inverse_transform(y_test), y_pred=le.inverse_transform(y_preds_test), model='xgboost', sortby='precision')"
   ]
  },
  {
   "cell_type": "code",
   "execution_count": 71,
   "metadata": {},
   "outputs": [
    {
     "output_type": "stream",
     "name": "stdout",
     "text": [
      "Wall time: 1h 18s\n",
      "Train Set Class1 - AdaBoost on full Classification Metrics :\n",
      "-------------------\n",
      "Accuracy : 89.64%\n",
      "Recall : 88.50%\n",
      "Precision : 89.77%\n",
      "F1-score : 88.98%\n",
      "\n",
      "\n",
      "Test Set Class1 - AdaBoost on full Classification Metrics :\n",
      "-------------------\n",
      "Accuracy : 85.66%\n",
      "Recall : 84.01%\n",
      "Precision : 85.59%\n",
      "F1-score : 84.60%\n",
      "\n",
      "\n"
     ]
    }
   ],
   "source": [
    "model = XGBClassifier(\n",
    "    base_score=0.5, \n",
    "    booster='gbtree', \n",
    "    colsample_bylevel=0.7,\n",
    "    colsample_bynode=0.9, \n",
    "    colsample_bytree=0.6, \n",
    "    gamma=0.6, \n",
    "    gpu_id=0, \n",
    "    importance_type='gain',\n",
    "    learning_rate=0.01, \n",
    "    max_depth=25, \n",
    "    min_child_weight=1, \n",
    "    n_estimators=500, \n",
    "    num_class=9, \n",
    "    num_parallel_tree=1, \n",
    "    objective='multi:softprob',\n",
    "    random_state=0, \n",
    "    reg_alpha=0.1, \n",
    "    reg_lambda=0.9, \n",
    "    subsample=0.85, \n",
    "    tree_method='gpu_hist', \n",
    "    use_label_encoder=False,\n",
    "    )\n",
    "%time model.fit(X_train, y_train)\n",
    "y_preds_train = model.predict(X_train)\n",
    "y_preds_test = model.predict(X_test)\n",
    "classifier_metrics(y_test=y_train, y_preds=y_preds_train, average='macro', model='Train Set Class1 - AdaBoost on full')\n",
    "classifier_metrics(y_test=y_test, y_preds=y_preds_test, average='macro', model='Test Set Class1 - AdaBoost on full')"
   ]
  },
  {
   "source": [
    "### Save best model XGBoost"
   ],
   "cell_type": "markdown",
   "metadata": {}
  },
  {
   "cell_type": "code",
   "execution_count": 79,
   "metadata": {},
   "outputs": [],
   "source": [
    "model.save_model('xgboost_group1.model')"
   ]
  },
  {
   "source": [
    "### Load model and Classification Report"
   ],
   "cell_type": "markdown",
   "metadata": {}
  },
  {
   "cell_type": "code",
   "execution_count": 80,
   "metadata": {},
   "outputs": [
    {
     "output_type": "stream",
     "name": "stdout",
     "text": [
      "Test Set Class1 - XGBoost on full Classification Metrics :\n-------------------\nAccuracy : 85.66%\nRecall : 84.01%\nPrecision : 85.59%\nF1-score : 84.60%\n\n\n"
     ]
    }
   ],
   "source": [
    "xgb_model_latest = xgboost.XGBClassifier()\n",
    "xgb_model_latest.load_model(\"xgboost_group1.model\")\n",
    "y_preds = xgb_model_latest.predict(X_test)\n",
    "classifier_metrics(y_test=y_test, y_preds=y_preds, average='macro', model='Test Set Class1 - XGBoost on full')"
   ]
  },
  {
   "cell_type": "code",
   "execution_count": 72,
   "metadata": {},
   "outputs": [
    {
     "output_type": "execute_result",
     "data": {
      "text/plain": [
       "                         xgboost_precision  xgboost_recall  xgboost_f1-score  \\\n",
       "milk and dairy products               0.93            0.88              0.90   \n",
       "fat and sauces                        0.91            0.86              0.88   \n",
       "sugary snacks                         0.90            0.93              0.92   \n",
       "fish meat eggs                        0.90            0.87              0.88   \n",
       "salty snacks                          0.89            0.78              0.83   \n",
       "cereals and potatoes                  0.87            0.79              0.83   \n",
       "weighted avg                          0.86            0.86              0.86   \n",
       "accuracy                              0.86            0.86              0.86   \n",
       "macro avg                             0.86            0.84              0.85   \n",
       "fruits and vegetables                 0.79            0.74              0.76   \n",
       "composite foods                       0.77            0.80              0.78   \n",
       "beverages                             0.74            0.92              0.82   \n",
       "\n",
       "                         xgboost_support  \n",
       "milk and dairy products          4425.00  \n",
       "fat and sauces                   2085.00  \n",
       "sugary snacks                    7244.00  \n",
       "fish meat eggs                   4058.00  \n",
       "salty snacks                     2075.00  \n",
       "cereals and potatoes             3476.00  \n",
       "weighted avg                    33510.00  \n",
       "accuracy                            0.86  \n",
       "macro avg                       33510.00  \n",
       "fruits and vegetables            2822.00  \n",
       "composite foods                  3462.00  \n",
       "beverages                        3863.00  "
      ],
      "text/html": "<div>\n<style scoped>\n    .dataframe tbody tr th:only-of-type {\n        vertical-align: middle;\n    }\n\n    .dataframe tbody tr th {\n        vertical-align: top;\n    }\n\n    .dataframe thead th {\n        text-align: right;\n    }\n</style>\n<table border=\"1\" class=\"dataframe\">\n  <thead>\n    <tr style=\"text-align: right;\">\n      <th></th>\n      <th>xgboost_precision</th>\n      <th>xgboost_recall</th>\n      <th>xgboost_f1-score</th>\n      <th>xgboost_support</th>\n    </tr>\n  </thead>\n  <tbody>\n    <tr>\n      <th>milk and dairy products</th>\n      <td>0.93</td>\n      <td>0.88</td>\n      <td>0.90</td>\n      <td>4425.00</td>\n    </tr>\n    <tr>\n      <th>fat and sauces</th>\n      <td>0.91</td>\n      <td>0.86</td>\n      <td>0.88</td>\n      <td>2085.00</td>\n    </tr>\n    <tr>\n      <th>sugary snacks</th>\n      <td>0.90</td>\n      <td>0.93</td>\n      <td>0.92</td>\n      <td>7244.00</td>\n    </tr>\n    <tr>\n      <th>fish meat eggs</th>\n      <td>0.90</td>\n      <td>0.87</td>\n      <td>0.88</td>\n      <td>4058.00</td>\n    </tr>\n    <tr>\n      <th>salty snacks</th>\n      <td>0.89</td>\n      <td>0.78</td>\n      <td>0.83</td>\n      <td>2075.00</td>\n    </tr>\n    <tr>\n      <th>cereals and potatoes</th>\n      <td>0.87</td>\n      <td>0.79</td>\n      <td>0.83</td>\n      <td>3476.00</td>\n    </tr>\n    <tr>\n      <th>weighted avg</th>\n      <td>0.86</td>\n      <td>0.86</td>\n      <td>0.86</td>\n      <td>33510.00</td>\n    </tr>\n    <tr>\n      <th>accuracy</th>\n      <td>0.86</td>\n      <td>0.86</td>\n      <td>0.86</td>\n      <td>0.86</td>\n    </tr>\n    <tr>\n      <th>macro avg</th>\n      <td>0.86</td>\n      <td>0.84</td>\n      <td>0.85</td>\n      <td>33510.00</td>\n    </tr>\n    <tr>\n      <th>fruits and vegetables</th>\n      <td>0.79</td>\n      <td>0.74</td>\n      <td>0.76</td>\n      <td>2822.00</td>\n    </tr>\n    <tr>\n      <th>composite foods</th>\n      <td>0.77</td>\n      <td>0.80</td>\n      <td>0.78</td>\n      <td>3462.00</td>\n    </tr>\n    <tr>\n      <th>beverages</th>\n      <td>0.74</td>\n      <td>0.92</td>\n      <td>0.82</td>\n      <td>3863.00</td>\n    </tr>\n  </tbody>\n</table>\n</div>"
     },
     "metadata": {},
     "execution_count": 72
    }
   ],
   "source": [
    "get_classification_report(y_test=le.inverse_transform(y_test), y_pred=le.inverse_transform(y_preds_test), model='xgboost', sortby='precision')"
   ]
  },
  {
   "source": [
    "### Some features importance"
   ],
   "cell_type": "markdown",
   "metadata": {}
  },
  {
   "cell_type": "code",
   "execution_count": 74,
   "metadata": {},
   "outputs": [
    {
     "output_type": "execute_result",
     "data": {
      "text/plain": [
       "<AxesSubplot:title={'center':'Feature importance'}, xlabel='F score', ylabel='Features'>"
      ]
     },
     "metadata": {},
     "execution_count": 74
    },
    {
     "output_type": "display_data",
     "data": {
      "text/plain": "<Figure size 432x288 with 1 Axes>",
      "image/svg+xml": "<?xml version=\"1.0\" encoding=\"utf-8\" standalone=\"no\"?>\r\n<!DOCTYPE svg PUBLIC \"-//W3C//DTD SVG 1.1//EN\"\r\n  \"http://www.w3.org/Graphics/SVG/1.1/DTD/svg11.dtd\">\r\n<!-- Created with matplotlib (https://matplotlib.org/) -->\r\n<svg height=\"280.963594pt\" version=\"1.1\" viewBox=\"0 0 484.236944 280.963594\" width=\"484.236944pt\" xmlns=\"http://www.w3.org/2000/svg\" xmlns:xlink=\"http://www.w3.org/1999/xlink\">\r\n <metadata>\r\n  <rdf:RDF xmlns:cc=\"http://creativecommons.org/ns#\" xmlns:dc=\"http://purl.org/dc/elements/1.1/\" xmlns:rdf=\"http://www.w3.org/1999/02/22-rdf-syntax-ns#\">\r\n   <cc:Work>\r\n    <dc:type rdf:resource=\"http://purl.org/dc/dcmitype/StillImage\"/>\r\n    <dc:date>2021-05-20T18:38:52.519787</dc:date>\r\n    <dc:format>image/svg+xml</dc:format>\r\n    <dc:creator>\r\n     <cc:Agent>\r\n      <dc:title>Matplotlib v3.3.2, https://matplotlib.org/</dc:title>\r\n     </cc:Agent>\r\n    </dc:creator>\r\n   </cc:Work>\r\n  </rdf:RDF>\r\n </metadata>\r\n <defs>\r\n  <style type=\"text/css\">*{stroke-linecap:butt;stroke-linejoin:round;}</style>\r\n </defs>\r\n <g id=\"figure_1\">\r\n  <g id=\"patch_1\">\r\n   <path d=\"M 0 280.963594 \r\nL 484.236944 280.963594 \r\nL 484.236944 0 \r\nL 0 0 \r\nz\r\n\" style=\"fill:#ffffff;\"/>\r\n  </g>\r\n  <g id=\"axes_1\">\r\n   <g id=\"patch_2\">\r\n    <path d=\"M 139.3025 239.229375 \r\nL 474.1025 239.229375 \r\nL 474.1025 21.789375 \r\nL 139.3025 21.789375 \r\nz\r\n\" style=\"fill:#eaeaf2;\"/>\r\n   </g>\r\n   <g id=\"matplotlib.axis_1\">\r\n    <g id=\"xtick_1\">\r\n     <g id=\"line2d_1\">\r\n      <path clip-path=\"url(#pb32a38c2ca)\" d=\"M 139.3025 239.229375 \r\nL 139.3025 21.789375 \r\n\" style=\"fill:none;stroke:#ffffff;stroke-linecap:round;\"/>\r\n     </g>\r\n     <g id=\"text_1\">\r\n      <!-- 0 -->\r\n      <g style=\"fill:#262626;\" transform=\"translate(136.243984 256.602969)scale(0.11 -0.11)\">\r\n       <defs>\r\n        <path d=\"M 4.15625 35.296875 \r\nQ 4.15625 48 6.765625 55.734375 \r\nQ 9.375 63.484375 14.515625 67.671875 \r\nQ 19.671875 71.875 27.484375 71.875 \r\nQ 33.25 71.875 37.59375 69.546875 \r\nQ 41.9375 67.234375 44.765625 62.859375 \r\nQ 47.609375 58.5 49.21875 52.21875 \r\nQ 50.828125 45.953125 50.828125 35.296875 \r\nQ 50.828125 22.703125 48.234375 14.96875 \r\nQ 45.65625 7.234375 40.5 3 \r\nQ 35.359375 -1.21875 27.484375 -1.21875 \r\nQ 17.140625 -1.21875 11.234375 6.203125 \r\nQ 4.15625 15.140625 4.15625 35.296875 \r\nz\r\nM 13.1875 35.296875 \r\nQ 13.1875 17.671875 17.3125 11.828125 \r\nQ 21.4375 6 27.484375 6 \r\nQ 33.546875 6 37.671875 11.859375 \r\nQ 41.796875 17.71875 41.796875 35.296875 \r\nQ 41.796875 52.984375 37.671875 58.78125 \r\nQ 33.546875 64.59375 27.390625 64.59375 \r\nQ 21.34375 64.59375 17.71875 59.46875 \r\nQ 13.1875 52.9375 13.1875 35.296875 \r\nz\r\n\" id=\"ArialMT-48\"/>\r\n       </defs>\r\n       <use xlink:href=\"#ArialMT-48\"/>\r\n      </g>\r\n     </g>\r\n    </g>\r\n    <g id=\"xtick_2\">\r\n     <g id=\"line2d_2\">\r\n      <path clip-path=\"url(#pb32a38c2ca)\" d=\"M 191.132896 239.229375 \r\nL 191.132896 21.789375 \r\n\" style=\"fill:none;stroke:#ffffff;stroke-linecap:round;\"/>\r\n     </g>\r\n     <g id=\"text_2\">\r\n      <!-- 10000 -->\r\n      <g style=\"fill:#262626;\" transform=\"translate(175.840318 256.602969)scale(0.11 -0.11)\">\r\n       <defs>\r\n        <path d=\"M 37.25 0 \r\nL 28.46875 0 \r\nL 28.46875 56 \r\nQ 25.296875 52.984375 20.140625 49.953125 \r\nQ 14.984375 46.921875 10.890625 45.40625 \r\nL 10.890625 53.90625 \r\nQ 18.265625 57.375 23.78125 62.296875 \r\nQ 29.296875 67.234375 31.59375 71.875 \r\nL 37.25 71.875 \r\nz\r\n\" id=\"ArialMT-49\"/>\r\n       </defs>\r\n       <use xlink:href=\"#ArialMT-49\"/>\r\n       <use x=\"55.615234\" xlink:href=\"#ArialMT-48\"/>\r\n       <use x=\"111.230469\" xlink:href=\"#ArialMT-48\"/>\r\n       <use x=\"166.845703\" xlink:href=\"#ArialMT-48\"/>\r\n       <use x=\"222.460938\" xlink:href=\"#ArialMT-48\"/>\r\n      </g>\r\n     </g>\r\n    </g>\r\n    <g id=\"xtick_3\">\r\n     <g id=\"line2d_3\">\r\n      <path clip-path=\"url(#pb32a38c2ca)\" d=\"M 242.963293 239.229375 \r\nL 242.963293 21.789375 \r\n\" style=\"fill:none;stroke:#ffffff;stroke-linecap:round;\"/>\r\n     </g>\r\n     <g id=\"text_3\">\r\n      <!-- 20000 -->\r\n      <g style=\"fill:#262626;\" transform=\"translate(227.670715 256.602969)scale(0.11 -0.11)\">\r\n       <defs>\r\n        <path d=\"M 50.34375 8.453125 \r\nL 50.34375 0 \r\nL 3.03125 0 \r\nQ 2.9375 3.171875 4.046875 6.109375 \r\nQ 5.859375 10.9375 9.828125 15.625 \r\nQ 13.8125 20.3125 21.34375 26.46875 \r\nQ 33.015625 36.03125 37.109375 41.625 \r\nQ 41.21875 47.21875 41.21875 52.203125 \r\nQ 41.21875 57.421875 37.46875 61 \r\nQ 33.734375 64.59375 27.734375 64.59375 \r\nQ 21.390625 64.59375 17.578125 60.78125 \r\nQ 13.765625 56.984375 13.71875 50.25 \r\nL 4.6875 51.171875 \r\nQ 5.609375 61.28125 11.65625 66.578125 \r\nQ 17.71875 71.875 27.9375 71.875 \r\nQ 38.234375 71.875 44.234375 66.15625 \r\nQ 50.25 60.453125 50.25 52 \r\nQ 50.25 47.703125 48.484375 43.546875 \r\nQ 46.734375 39.40625 42.65625 34.8125 \r\nQ 38.578125 30.21875 29.109375 22.21875 \r\nQ 21.1875 15.578125 18.9375 13.203125 \r\nQ 16.703125 10.84375 15.234375 8.453125 \r\nz\r\n\" id=\"ArialMT-50\"/>\r\n       </defs>\r\n       <use xlink:href=\"#ArialMT-50\"/>\r\n       <use x=\"55.615234\" xlink:href=\"#ArialMT-48\"/>\r\n       <use x=\"111.230469\" xlink:href=\"#ArialMT-48\"/>\r\n       <use x=\"166.845703\" xlink:href=\"#ArialMT-48\"/>\r\n       <use x=\"222.460938\" xlink:href=\"#ArialMT-48\"/>\r\n      </g>\r\n     </g>\r\n    </g>\r\n    <g id=\"xtick_4\">\r\n     <g id=\"line2d_4\">\r\n      <path clip-path=\"url(#pb32a38c2ca)\" d=\"M 294.793689 239.229375 \r\nL 294.793689 21.789375 \r\n\" style=\"fill:none;stroke:#ffffff;stroke-linecap:round;\"/>\r\n     </g>\r\n     <g id=\"text_4\">\r\n      <!-- 30000 -->\r\n      <g style=\"fill:#262626;\" transform=\"translate(279.501111 256.602969)scale(0.11 -0.11)\">\r\n       <defs>\r\n        <path d=\"M 4.203125 18.890625 \r\nL 12.984375 20.0625 \r\nQ 14.5 12.59375 18.140625 9.296875 \r\nQ 21.78125 6 27 6 \r\nQ 33.203125 6 37.46875 10.296875 \r\nQ 41.75 14.59375 41.75 20.953125 \r\nQ 41.75 27 37.796875 30.921875 \r\nQ 33.84375 34.859375 27.734375 34.859375 \r\nQ 25.25 34.859375 21.53125 33.890625 \r\nL 22.515625 41.609375 \r\nQ 23.390625 41.5 23.921875 41.5 \r\nQ 29.546875 41.5 34.03125 44.421875 \r\nQ 38.53125 47.359375 38.53125 53.46875 \r\nQ 38.53125 58.296875 35.25 61.46875 \r\nQ 31.984375 64.65625 26.8125 64.65625 \r\nQ 21.6875 64.65625 18.265625 61.421875 \r\nQ 14.84375 58.203125 13.875 51.765625 \r\nL 5.078125 53.328125 \r\nQ 6.6875 62.15625 12.390625 67.015625 \r\nQ 18.109375 71.875 26.609375 71.875 \r\nQ 32.46875 71.875 37.390625 69.359375 \r\nQ 42.328125 66.84375 44.9375 62.5 \r\nQ 47.5625 58.15625 47.5625 53.265625 \r\nQ 47.5625 48.640625 45.0625 44.828125 \r\nQ 42.578125 41.015625 37.703125 38.765625 \r\nQ 44.046875 37.3125 47.5625 32.6875 \r\nQ 51.078125 28.078125 51.078125 21.140625 \r\nQ 51.078125 11.765625 44.234375 5.25 \r\nQ 37.40625 -1.265625 26.953125 -1.265625 \r\nQ 17.53125 -1.265625 11.296875 4.34375 \r\nQ 5.078125 9.96875 4.203125 18.890625 \r\nz\r\n\" id=\"ArialMT-51\"/>\r\n       </defs>\r\n       <use xlink:href=\"#ArialMT-51\"/>\r\n       <use x=\"55.615234\" xlink:href=\"#ArialMT-48\"/>\r\n       <use x=\"111.230469\" xlink:href=\"#ArialMT-48\"/>\r\n       <use x=\"166.845703\" xlink:href=\"#ArialMT-48\"/>\r\n       <use x=\"222.460938\" xlink:href=\"#ArialMT-48\"/>\r\n      </g>\r\n     </g>\r\n    </g>\r\n    <g id=\"xtick_5\">\r\n     <g id=\"line2d_5\">\r\n      <path clip-path=\"url(#pb32a38c2ca)\" d=\"M 346.624085 239.229375 \r\nL 346.624085 21.789375 \r\n\" style=\"fill:none;stroke:#ffffff;stroke-linecap:round;\"/>\r\n     </g>\r\n     <g id=\"text_5\">\r\n      <!-- 40000 -->\r\n      <g style=\"fill:#262626;\" transform=\"translate(331.331507 256.602969)scale(0.11 -0.11)\">\r\n       <defs>\r\n        <path d=\"M 32.328125 0 \r\nL 32.328125 17.140625 \r\nL 1.265625 17.140625 \r\nL 1.265625 25.203125 \r\nL 33.9375 71.578125 \r\nL 41.109375 71.578125 \r\nL 41.109375 25.203125 \r\nL 50.78125 25.203125 \r\nL 50.78125 17.140625 \r\nL 41.109375 17.140625 \r\nL 41.109375 0 \r\nz\r\nM 32.328125 25.203125 \r\nL 32.328125 57.46875 \r\nL 9.90625 25.203125 \r\nz\r\n\" id=\"ArialMT-52\"/>\r\n       </defs>\r\n       <use xlink:href=\"#ArialMT-52\"/>\r\n       <use x=\"55.615234\" xlink:href=\"#ArialMT-48\"/>\r\n       <use x=\"111.230469\" xlink:href=\"#ArialMT-48\"/>\r\n       <use x=\"166.845703\" xlink:href=\"#ArialMT-48\"/>\r\n       <use x=\"222.460938\" xlink:href=\"#ArialMT-48\"/>\r\n      </g>\r\n     </g>\r\n    </g>\r\n    <g id=\"xtick_6\">\r\n     <g id=\"line2d_6\">\r\n      <path clip-path=\"url(#pb32a38c2ca)\" d=\"M 398.454482 239.229375 \r\nL 398.454482 21.789375 \r\n\" style=\"fill:none;stroke:#ffffff;stroke-linecap:round;\"/>\r\n     </g>\r\n     <g id=\"text_6\">\r\n      <!-- 50000 -->\r\n      <g style=\"fill:#262626;\" transform=\"translate(383.161904 256.602969)scale(0.11 -0.11)\">\r\n       <defs>\r\n        <path d=\"M 4.15625 18.75 \r\nL 13.375 19.53125 \r\nQ 14.40625 12.796875 18.140625 9.390625 \r\nQ 21.875 6 27.15625 6 \r\nQ 33.5 6 37.890625 10.78125 \r\nQ 42.28125 15.578125 42.28125 23.484375 \r\nQ 42.28125 31 38.0625 35.34375 \r\nQ 33.84375 39.703125 27 39.703125 \r\nQ 22.75 39.703125 19.328125 37.765625 \r\nQ 15.921875 35.84375 13.96875 32.765625 \r\nL 5.71875 33.84375 \r\nL 12.640625 70.609375 \r\nL 48.25 70.609375 \r\nL 48.25 62.203125 \r\nL 19.671875 62.203125 \r\nL 15.828125 42.96875 \r\nQ 22.265625 47.46875 29.34375 47.46875 \r\nQ 38.71875 47.46875 45.15625 40.96875 \r\nQ 51.609375 34.46875 51.609375 24.265625 \r\nQ 51.609375 14.546875 45.953125 7.46875 \r\nQ 39.0625 -1.21875 27.15625 -1.21875 \r\nQ 17.390625 -1.21875 11.203125 4.25 \r\nQ 5.03125 9.71875 4.15625 18.75 \r\nz\r\n\" id=\"ArialMT-53\"/>\r\n       </defs>\r\n       <use xlink:href=\"#ArialMT-53\"/>\r\n       <use x=\"55.615234\" xlink:href=\"#ArialMT-48\"/>\r\n       <use x=\"111.230469\" xlink:href=\"#ArialMT-48\"/>\r\n       <use x=\"166.845703\" xlink:href=\"#ArialMT-48\"/>\r\n       <use x=\"222.460938\" xlink:href=\"#ArialMT-48\"/>\r\n      </g>\r\n     </g>\r\n    </g>\r\n    <g id=\"xtick_7\">\r\n     <g id=\"line2d_7\">\r\n      <path clip-path=\"url(#pb32a38c2ca)\" d=\"M 450.284878 239.229375 \r\nL 450.284878 21.789375 \r\n\" style=\"fill:none;stroke:#ffffff;stroke-linecap:round;\"/>\r\n     </g>\r\n     <g id=\"text_7\">\r\n      <!-- 60000 -->\r\n      <g style=\"fill:#262626;\" transform=\"translate(434.9923 256.602969)scale(0.11 -0.11)\">\r\n       <defs>\r\n        <path d=\"M 49.75 54.046875 \r\nL 41.015625 53.375 \r\nQ 39.84375 58.546875 37.703125 60.890625 \r\nQ 34.125 64.65625 28.90625 64.65625 \r\nQ 24.703125 64.65625 21.53125 62.3125 \r\nQ 17.390625 59.28125 14.984375 53.46875 \r\nQ 12.59375 47.65625 12.5 36.921875 \r\nQ 15.671875 41.75 20.265625 44.09375 \r\nQ 24.859375 46.4375 29.890625 46.4375 \r\nQ 38.671875 46.4375 44.84375 39.96875 \r\nQ 51.03125 33.5 51.03125 23.25 \r\nQ 51.03125 16.5 48.125 10.71875 \r\nQ 45.21875 4.9375 40.140625 1.859375 \r\nQ 35.0625 -1.21875 28.609375 -1.21875 \r\nQ 17.625 -1.21875 10.6875 6.859375 \r\nQ 3.765625 14.9375 3.765625 33.5 \r\nQ 3.765625 54.25 11.421875 63.671875 \r\nQ 18.109375 71.875 29.4375 71.875 \r\nQ 37.890625 71.875 43.28125 67.140625 \r\nQ 48.6875 62.40625 49.75 54.046875 \r\nz\r\nM 13.875 23.1875 \r\nQ 13.875 18.65625 15.796875 14.5 \r\nQ 17.71875 10.359375 21.1875 8.171875 \r\nQ 24.65625 6 28.46875 6 \r\nQ 34.03125 6 38.03125 10.484375 \r\nQ 42.046875 14.984375 42.046875 22.703125 \r\nQ 42.046875 30.125 38.078125 34.390625 \r\nQ 34.125 38.671875 28.125 38.671875 \r\nQ 22.171875 38.671875 18.015625 34.390625 \r\nQ 13.875 30.125 13.875 23.1875 \r\nz\r\n\" id=\"ArialMT-54\"/>\r\n       </defs>\r\n       <use xlink:href=\"#ArialMT-54\"/>\r\n       <use x=\"55.615234\" xlink:href=\"#ArialMT-48\"/>\r\n       <use x=\"111.230469\" xlink:href=\"#ArialMT-48\"/>\r\n       <use x=\"166.845703\" xlink:href=\"#ArialMT-48\"/>\r\n       <use x=\"222.460938\" xlink:href=\"#ArialMT-48\"/>\r\n      </g>\r\n     </g>\r\n    </g>\r\n    <g id=\"text_8\">\r\n     <!-- F score -->\r\n     <g style=\"fill:#262626;\" transform=\"translate(286.7 271.378594)scale(0.12 -0.12)\">\r\n      <defs>\r\n       <path d=\"M 8.203125 0 \r\nL 8.203125 71.578125 \r\nL 56.5 71.578125 \r\nL 56.5 63.140625 \r\nL 17.671875 63.140625 \r\nL 17.671875 40.96875 \r\nL 51.265625 40.96875 \r\nL 51.265625 32.515625 \r\nL 17.671875 32.515625 \r\nL 17.671875 0 \r\nz\r\n\" id=\"ArialMT-70\"/>\r\n       <path id=\"ArialMT-32\"/>\r\n       <path d=\"M 3.078125 15.484375 \r\nL 11.765625 16.84375 \r\nQ 12.5 11.625 15.84375 8.84375 \r\nQ 19.1875 6.0625 25.203125 6.0625 \r\nQ 31.25 6.0625 34.171875 8.515625 \r\nQ 37.109375 10.984375 37.109375 14.3125 \r\nQ 37.109375 17.28125 34.515625 19 \r\nQ 32.71875 20.171875 25.53125 21.96875 \r\nQ 15.875 24.421875 12.140625 26.203125 \r\nQ 8.40625 27.984375 6.46875 31.125 \r\nQ 4.546875 34.28125 4.546875 38.09375 \r\nQ 4.546875 41.546875 6.125 44.5 \r\nQ 7.71875 47.46875 10.453125 49.421875 \r\nQ 12.5 50.921875 16.03125 51.96875 \r\nQ 19.578125 53.03125 23.640625 53.03125 \r\nQ 29.734375 53.03125 34.34375 51.265625 \r\nQ 38.96875 49.515625 41.15625 46.5 \r\nQ 43.359375 43.5 44.1875 38.484375 \r\nL 35.59375 37.3125 \r\nQ 35.015625 41.3125 32.203125 43.546875 \r\nQ 29.390625 45.796875 24.265625 45.796875 \r\nQ 18.21875 45.796875 15.625 43.796875 \r\nQ 13.03125 41.796875 13.03125 39.109375 \r\nQ 13.03125 37.40625 14.109375 36.03125 \r\nQ 15.1875 34.625 17.484375 33.6875 \r\nQ 18.796875 33.203125 25.25 31.453125 \r\nQ 34.578125 28.953125 38.25 27.359375 \r\nQ 41.9375 25.78125 44.03125 22.75 \r\nQ 46.140625 19.734375 46.140625 15.234375 \r\nQ 46.140625 10.84375 43.578125 6.953125 \r\nQ 41.015625 3.078125 36.171875 0.953125 \r\nQ 31.34375 -1.171875 25.25 -1.171875 \r\nQ 15.140625 -1.171875 9.84375 3.03125 \r\nQ 4.546875 7.234375 3.078125 15.484375 \r\nz\r\n\" id=\"ArialMT-115\"/>\r\n       <path d=\"M 40.4375 19 \r\nL 49.078125 17.875 \r\nQ 47.65625 8.9375 41.8125 3.875 \r\nQ 35.984375 -1.171875 27.484375 -1.171875 \r\nQ 16.84375 -1.171875 10.375 5.78125 \r\nQ 3.90625 12.75 3.90625 25.734375 \r\nQ 3.90625 34.125 6.6875 40.421875 \r\nQ 9.46875 46.734375 15.15625 49.875 \r\nQ 20.84375 53.03125 27.546875 53.03125 \r\nQ 35.984375 53.03125 41.359375 48.75 \r\nQ 46.734375 44.484375 48.25 36.625 \r\nL 39.703125 35.296875 \r\nQ 38.484375 40.53125 35.375 43.15625 \r\nQ 32.28125 45.796875 27.875 45.796875 \r\nQ 21.234375 45.796875 17.078125 41.03125 \r\nQ 12.9375 36.28125 12.9375 25.984375 \r\nQ 12.9375 15.53125 16.9375 10.796875 \r\nQ 20.953125 6.0625 27.390625 6.0625 \r\nQ 32.5625 6.0625 36.03125 9.234375 \r\nQ 39.5 12.40625 40.4375 19 \r\nz\r\n\" id=\"ArialMT-99\"/>\r\n       <path d=\"M 3.328125 25.921875 \r\nQ 3.328125 40.328125 11.328125 47.265625 \r\nQ 18.015625 53.03125 27.640625 53.03125 \r\nQ 38.328125 53.03125 45.109375 46.015625 \r\nQ 51.90625 39.015625 51.90625 26.65625 \r\nQ 51.90625 16.65625 48.90625 10.90625 \r\nQ 45.90625 5.171875 40.15625 2 \r\nQ 34.421875 -1.171875 27.640625 -1.171875 \r\nQ 16.75 -1.171875 10.03125 5.8125 \r\nQ 3.328125 12.796875 3.328125 25.921875 \r\nz\r\nM 12.359375 25.921875 \r\nQ 12.359375 15.96875 16.703125 11.015625 \r\nQ 21.046875 6.0625 27.640625 6.0625 \r\nQ 34.1875 6.0625 38.53125 11.03125 \r\nQ 42.875 16.015625 42.875 26.21875 \r\nQ 42.875 35.84375 38.5 40.796875 \r\nQ 34.125 45.75 27.640625 45.75 \r\nQ 21.046875 45.75 16.703125 40.8125 \r\nQ 12.359375 35.890625 12.359375 25.921875 \r\nz\r\n\" id=\"ArialMT-111\"/>\r\n       <path d=\"M 6.5 0 \r\nL 6.5 51.859375 \r\nL 14.40625 51.859375 \r\nL 14.40625 44 \r\nQ 17.4375 49.515625 20 51.265625 \r\nQ 22.5625 53.03125 25.640625 53.03125 \r\nQ 30.078125 53.03125 34.671875 50.203125 \r\nL 31.640625 42.046875 \r\nQ 28.421875 43.953125 25.203125 43.953125 \r\nQ 22.3125 43.953125 20.015625 42.21875 \r\nQ 17.71875 40.484375 16.75 37.40625 \r\nQ 15.28125 32.71875 15.28125 27.15625 \r\nL 15.28125 0 \r\nz\r\n\" id=\"ArialMT-114\"/>\r\n       <path d=\"M 42.09375 16.703125 \r\nL 51.171875 15.578125 \r\nQ 49.03125 7.625 43.21875 3.21875 \r\nQ 37.40625 -1.171875 28.375 -1.171875 \r\nQ 17 -1.171875 10.328125 5.828125 \r\nQ 3.65625 12.84375 3.65625 25.484375 \r\nQ 3.65625 38.578125 10.390625 45.796875 \r\nQ 17.140625 53.03125 27.875 53.03125 \r\nQ 38.28125 53.03125 44.875 45.953125 \r\nQ 51.46875 38.875 51.46875 26.03125 \r\nQ 51.46875 25.25 51.421875 23.6875 \r\nL 12.75 23.6875 \r\nQ 13.234375 15.140625 17.578125 10.59375 \r\nQ 21.921875 6.0625 28.421875 6.0625 \r\nQ 33.25 6.0625 36.671875 8.59375 \r\nQ 40.09375 11.140625 42.09375 16.703125 \r\nz\r\nM 13.234375 30.90625 \r\nL 42.1875 30.90625 \r\nQ 41.609375 37.453125 38.875 40.71875 \r\nQ 34.671875 45.796875 27.984375 45.796875 \r\nQ 21.921875 45.796875 17.796875 41.75 \r\nQ 13.671875 37.703125 13.234375 30.90625 \r\nz\r\n\" id=\"ArialMT-101\"/>\r\n      </defs>\r\n      <use xlink:href=\"#ArialMT-70\"/>\r\n      <use x=\"61.083984\" xlink:href=\"#ArialMT-32\"/>\r\n      <use x=\"88.867188\" xlink:href=\"#ArialMT-115\"/>\r\n      <use x=\"138.867188\" xlink:href=\"#ArialMT-99\"/>\r\n      <use x=\"188.867188\" xlink:href=\"#ArialMT-111\"/>\r\n      <use x=\"244.482422\" xlink:href=\"#ArialMT-114\"/>\r\n      <use x=\"277.783203\" xlink:href=\"#ArialMT-101\"/>\r\n     </g>\r\n    </g>\r\n   </g>\r\n   <g id=\"matplotlib.axis_2\">\r\n    <g id=\"ytick_1\">\r\n     <g id=\"line2d_8\">\r\n      <path clip-path=\"url(#pb32a38c2ca)\" d=\"M 139.3025 219.462102 \r\nL 474.1025 219.462102 \r\n\" style=\"fill:none;stroke:#ffffff;stroke-linecap:round;\"/>\r\n     </g>\r\n     <g id=\"text_9\">\r\n      <!-- ing_beurre -->\r\n      <g style=\"fill:#262626;\" transform=\"translate(77.213906 223.398899)scale(0.11 -0.11)\">\r\n       <defs>\r\n        <path d=\"M 6.640625 61.46875 \r\nL 6.640625 71.578125 \r\nL 15.4375 71.578125 \r\nL 15.4375 61.46875 \r\nz\r\nM 6.640625 0 \r\nL 6.640625 51.859375 \r\nL 15.4375 51.859375 \r\nL 15.4375 0 \r\nz\r\n\" id=\"ArialMT-105\"/>\r\n        <path d=\"M 6.59375 0 \r\nL 6.59375 51.859375 \r\nL 14.5 51.859375 \r\nL 14.5 44.484375 \r\nQ 20.21875 53.03125 31 53.03125 \r\nQ 35.6875 53.03125 39.625 51.34375 \r\nQ 43.5625 49.65625 45.515625 46.921875 \r\nQ 47.46875 44.1875 48.25 40.4375 \r\nQ 48.734375 37.984375 48.734375 31.890625 \r\nL 48.734375 0 \r\nL 39.9375 0 \r\nL 39.9375 31.546875 \r\nQ 39.9375 36.921875 38.90625 39.578125 \r\nQ 37.890625 42.234375 35.28125 43.8125 \r\nQ 32.671875 45.40625 29.15625 45.40625 \r\nQ 23.53125 45.40625 19.453125 41.84375 \r\nQ 15.375 38.28125 15.375 28.328125 \r\nL 15.375 0 \r\nz\r\n\" id=\"ArialMT-110\"/>\r\n        <path d=\"M 4.984375 -4.296875 \r\nL 13.53125 -5.5625 \r\nQ 14.0625 -9.515625 16.5 -11.328125 \r\nQ 19.78125 -13.765625 25.4375 -13.765625 \r\nQ 31.546875 -13.765625 34.859375 -11.328125 \r\nQ 38.1875 -8.890625 39.359375 -4.5 \r\nQ 40.046875 -1.8125 39.984375 6.78125 \r\nQ 34.234375 0 25.640625 0 \r\nQ 14.9375 0 9.078125 7.71875 \r\nQ 3.21875 15.4375 3.21875 26.21875 \r\nQ 3.21875 33.640625 5.90625 39.90625 \r\nQ 8.59375 46.1875 13.6875 49.609375 \r\nQ 18.796875 53.03125 25.6875 53.03125 \r\nQ 34.859375 53.03125 40.828125 45.609375 \r\nL 40.828125 51.859375 \r\nL 48.921875 51.859375 \r\nL 48.921875 7.03125 \r\nQ 48.921875 -5.078125 46.453125 -10.125 \r\nQ 44 -15.1875 38.640625 -18.109375 \r\nQ 33.296875 -21.046875 25.484375 -21.046875 \r\nQ 16.21875 -21.046875 10.5 -16.875 \r\nQ 4.78125 -12.703125 4.984375 -4.296875 \r\nz\r\nM 12.25 26.859375 \r\nQ 12.25 16.65625 16.296875 11.96875 \r\nQ 20.359375 7.28125 26.46875 7.28125 \r\nQ 32.515625 7.28125 36.609375 11.9375 \r\nQ 40.71875 16.609375 40.71875 26.5625 \r\nQ 40.71875 36.078125 36.5 40.90625 \r\nQ 32.28125 45.75 26.3125 45.75 \r\nQ 20.453125 45.75 16.34375 40.984375 \r\nQ 12.25 36.234375 12.25 26.859375 \r\nz\r\n\" id=\"ArialMT-103\"/>\r\n        <path d=\"M -1.515625 -19.875 \r\nL -1.515625 -13.53125 \r\nL 56.734375 -13.53125 \r\nL 56.734375 -19.875 \r\nz\r\n\" id=\"ArialMT-95\"/>\r\n        <path d=\"M 14.703125 0 \r\nL 6.546875 0 \r\nL 6.546875 71.578125 \r\nL 15.328125 71.578125 \r\nL 15.328125 46.046875 \r\nQ 20.90625 53.03125 29.546875 53.03125 \r\nQ 34.328125 53.03125 38.59375 51.09375 \r\nQ 42.875 49.171875 45.625 45.671875 \r\nQ 48.390625 42.1875 49.953125 37.25 \r\nQ 51.515625 32.328125 51.515625 26.703125 \r\nQ 51.515625 13.375 44.921875 6.09375 \r\nQ 38.328125 -1.171875 29.109375 -1.171875 \r\nQ 19.921875 -1.171875 14.703125 6.5 \r\nz\r\nM 14.59375 26.3125 \r\nQ 14.59375 17 17.140625 12.84375 \r\nQ 21.296875 6.0625 28.375 6.0625 \r\nQ 34.125 6.0625 38.328125 11.0625 \r\nQ 42.53125 16.0625 42.53125 25.984375 \r\nQ 42.53125 36.140625 38.5 40.96875 \r\nQ 34.46875 45.796875 28.765625 45.796875 \r\nQ 23 45.796875 18.796875 40.796875 \r\nQ 14.59375 35.796875 14.59375 26.3125 \r\nz\r\n\" id=\"ArialMT-98\"/>\r\n        <path d=\"M 40.578125 0 \r\nL 40.578125 7.625 \r\nQ 34.515625 -1.171875 24.125 -1.171875 \r\nQ 19.53125 -1.171875 15.546875 0.578125 \r\nQ 11.578125 2.34375 9.640625 5 \r\nQ 7.71875 7.671875 6.9375 11.53125 \r\nQ 6.390625 14.109375 6.390625 19.734375 \r\nL 6.390625 51.859375 \r\nL 15.1875 51.859375 \r\nL 15.1875 23.09375 \r\nQ 15.1875 16.21875 15.71875 13.8125 \r\nQ 16.546875 10.359375 19.234375 8.375 \r\nQ 21.921875 6.390625 25.875 6.390625 \r\nQ 29.828125 6.390625 33.296875 8.421875 \r\nQ 36.765625 10.453125 38.203125 13.9375 \r\nQ 39.65625 17.4375 39.65625 24.078125 \r\nL 39.65625 51.859375 \r\nL 48.4375 51.859375 \r\nL 48.4375 0 \r\nz\r\n\" id=\"ArialMT-117\"/>\r\n       </defs>\r\n       <use xlink:href=\"#ArialMT-105\"/>\r\n       <use x=\"22.216797\" xlink:href=\"#ArialMT-110\"/>\r\n       <use x=\"77.832031\" xlink:href=\"#ArialMT-103\"/>\r\n       <use x=\"133.447266\" xlink:href=\"#ArialMT-95\"/>\r\n       <use x=\"189.0625\" xlink:href=\"#ArialMT-98\"/>\r\n       <use x=\"244.677734\" xlink:href=\"#ArialMT-101\"/>\r\n       <use x=\"300.292969\" xlink:href=\"#ArialMT-117\"/>\r\n       <use x=\"355.908203\" xlink:href=\"#ArialMT-114\"/>\r\n       <use x=\"389.208984\" xlink:href=\"#ArialMT-114\"/>\r\n       <use x=\"422.509766\" xlink:href=\"#ArialMT-101\"/>\r\n      </g>\r\n     </g>\r\n    </g>\r\n    <g id=\"ytick_2\">\r\n     <g id=\"line2d_9\">\r\n      <path clip-path=\"url(#pb32a38c2ca)\" d=\"M 139.3025 199.69483 \r\nL 474.1025 199.69483 \r\n\" style=\"fill:none;stroke:#ffffff;stroke-linecap:round;\"/>\r\n     </g>\r\n     <g id=\"text_10\">\r\n      <!-- ing_levure -->\r\n      <g style=\"fill:#262626;\" transform=\"translate(79.049531 203.631626)scale(0.11 -0.11)\">\r\n       <defs>\r\n        <path d=\"M 6.390625 0 \r\nL 6.390625 71.578125 \r\nL 15.1875 71.578125 \r\nL 15.1875 0 \r\nz\r\n\" id=\"ArialMT-108\"/>\r\n        <path d=\"M 21 0 \r\nL 1.265625 51.859375 \r\nL 10.546875 51.859375 \r\nL 21.6875 20.796875 \r\nQ 23.484375 15.765625 25 10.359375 \r\nQ 26.171875 14.453125 28.265625 20.21875 \r\nL 39.796875 51.859375 \r\nL 48.828125 51.859375 \r\nL 29.203125 0 \r\nz\r\n\" id=\"ArialMT-118\"/>\r\n       </defs>\r\n       <use xlink:href=\"#ArialMT-105\"/>\r\n       <use x=\"22.216797\" xlink:href=\"#ArialMT-110\"/>\r\n       <use x=\"77.832031\" xlink:href=\"#ArialMT-103\"/>\r\n       <use x=\"133.447266\" xlink:href=\"#ArialMT-95\"/>\r\n       <use x=\"189.0625\" xlink:href=\"#ArialMT-108\"/>\r\n       <use x=\"211.279297\" xlink:href=\"#ArialMT-101\"/>\r\n       <use x=\"266.894531\" xlink:href=\"#ArialMT-118\"/>\r\n       <use x=\"316.894531\" xlink:href=\"#ArialMT-117\"/>\r\n       <use x=\"372.509766\" xlink:href=\"#ArialMT-114\"/>\r\n       <use x=\"405.810547\" xlink:href=\"#ArialMT-101\"/>\r\n      </g>\r\n     </g>\r\n    </g>\r\n    <g id=\"ytick_3\">\r\n     <g id=\"line2d_10\">\r\n      <path clip-path=\"url(#pb32a38c2ca)\" d=\"M 139.3025 179.927557 \r\nL 474.1025 179.927557 \r\n\" style=\"fill:none;stroke:#ffffff;stroke-linecap:round;\"/>\r\n     </g>\r\n     <g id=\"text_11\">\r\n      <!-- ing_oignons -->\r\n      <g style=\"fill:#262626;\" transform=\"translate(70.478125 183.864354)scale(0.11 -0.11)\">\r\n       <use xlink:href=\"#ArialMT-105\"/>\r\n       <use x=\"22.216797\" xlink:href=\"#ArialMT-110\"/>\r\n       <use x=\"77.832031\" xlink:href=\"#ArialMT-103\"/>\r\n       <use x=\"133.447266\" xlink:href=\"#ArialMT-95\"/>\r\n       <use x=\"189.0625\" xlink:href=\"#ArialMT-111\"/>\r\n       <use x=\"244.677734\" xlink:href=\"#ArialMT-105\"/>\r\n       <use x=\"266.894531\" xlink:href=\"#ArialMT-103\"/>\r\n       <use x=\"322.509766\" xlink:href=\"#ArialMT-110\"/>\r\n       <use x=\"378.125\" xlink:href=\"#ArialMT-111\"/>\r\n       <use x=\"433.740234\" xlink:href=\"#ArialMT-110\"/>\r\n       <use x=\"489.355469\" xlink:href=\"#ArialMT-115\"/>\r\n      </g>\r\n     </g>\r\n    </g>\r\n    <g id=\"ytick_4\">\r\n     <g id=\"line2d_11\">\r\n      <path clip-path=\"url(#pb32a38c2ca)\" d=\"M 139.3025 160.160284 \r\nL 474.1025 160.160284 \r\n\" style=\"fill:none;stroke:#ffffff;stroke-linecap:round;\"/>\r\n     </g>\r\n     <g id=\"text_12\">\r\n      <!-- ing_ail -->\r\n      <g style=\"fill:#262626;\" transform=\"translate(98.002188 164.097081)scale(0.11 -0.11)\">\r\n       <defs>\r\n        <path d=\"M 40.4375 6.390625 \r\nQ 35.546875 2.25 31.03125 0.53125 \r\nQ 26.515625 -1.171875 21.34375 -1.171875 \r\nQ 12.796875 -1.171875 8.203125 3 \r\nQ 3.609375 7.171875 3.609375 13.671875 \r\nQ 3.609375 17.484375 5.34375 20.625 \r\nQ 7.078125 23.78125 9.890625 25.6875 \r\nQ 12.703125 27.59375 16.21875 28.5625 \r\nQ 18.796875 29.25 24.03125 29.890625 \r\nQ 34.671875 31.15625 39.703125 32.90625 \r\nQ 39.75 34.71875 39.75 35.203125 \r\nQ 39.75 40.578125 37.25 42.78125 \r\nQ 33.890625 45.75 27.25 45.75 \r\nQ 21.046875 45.75 18.09375 43.578125 \r\nQ 15.140625 41.40625 13.71875 35.890625 \r\nL 5.125 37.0625 \r\nQ 6.296875 42.578125 8.984375 45.96875 \r\nQ 11.671875 49.359375 16.75 51.1875 \r\nQ 21.828125 53.03125 28.515625 53.03125 \r\nQ 35.15625 53.03125 39.296875 51.46875 \r\nQ 43.453125 49.90625 45.40625 47.53125 \r\nQ 47.359375 45.171875 48.140625 41.546875 \r\nQ 48.578125 39.3125 48.578125 33.453125 \r\nL 48.578125 21.734375 \r\nQ 48.578125 9.46875 49.140625 6.21875 \r\nQ 49.703125 2.984375 51.375 0 \r\nL 42.1875 0 \r\nQ 40.828125 2.734375 40.4375 6.390625 \r\nz\r\nM 39.703125 26.03125 \r\nQ 34.90625 24.078125 25.34375 22.703125 \r\nQ 19.921875 21.921875 17.671875 20.9375 \r\nQ 15.4375 19.96875 14.203125 18.09375 \r\nQ 12.984375 16.21875 12.984375 13.921875 \r\nQ 12.984375 10.40625 15.640625 8.0625 \r\nQ 18.3125 5.71875 23.4375 5.71875 \r\nQ 28.515625 5.71875 32.46875 7.9375 \r\nQ 36.421875 10.15625 38.28125 14.015625 \r\nQ 39.703125 17 39.703125 22.796875 \r\nz\r\n\" id=\"ArialMT-97\"/>\r\n       </defs>\r\n       <use xlink:href=\"#ArialMT-105\"/>\r\n       <use x=\"22.216797\" xlink:href=\"#ArialMT-110\"/>\r\n       <use x=\"77.832031\" xlink:href=\"#ArialMT-103\"/>\r\n       <use x=\"133.447266\" xlink:href=\"#ArialMT-95\"/>\r\n       <use x=\"189.0625\" xlink:href=\"#ArialMT-97\"/>\r\n       <use x=\"244.677734\" xlink:href=\"#ArialMT-105\"/>\r\n       <use x=\"266.894531\" xlink:href=\"#ArialMT-108\"/>\r\n      </g>\r\n     </g>\r\n    </g>\r\n    <g id=\"ytick_5\">\r\n     <g id=\"line2d_12\">\r\n      <path clip-path=\"url(#pb32a38c2ca)\" d=\"M 139.3025 140.393011 \r\nL 474.1025 140.393011 \r\n\" style=\"fill:none;stroke:#ffffff;stroke-linecap:round;\"/>\r\n     </g>\r\n     <g id=\"text_13\">\r\n      <!-- ing_huile de colza -->\r\n      <g style=\"fill:#262626;\" transform=\"translate(41.744063 144.329808)scale(0.11 -0.11)\">\r\n       <defs>\r\n        <path d=\"M 6.59375 0 \r\nL 6.59375 71.578125 \r\nL 15.375 71.578125 \r\nL 15.375 45.90625 \r\nQ 21.53125 53.03125 30.90625 53.03125 \r\nQ 36.671875 53.03125 40.921875 50.75 \r\nQ 45.171875 48.484375 47 44.484375 \r\nQ 48.828125 40.484375 48.828125 32.859375 \r\nL 48.828125 0 \r\nL 40.046875 0 \r\nL 40.046875 32.859375 \r\nQ 40.046875 39.453125 37.1875 42.453125 \r\nQ 34.328125 45.453125 29.109375 45.453125 \r\nQ 25.203125 45.453125 21.75 43.421875 \r\nQ 18.3125 41.40625 16.84375 37.9375 \r\nQ 15.375 34.46875 15.375 28.375 \r\nL 15.375 0 \r\nz\r\n\" id=\"ArialMT-104\"/>\r\n        <path d=\"M 40.234375 0 \r\nL 40.234375 6.546875 \r\nQ 35.296875 -1.171875 25.734375 -1.171875 \r\nQ 19.53125 -1.171875 14.328125 2.25 \r\nQ 9.125 5.671875 6.265625 11.796875 \r\nQ 3.421875 17.921875 3.421875 25.875 \r\nQ 3.421875 33.640625 6 39.96875 \r\nQ 8.59375 46.296875 13.765625 49.65625 \r\nQ 18.953125 53.03125 25.34375 53.03125 \r\nQ 30.03125 53.03125 33.6875 51.046875 \r\nQ 37.359375 49.078125 39.65625 45.90625 \r\nL 39.65625 71.578125 \r\nL 48.390625 71.578125 \r\nL 48.390625 0 \r\nz\r\nM 12.453125 25.875 \r\nQ 12.453125 15.921875 16.640625 10.984375 \r\nQ 20.84375 6.0625 26.5625 6.0625 \r\nQ 32.328125 6.0625 36.34375 10.765625 \r\nQ 40.375 15.484375 40.375 25.140625 \r\nQ 40.375 35.796875 36.265625 40.765625 \r\nQ 32.171875 45.75 26.171875 45.75 \r\nQ 20.3125 45.75 16.375 40.96875 \r\nQ 12.453125 36.1875 12.453125 25.875 \r\nz\r\n\" id=\"ArialMT-100\"/>\r\n        <path d=\"M 1.953125 0 \r\nL 1.953125 7.125 \r\nL 34.96875 45.015625 \r\nQ 29.34375 44.734375 25.046875 44.734375 \r\nL 3.90625 44.734375 \r\nL 3.90625 51.859375 \r\nL 46.296875 51.859375 \r\nL 46.296875 46.046875 \r\nL 18.21875 13.140625 \r\nL 12.796875 7.125 \r\nQ 18.703125 7.5625 23.875 7.5625 \r\nL 47.859375 7.5625 \r\nL 47.859375 0 \r\nz\r\n\" id=\"ArialMT-122\"/>\r\n       </defs>\r\n       <use xlink:href=\"#ArialMT-105\"/>\r\n       <use x=\"22.216797\" xlink:href=\"#ArialMT-110\"/>\r\n       <use x=\"77.832031\" xlink:href=\"#ArialMT-103\"/>\r\n       <use x=\"133.447266\" xlink:href=\"#ArialMT-95\"/>\r\n       <use x=\"189.0625\" xlink:href=\"#ArialMT-104\"/>\r\n       <use x=\"244.677734\" xlink:href=\"#ArialMT-117\"/>\r\n       <use x=\"300.292969\" xlink:href=\"#ArialMT-105\"/>\r\n       <use x=\"322.509766\" xlink:href=\"#ArialMT-108\"/>\r\n       <use x=\"344.726562\" xlink:href=\"#ArialMT-101\"/>\r\n       <use x=\"400.341797\" xlink:href=\"#ArialMT-32\"/>\r\n       <use x=\"428.125\" xlink:href=\"#ArialMT-100\"/>\r\n       <use x=\"483.740234\" xlink:href=\"#ArialMT-101\"/>\r\n       <use x=\"539.355469\" xlink:href=\"#ArialMT-32\"/>\r\n       <use x=\"567.138672\" xlink:href=\"#ArialMT-99\"/>\r\n       <use x=\"617.138672\" xlink:href=\"#ArialMT-111\"/>\r\n       <use x=\"672.753906\" xlink:href=\"#ArialMT-108\"/>\r\n       <use x=\"694.970703\" xlink:href=\"#ArialMT-122\"/>\r\n       <use x=\"744.970703\" xlink:href=\"#ArialMT-97\"/>\r\n      </g>\r\n     </g>\r\n    </g>\r\n    <g id=\"ytick_6\">\r\n     <g id=\"line2d_13\">\r\n      <path clip-path=\"url(#pb32a38c2ca)\" d=\"M 139.3025 120.625739 \r\nL 474.1025 120.625739 \r\n\" style=\"fill:none;stroke:#ffffff;stroke-linecap:round;\"/>\r\n     </g>\r\n     <g id=\"text_14\">\r\n      <!-- ing_huile de tournesol -->\r\n      <g style=\"fill:#262626;\" transform=\"translate(22.174375 124.562536)scale(0.11 -0.11)\">\r\n       <defs>\r\n        <path d=\"M 25.78125 7.859375 \r\nL 27.046875 0.09375 \r\nQ 23.34375 -0.6875 20.40625 -0.6875 \r\nQ 15.625 -0.6875 12.984375 0.828125 \r\nQ 10.359375 2.34375 9.28125 4.8125 \r\nQ 8.203125 7.28125 8.203125 15.1875 \r\nL 8.203125 45.015625 \r\nL 1.765625 45.015625 \r\nL 1.765625 51.859375 \r\nL 8.203125 51.859375 \r\nL 8.203125 64.703125 \r\nL 16.9375 69.96875 \r\nL 16.9375 51.859375 \r\nL 25.78125 51.859375 \r\nL 25.78125 45.015625 \r\nL 16.9375 45.015625 \r\nL 16.9375 14.703125 \r\nQ 16.9375 10.9375 17.40625 9.859375 \r\nQ 17.875 8.796875 18.921875 8.15625 \r\nQ 19.96875 7.515625 21.921875 7.515625 \r\nQ 23.390625 7.515625 25.78125 7.859375 \r\nz\r\n\" id=\"ArialMT-116\"/>\r\n       </defs>\r\n       <use xlink:href=\"#ArialMT-105\"/>\r\n       <use x=\"22.216797\" xlink:href=\"#ArialMT-110\"/>\r\n       <use x=\"77.832031\" xlink:href=\"#ArialMT-103\"/>\r\n       <use x=\"133.447266\" xlink:href=\"#ArialMT-95\"/>\r\n       <use x=\"189.0625\" xlink:href=\"#ArialMT-104\"/>\r\n       <use x=\"244.677734\" xlink:href=\"#ArialMT-117\"/>\r\n       <use x=\"300.292969\" xlink:href=\"#ArialMT-105\"/>\r\n       <use x=\"322.509766\" xlink:href=\"#ArialMT-108\"/>\r\n       <use x=\"344.726562\" xlink:href=\"#ArialMT-101\"/>\r\n       <use x=\"400.341797\" xlink:href=\"#ArialMT-32\"/>\r\n       <use x=\"428.125\" xlink:href=\"#ArialMT-100\"/>\r\n       <use x=\"483.740234\" xlink:href=\"#ArialMT-101\"/>\r\n       <use x=\"539.355469\" xlink:href=\"#ArialMT-32\"/>\r\n       <use x=\"567.138672\" xlink:href=\"#ArialMT-116\"/>\r\n       <use x=\"594.921875\" xlink:href=\"#ArialMT-111\"/>\r\n       <use x=\"650.537109\" xlink:href=\"#ArialMT-117\"/>\r\n       <use x=\"706.152344\" xlink:href=\"#ArialMT-114\"/>\r\n       <use x=\"739.453125\" xlink:href=\"#ArialMT-110\"/>\r\n       <use x=\"795.068359\" xlink:href=\"#ArialMT-101\"/>\r\n       <use x=\"850.683594\" xlink:href=\"#ArialMT-115\"/>\r\n       <use x=\"900.683594\" xlink:href=\"#ArialMT-111\"/>\r\n       <use x=\"956.298828\" xlink:href=\"#ArialMT-108\"/>\r\n      </g>\r\n     </g>\r\n    </g>\r\n    <g id=\"ytick_7\">\r\n     <g id=\"line2d_14\">\r\n      <path clip-path=\"url(#pb32a38c2ca)\" d=\"M 139.3025 100.858466 \r\nL 474.1025 100.858466 \r\n\" style=\"fill:none;stroke:#ffffff;stroke-linecap:round;\"/>\r\n     </g>\r\n     <g id=\"text_15\">\r\n      <!-- ing_farine de blé -->\r\n      <g style=\"fill:#262626;\" transform=\"translate(48.469531 104.862294)scale(0.11 -0.11)\">\r\n       <defs>\r\n        <path d=\"M 8.6875 0 \r\nL 8.6875 45.015625 \r\nL 0.921875 45.015625 \r\nL 0.921875 51.859375 \r\nL 8.6875 51.859375 \r\nL 8.6875 57.375 \r\nQ 8.6875 62.59375 9.625 65.140625 \r\nQ 10.890625 68.5625 14.078125 70.671875 \r\nQ 17.28125 72.796875 23.046875 72.796875 \r\nQ 26.765625 72.796875 31.25 71.921875 \r\nL 29.9375 64.265625 \r\nQ 27.203125 64.75 24.75 64.75 \r\nQ 20.75 64.75 19.09375 63.03125 \r\nQ 17.4375 61.328125 17.4375 56.640625 \r\nL 17.4375 51.859375 \r\nL 27.546875 51.859375 \r\nL 27.546875 45.015625 \r\nL 17.4375 45.015625 \r\nL 17.4375 0 \r\nz\r\n\" id=\"ArialMT-102\"/>\r\n        <path d=\"M 42.09375 16.703125 \r\nL 51.171875 15.578125 \r\nQ 49.03125 7.625 43.21875 3.21875 \r\nQ 37.40625 -1.171875 28.375 -1.171875 \r\nQ 17 -1.171875 10.328125 5.828125 \r\nQ 3.65625 12.84375 3.65625 25.484375 \r\nQ 3.65625 38.578125 10.390625 45.796875 \r\nQ 17.140625 53.03125 27.875 53.03125 \r\nQ 38.28125 53.03125 44.875 45.953125 \r\nQ 51.46875 38.875 51.46875 26.03125 \r\nQ 51.46875 25.25 51.421875 23.6875 \r\nL 12.75 23.6875 \r\nQ 13.234375 15.140625 17.578125 10.59375 \r\nQ 21.921875 6.0625 28.421875 6.0625 \r\nQ 33.25 6.0625 36.671875 8.59375 \r\nQ 40.09375 11.140625 42.09375 16.703125 \r\nz\r\nM 13.234375 30.90625 \r\nL 42.1875 30.90625 \r\nQ 41.609375 37.453125 38.875 40.71875 \r\nQ 34.671875 45.796875 27.984375 45.796875 \r\nQ 21.921875 45.796875 17.796875 41.75 \r\nQ 13.671875 37.703125 13.234375 30.90625 \r\nz\r\nM 22.703125 58.296875 \r\nL 29.203125 71.96875 \r\nL 40.71875 71.96875 \r\nL 29.984375 58.296875 \r\nz\r\n\" id=\"ArialMT-233\"/>\r\n       </defs>\r\n       <use xlink:href=\"#ArialMT-105\"/>\r\n       <use x=\"22.216797\" xlink:href=\"#ArialMT-110\"/>\r\n       <use x=\"77.832031\" xlink:href=\"#ArialMT-103\"/>\r\n       <use x=\"133.447266\" xlink:href=\"#ArialMT-95\"/>\r\n       <use x=\"189.0625\" xlink:href=\"#ArialMT-102\"/>\r\n       <use x=\"216.845703\" xlink:href=\"#ArialMT-97\"/>\r\n       <use x=\"272.460938\" xlink:href=\"#ArialMT-114\"/>\r\n       <use x=\"305.761719\" xlink:href=\"#ArialMT-105\"/>\r\n       <use x=\"327.978516\" xlink:href=\"#ArialMT-110\"/>\r\n       <use x=\"383.59375\" xlink:href=\"#ArialMT-101\"/>\r\n       <use x=\"439.208984\" xlink:href=\"#ArialMT-32\"/>\r\n       <use x=\"466.992188\" xlink:href=\"#ArialMT-100\"/>\r\n       <use x=\"522.607422\" xlink:href=\"#ArialMT-101\"/>\r\n       <use x=\"578.222656\" xlink:href=\"#ArialMT-32\"/>\r\n       <use x=\"606.005859\" xlink:href=\"#ArialMT-98\"/>\r\n       <use x=\"661.621094\" xlink:href=\"#ArialMT-108\"/>\r\n       <use x=\"683.837891\" xlink:href=\"#ArialMT-233\"/>\r\n      </g>\r\n     </g>\r\n    </g>\r\n    <g id=\"ytick_8\">\r\n     <g id=\"line2d_15\">\r\n      <path clip-path=\"url(#pb32a38c2ca)\" d=\"M 139.3025 81.091193 \r\nL 474.1025 81.091193 \r\n\" style=\"fill:none;stroke:#ffffff;stroke-linecap:round;\"/>\r\n     </g>\r\n     <g id=\"text_16\">\r\n      <!-- ing_sucre -->\r\n      <g style=\"fill:#262626;\" transform=\"translate(82.110625 85.02799)scale(0.11 -0.11)\">\r\n       <use xlink:href=\"#ArialMT-105\"/>\r\n       <use x=\"22.216797\" xlink:href=\"#ArialMT-110\"/>\r\n       <use x=\"77.832031\" xlink:href=\"#ArialMT-103\"/>\r\n       <use x=\"133.447266\" xlink:href=\"#ArialMT-95\"/>\r\n       <use x=\"189.0625\" xlink:href=\"#ArialMT-115\"/>\r\n       <use x=\"239.0625\" xlink:href=\"#ArialMT-117\"/>\r\n       <use x=\"294.677734\" xlink:href=\"#ArialMT-99\"/>\r\n       <use x=\"344.677734\" xlink:href=\"#ArialMT-114\"/>\r\n       <use x=\"377.978516\" xlink:href=\"#ArialMT-101\"/>\r\n      </g>\r\n     </g>\r\n    </g>\r\n    <g id=\"ytick_9\">\r\n     <g id=\"line2d_16\">\r\n      <path clip-path=\"url(#pb32a38c2ca)\" d=\"M 139.3025 61.32392 \r\nL 474.1025 61.32392 \r\n\" style=\"fill:none;stroke:#ffffff;stroke-linecap:round;\"/>\r\n     </g>\r\n     <g id=\"text_17\">\r\n      <!-- ing_sel -->\r\n      <g style=\"fill:#262626;\" transform=\"translate(94.94625 65.260717)scale(0.11 -0.11)\">\r\n       <use xlink:href=\"#ArialMT-105\"/>\r\n       <use x=\"22.216797\" xlink:href=\"#ArialMT-110\"/>\r\n       <use x=\"77.832031\" xlink:href=\"#ArialMT-103\"/>\r\n       <use x=\"133.447266\" xlink:href=\"#ArialMT-95\"/>\r\n       <use x=\"189.0625\" xlink:href=\"#ArialMT-115\"/>\r\n       <use x=\"239.0625\" xlink:href=\"#ArialMT-101\"/>\r\n       <use x=\"294.677734\" xlink:href=\"#ArialMT-108\"/>\r\n      </g>\r\n     </g>\r\n    </g>\r\n    <g id=\"ytick_10\">\r\n     <g id=\"line2d_17\">\r\n      <path clip-path=\"url(#pb32a38c2ca)\" d=\"M 139.3025 41.556648 \r\nL 474.1025 41.556648 \r\n\" style=\"fill:none;stroke:#ffffff;stroke-linecap:round;\"/>\r\n     </g>\r\n     <g id=\"text_18\">\r\n      <!-- ing_eau -->\r\n      <g style=\"fill:#262626;\" transform=\"translate(90.65625 45.493445)scale(0.11 -0.11)\">\r\n       <use xlink:href=\"#ArialMT-105\"/>\r\n       <use x=\"22.216797\" xlink:href=\"#ArialMT-110\"/>\r\n       <use x=\"77.832031\" xlink:href=\"#ArialMT-103\"/>\r\n       <use x=\"133.447266\" xlink:href=\"#ArialMT-95\"/>\r\n       <use x=\"189.0625\" xlink:href=\"#ArialMT-101\"/>\r\n       <use x=\"244.677734\" xlink:href=\"#ArialMT-97\"/>\r\n       <use x=\"300.292969\" xlink:href=\"#ArialMT-117\"/>\r\n      </g>\r\n     </g>\r\n    </g>\r\n    <g id=\"text_19\">\r\n     <!-- Features -->\r\n     <g style=\"fill:#262626;\" transform=\"translate(15.789375 154.185)rotate(-90)scale(0.12 -0.12)\">\r\n      <use xlink:href=\"#ArialMT-70\"/>\r\n      <use x=\"61.083984\" xlink:href=\"#ArialMT-101\"/>\r\n      <use x=\"116.699219\" xlink:href=\"#ArialMT-97\"/>\r\n      <use x=\"172.314453\" xlink:href=\"#ArialMT-116\"/>\r\n      <use x=\"200.097656\" xlink:href=\"#ArialMT-117\"/>\r\n      <use x=\"255.712891\" xlink:href=\"#ArialMT-114\"/>\r\n      <use x=\"289.013672\" xlink:href=\"#ArialMT-101\"/>\r\n      <use x=\"344.628906\" xlink:href=\"#ArialMT-115\"/>\r\n     </g>\r\n    </g>\r\n   </g>\r\n   <g id=\"patch_3\">\r\n    <path clip-path=\"url(#pb32a38c2ca)\" d=\"M 139.3025 221.43883 \r\nL 201.01177 221.43883 \r\nL 201.01177 217.485375 \r\nL 139.3025 217.485375 \r\nz\r\n\" style=\"fill:#4c72b0;stroke:#ffffff;stroke-linejoin:miter;\"/>\r\n   </g>\r\n   <g id=\"patch_4\">\r\n    <path clip-path=\"url(#pb32a38c2ca)\" d=\"M 139.3025 201.671557 \r\nL 201.307203 201.671557 \r\nL 201.307203 197.718102 \r\nL 139.3025 197.718102 \r\nz\r\n\" style=\"fill:#4c72b0;stroke:#ffffff;stroke-linejoin:miter;\"/>\r\n   </g>\r\n   <g id=\"patch_5\">\r\n    <path clip-path=\"url(#pb32a38c2ca)\" d=\"M 139.3025 181.904284 \r\nL 204.748741 181.904284 \r\nL 204.748741 177.95083 \r\nL 139.3025 177.95083 \r\nz\r\n\" style=\"fill:#4c72b0;stroke:#ffffff;stroke-linejoin:miter;\"/>\r\n   </g>\r\n   <g id=\"patch_6\">\r\n    <path clip-path=\"url(#pb32a38c2ca)\" d=\"M 139.3025 162.137011 \r\nL 209.195789 162.137011 \r\nL 209.195789 158.183557 \r\nL 139.3025 158.183557 \r\nz\r\n\" style=\"fill:#4c72b0;stroke:#ffffff;stroke-linejoin:miter;\"/>\r\n   </g>\r\n   <g id=\"patch_7\">\r\n    <path clip-path=\"url(#pb32a38c2ca)\" d=\"M 139.3025 142.369739 \r\nL 234.831103 142.369739 \r\nL 234.831103 138.416284 \r\nL 139.3025 138.416284 \r\nz\r\n\" style=\"fill:#4c72b0;stroke:#ffffff;stroke-linejoin:miter;\"/>\r\n   </g>\r\n   <g id=\"patch_8\">\r\n    <path clip-path=\"url(#pb32a38c2ca)\" d=\"M 139.3025 122.602466 \r\nL 272.90053 122.602466 \r\nL 272.90053 118.649011 \r\nL 139.3025 118.649011 \r\nz\r\n\" style=\"fill:#4c72b0;stroke:#ffffff;stroke-linejoin:miter;\"/>\r\n   </g>\r\n   <g id=\"patch_9\">\r\n    <path clip-path=\"url(#pb32a38c2ca)\" d=\"M 139.3025 102.835193 \r\nL 294.643381 102.835193 \r\nL 294.643381 98.881739 \r\nL 139.3025 98.881739 \r\nz\r\n\" style=\"fill:#4c72b0;stroke:#ffffff;stroke-linejoin:miter;\"/>\r\n   </g>\r\n   <g id=\"patch_10\">\r\n    <path clip-path=\"url(#pb32a38c2ca)\" d=\"M 139.3025 83.06792 \r\nL 379.992494 83.06792 \r\nL 379.992494 79.114466 \r\nL 139.3025 79.114466 \r\nz\r\n\" style=\"fill:#4c72b0;stroke:#ffffff;stroke-linejoin:miter;\"/>\r\n   </g>\r\n   <g id=\"patch_11\">\r\n    <path clip-path=\"url(#pb32a38c2ca)\" d=\"M 139.3025 63.300648 \r\nL 420.337275 63.300648 \r\nL 420.337275 59.347193 \r\nL 139.3025 59.347193 \r\nz\r\n\" style=\"fill:#4c72b0;stroke:#ffffff;stroke-linejoin:miter;\"/>\r\n   </g>\r\n   <g id=\"patch_12\">\r\n    <path clip-path=\"url(#pb32a38c2ca)\" d=\"M 139.3025 43.533375 \r\nL 443.666136 43.533375 \r\nL 443.666136 39.57992 \r\nL 139.3025 39.57992 \r\nz\r\n\" style=\"fill:#4c72b0;stroke:#ffffff;stroke-linejoin:miter;\"/>\r\n   </g>\r\n   <g id=\"patch_13\">\r\n    <path d=\"M 139.3025 239.229375 \r\nL 139.3025 21.789375 \r\n\" style=\"fill:none;stroke:#ffffff;stroke-linecap:square;stroke-linejoin:miter;stroke-width:1.25;\"/>\r\n   </g>\r\n   <g id=\"patch_14\">\r\n    <path d=\"M 474.1025 239.229375 \r\nL 474.1025 21.789375 \r\n\" style=\"fill:none;stroke:#ffffff;stroke-linecap:square;stroke-linejoin:miter;stroke-width:1.25;\"/>\r\n   </g>\r\n   <g id=\"patch_15\">\r\n    <path d=\"M 139.3025 239.229375 \r\nL 474.1025 239.229375 \r\n\" style=\"fill:none;stroke:#ffffff;stroke-linecap:square;stroke-linejoin:miter;stroke-width:1.25;\"/>\r\n   </g>\r\n   <g id=\"patch_16\">\r\n    <path d=\"M 139.3025 21.789375 \r\nL 474.1025 21.789375 \r\n\" style=\"fill:none;stroke:#ffffff;stroke-linecap:square;stroke-linejoin:miter;stroke-width:1.25;\"/>\r\n   </g>\r\n   <g id=\"text_20\">\r\n    <!-- 11906 -->\r\n    <g style=\"fill:#262626;\" transform=\"translate(201.016953 222.56429)scale(0.12 -0.12)\">\r\n     <defs>\r\n      <path d=\"M 5.46875 16.546875 \r\nL 13.921875 17.328125 \r\nQ 14.984375 11.375 18.015625 8.6875 \r\nQ 21.046875 6 25.78125 6 \r\nQ 29.828125 6 32.875 7.859375 \r\nQ 35.9375 9.71875 37.890625 12.8125 \r\nQ 39.84375 15.921875 41.15625 21.1875 \r\nQ 42.484375 26.46875 42.484375 31.9375 \r\nQ 42.484375 32.515625 42.4375 33.6875 \r\nQ 39.796875 29.5 35.234375 26.875 \r\nQ 30.671875 24.265625 25.34375 24.265625 \r\nQ 16.453125 24.265625 10.296875 30.703125 \r\nQ 4.15625 37.15625 4.15625 47.703125 \r\nQ 4.15625 58.59375 10.578125 65.234375 \r\nQ 17 71.875 26.65625 71.875 \r\nQ 33.640625 71.875 39.421875 68.109375 \r\nQ 45.21875 64.359375 48.21875 57.390625 \r\nQ 51.21875 50.4375 51.21875 37.25 \r\nQ 51.21875 23.53125 48.234375 15.40625 \r\nQ 45.265625 7.28125 39.375 3.03125 \r\nQ 33.5 -1.21875 25.59375 -1.21875 \r\nQ 17.1875 -1.21875 11.859375 3.4375 \r\nQ 6.546875 8.109375 5.46875 16.546875 \r\nz\r\nM 41.453125 48.140625 \r\nQ 41.453125 55.71875 37.421875 60.15625 \r\nQ 33.40625 64.59375 27.734375 64.59375 \r\nQ 21.875 64.59375 17.53125 59.8125 \r\nQ 13.1875 55.03125 13.1875 47.40625 \r\nQ 13.1875 40.578125 17.3125 36.296875 \r\nQ 21.4375 32.03125 27.484375 32.03125 \r\nQ 33.59375 32.03125 37.515625 36.296875 \r\nQ 41.453125 40.578125 41.453125 48.140625 \r\nz\r\n\" id=\"ArialMT-57\"/>\r\n     </defs>\r\n     <use xlink:href=\"#ArialMT-49\"/>\r\n     <use x=\"48.240234\" xlink:href=\"#ArialMT-49\"/>\r\n     <use x=\"103.855469\" xlink:href=\"#ArialMT-57\"/>\r\n     <use x=\"159.470703\" xlink:href=\"#ArialMT-48\"/>\r\n     <use x=\"215.085938\" xlink:href=\"#ArialMT-54\"/>\r\n    </g>\r\n   </g>\r\n   <g id=\"text_21\">\r\n    <!-- 11963 -->\r\n    <g style=\"fill:#262626;\" transform=\"translate(201.312386 202.797017)scale(0.12 -0.12)\">\r\n     <use xlink:href=\"#ArialMT-49\"/>\r\n     <use x=\"48.240234\" xlink:href=\"#ArialMT-49\"/>\r\n     <use x=\"103.855469\" xlink:href=\"#ArialMT-57\"/>\r\n     <use x=\"159.470703\" xlink:href=\"#ArialMT-54\"/>\r\n     <use x=\"215.085938\" xlink:href=\"#ArialMT-51\"/>\r\n    </g>\r\n   </g>\r\n   <g id=\"text_22\">\r\n    <!-- 12627 -->\r\n    <g style=\"fill:#262626;\" transform=\"translate(204.753924 183.029744)scale(0.12 -0.12)\">\r\n     <defs>\r\n      <path d=\"M 4.734375 62.203125 \r\nL 4.734375 70.65625 \r\nL 51.078125 70.65625 \r\nL 51.078125 63.8125 \r\nQ 44.234375 56.546875 37.515625 44.484375 \r\nQ 30.8125 32.421875 27.15625 19.671875 \r\nQ 24.515625 10.6875 23.78125 0 \r\nL 14.75 0 \r\nQ 14.890625 8.453125 18.0625 20.40625 \r\nQ 21.234375 32.375 27.171875 43.484375 \r\nQ 33.109375 54.59375 39.796875 62.203125 \r\nz\r\n\" id=\"ArialMT-55\"/>\r\n     </defs>\r\n     <use xlink:href=\"#ArialMT-49\"/>\r\n     <use x=\"55.615234\" xlink:href=\"#ArialMT-50\"/>\r\n     <use x=\"111.230469\" xlink:href=\"#ArialMT-54\"/>\r\n     <use x=\"166.845703\" xlink:href=\"#ArialMT-50\"/>\r\n     <use x=\"222.460938\" xlink:href=\"#ArialMT-55\"/>\r\n    </g>\r\n   </g>\r\n   <g id=\"text_23\">\r\n    <!-- 13485 -->\r\n    <g style=\"fill:#262626;\" transform=\"translate(209.200972 163.262472)scale(0.12 -0.12)\">\r\n     <defs>\r\n      <path d=\"M 17.671875 38.8125 \r\nQ 12.203125 40.828125 9.5625 44.53125 \r\nQ 6.9375 48.25 6.9375 53.421875 \r\nQ 6.9375 61.234375 12.546875 66.546875 \r\nQ 18.171875 71.875 27.484375 71.875 \r\nQ 36.859375 71.875 42.578125 66.421875 \r\nQ 48.296875 60.984375 48.296875 53.171875 \r\nQ 48.296875 48.1875 45.671875 44.5 \r\nQ 43.0625 40.828125 37.75 38.8125 \r\nQ 44.34375 36.671875 47.78125 31.875 \r\nQ 51.21875 27.09375 51.21875 20.453125 \r\nQ 51.21875 11.28125 44.71875 5.03125 \r\nQ 38.234375 -1.21875 27.640625 -1.21875 \r\nQ 17.046875 -1.21875 10.546875 5.046875 \r\nQ 4.046875 11.328125 4.046875 20.703125 \r\nQ 4.046875 27.6875 7.59375 32.390625 \r\nQ 11.140625 37.109375 17.671875 38.8125 \r\nz\r\nM 15.921875 53.71875 \r\nQ 15.921875 48.640625 19.1875 45.40625 \r\nQ 22.46875 42.1875 27.6875 42.1875 \r\nQ 32.765625 42.1875 36.015625 45.375 \r\nQ 39.265625 48.578125 39.265625 53.21875 \r\nQ 39.265625 58.0625 35.90625 61.359375 \r\nQ 32.5625 64.65625 27.59375 64.65625 \r\nQ 22.5625 64.65625 19.234375 61.421875 \r\nQ 15.921875 58.203125 15.921875 53.71875 \r\nz\r\nM 13.09375 20.65625 \r\nQ 13.09375 16.890625 14.875 13.375 \r\nQ 16.65625 9.859375 20.171875 7.921875 \r\nQ 23.6875 6 27.734375 6 \r\nQ 34.03125 6 38.125 10.046875 \r\nQ 42.234375 14.109375 42.234375 20.359375 \r\nQ 42.234375 26.703125 38.015625 30.859375 \r\nQ 33.796875 35.015625 27.4375 35.015625 \r\nQ 21.234375 35.015625 17.15625 30.90625 \r\nQ 13.09375 26.8125 13.09375 20.65625 \r\nz\r\n\" id=\"ArialMT-56\"/>\r\n     </defs>\r\n     <use xlink:href=\"#ArialMT-49\"/>\r\n     <use x=\"55.615234\" xlink:href=\"#ArialMT-51\"/>\r\n     <use x=\"111.230469\" xlink:href=\"#ArialMT-52\"/>\r\n     <use x=\"166.845703\" xlink:href=\"#ArialMT-56\"/>\r\n     <use x=\"222.460938\" xlink:href=\"#ArialMT-53\"/>\r\n    </g>\r\n   </g>\r\n   <g id=\"text_24\">\r\n    <!-- 18431 -->\r\n    <g style=\"fill:#262626;\" transform=\"translate(234.836287 143.495199)scale(0.12 -0.12)\">\r\n     <use xlink:href=\"#ArialMT-49\"/>\r\n     <use x=\"55.615234\" xlink:href=\"#ArialMT-56\"/>\r\n     <use x=\"111.230469\" xlink:href=\"#ArialMT-52\"/>\r\n     <use x=\"166.845703\" xlink:href=\"#ArialMT-51\"/>\r\n     <use x=\"222.460938\" xlink:href=\"#ArialMT-49\"/>\r\n    </g>\r\n   </g>\r\n   <g id=\"text_25\">\r\n    <!-- 25776 -->\r\n    <g style=\"fill:#262626;\" transform=\"translate(272.905713 123.727926)scale(0.12 -0.12)\">\r\n     <use xlink:href=\"#ArialMT-50\"/>\r\n     <use x=\"55.615234\" xlink:href=\"#ArialMT-53\"/>\r\n     <use x=\"111.230469\" xlink:href=\"#ArialMT-55\"/>\r\n     <use x=\"166.845703\" xlink:href=\"#ArialMT-55\"/>\r\n     <use x=\"222.460938\" xlink:href=\"#ArialMT-54\"/>\r\n    </g>\r\n   </g>\r\n   <g id=\"text_26\">\r\n    <!-- 29971 -->\r\n    <g style=\"fill:#262626;\" transform=\"translate(294.648564 103.960653)scale(0.12 -0.12)\">\r\n     <use xlink:href=\"#ArialMT-50\"/>\r\n     <use x=\"55.615234\" xlink:href=\"#ArialMT-57\"/>\r\n     <use x=\"111.230469\" xlink:href=\"#ArialMT-57\"/>\r\n     <use x=\"166.845703\" xlink:href=\"#ArialMT-55\"/>\r\n     <use x=\"222.460938\" xlink:href=\"#ArialMT-49\"/>\r\n    </g>\r\n   </g>\r\n   <g id=\"text_27\">\r\n    <!-- 46438 -->\r\n    <g style=\"fill:#262626;\" transform=\"translate(379.997678 84.193381)scale(0.12 -0.12)\">\r\n     <use xlink:href=\"#ArialMT-52\"/>\r\n     <use x=\"55.615234\" xlink:href=\"#ArialMT-54\"/>\r\n     <use x=\"111.230469\" xlink:href=\"#ArialMT-52\"/>\r\n     <use x=\"166.845703\" xlink:href=\"#ArialMT-51\"/>\r\n     <use x=\"222.460938\" xlink:href=\"#ArialMT-56\"/>\r\n    </g>\r\n   </g>\r\n   <g id=\"text_28\">\r\n    <!-- 54222 -->\r\n    <g style=\"fill:#262626;\" transform=\"translate(420.342458 64.426108)scale(0.12 -0.12)\">\r\n     <use xlink:href=\"#ArialMT-53\"/>\r\n     <use x=\"55.615234\" xlink:href=\"#ArialMT-52\"/>\r\n     <use x=\"111.230469\" xlink:href=\"#ArialMT-50\"/>\r\n     <use x=\"166.845703\" xlink:href=\"#ArialMT-50\"/>\r\n     <use x=\"222.460938\" xlink:href=\"#ArialMT-50\"/>\r\n    </g>\r\n   </g>\r\n   <g id=\"text_29\">\r\n    <!-- 58723 -->\r\n    <g style=\"fill:#262626;\" transform=\"translate(443.671319 44.658835)scale(0.12 -0.12)\">\r\n     <use xlink:href=\"#ArialMT-53\"/>\r\n     <use x=\"55.615234\" xlink:href=\"#ArialMT-56\"/>\r\n     <use x=\"111.230469\" xlink:href=\"#ArialMT-55\"/>\r\n     <use x=\"166.845703\" xlink:href=\"#ArialMT-50\"/>\r\n     <use x=\"222.460938\" xlink:href=\"#ArialMT-51\"/>\r\n    </g>\r\n   </g>\r\n   <g id=\"text_30\">\r\n    <!-- Feature importance -->\r\n    <g style=\"fill:#262626;\" transform=\"translate(254.681562 15.789375)scale(0.12 -0.12)\">\r\n     <defs>\r\n      <path d=\"M 6.59375 0 \r\nL 6.59375 51.859375 \r\nL 14.453125 51.859375 \r\nL 14.453125 44.578125 \r\nQ 16.890625 48.390625 20.9375 50.703125 \r\nQ 25 53.03125 30.171875 53.03125 \r\nQ 35.9375 53.03125 39.625 50.640625 \r\nQ 43.3125 48.25 44.828125 43.953125 \r\nQ 50.984375 53.03125 60.84375 53.03125 \r\nQ 68.5625 53.03125 72.703125 48.75 \r\nQ 76.859375 44.484375 76.859375 35.59375 \r\nL 76.859375 0 \r\nL 68.109375 0 \r\nL 68.109375 32.671875 \r\nQ 68.109375 37.9375 67.25 40.25 \r\nQ 66.40625 42.578125 64.15625 43.984375 \r\nQ 61.921875 45.40625 58.890625 45.40625 \r\nQ 53.421875 45.40625 49.796875 41.765625 \r\nQ 46.1875 38.140625 46.1875 30.125 \r\nL 46.1875 0 \r\nL 37.40625 0 \r\nL 37.40625 33.6875 \r\nQ 37.40625 39.546875 35.25 42.46875 \r\nQ 33.109375 45.40625 28.21875 45.40625 \r\nQ 24.515625 45.40625 21.359375 43.453125 \r\nQ 18.21875 41.5 16.796875 37.734375 \r\nQ 15.375 33.984375 15.375 26.90625 \r\nL 15.375 0 \r\nz\r\n\" id=\"ArialMT-109\"/>\r\n      <path d=\"M 6.59375 -19.875 \r\nL 6.59375 51.859375 \r\nL 14.59375 51.859375 \r\nL 14.59375 45.125 \r\nQ 17.4375 49.078125 21 51.046875 \r\nQ 24.5625 53.03125 29.640625 53.03125 \r\nQ 36.28125 53.03125 41.359375 49.609375 \r\nQ 46.4375 46.1875 49.015625 39.953125 \r\nQ 51.609375 33.734375 51.609375 26.3125 \r\nQ 51.609375 18.359375 48.75 11.984375 \r\nQ 45.90625 5.609375 40.453125 2.21875 \r\nQ 35.015625 -1.171875 29 -1.171875 \r\nQ 24.609375 -1.171875 21.109375 0.6875 \r\nQ 17.625 2.546875 15.375 5.375 \r\nL 15.375 -19.875 \r\nz\r\nM 14.546875 25.640625 \r\nQ 14.546875 15.625 18.59375 10.84375 \r\nQ 22.65625 6.0625 28.421875 6.0625 \r\nQ 34.28125 6.0625 38.453125 11.015625 \r\nQ 42.625 15.96875 42.625 26.375 \r\nQ 42.625 36.28125 38.546875 41.203125 \r\nQ 34.46875 46.140625 28.8125 46.140625 \r\nQ 23.1875 46.140625 18.859375 40.890625 \r\nQ 14.546875 35.640625 14.546875 25.640625 \r\nz\r\n\" id=\"ArialMT-112\"/>\r\n     </defs>\r\n     <use xlink:href=\"#ArialMT-70\"/>\r\n     <use x=\"61.083984\" xlink:href=\"#ArialMT-101\"/>\r\n     <use x=\"116.699219\" xlink:href=\"#ArialMT-97\"/>\r\n     <use x=\"172.314453\" xlink:href=\"#ArialMT-116\"/>\r\n     <use x=\"200.097656\" xlink:href=\"#ArialMT-117\"/>\r\n     <use x=\"255.712891\" xlink:href=\"#ArialMT-114\"/>\r\n     <use x=\"289.013672\" xlink:href=\"#ArialMT-101\"/>\r\n     <use x=\"344.628906\" xlink:href=\"#ArialMT-32\"/>\r\n     <use x=\"372.412109\" xlink:href=\"#ArialMT-105\"/>\r\n     <use x=\"394.628906\" xlink:href=\"#ArialMT-109\"/>\r\n     <use x=\"477.929688\" xlink:href=\"#ArialMT-112\"/>\r\n     <use x=\"533.544922\" xlink:href=\"#ArialMT-111\"/>\r\n     <use x=\"589.160156\" xlink:href=\"#ArialMT-114\"/>\r\n     <use x=\"622.460938\" xlink:href=\"#ArialMT-116\"/>\r\n     <use x=\"650.244141\" xlink:href=\"#ArialMT-97\"/>\r\n     <use x=\"705.859375\" xlink:href=\"#ArialMT-110\"/>\r\n     <use x=\"761.474609\" xlink:href=\"#ArialMT-99\"/>\r\n     <use x=\"811.474609\" xlink:href=\"#ArialMT-101\"/>\r\n    </g>\r\n   </g>\r\n  </g>\r\n </g>\r\n <defs>\r\n  <clipPath id=\"pb32a38c2ca\">\r\n   <rect height=\"217.44\" width=\"334.8\" x=\"139.3025\" y=\"21.789375\"/>\r\n  </clipPath>\r\n </defs>\r\n</svg>\r\n",
      "image/png": "[encoded data removed]"
     },
     "metadata": {}
    }
   ],
   "source": [
    "xgb.plot_importance(model, max_num_features=10)"
   ]
  },
  {
   "cell_type": "code",
   "execution_count": 75,
   "metadata": {},
   "outputs": [],
   "source": [
    "feature_important = model.get_booster().get_score(importance_type='weight')\n",
    "keys = list(feature_important.keys())\n",
    "values = list(feature_important.values())\n",
    "features_importance = pd.DataFrame(data=values, index=keys, columns=[\"score\"]).sort_values(by = \"score\", ascending=False)"
   ]
  },
  {
   "source": [
    "## Predict $G_2$ with $XGBoost$ and $G_1$ prediction"
   ],
   "cell_type": "markdown",
   "metadata": {}
  },
  {
   "source": [
    "### Configuration"
   ],
   "cell_type": "markdown",
   "metadata": {}
  },
  {
   "cell_type": "code",
   "execution_count": 10,
   "metadata": {},
   "outputs": [],
   "source": [
    "import xgboost\n",
    "from sklearn.model_selection import train_test_split\n",
    "from sklearn.ensemble import RandomForestClassifier\n",
    "from eml.model_eval import classifier_metrics, get_classification_report, plot_confusion_matrix\n",
    "from sklearn.multioutput import ClassifierChain\n",
    "from sklearn import metrics\n",
    "from sklearn.preprocessing import LabelEncoder, StandardScaler\n",
    "from xgboost import XGBClassifier\n",
    "features = df_modified.drop(columns=['pnns_groups_1', 'pnns_groups_2', 'pnns_groups_3', 'pnns_groups_4', 'code', 'url', 'ingredients', 'product_name'])\n",
    "target = df_modified[['pnns_groups_1', 'pnns_groups_2']]"
   ]
  },
  {
   "cell_type": "code",
   "execution_count": 11,
   "metadata": {},
   "outputs": [],
   "source": [
    "from sklearn.preprocessing import LabelEncoder\n",
    "le = LabelEncoder()\n",
    "le.fit(target['pnns_groups_2'])\n",
    "encoded_target = le.transform(target['pnns_groups_2'])\n",
    "X_train, X_test, y_train, y_test = train_test_split(features, encoded_target, test_size=0.2, random_state=42, stratify=encoded_target)"
   ]
  },
  {
   "source": [
    "### Add $G_1$ predictions to features"
   ],
   "cell_type": "markdown",
   "metadata": {}
  },
  {
   "cell_type": "code",
   "execution_count": 12,
   "metadata": {},
   "outputs": [],
   "source": [
    "xgb_model_latest = XGBClassifier()\n",
    "xgb_model_latest.load_model(\"xgboost_group1.model\")\n",
    "pnns_1_preds_train = xgb_model_latest.predict(X_train)\n",
    "pnns_1_preds_test = xgb_model_latest.predict(X_test)"
   ]
  },
  {
   "cell_type": "code",
   "execution_count": 13,
   "metadata": {},
   "outputs": [
    {
     "output_type": "execute_result",
     "data": {
      "text/plain": [
       "((134038, 939), (134038,))"
      ]
     },
     "metadata": {},
     "execution_count": 13
    }
   ],
   "source": [
    "X_train = np.append(X_train, pnns_1_preds_train.reshape(-1,1), axis=1)\n",
    "X_test = np.append(X_test, pnns_1_preds_test.reshape(-1,1), axis=1)\n",
    "X_train_sample = X_train[:20000]\n",
    "y_train_sample = y_train[:20000]\n",
    "X_train.shape, y_train.shape"
   ]
  },
  {
   "source": [
    "### Parameters testing on sample data"
   ],
   "cell_type": "markdown",
   "metadata": {}
  },
  {
   "cell_type": "code",
   "execution_count": 100,
   "metadata": {},
   "outputs": [
    {
     "output_type": "stream",
     "name": "stdout",
     "text": [
      "Wall time: 3min 7s\n",
      "Train Set Class2 Classification Metrics :\n",
      "-------------------\n",
      "Accuracy : 87.83%\n",
      "Recall : 84.78%\n",
      "Precision : 88.76%\n",
      "F1-score : 86.48%\n",
      "\n",
      "\n",
      "Test Set Class2 Classification Metrics :\n",
      "-------------------\n",
      "Accuracy : 75.94%\n",
      "Recall : 69.03%\n",
      "Precision : 76.33%\n",
      "F1-score : 71.76%\n",
      "\n",
      "\n"
     ]
    }
   ],
   "source": [
    "model = XGBClassifier(\n",
    "    learning_rate = 0.1, \n",
    "    n_estimators=100, \n",
    "    max_depth=15,\n",
    "    subsample=0.85,\n",
    "    colsample_bytree=0.45,\n",
    "    gamma=1,\n",
    "    objective= 'multi:softprob',\n",
    "    eval_metric='mlogloss',\n",
    "    num_class= 9,\n",
    "    tree_method='gpu_hist', \n",
    "    use_label_encoder=False)\n",
    "%time model.fit(X_train_sample, y_train_sample)\n",
    "y_preds_train = model.predict(X_train_sample)\n",
    "y_preds_test = model.predict(X_test)\n",
    "classifier_metrics(y_test=y_train_sample, y_preds=y_preds_train, average='macro', model='Train Set Class2')\n",
    "classifier_metrics(y_test=y_test, y_preds=y_preds_test, average='macro', model='Test Set Class2')"
   ]
  },
  {
   "cell_type": "code",
   "execution_count": 102,
   "metadata": {},
   "outputs": [
    {
     "output_type": "execute_result",
     "data": {
      "text/plain": [
       "                                  xgboost_precision  xgboost_recall  \\\n",
       "fruit nectars                                  1.00            0.70   \n",
       "sandwiches                                     0.97            0.92   \n",
       "ice cream                                      0.97            0.97   \n",
       "pastries                                       0.96            0.88   \n",
       "pizza pies and quiche                          0.96            0.94   \n",
       "soups                                          0.96            0.94   \n",
       "dairy desserts                                 0.96            0.84   \n",
       "salty and fatty products                       0.95            0.91   \n",
       "fish and seafood                               0.95            0.88   \n",
       "bread                                          0.95            0.90   \n",
       "breakfast cereals                              0.94            0.91   \n",
       "processed meat                                 0.94            0.95   \n",
       "appetizers                                     0.94            0.88   \n",
       "dressings and sauces                           0.94            0.93   \n",
       "cheese                                         0.93            0.92   \n",
       "fats                                           0.93            0.84   \n",
       "sweets                                         0.93            0.91   \n",
       "biscuits and cakes                             0.93            0.94   \n",
       "potatoes                                       0.92            0.88   \n",
       "chocolate products                             0.92            0.97   \n",
       "offals                                         0.92            0.75   \n",
       "milk and yogurt                                0.91            0.92   \n",
       "plant based milk substitutes                   0.91            0.90   \n",
       "eggs                                           0.91            0.90   \n",
       "sweetened beverages                            0.90            0.92   \n",
       "meat                                           0.89            0.82   \n",
       "macro avg                                      0.89            0.85   \n",
       "weighted avg                                   0.89            0.88   \n",
       "accuracy                                       0.88            0.88   \n",
       "nuts                                           0.86            0.83   \n",
       "artificially sweetened beverages               0.86            0.78   \n",
       "vegetables                                     0.85            0.80   \n",
       "one dish meals                                 0.84            0.88   \n",
       "fruit juices                                   0.83            0.87   \n",
       "fruits                                         0.82            0.78   \n",
       "dried fruits                                   0.82            0.66   \n",
       "legumes                                        0.80            0.75   \n",
       "waters and flavored waters                     0.74            0.65   \n",
       "teas and herbal teas and coffees               0.73            0.62   \n",
       "unsweetened beverages                          0.60            0.49   \n",
       "cereals                                        0.58            0.88   \n",
       "\n",
       "                                  xgboost_f1-score  xgboost_support  \n",
       "fruit nectars                                 0.82            20.00  \n",
       "sandwiches                                    0.94           154.00  \n",
       "ice cream                                     0.97           292.00  \n",
       "pastries                                      0.92           214.00  \n",
       "pizza pies and quiche                         0.95           213.00  \n",
       "soups                                         0.95           154.00  \n",
       "dairy desserts                                0.90           476.00  \n",
       "salty and fatty products                      0.93           558.00  \n",
       "fish and seafood                              0.91           642.00  \n",
       "bread                                         0.93           470.00  \n",
       "breakfast cereals                             0.93           313.00  \n",
       "processed meat                                0.95           995.00  \n",
       "appetizers                                    0.91           490.00  \n",
       "dressings and sauces                          0.93           821.00  \n",
       "cheese                                        0.92          1001.00  \n",
       "fats                                          0.88           426.00  \n",
       "sweets                                        0.92          1647.00  \n",
       "biscuits and cakes                            0.93          1772.00  \n",
       "potatoes                                      0.90           137.00  \n",
       "chocolate products                            0.94           649.00  \n",
       "offals                                        0.82            59.00  \n",
       "milk and yogurt                               0.92           905.00  \n",
       "plant based milk substitutes                  0.91           130.00  \n",
       "eggs                                          0.91            91.00  \n",
       "sweetened beverages                           0.91           780.00  \n",
       "meat                                          0.86           607.00  \n",
       "macro avg                                     0.86         20000.00  \n",
       "weighted avg                                  0.88         20000.00  \n",
       "accuracy                                      0.88             0.88  \n",
       "nuts                                          0.84           177.00  \n",
       "artificially sweetened beverages              0.82           331.00  \n",
       "vegetables                                    0.82           773.00  \n",
       "one dish meals                                0.86          1726.00  \n",
       "fruit juices                                  0.85           346.00  \n",
       "fruits                                        0.80           588.00  \n",
       "dried fruits                                  0.73           188.00  \n",
       "legumes                                       0.77           167.00  \n",
       "waters and flavored waters                    0.69            94.00  \n",
       "teas and herbal teas and coffees              0.67           225.00  \n",
       "unsweetened beverages                         0.54           435.00  \n",
       "cereals                                       0.70           934.00  "
      ],
      "text/html": "<div>\n<style scoped>\n    .dataframe tbody tr th:only-of-type {\n        vertical-align: middle;\n    }\n\n    .dataframe tbody tr th {\n        vertical-align: top;\n    }\n\n    .dataframe thead th {\n        text-align: right;\n    }\n</style>\n<table border=\"1\" class=\"dataframe\">\n  <thead>\n    <tr style=\"text-align: right;\">\n      <th></th>\n      <th>xgboost_precision</th>\n      <th>xgboost_recall</th>\n      <th>xgboost_f1-score</th>\n      <th>xgboost_support</th>\n    </tr>\n  </thead>\n  <tbody>\n    <tr>\n      <th>fruit nectars</th>\n      <td>1.00</td>\n      <td>0.70</td>\n      <td>0.82</td>\n      <td>20.00</td>\n    </tr>\n    <tr>\n      <th>sandwiches</th>\n      <td>0.97</td>\n      <td>0.92</td>\n      <td>0.94</td>\n      <td>154.00</td>\n    </tr>\n    <tr>\n      <th>ice cream</th>\n      <td>0.97</td>\n      <td>0.97</td>\n      <td>0.97</td>\n      <td>292.00</td>\n    </tr>\n    <tr>\n      <th>pastries</th>\n      <td>0.96</td>\n      <td>0.88</td>\n      <td>0.92</td>\n      <td>214.00</td>\n    </tr>\n    <tr>\n      <th>pizza pies and quiche</th>\n      <td>0.96</td>\n      <td>0.94</td>\n      <td>0.95</td>\n      <td>213.00</td>\n    </tr>\n    <tr>\n      <th>soups</th>\n      <td>0.96</td>\n      <td>0.94</td>\n      <td>0.95</td>\n      <td>154.00</td>\n    </tr>\n    <tr>\n      <th>dairy desserts</th>\n      <td>0.96</td>\n      <td>0.84</td>\n      <td>0.90</td>\n      <td>476.00</td>\n    </tr>\n    <tr>\n      <th>salty and fatty products</th>\n      <td>0.95</td>\n      <td>0.91</td>\n      <td>0.93</td>\n      <td>558.00</td>\n    </tr>\n    <tr>\n      <th>fish and seafood</th>\n      <td>0.95</td>\n      <td>0.88</td>\n      <td>0.91</td>\n      <td>642.00</td>\n    </tr>\n    <tr>\n      <th>bread</th>\n      <td>0.95</td>\n      <td>0.90</td>\n      <td>0.93</td>\n      <td>470.00</td>\n    </tr>\n    <tr>\n      <th>breakfast cereals</th>\n      <td>0.94</td>\n      <td>0.91</td>\n      <td>0.93</td>\n      <td>313.00</td>\n    </tr>\n    <tr>\n      <th>processed meat</th>\n      <td>0.94</td>\n      <td>0.95</td>\n      <td>0.95</td>\n      <td>995.00</td>\n    </tr>\n    <tr>\n      <th>appetizers</th>\n      <td>0.94</td>\n      <td>0.88</td>\n      <td>0.91</td>\n      <td>490.00</td>\n    </tr>\n    <tr>\n      <th>dressings and sauces</th>\n      <td>0.94</td>\n      <td>0.93</td>\n      <td>0.93</td>\n      <td>821.00</td>\n    </tr>\n    <tr>\n      <th>cheese</th>\n      <td>0.93</td>\n      <td>0.92</td>\n      <td>0.92</td>\n      <td>1001.00</td>\n    </tr>\n    <tr>\n      <th>fats</th>\n      <td>0.93</td>\n      <td>0.84</td>\n      <td>0.88</td>\n      <td>426.00</td>\n    </tr>\n    <tr>\n      <th>sweets</th>\n      <td>0.93</td>\n      <td>0.91</td>\n      <td>0.92</td>\n      <td>1647.00</td>\n    </tr>\n    <tr>\n      <th>biscuits and cakes</th>\n      <td>0.93</td>\n      <td>0.94</td>\n      <td>0.93</td>\n      <td>1772.00</td>\n    </tr>\n    <tr>\n      <th>potatoes</th>\n      <td>0.92</td>\n      <td>0.88</td>\n      <td>0.90</td>\n      <td>137.00</td>\n    </tr>\n    <tr>\n      <th>chocolate products</th>\n      <td>0.92</td>\n      <td>0.97</td>\n      <td>0.94</td>\n      <td>649.00</td>\n    </tr>\n    <tr>\n      <th>offals</th>\n      <td>0.92</td>\n      <td>0.75</td>\n      <td>0.82</td>\n      <td>59.00</td>\n    </tr>\n    <tr>\n      <th>milk and yogurt</th>\n      <td>0.91</td>\n      <td>0.92</td>\n      <td>0.92</td>\n      <td>905.00</td>\n    </tr>\n    <tr>\n      <th>plant based milk substitutes</th>\n      <td>0.91</td>\n      <td>0.90</td>\n      <td>0.91</td>\n      <td>130.00</td>\n    </tr>\n    <tr>\n      <th>eggs</th>\n      <td>0.91</td>\n      <td>0.90</td>\n      <td>0.91</td>\n      <td>91.00</td>\n    </tr>\n    <tr>\n      <th>sweetened beverages</th>\n      <td>0.90</td>\n      <td>0.92</td>\n      <td>0.91</td>\n      <td>780.00</td>\n    </tr>\n    <tr>\n      <th>meat</th>\n      <td>0.89</td>\n      <td>0.82</td>\n      <td>0.86</td>\n      <td>607.00</td>\n    </tr>\n    <tr>\n      <th>macro avg</th>\n      <td>0.89</td>\n      <td>0.85</td>\n      <td>0.86</td>\n      <td>20000.00</td>\n    </tr>\n    <tr>\n      <th>weighted avg</th>\n      <td>0.89</td>\n      <td>0.88</td>\n      <td>0.88</td>\n      <td>20000.00</td>\n    </tr>\n    <tr>\n      <th>accuracy</th>\n      <td>0.88</td>\n      <td>0.88</td>\n      <td>0.88</td>\n      <td>0.88</td>\n    </tr>\n    <tr>\n      <th>nuts</th>\n      <td>0.86</td>\n      <td>0.83</td>\n      <td>0.84</td>\n      <td>177.00</td>\n    </tr>\n    <tr>\n      <th>artificially sweetened beverages</th>\n      <td>0.86</td>\n      <td>0.78</td>\n      <td>0.82</td>\n      <td>331.00</td>\n    </tr>\n    <tr>\n      <th>vegetables</th>\n      <td>0.85</td>\n      <td>0.80</td>\n      <td>0.82</td>\n      <td>773.00</td>\n    </tr>\n    <tr>\n      <th>one dish meals</th>\n      <td>0.84</td>\n      <td>0.88</td>\n      <td>0.86</td>\n      <td>1726.00</td>\n    </tr>\n    <tr>\n      <th>fruit juices</th>\n      <td>0.83</td>\n      <td>0.87</td>\n      <td>0.85</td>\n      <td>346.00</td>\n    </tr>\n    <tr>\n      <th>fruits</th>\n      <td>0.82</td>\n      <td>0.78</td>\n      <td>0.80</td>\n      <td>588.00</td>\n    </tr>\n    <tr>\n      <th>dried fruits</th>\n      <td>0.82</td>\n      <td>0.66</td>\n      <td>0.73</td>\n      <td>188.00</td>\n    </tr>\n    <tr>\n      <th>legumes</th>\n      <td>0.80</td>\n      <td>0.75</td>\n      <td>0.77</td>\n      <td>167.00</td>\n    </tr>\n    <tr>\n      <th>waters and flavored waters</th>\n      <td>0.74</td>\n      <td>0.65</td>\n      <td>0.69</td>\n      <td>94.00</td>\n    </tr>\n    <tr>\n      <th>teas and herbal teas and coffees</th>\n      <td>0.73</td>\n      <td>0.62</td>\n      <td>0.67</td>\n      <td>225.00</td>\n    </tr>\n    <tr>\n      <th>unsweetened beverages</th>\n      <td>0.60</td>\n      <td>0.49</td>\n      <td>0.54</td>\n      <td>435.00</td>\n    </tr>\n    <tr>\n      <th>cereals</th>\n      <td>0.58</td>\n      <td>0.88</td>\n      <td>0.70</td>\n      <td>934.00</td>\n    </tr>\n  </tbody>\n</table>\n</div>"
     },
     "metadata": {},
     "execution_count": 102
    }
   ],
   "source": [
    "get_classification_report(y_test=le.inverse_transform(y_train_sample), y_pred=le.inverse_transform(y_preds_train), model='xgboost', sortby='precision')"
   ]
  },
  {
   "cell_type": "code",
   "execution_count": 116,
   "metadata": {},
   "outputs": [
    {
     "output_type": "stream",
     "name": "stdout",
     "text": [
      "Wall time: 1.36 s\n",
      "Train Set Class2 Classification Metrics :\n",
      "-------------------\n",
      "Accuracy : 44.43%\n",
      "Recall : 36.18%\n",
      "Precision : 55.46%\n",
      "F1-score : 40.01%\n",
      "\n",
      "\n",
      "Test Set Class2 Classification Metrics :\n",
      "-------------------\n",
      "Accuracy : 43.87%\n",
      "Recall : 34.86%\n",
      "Precision : 53.82%\n",
      "F1-score : 38.32%\n",
      "\n",
      "\n"
     ]
    }
   ],
   "source": [
    "model = XGBClassifier(\n",
    "    learning_rate = 0.1, \n",
    "    n_estimators=1, \n",
    "    max_depth=2,\n",
    "    subsample=0.85,\n",
    "    colsample_bytree=0.45,\n",
    "    gamma=1,\n",
    "    objective= 'multi:softprob',\n",
    "    eval_metric='mlogloss',\n",
    "    num_class= 9,\n",
    "    tree_method='gpu_hist', \n",
    "    use_label_encoder=False)\n",
    "%time model.fit(X_train_sample, y_train_sample)\n",
    "y_preds_train = model.predict(X_train_sample)\n",
    "y_preds_test = model.predict(X_test)\n",
    "classifier_metrics(y_test=y_train_sample, y_preds=y_preds_train, average='macro', model='Train Set Class2')\n",
    "classifier_metrics(y_test=y_test, y_preds=y_preds_test, average='macro', model='Test Set Class2')"
   ]
  },
  {
   "source": [
    "### Drop-out test"
   ],
   "cell_type": "markdown",
   "metadata": {}
  },
  {
   "cell_type": "code",
   "execution_count": 15,
   "metadata": {},
   "outputs": [
    {
     "output_type": "stream",
     "name": "stdout",
     "text": [
      "[20:28:05] WARNING: C:/Users/Administrator/workspace/xgboost-win64_release_1.4.0/src/learner.cc:231: Only 1 GPUs are visible, setting `gpu_id` to 0\n",
      "Wall time: 24.2 s\n",
      "Train Set Class1 - AdaBoost on full Classification Metrics :\n",
      "-------------------\n",
      "Accuracy : 75.28%\n",
      "Recall : 64.20%\n",
      "Precision : 76.11%\n",
      "F1-score : 67.52%\n",
      "\n",
      "\n",
      "Test Set Class1 - AdaBoost on full Classification Metrics :\n",
      "-------------------\n",
      "Accuracy : 73.03%\n",
      "Recall : 61.36%\n",
      "Precision : 73.45%\n",
      "F1-score : 64.85%\n",
      "\n",
      "\n"
     ]
    }
   ],
   "source": [
    "model = XGBClassifier(\n",
    "    base_score=0.5, \n",
    "    booster='dart', #ensemble with dropout\n",
    "    skip_drop = 0.5, #probability to skip dropout at each iteration\n",
    "    rate_drop = 0.2, #probability to drop the tree\n",
    "    colsample_bylevel=0.7, #max features by level\n",
    "    colsample_bynode=0.9, #max features by node\n",
    "    colsample_bytree=0.6, #max features by tree\n",
    "    eval_metric='mlogloss',\n",
    "    gamma=0.7, #regularization\n",
    "    gpu_id=1, \n",
    "    importance_type='gain',\n",
    "    learning_rate=0.01, \n",
    "    max_delta_step=0,\n",
    "    max_depth=24, \n",
    "    min_child_weight=1, \n",
    "    n_estimators=5, \n",
    "    #n_jobs=-1,\n",
    "    num_class=39, \n",
    "    num_parallel_tree=1, \n",
    "    objective='multi:softprob',\n",
    "    random_state=42, \n",
    "    reg_alpha=0.1, #regularization\n",
    "    reg_lambda=0.9, #regularization\n",
    "    scale_pos_weight=None,\n",
    "    subsample=0.85, \n",
    "    tree_method='gpu_hist', \n",
    "    use_label_encoder=False,\n",
    "    validate_parameters=1, \n",
    "    verbosity=None)\n",
    "%time model.fit(X_train_sample, y_train_sample)\n",
    "y_preds_train = model.predict(X_train_sample)\n",
    "y_preds_test = model.predict(X_test)\n",
    "classifier_metrics(y_test=y_train_sample, y_preds=y_preds_train, average='macro', model='Train Set Class1 - AdaBoost on full')\n",
    "classifier_metrics(y_test=y_test, y_preds=y_preds_test, average='macro', model='Test Set Class1 - AdaBoost on full')"
   ]
  },
  {
   "cell_type": "code",
   "execution_count": 14,
   "metadata": {},
   "outputs": [
    {
     "output_type": "stream",
     "name": "stdout",
     "text": [
      "Fri May 21 20:26:18 2021       \n+-----------------------------------------------------------------------------+\n| NVIDIA-SMI 465.89       Driver Version: 465.89       CUDA Version: 11.3     |\n|-------------------------------+----------------------+----------------------+\n| GPU  Name            TCC/WDDM | Bus-Id        Disp.A | Volatile Uncorr. ECC |\n| Fan  Temp  Perf  Pwr:Usage/Cap|         Memory-Usage | GPU-Util  Compute M. |\n|                               |                      |               MIG M. |\n|===============================+======================+======================|\n|   0  NVIDIA GeForce ... WDDM  | 00000000:01:00.0 Off |                  N/A |\n| N/A   42C    P8    10W /  N/A |     39MiB /  3072MiB |      0%      Default |\n|                               |                      |                  N/A |\n+-------------------------------+----------------------+----------------------+\n                                                                               \n+-----------------------------------------------------------------------------+\n| Processes:                                                                  |\n|  GPU   GI   CI        PID   Type   Process name                  GPU Memory |\n|        ID   ID                                                   Usage      |\n|=============================================================================|\n|    0   N/A  N/A     10940    C+G   Insufficient Permissions        N/A      |\n+-----------------------------------------------------------------------------+\n"
     ]
    }
   ],
   "source": [
    "!nvidia-smi"
   ]
  },
  {
   "cell_type": "code",
   "execution_count": 22,
   "metadata": {},
   "outputs": [
    {
     "output_type": "stream",
     "name": "stdout",
     "text": [
      "Wall time: 1min 30s\n",
      "Train Set Class2 - XGBoost on full Classification Metrics :\n",
      "-------------------\n",
      "Accuracy : 77.75%\n",
      "Recall : 67.76%\n",
      "Precision : 79.22%\n",
      "F1-score : 70.87%\n",
      "\n",
      "\n",
      "Test Set Class2 - XGBoost on full Classification Metrics :\n",
      "-------------------\n",
      "Accuracy : 75.32%\n",
      "Recall : 64.49%\n",
      "Precision : 76.18%\n",
      "F1-score : 67.81%\n",
      "\n",
      "\n"
     ]
    }
   ],
   "source": [
    "model = XGBClassifier(\n",
    "    base_score=0.5, \n",
    "    booster='dart',\n",
    "    skip_drop = 0.5,  \n",
    "    rate_drop = 0.2,\n",
    "    colsample_bylevel=0.7,\n",
    "    colsample_bynode=0.9, \n",
    "    colsample_bytree=0.6, \n",
    "    eval_metric='mlogloss',\n",
    "    gamma=0.7, \n",
    "    gpu_id=0, \n",
    "    importance_type='gain',\n",
    "    learning_rate=0.01, \n",
    "    max_delta_step=0,\n",
    "    max_depth=20, \n",
    "    min_child_weight=1, \n",
    "    n_estimators=25, \n",
    "    #n_jobs=8,\n",
    "    num_class=39, \n",
    "    num_parallel_tree=1, \n",
    "    objective='multi:softprob',\n",
    "    random_state=42, \n",
    "    reg_alpha=0.1, \n",
    "    reg_lambda=0.9, \n",
    "    scale_pos_weight=None,\n",
    "    subsample=0.85, \n",
    "    tree_method='gpu_hist', \n",
    "    use_label_encoder=False,\n",
    "    validate_parameters=1, \n",
    "    verbosity=None)\n",
    "%time model.fit(X_train_sample, y_train_sample)\n",
    "y_preds_train = model.predict(X_train_sample)\n",
    "y_preds_test = model.predict(X_test)\n",
    "classifier_metrics(y_test=y_train_sample, y_preds=y_preds_train, average='macro', model='Train Set Class2 - XGBoost on full')\n",
    "classifier_metrics(y_test=y_test, y_preds=y_preds_test, average='macro', model='Test Set Class2 - XGBoost on full')"
   ]
  },
  {
   "cell_type": "code",
   "execution_count": 23,
   "metadata": {},
   "outputs": [
    {
     "output_type": "stream",
     "name": "stderr",
     "text": [
      "C:\\Users\\Antoine\\anaconda3\\lib\\site-packages\\xgboost\\core.py:101: UserWarning: ntree_limit is deprecated, use `iteration_range` or model slicing instead.\n",
      "  warnings.warn(\n",
      "Wall time: 1min 8s\n"
     ]
    }
   ],
   "source": [
    "%time y_preds_train = model.predict(X_train_sample, ntree_limit=10)"
   ]
  },
  {
   "source": [
    "**Dropout slow down a lot xgboost for predictions**. As we already get promising results without it, we will not explore more xgboost tuning with dropout."
   ],
   "cell_type": "markdown",
   "metadata": {}
  },
  {
   "source": [
    "## Train XGBoost on full dataset"
   ],
   "cell_type": "markdown",
   "metadata": {}
  },
  {
   "cell_type": "code",
   "execution_count": 118,
   "metadata": {},
   "outputs": [
    {
     "output_type": "stream",
     "name": "stdout",
     "text": [
      "Wall time: 2h 46min 27s\n",
      "Train Set Class1 - AdaBoost on full Classification Metrics :\n",
      "-------------------\n",
      "Accuracy : 86.43%\n",
      "Recall : 82.94%\n",
      "Precision : 87.02%\n",
      "F1-score : 84.60%\n",
      "\n",
      "\n",
      "Test Set Class1 - AdaBoost on full Classification Metrics :\n",
      "-------------------\n",
      "Accuracy : 82.63%\n",
      "Recall : 77.53%\n",
      "Precision : 83.39%\n",
      "F1-score : 79.85%\n",
      "\n",
      "\n"
     ]
    }
   ],
   "source": [
    "model = XGBClassifier(\n",
    "    base_score=0.5, \n",
    "    booster='gbtree', \n",
    "    colsample_bylevel=0.7,\n",
    "    colsample_bynode=0.9, \n",
    "    colsample_bytree=0.6, \n",
    "    eval_metric='mlogloss',\n",
    "    gamma=0.6, \n",
    "    gpu_id=0, \n",
    "    importance_type='gain',\n",
    "    learning_rate=0.01, \n",
    "    max_delta_step=0,\n",
    "    max_depth=25, \n",
    "    min_child_weight=1, \n",
    "    n_estimators=500, \n",
    "    n_jobs=8,\n",
    "    num_class=9, \n",
    "    num_parallel_tree=1, \n",
    "    objective='multi:softprob',\n",
    "    random_state=0, \n",
    "    reg_alpha=0.1, \n",
    "    reg_lambda=0.9, \n",
    "    scale_pos_weight=None,\n",
    "    subsample=0.85, \n",
    "    tree_method='gpu_hist', \n",
    "    use_label_encoder=False,\n",
    "    validate_parameters=1, \n",
    "    verbosity=None)\n",
    "%time model.fit(X_train, y_train)\n",
    "y_preds_train = model.predict(X_train)\n",
    "y_preds_test = model.predict(X_test)\n",
    "classifier_metrics(y_test=y_train, y_preds=y_preds_train, average='macro', model='Train Set Class1 - AdaBoost on full')\n",
    "classifier_metrics(y_test=y_test, y_preds=y_preds_test, average='macro', model='Test Set Class1 - AdaBoost on full')"
   ]
  },
  {
   "cell_type": "code",
   "execution_count": 120,
   "metadata": {},
   "outputs": [
    {
     "output_type": "execute_result",
     "data": {
      "text/plain": [
       "                                  xgboost_precision  xgboost_recall  \\\n",
       "pastries                                       0.97            0.88   \n",
       "sandwiches                                     0.96            0.88   \n",
       "pizza pies and quiche                          0.96            0.92   \n",
       "ice cream                                      0.95            0.91   \n",
       "dressings and sauces                           0.94            0.92   \n",
       "salty and fatty products                       0.94            0.89   \n",
       "cheese                                         0.94            0.91   \n",
       "fats                                           0.94            0.86   \n",
       "offals                                         0.93            0.72   \n",
       "processed meat                                 0.93            0.95   \n",
       "bread                                          0.93            0.88   \n",
       "breakfast cereals                              0.92            0.86   \n",
       "appetizers                                     0.92            0.81   \n",
       "chocolate products                             0.92            0.95   \n",
       "dairy desserts                                 0.92            0.79   \n",
       "biscuits and cakes                             0.91            0.93   \n",
       "eggs                                           0.91            0.87   \n",
       "milk and yogurt                                0.91            0.91   \n",
       "plant based milk substitutes                   0.90            0.91   \n",
       "fish and seafood                               0.90            0.87   \n",
       "soups                                          0.90            0.88   \n",
       "sweets                                         0.90            0.91   \n",
       "fruit nectars                                  0.89            0.55   \n",
       "potatoes                                       0.89            0.84   \n",
       "sweetened beverages                            0.89            0.89   \n",
       "weighted avg                                   0.88            0.86   \n",
       "macro avg                                      0.87            0.83   \n",
       "accuracy                                       0.86            0.86   \n",
       "cereals                                        0.86            0.83   \n",
       "nuts                                           0.86            0.83   \n",
       "meat                                           0.86            0.81   \n",
       "dried fruits                                   0.85            0.68   \n",
       "one dish meals                                 0.85            0.86   \n",
       "fruits                                         0.85            0.80   \n",
       "fruit juices                                   0.82            0.88   \n",
       "artificially sweetened beverages               0.80            0.72   \n",
       "vegetables                                     0.78            0.79   \n",
       "legumes                                        0.78            0.74   \n",
       "waters and flavored waters                     0.71            0.69   \n",
       "teas and herbal teas and coffees               0.70            0.62   \n",
       "unsweetened beverages                          0.29            0.58   \n",
       "\n",
       "                                  xgboost_f1-score  xgboost_support  \n",
       "pastries                                      0.92          1483.00  \n",
       "sandwiches                                    0.92          1055.00  \n",
       "pizza pies and quiche                         0.94          1367.00  \n",
       "ice cream                                     0.93          1961.00  \n",
       "dressings and sauces                          0.93          5474.00  \n",
       "salty and fatty products                      0.91          3943.00  \n",
       "cheese                                        0.92          6627.00  \n",
       "fats                                          0.90          2864.00  \n",
       "offals                                        0.81           393.00  \n",
       "processed meat                                0.94          6754.00  \n",
       "bread                                         0.90          3165.00  \n",
       "breakfast cereals                             0.89          2210.00  \n",
       "appetizers                                    0.86          3160.00  \n",
       "chocolate products                            0.94          4359.00  \n",
       "dairy desserts                                0.85          3324.00  \n",
       "biscuits and cakes                            0.92         12098.00  \n",
       "eggs                                          0.89           612.00  \n",
       "milk and yogurt                               0.91          5788.00  \n",
       "plant based milk substitutes                  0.91           759.00  \n",
       "fish and seafood                              0.89          4418.00  \n",
       "soups                                         0.89           961.00  \n",
       "sweets                                        0.91         11036.00  \n",
       "fruit nectars                                 0.68           124.00  \n",
       "potatoes                                      0.87           939.00  \n",
       "sweetened beverages                           0.89          5024.00  \n",
       "weighted avg                                  0.87        134038.00  \n",
       "macro avg                                     0.85        134038.00  \n",
       "accuracy                                      0.86             0.86  \n",
       "cereals                                       0.85          6384.00  \n",
       "nuts                                          0.84          1199.00  \n",
       "meat                                          0.83          4054.00  \n",
       "dried fruits                                  0.76          1379.00  \n",
       "one dish meals                                0.86         11425.00  \n",
       "fruits                                        0.82          3686.00  \n",
       "fruit juices                                  0.85          2390.00  \n",
       "artificially sweetened beverages              0.76          2030.00  \n",
       "vegetables                                    0.79          5264.00  \n",
       "legumes                                       0.76          1204.00  \n",
       "waters and flavored waters                    0.70           603.00  \n",
       "teas and herbal teas and coffees              0.66          1591.00  \n",
       "unsweetened beverages                         0.39          2931.00  "
      ],
      "text/html": "<div>\n<style scoped>\n    .dataframe tbody tr th:only-of-type {\n        vertical-align: middle;\n    }\n\n    .dataframe tbody tr th {\n        vertical-align: top;\n    }\n\n    .dataframe thead th {\n        text-align: right;\n    }\n</style>\n<table border=\"1\" class=\"dataframe\">\n  <thead>\n    <tr style=\"text-align: right;\">\n      <th></th>\n      <th>xgboost_precision</th>\n      <th>xgboost_recall</th>\n      <th>xgboost_f1-score</th>\n      <th>xgboost_support</th>\n    </tr>\n  </thead>\n  <tbody>\n    <tr>\n      <th>pastries</th>\n      <td>0.97</td>\n      <td>0.88</td>\n      <td>0.92</td>\n      <td>1483.00</td>\n    </tr>\n    <tr>\n      <th>sandwiches</th>\n      <td>0.96</td>\n      <td>0.88</td>\n      <td>0.92</td>\n      <td>1055.00</td>\n    </tr>\n    <tr>\n      <th>pizza pies and quiche</th>\n      <td>0.96</td>\n      <td>0.92</td>\n      <td>0.94</td>\n      <td>1367.00</td>\n    </tr>\n    <tr>\n      <th>ice cream</th>\n      <td>0.95</td>\n      <td>0.91</td>\n      <td>0.93</td>\n      <td>1961.00</td>\n    </tr>\n    <tr>\n      <th>dressings and sauces</th>\n      <td>0.94</td>\n      <td>0.92</td>\n      <td>0.93</td>\n      <td>5474.00</td>\n    </tr>\n    <tr>\n      <th>salty and fatty products</th>\n      <td>0.94</td>\n      <td>0.89</td>\n      <td>0.91</td>\n      <td>3943.00</td>\n    </tr>\n    <tr>\n      <th>cheese</th>\n      <td>0.94</td>\n      <td>0.91</td>\n      <td>0.92</td>\n      <td>6627.00</td>\n    </tr>\n    <tr>\n      <th>fats</th>\n      <td>0.94</td>\n      <td>0.86</td>\n      <td>0.90</td>\n      <td>2864.00</td>\n    </tr>\n    <tr>\n      <th>offals</th>\n      <td>0.93</td>\n      <td>0.72</td>\n      <td>0.81</td>\n      <td>393.00</td>\n    </tr>\n    <tr>\n      <th>processed meat</th>\n      <td>0.93</td>\n      <td>0.95</td>\n      <td>0.94</td>\n      <td>6754.00</td>\n    </tr>\n    <tr>\n      <th>bread</th>\n      <td>0.93</td>\n      <td>0.88</td>\n      <td>0.90</td>\n      <td>3165.00</td>\n    </tr>\n    <tr>\n      <th>breakfast cereals</th>\n      <td>0.92</td>\n      <td>0.86</td>\n      <td>0.89</td>\n      <td>2210.00</td>\n    </tr>\n    <tr>\n      <th>appetizers</th>\n      <td>0.92</td>\n      <td>0.81</td>\n      <td>0.86</td>\n      <td>3160.00</td>\n    </tr>\n    <tr>\n      <th>chocolate products</th>\n      <td>0.92</td>\n      <td>0.95</td>\n      <td>0.94</td>\n      <td>4359.00</td>\n    </tr>\n    <tr>\n      <th>dairy desserts</th>\n      <td>0.92</td>\n      <td>0.79</td>\n      <td>0.85</td>\n      <td>3324.00</td>\n    </tr>\n    <tr>\n      <th>biscuits and cakes</th>\n      <td>0.91</td>\n      <td>0.93</td>\n      <td>0.92</td>\n      <td>12098.00</td>\n    </tr>\n    <tr>\n      <th>eggs</th>\n      <td>0.91</td>\n      <td>0.87</td>\n      <td>0.89</td>\n      <td>612.00</td>\n    </tr>\n    <tr>\n      <th>milk and yogurt</th>\n      <td>0.91</td>\n      <td>0.91</td>\n      <td>0.91</td>\n      <td>5788.00</td>\n    </tr>\n    <tr>\n      <th>plant based milk substitutes</th>\n      <td>0.90</td>\n      <td>0.91</td>\n      <td>0.91</td>\n      <td>759.00</td>\n    </tr>\n    <tr>\n      <th>fish and seafood</th>\n      <td>0.90</td>\n      <td>0.87</td>\n      <td>0.89</td>\n      <td>4418.00</td>\n    </tr>\n    <tr>\n      <th>soups</th>\n      <td>0.90</td>\n      <td>0.88</td>\n      <td>0.89</td>\n      <td>961.00</td>\n    </tr>\n    <tr>\n      <th>sweets</th>\n      <td>0.90</td>\n      <td>0.91</td>\n      <td>0.91</td>\n      <td>11036.00</td>\n    </tr>\n    <tr>\n      <th>fruit nectars</th>\n      <td>0.89</td>\n      <td>0.55</td>\n      <td>0.68</td>\n      <td>124.00</td>\n    </tr>\n    <tr>\n      <th>potatoes</th>\n      <td>0.89</td>\n      <td>0.84</td>\n      <td>0.87</td>\n      <td>939.00</td>\n    </tr>\n    <tr>\n      <th>sweetened beverages</th>\n      <td>0.89</td>\n      <td>0.89</td>\n      <td>0.89</td>\n      <td>5024.00</td>\n    </tr>\n    <tr>\n      <th>weighted avg</th>\n      <td>0.88</td>\n      <td>0.86</td>\n      <td>0.87</td>\n      <td>134038.00</td>\n    </tr>\n    <tr>\n      <th>macro avg</th>\n      <td>0.87</td>\n      <td>0.83</td>\n      <td>0.85</td>\n      <td>134038.00</td>\n    </tr>\n    <tr>\n      <th>accuracy</th>\n      <td>0.86</td>\n      <td>0.86</td>\n      <td>0.86</td>\n      <td>0.86</td>\n    </tr>\n    <tr>\n      <th>cereals</th>\n      <td>0.86</td>\n      <td>0.83</td>\n      <td>0.85</td>\n      <td>6384.00</td>\n    </tr>\n    <tr>\n      <th>nuts</th>\n      <td>0.86</td>\n      <td>0.83</td>\n      <td>0.84</td>\n      <td>1199.00</td>\n    </tr>\n    <tr>\n      <th>meat</th>\n      <td>0.86</td>\n      <td>0.81</td>\n      <td>0.83</td>\n      <td>4054.00</td>\n    </tr>\n    <tr>\n      <th>dried fruits</th>\n      <td>0.85</td>\n      <td>0.68</td>\n      <td>0.76</td>\n      <td>1379.00</td>\n    </tr>\n    <tr>\n      <th>one dish meals</th>\n      <td>0.85</td>\n      <td>0.86</td>\n      <td>0.86</td>\n      <td>11425.00</td>\n    </tr>\n    <tr>\n      <th>fruits</th>\n      <td>0.85</td>\n      <td>0.80</td>\n      <td>0.82</td>\n      <td>3686.00</td>\n    </tr>\n    <tr>\n      <th>fruit juices</th>\n      <td>0.82</td>\n      <td>0.88</td>\n      <td>0.85</td>\n      <td>2390.00</td>\n    </tr>\n    <tr>\n      <th>artificially sweetened beverages</th>\n      <td>0.80</td>\n      <td>0.72</td>\n      <td>0.76</td>\n      <td>2030.00</td>\n    </tr>\n    <tr>\n      <th>vegetables</th>\n      <td>0.78</td>\n      <td>0.79</td>\n      <td>0.79</td>\n      <td>5264.00</td>\n    </tr>\n    <tr>\n      <th>legumes</th>\n      <td>0.78</td>\n      <td>0.74</td>\n      <td>0.76</td>\n      <td>1204.00</td>\n    </tr>\n    <tr>\n      <th>waters and flavored waters</th>\n      <td>0.71</td>\n      <td>0.69</td>\n      <td>0.70</td>\n      <td>603.00</td>\n    </tr>\n    <tr>\n      <th>teas and herbal teas and coffees</th>\n      <td>0.70</td>\n      <td>0.62</td>\n      <td>0.66</td>\n      <td>1591.00</td>\n    </tr>\n    <tr>\n      <th>unsweetened beverages</th>\n      <td>0.29</td>\n      <td>0.58</td>\n      <td>0.39</td>\n      <td>2931.00</td>\n    </tr>\n  </tbody>\n</table>\n</div>"
     },
     "metadata": {},
     "execution_count": 120
    }
   ],
   "source": [
    "get_classification_report(y_test=le.inverse_transform(y_train), y_pred=le.inverse_transform(y_preds_train), model='xgboost', sortby='precision')"
   ]
  },
  {
   "source": [
    "### Save model for $G_2$"
   ],
   "cell_type": "markdown",
   "metadata": {}
  },
  {
   "cell_type": "code",
   "execution_count": 121,
   "metadata": {},
   "outputs": [],
   "source": [
    "model.save_model('xgboost_group2.model')"
   ]
  }
 ]
}