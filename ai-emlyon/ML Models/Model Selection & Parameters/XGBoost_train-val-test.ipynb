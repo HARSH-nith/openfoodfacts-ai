{
 "metadata": {
  "language_info": {
   "codemirror_mode": {
    "name": "ipython",
    "version": 3
   },
   "file_extension": ".py",
   "mimetype": "text/x-python",
   "name": "python",
   "nbconvert_exporter": "python",
   "pygments_lexer": "ipython3",
   "version": "3.8.5"
  },
  "orig_nbformat": 2,
  "kernelspec": {
   "name": "python37764bitbasecondab3ebe6f179834b7aacc61912471eb5bd",
   "display_name": "Python 3.8.5 64-bit ('base': conda)"
  },
  "metadata": {
   "interpreter": {
    "hash": "4357402ff8a0be26157935a0c1892356373f0732995949afb3cbae248038a4af"
   }
  }
 },
 "nbformat": 4,
 "nbformat_minor": 2,
 "cells": [
  {
   "source": [
    "## Train, test and validation datasets"
   ],
   "cell_type": "markdown",
   "metadata": {}
  },
  {
   "cell_type": "code",
   "execution_count": 11,
   "metadata": {},
   "outputs": [],
   "source": [
    "import pandas as pd\n",
    "import numpy as np\n",
    "from sklearn.preprocessing import LabelEncoder\n",
    "from sklearn.model_selection import train_test_split"
   ]
  },
  {
   "cell_type": "code",
   "execution_count": 32,
   "metadata": {},
   "outputs": [
    {
     "output_type": "execute_result",
     "data": {
      "text/plain": [
       "((113932, 938), (25133, 938), (28483, 938))"
      ]
     },
     "metadata": {},
     "execution_count": 32
    }
   ],
   "source": [
    "#Features & Target\n",
    "\n",
    "features = df.drop(columns=['pnns_groups_1', 'pnns_groups_2', 'pnns_groups_3', 'pnns_groups_4', 'code', 'url', 'ingredients', 'product_name'])\n",
    "target = df[['pnns_groups_1', 'pnns_groups_2']]\n",
    "\n",
    "#Label Encoding\n",
    "\n",
    "le = LabelEncoder()\n",
    "le.fit(target['pnns_groups_1'])\n",
    "encoded_target_1 = le.transform(target['pnns_groups_1']).reshape(-1,1)\n",
    "\n",
    "le_2 = LabelEncoder()\n",
    "le_2.fit(target['pnns_groups_2'])\n",
    "encoded_target_2 = le_2.transform(target['pnns_groups_2']).reshape(-1,1)\n",
    "\n",
    "encoded_target = np.append(encoded_target_1, encoded_target_2, axis=1)\n",
    "\n",
    "#Train test split\n",
    "\n",
    "X_train, X_test, y_train, y_test = train_test_split(features, encoded_target, test_size=0.15, random_state=42, stratify=encoded_target[:,:1])\n",
    "\n",
    "X_train, X_val, y_train, y_val = train_test_split(X_train, y_train, test_size=0.2, random_state=42, stratify=y_train)\n",
    "\n",
    "X_train.shape, X_test.shape, X_val.shape"
   ]
  },
  {
   "cell_type": "code",
   "execution_count": 43,
   "metadata": {},
   "outputs": [],
   "source": [
    "train_data = pd.DataFrame(X_train).copy(deep=True)\n",
    "train_data['y_train_g1'] = y_train[:,0]\n",
    "train_data['y_train_g2'] = y_train[:,1]\n",
    "train_data.to_csv(r'train_dataset.csv', index = False, header=True)"
   ]
  },
  {
   "cell_type": "code",
   "execution_count": 45,
   "metadata": {},
   "outputs": [],
   "source": [
    "valid_data = pd.DataFrame(X_val).copy(deep=True)\n",
    "valid_data['y_val_g1'] = y_val[:,0]\n",
    "valid_data['y_val_g2'] = y_val[:,1]\n",
    "valid_data.to_csv(r'valid_dataset.csv', index = False, header=True)"
   ]
  },
  {
   "cell_type": "code",
   "execution_count": 30,
   "metadata": {},
   "outputs": [],
   "source": [
    "test_data = pd.DataFrame(X_test).copy(deep=True)\n",
    "test_data['y_test_g1'] = y_test[:,0]\n",
    "test_data['y_test_g2'] = y_test[:,1]\n",
    "test_data.to_csv(r'test_dataset.csv', index = False, header=True)"
   ]
  }
 ]
}