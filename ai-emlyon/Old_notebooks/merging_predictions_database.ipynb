{
 "cells": [
  {
   "cell_type": "markdown",
   "metadata": {},
   "source": [
    "# Imports"
   ]
  },
  {
   "cell_type": "code",
   "execution_count": 1,
   "metadata": {},
   "outputs": [
    {
     "name": "stdout",
     "output_type": "stream",
     "text": [
      "# conda environments:\n",
      "Note: you may need to restart the kernel to use updated packages.\n",
      "#\n",
      "pyt3TF2                  C:\\Users\\Antoine\\.conda\\envs\\pyt3TF2\n",
      "\n",
      "base                     C:\\Users\\Antoine\\anaconda3\n",
      "fastai-cpu-v0.7       *  C:\\Users\\Antoine\\anaconda3\\envs\\fastai-cpu-v0.7\n",
      "rstudio                  C:\\Users\\Antoine\\anaconda3\\envs\\rstudio\n",
      "\n"
     ]
    }
   ],
   "source": [
    "conda env list "
   ]
  },
  {
   "cell_type": "code",
   "execution_count": 2,
   "metadata": {},
   "outputs": [
    {
     "name": "stdout",
     "output_type": "stream",
     "text": [
      "\n",
      "Note: you may need to restart the kernel to use updated packages.\n"
     ]
    }
   ],
   "source": [
    "conda activate fastai-cpu-v0.7"
   ]
  },
  {
   "cell_type": "code",
   "execution_count": 5,
   "metadata": {},
   "outputs": [],
   "source": [
    "import numpy as np\n",
    "import pandas as pd \n",
    "from pandas.io.json import json_normalize"
   ]
  },
  {
   "cell_type": "code",
   "execution_count": 6,
   "metadata": {
    "tags": []
   },
   "outputs": [],
   "source": [
    "#Read OFF full database\n",
    "database = pd.read_csv(r'C:\\Users\\Antoine\\Coding Bootcamp\\machine learning\\Open Food Facts\\data\\en.openfoodfacts.org.products.csv', sep='\\t',error_bad_lines=False)"
   ]
  },
  {
   "cell_type": "code",
   "execution_count": 7,
   "metadata": {},
   "outputs": [
    {
     "data": {
      "text/plain": [
       "(1625068, 184)"
      ]
     },
     "execution_count": 7,
     "metadata": {},
     "output_type": "execute_result"
    }
   ],
   "source": [
    "database.shape"
   ]
  },
  {
   "cell_type": "code",
   "execution_count": 8,
   "metadata": {},
   "outputs": [],
   "source": [
    "#Read all robotoff predictions files\n",
    "pred1 = pd.read_json(r'C:\\Users\\Antoine\\Coding Bootcamp\\machine learning\\Open Food Facts\\robotoff_predictions\\dump_page1_by_100000.json')\n",
    "pred2 = pd.read_json(r'C:\\Users\\Antoine\\Coding Bootcamp\\machine learning\\Open Food Facts\\robotoff_predictions\\dump_page2_by_100000.json')\n",
    "pred3 = pd.read_json(r'C:\\Users\\Antoine\\Coding Bootcamp\\machine learning\\Open Food Facts\\robotoff_predictions\\dump_page3_by_100000.json')\n",
    "pred4 = pd.read_json(r'C:\\Users\\Antoine\\Coding Bootcamp\\machine learning\\Open Food Facts\\robotoff_predictions\\dump_page4_by_100000.json')\n",
    "pred5 = pd.read_json(r'C:\\Users\\Antoine\\Coding Bootcamp\\machine learning\\Open Food Facts\\robotoff_predictions\\dump_page5_by_100000.json')\n",
    "pred6 = pd.read_json(r'C:\\Users\\Antoine\\Coding Bootcamp\\machine learning\\Open Food Facts\\robotoff_predictions\\dump_page6_by_100000.json')\n",
    "pred7 = pd.read_json(r'C:\\Users\\Antoine\\Coding Bootcamp\\machine learning\\Open Food Facts\\robotoff_predictions\\dump_page7_by_100000.json')\n",
    "pred8 = pd.read_json(r'C:\\Users\\Antoine\\Coding Bootcamp\\machine learning\\Open Food Facts\\robotoff_predictions\\dump_page8_by_100000.json')"
   ]
  },
  {
   "cell_type": "markdown",
   "metadata": {},
   "source": [
    "# Concat and clean predictions files"
   ]
  },
  {
   "cell_type": "code",
   "execution_count": 9,
   "metadata": {},
   "outputs": [],
   "source": [
    "#Save files into a list to concat them\n",
    "pred_list = [pred1, pred2, pred3, pred4, pred5, pred6, pred7, pred8]"
   ]
  },
  {
   "cell_type": "code",
   "execution_count": 10,
   "metadata": {},
   "outputs": [],
   "source": [
    "#Concat files into one df and normalize with json_normalize (for insights column)\n",
    "raw_predictions = pd.concat(pred_list)\n",
    "predictions = json_normalize(raw_predictions['insights'])"
   ]
  },
  {
   "cell_type": "code",
   "execution_count": 11,
   "metadata": {},
   "outputs": [
    {
     "data": {
      "text/html": [
       "<div>\n",
       "<style scoped>\n",
       "    .dataframe tbody tr th:only-of-type {\n",
       "        vertical-align: middle;\n",
       "    }\n",
       "\n",
       "    .dataframe tbody tr th {\n",
       "        vertical-align: top;\n",
       "    }\n",
       "\n",
       "    .dataframe thead th {\n",
       "        text-align: right;\n",
       "    }\n",
       "</style>\n",
       "<table border=\"1\" class=\"dataframe\">\n",
       "  <thead>\n",
       "    <tr style=\"text-align: right;\">\n",
       "      <th></th>\n",
       "      <th>id</th>\n",
       "      <th>barcode</th>\n",
       "      <th>type</th>\n",
       "      <th>timestamp</th>\n",
       "      <th>completed_at</th>\n",
       "      <th>annotation</th>\n",
       "      <th>latent</th>\n",
       "      <th>countries</th>\n",
       "      <th>brands</th>\n",
       "      <th>process_after</th>\n",
       "      <th>...</th>\n",
       "      <th>unique_scans_n</th>\n",
       "      <th>reserved_barcode</th>\n",
       "      <th>predictor</th>\n",
       "      <th>username</th>\n",
       "      <th>data.lang</th>\n",
       "      <th>data.model</th>\n",
       "      <th>data.product_name</th>\n",
       "      <th>data.confidence</th>\n",
       "      <th>data.matcher_lang</th>\n",
       "      <th>data.valid</th>\n",
       "    </tr>\n",
       "  </thead>\n",
       "  <tbody>\n",
       "    <tr>\n",
       "      <th>0</th>\n",
       "      <td>454bba15-033a-4f5e-ae9c-3c2a0b847a06</td>\n",
       "      <td>20211189</td>\n",
       "      <td>category</td>\n",
       "      <td>2020-07-31T19:43:38.043274</td>\n",
       "      <td>2021-02-23T18:59:01.437790</td>\n",
       "      <td>-1.0</td>\n",
       "      <td>False</td>\n",
       "      <td>[en:greece]</td>\n",
       "      <td>[]</td>\n",
       "      <td>None</td>\n",
       "      <td>...</td>\n",
       "      <td>0</td>\n",
       "      <td>True</td>\n",
       "      <td>None</td>\n",
       "      <td>moon-rabbit</td>\n",
       "      <td>fr</td>\n",
       "      <td>matcher</td>\n",
       "      <td>Creme</td>\n",
       "      <td>NaN</td>\n",
       "      <td>NaN</td>\n",
       "      <td>NaN</td>\n",
       "    </tr>\n",
       "  </tbody>\n",
       "</table>\n",
       "<p>1 rows × 26 columns</p>\n",
       "</div>"
      ],
      "text/plain": [
       "                                     id   barcode      type  \\\n",
       "0  454bba15-033a-4f5e-ae9c-3c2a0b847a06  20211189  category   \n",
       "\n",
       "                    timestamp                completed_at  annotation  latent  \\\n",
       "0  2020-07-31T19:43:38.043274  2021-02-23T18:59:01.437790        -1.0   False   \n",
       "\n",
       "     countries brands process_after  ... unique_scans_n reserved_barcode  \\\n",
       "0  [en:greece]     []          None  ...              0             True   \n",
       "\n",
       "  predictor     username data.lang data.model  data.product_name  \\\n",
       "0      None  moon-rabbit        fr    matcher              Creme   \n",
       "\n",
       "   data.confidence data.matcher_lang data.valid  \n",
       "0              NaN               NaN        NaN  \n",
       "\n",
       "[1 rows x 26 columns]"
      ]
     },
     "execution_count": 11,
     "metadata": {},
     "output_type": "execute_result"
    }
   ],
   "source": [
    "predictions.head(1)"
   ]
  },
  {
   "cell_type": "code",
   "execution_count": 12,
   "metadata": {},
   "outputs": [
    {
     "data": {
      "text/plain": [
       "(800000, 26)"
      ]
     },
     "execution_count": 12,
     "metadata": {},
     "output_type": "execute_result"
    }
   ],
   "source": [
    "predictions.shape"
   ]
  },
  {
   "cell_type": "code",
   "execution_count": 14,
   "metadata": {},
   "outputs": [],
   "source": [
    "#Drop unrelevant columns\n",
    "cols_pred_to_drop = ['id', 'type', 'timestamp', 'latent', 'process_after', 'value','source_image',\n",
    "'automatic_processing', 'server_domain', 'server_type','unique_scans_n', 'predictor', 'reserved_barcode']\n",
    "predictions.drop(cols_pred_to_drop, axis=1, inplace=True)"
   ]
  },
  {
   "cell_type": "code",
   "execution_count": 15,
   "metadata": {},
   "outputs": [],
   "source": [
    "#Add a prefix \"robotoff\" to the columns (so we can later identify predictions columns into the merged dataframe)\n",
    "predictions.rename(columns={colname: 'robotoff_' + colname for colname in predictions.columns}, inplace=True)\n",
    "predictions.rename(columns={'robotoff_barcode' : 'code'}, inplace=True)"
   ]
  },
  {
   "cell_type": "code",
   "execution_count": 16,
   "metadata": {},
   "outputs": [
    {
     "data": {
      "text/plain": [
       "Index(['code', 'robotoff_completed_at', 'robotoff_annotation',\n",
       "       'robotoff_countries', 'robotoff_brands', 'robotoff_value_tag',\n",
       "       'robotoff_username', 'robotoff_data.lang', 'robotoff_data.model',\n",
       "       'robotoff_data.product_name', 'robotoff_data.confidence',\n",
       "       'robotoff_data.matcher_lang', 'robotoff_data.valid'],\n",
       "      dtype='object')"
      ]
     },
     "execution_count": 16,
     "metadata": {},
     "output_type": "execute_result"
    }
   ],
   "source": [
    "predictions.columns"
   ]
  },
  {
   "cell_type": "markdown",
   "metadata": {},
   "source": [
    "# Merge predictions with full database"
   ]
  },
  {
   "cell_type": "code",
   "execution_count": 17,
   "metadata": {},
   "outputs": [],
   "source": [
    "#Merge predictions with full database\n",
    "df_with_predictions = pd.merge(database, predictions, on=['code'], how='right')"
   ]
  },
  {
   "cell_type": "code",
   "execution_count": 18,
   "metadata": {},
   "outputs": [
    {
     "data": {
      "text/plain": [
       "(800001, 196)"
      ]
     },
     "execution_count": 18,
     "metadata": {},
     "output_type": "execute_result"
    }
   ],
   "source": [
    "df_with_predictions.shape"
   ]
  },
  {
   "cell_type": "code",
   "execution_count": 38,
   "metadata": {},
   "outputs": [
    {
     "data": {
      "text/plain": [
       "615434"
      ]
     },
     "execution_count": 38,
     "metadata": {},
     "output_type": "execute_result"
    }
   ],
   "source": [
    "len(predictions.code.unique())"
   ]
  },
  {
   "cell_type": "code",
   "execution_count": 34,
   "metadata": {},
   "outputs": [
    {
     "data": {
      "text/plain": [
       "184566"
      ]
     },
     "execution_count": 34,
     "metadata": {},
     "output_type": "execute_result"
    }
   ],
   "source": [
    "predictions.duplicated(subset=['code']).sum()"
   ]
  },
  {
   "cell_type": "code",
   "execution_count": 35,
   "metadata": {},
   "outputs": [
    {
     "data": {
      "text/plain": [
       "184567"
      ]
     },
     "execution_count": 35,
     "metadata": {},
     "output_type": "execute_result"
    }
   ],
   "source": [
    "df_with_predictions.duplicated(subset=['code']).sum()"
   ]
  },
  {
   "cell_type": "code",
   "execution_count": 36,
   "metadata": {},
   "outputs": [
    {
     "data": {
      "text/plain": [
       "code                                               0\n",
       "url                                           565553\n",
       "creator                                       565555\n",
       "created_t                                     565553\n",
       "created_datetime                              565553\n",
       "last_modified_t                               565553\n",
       "last_modified_datetime                        565553\n",
       "product_name                                  566418\n",
       "abbreviated_product_name                      800001\n",
       "generic_name                                  790222\n",
       "quantity                                      748613\n",
       "packaging                                     767168\n",
       "packaging_tags                                767180\n",
       "packaging_text                                799645\n",
       "brands                                        677369\n",
       "brands_tags                                   677378\n",
       "categories                                    710995\n",
       "categories_tags                               710996\n",
       "categories_en                                 710996\n",
       "origins                                       792827\n",
       "origins_tags                                  792858\n",
       "origins_en                                    792858\n",
       "manufacturing_places                          789021\n",
       "manufacturing_places_tags                     789033\n",
       "labels                                        751383\n",
       "labels_tags                                   751389\n",
       "labels_en                                     751389\n",
       "emb_codes                                     787123\n",
       "emb_codes_tags                                787131\n",
       "first_packaging_code_geo                      792645\n",
       "cities                                        800001\n",
       "cities_tags                                   792134\n",
       "purchase_places                               785018\n",
       "stores                                        776582\n",
       "countries                                     566408\n",
       "countries_tags                                566408\n",
       "countries_en                                  566408\n",
       "ingredients_text                              727031\n",
       "allergens                                     787076\n",
       "allergens_en                                  800001\n",
       "traces                                        790622\n",
       "traces_tags                                   787703\n",
       "traces_en                                     787703\n",
       "serving_size                                  752569\n",
       "serving_quantity                              752427\n",
       "no_nutriments                                 800001\n",
       "additives_n                                   727031\n",
       "additives                                     799999\n",
       "additives_tags                                757530\n",
       "additives_en                                  757530\n",
       "ingredients_from_palm_oil_n                   727031\n",
       "ingredients_from_palm_oil                     800001\n",
       "ingredients_from_palm_oil_tags                798546\n",
       "ingredients_that_may_be_from_palm_oil_n       727031\n",
       "ingredients_that_may_be_from_palm_oil         800001\n",
       "ingredients_that_may_be_from_palm_oil_tags    795923\n",
       "nutriscore_score                              731918\n",
       "nutriscore_grade                              731918\n",
       "nova_group                                    738579\n",
       "pnns_groups_1                                 566515\n",
       "pnns_groups_2                                 565556\n",
       "states                                        565553\n",
       "states_tags                                   565553\n",
       "states_en                                     565553\n",
       "brand_owner                                   776566\n",
       "main_category                                 710996\n",
       "main_category_en                              710996\n",
       "image_url                                     611193\n",
       "image_small_url                               611193\n",
       "image_ingredients_url                         719707\n",
       "image_ingredients_small_url                   719707\n",
       "image_nutrition_url                           672096\n",
       "image_nutrition_small_url                     672096\n",
       "energy-kj_100g                                787942\n",
       "energy-kcal_100g                              621984\n",
       "energy_100g                                   617156\n",
       "energy-from-fat_100g                          799908\n",
       "fat_100g                                      618526\n",
       "saturated-fat_100g                            623769\n",
       "-butyric-acid_100g                            800001\n",
       "-caproic-acid_100g                            800001\n",
       "-caprylic-acid_100g                           800001\n",
       "-capric-acid_100g                             800001\n",
       "-lauric-acid_100g                             800000\n",
       "-myristic-acid_100g                           799999\n",
       "-palmitic-acid_100g                           800001\n",
       "-stearic-acid_100g                            800001\n",
       "-arachidic-acid_100g                          799991\n",
       "-behenic-acid_100g                            799999\n",
       "-lignoceric-acid_100g                         800001\n",
       "-cerotic-acid_100g                            800001\n",
       "-montanic-acid_100g                           799999\n",
       "-melissic-acid_100g                           799999\n",
       "monounsaturated-fat_100g                      796330\n",
       "polyunsaturated-fat_100g                      796349\n",
       "omega-3-fat_100g                              799861\n",
       "-alpha-linolenic-acid_100g                    799934\n",
       "-eicosapentaenoic-acid_100g                   799989\n",
       "-docosahexaenoic-acid_100g                    799990\n",
       "omega-6-fat_100g                              799968\n",
       "-linoleic-acid_100g                           799952\n",
       "-arachidonic-acid_100g                        799999\n",
       "-gamma-linolenic-acid_100g                    800001\n",
       "-dihomo-gamma-linolenic-acid_100g             800001\n",
       "omega-9-fat_100g                              799993\n",
       "-oleic-acid_100g                              800001\n",
       "-elaidic-acid_100g                            800001\n",
       "-gondoic-acid_100g                            800000\n",
       "-mead-acid_100g                               800001\n",
       "-erucic-acid_100g                             800001\n",
       "-nervonic-acid_100g                           800001\n",
       "trans-fat_100g                                776729\n",
       "cholesterol_100g                              776449\n",
       "carbohydrates_100g                            618575\n",
       "sugars_100g                                   620950\n",
       "-sucrose_100g                                 799986\n",
       "-glucose_100g                                 799997\n",
       "-fructose_100g                                799994\n",
       "-lactose_100g                                 799875\n",
       "-maltose_100g                                 799993\n",
       "-maltodextrins_100g                           799991\n",
       "starch_100g                                   799917\n",
       "polyols_100g                                  799664\n",
       "fiber_100g                                    755769\n",
       "-soluble-fiber_100g                           799674\n",
       "-insoluble-fiber_100g                         799444\n",
       "proteins_100g                                 618673\n",
       "casein_100g                                   800000\n",
       "serum-proteins_100g                           799997\n",
       "nucleotides_100g                              800000\n",
       "salt_100g                                     624390\n",
       "sodium_100g                                   624390\n",
       "alcohol_100g                                  797623\n",
       "vitamin-a_100g                                778442\n",
       "beta-carotene_100g                            799990\n",
       "vitamin-d_100g                                798604\n",
       "vitamin-e_100g                                799586\n",
       "vitamin-k_100g                                799860\n",
       "vitamin-c_100g                                777412\n",
       "vitamin-b1_100g                               797875\n",
       "vitamin-b2_100g                               798067\n",
       "vitamin-pp_100g                               797515\n",
       "vitamin-b6_100g                               797857\n",
       "vitamin-b9_100g                               799068\n",
       "folates_100g                                  799310\n",
       "vitamin-b12_100g                              798257\n",
       "biotin_100g                                   799860\n",
       "pantothenic-acid_100g                         799177\n",
       "silica_100g                                   799980\n",
       "bicarbonate_100g                              799968\n",
       "potassium_100g                                794154\n",
       "chloride_100g                                 799945\n",
       "calcium_100g                                  776169\n",
       "phosphorus_100g                               798383\n",
       "iron_100g                                     776901\n",
       "magnesium_100g                                798253\n",
       "zinc_100g                                     798917\n",
       "copper_100g                                   799445\n",
       "manganese_100g                                799577\n",
       "fluoride_100g                                 799974\n",
       "selenium_100g                                 799738\n",
       "chromium_100g                                 799973\n",
       "molybdenum_100g                               799961\n",
       "iodine_100g                                   799767\n",
       "caffeine_100g                                 799898\n",
       "taurine_100g                                  799964\n",
       "ph_100g                                       799984\n",
       "fruits-vegetables-nuts_100g                   799581\n",
       "fruits-vegetables-nuts-dried_100g             799984\n",
       "fruits-vegetables-nuts-estimate_100g          799449\n",
       "collagen-meat-protein-ratio_100g              799992\n",
       "cocoa_100g                                    799671\n",
       "chlorophyl_100g                               800000\n",
       "carbon-footprint_100g                         799960\n",
       "carbon-footprint-from-meat-or-fish_100g       799050\n",
       "nutrition-score-fr_100g                       731918\n",
       "nutrition-score-uk_100g                       800001\n",
       "glycemic-index_100g                           800001\n",
       "water-hardness_100g                           800001\n",
       "choline_100g                                  800000\n",
       "phylloquinone_100g                            799897\n",
       "beta-glucan_100g                              799996\n",
       "inositol_100g                                 799994\n",
       "carnitine_100g                                800000\n",
       "robotoff_completed_at                         635382\n",
       "robotoff_annotation                           635378\n",
       "robotoff_countries                               238\n",
       "robotoff_brands                                21615\n",
       "robotoff_value_tag                                 0\n",
       "robotoff_username                             728323\n",
       "robotoff_data.lang                             51266\n",
       "robotoff_data.model                                0\n",
       "robotoff_data.product_name                    681850\n",
       "robotoff_data.confidence                      140812\n",
       "robotoff_data.matcher_lang                    772334\n",
       "robotoff_data.valid                           789797\n",
       "dtype: int64"
      ]
     },
     "execution_count": 36,
     "metadata": {},
     "output_type": "execute_result"
    }
   ],
   "source": [
    "pd.set_option('display.max_rows', 500)\n",
    "df_with_predictions.isnull().sum()"
   ]
  },
  {
   "cell_type": "code",
   "execution_count": 20,
   "metadata": {},
   "outputs": [
    {
     "name": "stdout",
     "output_type": "stream",
     "text": [
      "<class 'pandas.core.frame.DataFrame'>\n",
      "Int64Index: 800001 entries, 0 to 800000\n",
      "Columns: 196 entries, code to robotoff_data.valid\n",
      "dtypes: float64(125), object(71)\n",
      "memory usage: 1.2+ GB\n"
     ]
    }
   ],
   "source": [
    "df_with_predictions.info()"
   ]
  },
  {
   "cell_type": "markdown",
   "metadata": {},
   "source": [
    "# Look different categories columns"
   ]
  },
  {
   "cell_type": "code",
   "execution_count": 44,
   "metadata": {},
   "outputs": [],
   "source": [
    "df_cats = df_with_predictions[['categories', 'categories_tags', 'categories_en', 'main_category', 'main_category_en', 'robotoff_value_tag']].dropna()"
   ]
  },
  {
   "cell_type": "code",
   "execution_count": 45,
   "metadata": {},
   "outputs": [
    {
     "data": {
      "text/html": [
       "<div>\n",
       "<style scoped>\n",
       "    .dataframe tbody tr th:only-of-type {\n",
       "        vertical-align: middle;\n",
       "    }\n",
       "\n",
       "    .dataframe tbody tr th {\n",
       "        vertical-align: top;\n",
       "    }\n",
       "\n",
       "    .dataframe thead th {\n",
       "        text-align: right;\n",
       "    }\n",
       "</style>\n",
       "<table border=\"1\" class=\"dataframe\">\n",
       "  <thead>\n",
       "    <tr style=\"text-align: right;\">\n",
       "      <th></th>\n",
       "      <th>categories</th>\n",
       "      <th>categories_tags</th>\n",
       "      <th>categories_en</th>\n",
       "      <th>main_category</th>\n",
       "      <th>main_category_en</th>\n",
       "      <th>robotoff_value_tag</th>\n",
       "    </tr>\n",
       "  </thead>\n",
       "  <tbody>\n",
       "    <tr>\n",
       "      <th>count</th>\n",
       "      <td>89004</td>\n",
       "      <td>89004</td>\n",
       "      <td>89004</td>\n",
       "      <td>89004</td>\n",
       "      <td>89004</td>\n",
       "      <td>89004</td>\n",
       "    </tr>\n",
       "    <tr>\n",
       "      <th>unique</th>\n",
       "      <td>19787</td>\n",
       "      <td>12323</td>\n",
       "      <td>12323</td>\n",
       "      <td>7286</td>\n",
       "      <td>7285</td>\n",
       "      <td>3138</td>\n",
       "    </tr>\n",
       "    <tr>\n",
       "      <th>top</th>\n",
       "      <td>Snacks</td>\n",
       "      <td>en:snacks</td>\n",
       "      <td>Snacks</td>\n",
       "      <td>en:snacks</td>\n",
       "      <td>Snacks</td>\n",
       "      <td>en:sweetened-beverages</td>\n",
       "    </tr>\n",
       "    <tr>\n",
       "      <th>freq</th>\n",
       "      <td>3564</td>\n",
       "      <td>3596</td>\n",
       "      <td>3596</td>\n",
       "      <td>3596</td>\n",
       "      <td>3596</td>\n",
       "      <td>2096</td>\n",
       "    </tr>\n",
       "  </tbody>\n",
       "</table>\n",
       "</div>"
      ],
      "text/plain": [
       "       categories categories_tags categories_en main_category  \\\n",
       "count       89004           89004         89004         89004   \n",
       "unique      19787           12323         12323          7286   \n",
       "top        Snacks       en:snacks        Snacks     en:snacks   \n",
       "freq         3564            3596          3596          3596   \n",
       "\n",
       "       main_category_en      robotoff_value_tag  \n",
       "count             89004                   89004  \n",
       "unique             7285                    3138  \n",
       "top              Snacks  en:sweetened-beverages  \n",
       "freq               3596                    2096  "
      ]
     },
     "execution_count": 45,
     "metadata": {},
     "output_type": "execute_result"
    }
   ],
   "source": [
    "#Stats for differents categories columns\n",
    "df_cats.describe(include='all')"
   ]
  },
  {
   "cell_type": "code",
   "execution_count": 46,
   "metadata": {},
   "outputs": [
    {
     "data": {
      "text/plain": [
       "52157"
      ]
     },
     "execution_count": 46,
     "metadata": {},
     "output_type": "execute_result"
    }
   ],
   "source": [
    "df_cats.duplicated().sum()"
   ]
  },
  {
   "cell_type": "code",
   "execution_count": 51,
   "metadata": {},
   "outputs": [
    {
     "data": {
      "text/plain": [
       "en:snacks                                                                                                        3596\n",
       "en:dairies,en:fermented-foods,en:fermented-milk-products,en:cheeses                                              1600\n",
       "en:groceries,en:sauces                                                                                           1343\n",
       "en:snacks,en:sweet-snacks,en:confectioneries                                                                     1313\n",
       "en:snacks,en:sweet-snacks,en:biscuits-and-cakes,en:biscuits                                                      1215\n",
       "en:beverages                                                                                                      987\n",
       "en:plant-based-foods-and-beverages,en:beverages,en:plant-based-beverages                                          906\n",
       "en:beverages,en:carbonated-drinks,en:sodas                                                                        841\n",
       "en:snacks,en:sweet-snacks,en:confectioneries,en:chocolate-candies                                                 817\n",
       "en:plant-based-foods-and-beverages,en:plant-based-foods,en:cereals-and-potatoes,en:cereals-and-their-products     800\n",
       "Name: categories_tags, dtype: int64"
      ]
     },
     "execution_count": 51,
     "metadata": {},
     "output_type": "execute_result"
    }
   ],
   "source": [
    "#Look categories tags column\n",
    "pd.set_option('display.max_rows', 500)\n",
    "df_cats.categories_tags.value_counts().head(10)"
   ]
  },
  {
   "cell_type": "code",
   "execution_count": 52,
   "metadata": {},
   "outputs": [
    {
     "data": {
      "text/plain": [
       "en:snacks                        3596\n",
       "en:cheeses                       1609\n",
       "en:sauces                        1390\n",
       "en:confectioneries               1315\n",
       "en:biscuits                      1242\n",
       "en:sweetened-beverages           1176\n",
       "en:beverages                      987\n",
       "en:plant-based-beverages          907\n",
       "en:sodas                          881\n",
       "en:salted-snacks                  829\n",
       "en:chocolate-candies              827\n",
       "en:cereals-and-their-products     816\n",
       "en:condiments                     737\n",
       "en:frozen-desserts                721\n",
       "en:breads                         687\n",
       "en:extra-virgin-olive-oils        680\n",
       "en:prepared-meats                 627\n",
       "en:yogurts                        622\n",
       "en:candies                        496\n",
       "en:waters                         463\n",
       "Name: main_category, dtype: int64"
      ]
     },
     "execution_count": 52,
     "metadata": {},
     "output_type": "execute_result"
    }
   ],
   "source": [
    "#Look main category column\n",
    "df_cats.main_category.value_counts().head(20)"
   ]
  },
  {
   "cell_type": "code",
   "execution_count": 53,
   "metadata": {},
   "outputs": [
    {
     "data": {
      "text/plain": [
       "en:cheeses                13145\n",
       "en:biscuits               13139\n",
       "en:breads                 12593\n",
       "en:sauces                 10565\n",
       "en:sweetened-beverages    10212\n",
       "en:chocolates              9836\n",
       "en:yogurts                 8147\n",
       "en:confectioneries         7601\n",
       "en:candies                 7532\n",
       "en:condiments              6496\n",
       "en:breakfast-cereals       6411\n",
       "en:ice-creams              6291\n",
       "en:teas                    5984\n",
       "en:dark-chocolates         5519\n",
       "en:chickens                5381\n",
       "en:coffees                 5238\n",
       "en:cookies                 5051\n",
       "en:pastas                  4875\n",
       "en:sausages                4803\n",
       "en:fruit-juices            4791\n",
       "Name: robotoff_value_tag, dtype: int64"
      ]
     },
     "execution_count": 53,
     "metadata": {},
     "output_type": "execute_result"
    }
   ],
   "source": [
    "#Look robotoff values predictions column\n",
    "df_with_predictions['robotoff_value_tag'].value_counts().head(20)"
   ]
  },
  {
   "cell_type": "markdown",
   "metadata": {},
   "source": [
    "# Export dataframes to csv files"
   ]
  },
  {
   "cell_type": "code",
   "execution_count": 50,
   "metadata": {},
   "outputs": [],
   "source": [
    "#Full merged dataframe\n",
    "df_with_predictions.to_csv(r'C:\\Users\\Antoine\\Coding Bootcamp\\machine learning\\Open Food Facts\\data\\merged_predictions_off_full.csv', index=False, header=True)"
   ]
  }
 ],
 "metadata": {
  "kernelspec": {
   "display_name": "Python 3",
   "language": "python",
   "name": "python3"
  },
  "language_info": {
   "codemirror_mode": {
    "name": "ipython",
    "version": 3
   },
   "file_extension": ".py",
   "mimetype": "text/x-python",
   "name": "python",
   "nbconvert_exporter": "python",
   "pygments_lexer": "ipython3",
   "version": "3.8.5"
  }
 },
 "nbformat": 4,
 "nbformat_minor": 2
}
